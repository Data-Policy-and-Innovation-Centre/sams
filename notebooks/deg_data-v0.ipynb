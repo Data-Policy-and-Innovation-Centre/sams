{
 "cells": [
  {
   "cell_type": "markdown",
   "id": "c93724ea",
   "metadata": {},
   "source": [
    "### Libraries\n"
   ]
  },
  {
   "cell_type": "code",
   "execution_count": 1,
   "id": "2223330c",
   "metadata": {},
   "outputs": [
    {
     "name": "stderr",
     "output_type": "stream",
     "text": [
      "\u001b[32m2025-09-23 10:44:40.012\u001b[0m | \u001b[1mINFO    \u001b[0m | \u001b[36msams.config\u001b[0m:\u001b[36m<module>\u001b[0m:\u001b[36m15\u001b[0m - \u001b[1mPROJ_ROOT path is: C:\\Users\\Admin\\Documents\\GitHub\\sams\u001b[0m\n",
      "\u001b[32m2025-09-23 10:44:40.120\u001b[0m | \u001b[33m\u001b[1mWARNING \u001b[0m | \u001b[36msams.config\u001b[0m:\u001b[36m<module>\u001b[0m:\u001b[36m83\u001b[0m - \u001b[33m\u001b[1mGoogle MAPS API key not found, using Nominatim geocoder\u001b[0m\n",
      "\u001b[32m2025-09-23 10:44:40.124\u001b[0m | \u001b[1mINFO    \u001b[0m | \u001b[36msams.config\u001b[0m:\u001b[36m<module>\u001b[0m:\u001b[36m92\u001b[0m - \u001b[1mLoaded 0 geocodes from cache\u001b[0m\n"
     ]
    }
   ],
   "source": [
    "# Standard libraries\n",
    "import os\n",
    "import json\n",
    "import sqlite3\n",
    "from pathlib import Path\n",
    "\n",
    "# Data handling\n",
    "import pandas as pd\n",
    "import numpy as np\n",
    "\n",
    "# Visualization\n",
    "import matplotlib.pyplot as plt\n",
    "import seaborn as sns\n",
    "import plotly.graph_objects as go\n",
    "\n",
    "# Project-specific configuration\n",
    "from sams.config import RAW_DATA_DIR\n",
    "from sams.utils import load_data\n",
    "from sams.config import datasets"
   ]
  },
  {
   "cell_type": "markdown",
   "id": "e02167ec",
   "metadata": {},
   "source": [
    "### Loading the data"
   ]
  },
  {
   "cell_type": "code",
   "execution_count": 2,
   "id": "ba38555e",
   "metadata": {},
   "outputs": [
    {
     "name": "stdout",
     "output_type": "stream",
     "text": [
      "Tables: ['students', 'institutes']\n"
     ]
    }
   ],
   "source": [
    "# Use the path from datasets metadata \n",
    "db_path = datasets[\"sams\"][\"path\"]\n",
    "conn = sqlite3.connect(db_path)\n",
    "cursor = conn.cursor()\n",
    "\n",
    "cursor.execute(\"SELECT name FROM sqlite_master WHERE type='table';\")\n",
    "tables = cursor.fetchall()\n",
    "print(\"Tables:\", [t[0] for t in tables])\n",
    "\n",
    "cursor.close()\n",
    "conn.close()"
   ]
  },
  {
   "cell_type": "code",
   "execution_count": 3,
   "id": "5cd392d0",
   "metadata": {},
   "outputs": [],
   "source": [
    "# # Connect to the database\n",
    "# conn = sqlite3.connect(db_path)\n",
    "# cursor = conn.cursor()\n",
    "\n",
    "# # Delete rows for DEG module in 2021\n",
    "# print(\"Deleting rows\")\n",
    "# cursor.execute(\"DELETE FROM students WHERE module = 'DEG' AND academic_year = 2023\")\n",
    "\n",
    "# # Commit and close\n",
    "# conn.commit()\n",
    "# cursor.close()\n",
    "# conn.close()\n",
    "\n",
    "# print(\"Removed\")"
   ]
  },
  {
   "cell_type": "code",
   "execution_count": 4,
   "id": "16eadb8f",
   "metadata": {},
   "outputs": [
    {
     "name": "stdout",
     "output_type": "stream",
     "text": [
      "\n",
      "Columns in 'students' table:\n",
      "id\n",
      "barcode\n",
      "student_name\n",
      "gender\n",
      "religion_name\n",
      "dob\n",
      "nationality\n",
      "annual_income\n",
      "address\n",
      "state\n",
      "district\n",
      "block\n",
      "pin_code\n",
      "social_category\n",
      "domicile\n",
      "s_domicile_category\n",
      "outside_odisha_applicant_state_name\n",
      "odia_applicant_living_outside_odisha_state_name\n",
      "residence_barcode_number\n",
      "tenth_exam_school_address\n",
      "eighth_exam_school_address\n",
      "highest_qualification_exam_board\n",
      "board_exam_name_for_highest_qualification\n",
      "highest_qualification\n",
      "had_two_year_full_time_work_exp_after_tenth\n",
      "gc\n",
      "ph\n",
      "es\n",
      "sports\n",
      "national_cadet_corps\n",
      "pm_care\n",
      "orphan\n",
      "income_barcode\n",
      "tfw\n",
      "ews\n",
      "boc\n",
      "boc_regd_no\n",
      "course_name\n",
      "course_period\n",
      "beauty_culture_type\n",
      "sams_code\n",
      "reported_institute\n",
      "reported_branch_or_trade\n",
      "institute_district\n",
      "type_of_institute\n",
      "phase\n",
      "year\n",
      "admission_status\n",
      "enrollment_status\n",
      "applied_status\n",
      "date_of_application\n",
      "application_status\n",
      "aadhar_no\n",
      "registration_number\n",
      "mark_data\n",
      "module\n",
      "academic_year\n",
      "contact_no\n",
      "option_data\n",
      "examination_board_of_the_highest_qualification\n",
      "examination_type\n",
      "year_of_passing\n",
      "roll_no\n",
      "total_marks\n",
      "secured_marks\n",
      "percentage\n",
      "compartmental_status\n",
      "hss_option_details\n",
      "hss_compartments\n",
      "deg_option_details\n",
      "deg_compartments\n"
     ]
    }
   ],
   "source": [
    "import sqlite3\n",
    "\n",
    "conn = sqlite3.connect(db_path)\n",
    "cursor = conn.cursor()\n",
    "\n",
    "# List all columns in the students table\n",
    "cursor.execute(\"PRAGMA table_info(students)\")\n",
    "columns = cursor.fetchall()\n",
    "\n",
    "print(\"\\nColumns in 'students' table:\")\n",
    "for col in columns:\n",
    "    print(col[1])  # col[1] is the column name\n",
    "\n",
    "conn.close()"
   ]
  },
  {
   "cell_type": "code",
   "execution_count": 3,
   "id": "f8146946",
   "metadata": {},
   "outputs": [
    {
     "name": "stdout",
     "output_type": "stream",
     "text": [
      "\u001b[32m2025-09-23 10:44:46.273\u001b[0m | \u001b[1mINFO    \u001b[0m | \u001b[36msams.utils\u001b[0m:\u001b[36mload_data\u001b[0m:\u001b[36m75\u001b[0m - \u001b[1mLoading data from C:\\Users\\Admin\\Documents\\GitHub\\sams\\data\\interim\\deg_enrollments.pq\u001b[0m\n"
     ]
    }
   ],
   "source": [
    "deg_enrollments = load_data(datasets[\"deg_enrollments\"]) "
   ]
  },
  {
   "cell_type": "code",
   "execution_count": 4,
   "id": "80bdf10c",
   "metadata": {},
   "outputs": [
    {
     "data": {
      "text/plain": [
       "(2054491, 32)"
      ]
     },
     "execution_count": 4,
     "metadata": {},
     "output_type": "execute_result"
    }
   ],
   "source": [
    "deg_enrollments.shape"
   ]
  },
  {
   "cell_type": "code",
   "execution_count": 5,
   "id": "55034b28",
   "metadata": {},
   "outputs": [
    {
     "data": {
      "text/plain": [
       "Index(['id', 'barcode', 'student_name', 'gender', 'religion_name', 'dob',\n",
       "       'annual_income', 'address', 'state', 'district', 'block', 'pin_code',\n",
       "       'social_category', 'board_exam_name_for_highest_qualification',\n",
       "       'highest_qualification', 'ph', 'es', 'sports', 'orphan', 'aadhar_no',\n",
       "       'module', 'academic_year',\n",
       "       'examination_board_of_the_highest_qualification', 'examination_type',\n",
       "       'year_of_passing', 'roll_no', 'total_marks', 'secured_marks',\n",
       "       'percentage', 'compartmental_status', 'deg_option_details',\n",
       "       'deg_compartments'],\n",
       "      dtype='object')"
      ]
     },
     "execution_count": 5,
     "metadata": {},
     "output_type": "execute_result"
    }
   ],
   "source": [
    "deg_enrollments.columns"
   ]
  },
  {
   "cell_type": "code",
   "execution_count": null,
   "id": "7d374699",
   "metadata": {},
   "outputs": [],
   "source": [
    "deg_enrollments = load_data(datasets[\"deg_enrollments\"])\n"
   ]
  },
  {
   "cell_type": "code",
   "execution_count": 6,
   "id": "02339008",
   "metadata": {},
   "outputs": [
    {
     "name": "stdout",
     "output_type": "stream",
     "text": [
      "\u001b[32m2025-09-23 11:05:35.404\u001b[0m | \u001b[1mINFO    \u001b[0m | \u001b[36msams.utils\u001b[0m:\u001b[36mload_data\u001b[0m:\u001b[36m75\u001b[0m - \u001b[1mLoading data from C:\\Users\\Admin\\Documents\\GitHub\\sams\\data\\interim\\deg_applications.pq\u001b[0m\n"
     ]
    }
   ],
   "source": [
    "deg_applications = load_data(datasets[\"deg_applications\"]) \n",
    "# deg_marks = load_data(datasets[\"deg_marks\"])"
   ]
  },
  {
   "cell_type": "code",
   "execution_count": null,
   "id": "d88e531d",
   "metadata": {},
   "outputs": [],
   "source": [
    " \n"
   ]
  },
  {
   "cell_type": "code",
   "execution_count": 9,
   "id": "4e9e64e9",
   "metadata": {},
   "outputs": [
    {
     "name": "stdout",
     "output_type": "stream",
     "text": [
      "\u001b[32m2025-09-23 13:10:37.305\u001b[0m | \u001b[1mINFO    \u001b[0m | \u001b[36msams.utils\u001b[0m:\u001b[36mload_data\u001b[0m:\u001b[36m75\u001b[0m - \u001b[1mLoading data from C:\\Users\\Admin\\Documents\\GitHub\\sams\\data\\interim\\hss_enrollments.pq\u001b[0m\n"
     ]
    },
    {
     "data": {
      "application/vnd.microsoft.datawrangler.viewer.v0+json": {
       "columns": [
        {
         "name": "index",
         "rawType": "int64",
         "type": "integer"
        },
        {
         "name": "barcode",
         "rawType": "object",
         "type": "string"
        },
        {
         "name": "aadhar_no",
         "rawType": "object",
         "type": "string"
        },
        {
         "name": "academic_year",
         "rawType": "int64",
         "type": "integer"
        },
        {
         "name": "module",
         "rawType": "object",
         "type": "string"
        },
        {
         "name": "student_name",
         "rawType": "object",
         "type": "string"
        },
        {
         "name": "gender",
         "rawType": "object",
         "type": "string"
        },
        {
         "name": "dob",
         "rawType": "object",
         "type": "string"
        },
        {
         "name": "social_category",
         "rawType": "object",
         "type": "string"
        },
        {
         "name": "orphan",
         "rawType": "object",
         "type": "string"
        },
        {
         "name": "es",
         "rawType": "object",
         "type": "string"
        },
        {
         "name": "ph",
         "rawType": "object",
         "type": "string"
        },
        {
         "name": "state",
         "rawType": "object",
         "type": "string"
        },
        {
         "name": "district",
         "rawType": "object",
         "type": "string"
        },
        {
         "name": "address",
         "rawType": "object",
         "type": "string"
        },
        {
         "name": "block",
         "rawType": "object",
         "type": "string"
        },
        {
         "name": "pin_code",
         "rawType": "object",
         "type": "string"
        },
        {
         "name": "annual_income",
         "rawType": "object",
         "type": "string"
        },
        {
         "name": "roll_no",
         "rawType": "object",
         "type": "string"
        },
        {
         "name": "highest_qualification",
         "rawType": "object",
         "type": "string"
        },
        {
         "name": "board_exam_name_for_highest_qualification",
         "rawType": "object",
         "type": "string"
        },
        {
         "name": "examination_board_of_the_highest_qualification",
         "rawType": "object",
         "type": "string"
        },
        {
         "name": "examination_type",
         "rawType": "object",
         "type": "string"
        },
        {
         "name": "year_of_passing",
         "rawType": "object",
         "type": "string"
        },
        {
         "name": "total_marks",
         "rawType": "object",
         "type": "string"
        },
        {
         "name": "secured_marks",
         "rawType": "object",
         "type": "string"
        },
        {
         "name": "percentage",
         "rawType": "object",
         "type": "string"
        },
        {
         "name": "compartmental_status",
         "rawType": "object",
         "type": "string"
        },
        {
         "name": "hss_option_details",
         "rawType": "object",
         "type": "string"
        },
        {
         "name": "hss_compartments",
         "rawType": "object",
         "type": "string"
        }
       ],
       "ref": "61a96b54-b934-4e8d-90bc-f4c87259e1b6",
       "rows": [
        [
         "0",
         "22H4912639",
         "£4vÐ0ã\n\u001aO„©³%É@äÁXÔAŒ\\¡2Çœ©\u0012+#\f´",
         "2022",
         "HSS",
         "7YsWktVbq816K4kzi0Tvla4urZgbH4A+60ZFliLBvqM=",
         "Male",
         "22-Apr-2004",
         "SC",
         "NO",
         "NO",
         "NO",
         "Odisha",
         "Kalahandi",
         "AT-DHAMANGUDA, PO-GOPALPUR, PS-TH.RAMPUR",
         "Th rampur",
         "766037",
         "0 - 1,50,000",
         "ecn1KokfOuX0DYeyjkuVlA==",
         "10TH",
         "Board of Secondary Education, Orissa, Cuttack-1, Year 2001 and onwards",
         "BSE, Odisha",
         "Annual",
         "2022",
         "600",
         "520.00",
         "86.67",
         "NO",
         "[{\"ReportedInstitute\": \"Government (SSD) Higher Secondary School, Lanjigarh\", \"SAMSCode\": \"15046101\", \"Stream\": \"Science\", \"InstituteDistrict\": \"Kalahandi\", \"InstituteBlock\": \"Lanjigarh\", \"TypeofInstitute\": \"Govt. (Other Depts.)\", \"Phase\": \"1\", \"Year\": \"2022\", \"AdmissionStatus\": \"TC TAKEN\", \"OptionNo\": \"1\"}]",
         "[]"
        ],
        [
         "1",
         "22H1266274",
         "£4vÐ0ã\n\u001aO„©³%É@äÁXÔAŒ\\¡2Çœ©\u0012+#\f´",
         "2022",
         "HSS",
         "7YsWktVbq816K4kzi0Tvla4urZgbH4A+60ZFliLBvqM=",
         "Male",
         "22-Apr-2004",
         "SC",
         "NO",
         "NO",
         "NO",
         "Odisha",
         "Kalahandi",
         "AT- DHAMANGUDA, PO- GOPALPUR, PS- TH RAMPUR",
         "Th rampur",
         "766037",
         "0 - 1,50,000",
         "xxIgB1+zin2GBCW+knC54A==",
         "10TH",
         "Board of Secondary Education, Orissa, Cuttack-1, Year 2001 and onwards",
         "BSE, Odisha",
         "Annual",
         "2022",
         "600",
         "520.00",
         "86.67",
         "NO",
         "[{\"ReportedInstitute\": \"Buxi Jagabandhu Bidyadhar Higher Secondary School, Bhubaneswar\", \"SAMSCode\": \"19051101\", \"Stream\": \"Science\", \"InstituteDistrict\": \"Khurda\", \"InstituteBlock\": \"Bhubaneswar (MC)\", \"TypeofInstitute\": \"Govt. (SME)\", \"Phase\": \"1\", \"Year\": \"2022\", \"AdmissionStatus\": \"TC TAKEN\", \"OptionNo\": \"1\"}, {\"ReportedInstitute\": \"Ravenshaw Higher Secondary School, Cuttack\", \"SAMSCode\": \"07181101\", \"Stream\": \"Science\", \"InstituteDistrict\": \"Cuttack\", \"InstituteBlock\": \"Cuttack (MC)\", \"TypeofInstitute\": \"Govt. (SME)\", \"Phase\": \"1\", \"Year\": \"2022\", \"AdmissionStatus\": \"NOT SELECTED\", \"OptionNo\": \"2\"}, {\"ReportedInstitute\": \"Rajdhani Higher Secondary School, Bhubaneswar\", \"SAMSCode\": \"19051102\", \"Stream\": \"Science\", \"InstituteDistrict\": \"Khurda\", \"InstituteBlock\": \"Bhubaneswar (MC)\", \"TypeofInstitute\": \"Govt. (SME)\", \"Phase\": \"1\", \"Year\": \"2022\", \"AdmissionStatus\": \"NOT SELECTED\", \"OptionNo\": \"3\"}, {\"ReportedInstitute\": \"Government Higher Secondary School, Bhawanipatna\", \"SAMSCode\": \"15081101\", \"Stream\": \"Science\", \"InstituteDistrict\": \"Kalahandi\", \"InstituteBlock\": \"Bhawanipatna (MPL)\", \"TypeofInstitute\": \"Govt. (SME)\", \"Phase\": \"1\", \"Year\": \"2022\", \"AdmissionStatus\": \"NOT SELECTED\", \"OptionNo\": \"4\"}, {\"ReportedInstitute\": \"Rayagada Higher Secondary School, Rayagada\", \"SAMSCode\": \"27142101\", \"Stream\": \"Science\", \"InstituteDistrict\": \"Rayagada\", \"InstituteBlock\": \"Rayagada (MPL)\", \"TypeofInstitute\": \"Non-Govt Aided (488 Categories)\", \"Phase\": \"1\", \"Year\": \"2022\", \"AdmissionStatus\": \"NOT SELECTED\", \"OptionNo\": \"5\"}]",
         "[]"
        ],
        [
         "2",
         "21H4032033",
         "£4wQ²îµËI¶Ã…\u0004…?%½¯†\u0002I¥±ÄáW^M#$Ã",
         "2021",
         "HSS",
         "by31dul/d+d92Kzto+gtizZh1ToLWKGOiBxytowUXGY=",
         "Female",
         "26-Nov-2005",
         "OBC",
         "NO",
         "NO",
         "NO",
         "Odisha",
         "Balasore",
         "KHUSALIGANJ, REMUNA, REMUNA",
         "Remuna",
         "",
         "8,00,000 and above",
         "vkWsXCVHJxrSe1xJaP9rsw==",
         "10TH",
         "Board of Secondary Education, Orissa, Cuttack-1, Year 2001 and onwards",
         "BSE, Odisha",
         "Annual",
         "2021",
         "600",
         "523.00",
         "87.17",
         "NO",
         "[{\"ReportedInstitute\": \"North Odisha Higher Secondary School, Kuruda\", \"SAMSCode\": \"02085115\", \"Stream\": \"Science\", \"InstituteDistrict\": \"Balasore\", \"InstituteBlock\": \"Remuna\", \"TypeofInstitute\": \"Self-Financing\", \"Phase\": \"1\", \"Year\": \"2021\", \"AdmissionStatus\": \"TC TAKEN\", \"OptionNo\": \"1\"}, {\"ReportedInstitute\": \"Jatani Higher Secondary School, Jatni\", \"SAMSCode\": \"19062101\", \"Stream\": \"Science\", \"InstituteDistrict\": \"Khurda\", \"InstituteBlock\": \"Jatni (MPL)\", \"TypeofInstitute\": \"Non-Govt Aided (488 Categories)\", \"Phase\": \"1\", \"Year\": \"2021\", \"AdmissionStatus\": \"NOT SELECTED\", \"OptionNo\": \"2\"}, {\"ReportedInstitute\": \"Jeevan Jyoti Higher Secondary School, Raikia\", \"SAMSCode\": \"16072101\", \"Stream\": \"Science\", \"InstituteDistrict\": \"Kandhamal\", \"InstituteBlock\": \"Raikia\", \"TypeofInstitute\": \"Non-Govt Aided (488 Categories)\", \"Phase\": \"1\", \"Year\": \"2021\", \"AdmissionStatus\": \"NOT SELECTED\", \"OptionNo\": \"3\"}, {\"ReportedInstitute\": \"Sidha Baranga Higher Secondary School of Education & Technology, Punanga\", \"SAMSCode\": \"12049102\", \"Stream\": \"Science\", \"InstituteDistrict\": \"Jagatsinghpur\", \"InstituteBlock\": \"Jagatsinghpur\", \"TypeofInstitute\": \"Non-Govt Aided (662 Categories)\", \"Phase\": \"1\", \"Year\": \"2021\", \"AdmissionStatus\": \"NOT SELECTED\", \"OptionNo\": \"4\"}, {\"ReportedInstitute\": \"Gop Higher Secondary School, Gop\", \"SAMSCode\": \"26042101\", \"Stream\": \"Science\", \"InstituteDistrict\": \"Puri\", \"InstituteBlock\": \"Gop\", \"TypeofInstitute\": \"Non-Govt Aided (488 Categories)\", \"Phase\": \"1\", \"Year\": \"2021\", \"AdmissionStatus\": \"NOT SELECTED\", \"OptionNo\": \"5\"}]",
         "[]"
        ],
        [
         "3",
         "23H1211722",
         "£44'“æQXj=%µšØNZXV¸¾¶\f\u000ex\u001d¤\u000b\u0002ö±",
         "2023",
         "HSS",
         "xMg2ie5HzvOo5JwFBLKTqsgt9YbOGBR9v5MbRQTUg0I=",
         "Male",
         "18-Jun-2007",
         "GEN",
         "NO",
         "NO",
         "NO",
         "Odisha",
         "Koraput",
         "AT-BONDAGUDA, PO-MASTIPUT, PS-KORAPUT SADAR",
         "Koraput",
         "764021",
         "0 - 1,50,000",
         "yHvxfYBo6kGQYh/W6sO0Wg==",
         "10TH",
         "Board of Secondary Education, Orissa, Cuttack-1, Year 2001 and onwards",
         "BSE, Odisha",
         "Annual",
         "2023",
         "600",
         "271.00",
         "45.17",
         "NO",
         "[{\"ReportedInstitute\": \"Government Higher Secondary School, Landiguda, Koraput\", \"SAMSCode\": \"20171101\", \"Stream\": \"Arts\", \"InstituteDistrict\": \"Koraput\", \"InstituteBlock\": \"Koraput (MPL)\", \"TypeofInstitute\": \"Govt. (SME)\", \"Phase\": \"1\", \"Year\": \"2023\", \"AdmissionStatus\": \"NOT SELECTED\", \"OptionNo\": \"1\"}, {\"ReportedInstitute\": \"Dr. B.R.A. Higher Secondary School, Koraput\", \"SAMSCode\": \"20109103\", \"Stream\": \"Arts\", \"InstituteDistrict\": \"Koraput\", \"InstituteBlock\": \"Koraput\", \"TypeofInstitute\": \"Non-Govt Aided (662 Categories)\", \"Phase\": \"1\", \"Year\": \"2023\", \"AdmissionStatus\": \"SELECTED BUT NOT ADMITTED\", \"OptionNo\": \"2\"}, {\"ReportedInstitute\": \"Vikram Deb Higher Secondary School, Jeypore\", \"SAMSCode\": \"20061101\", \"Stream\": \"Arts\", \"InstituteDistrict\": \"Koraput\", \"InstituteBlock\": \"Jeypore (MPL)\", \"TypeofInstitute\": \"Govt. (SME)\", \"Phase\": \"1\", \"Year\": \"2023\", \"AdmissionStatus\": \"NOT SELECTED\", \"OptionNo\": \"3\"}, {\"ReportedInstitute\": \"Semiliguda Higher Secondary School, Seimiliguda\", \"SAMSCode\": \"20162101\", \"Stream\": \"Arts\", \"InstituteDistrict\": \"Koraput\", \"InstituteBlock\": \"Semiliguda\", \"TypeofInstitute\": \"Non-Govt Aided (488 Categories)\", \"Phase\": \"1\", \"Year\": \"2023\", \"AdmissionStatus\": \"NOT SELECTED\", \"OptionNo\": \"4\"}, {\"ReportedInstitute\": \"Sindha Devi Higher Secondary School, Nandapur\", \"SAMSCode\": \"20139101\", \"Stream\": \"Arts\", \"InstituteDistrict\": \"Koraput\", \"InstituteBlock\": \"Nandapur\", \"TypeofInstitute\": \"Non-Govt Aided (662 Categories)\", \"Phase\": \"1\", \"Year\": \"2023\", \"AdmissionStatus\": \"NOT SELECTED\", \"OptionNo\": \"5\"}]",
         "[]"
        ],
        [
         "4",
         "24H8792210",
         "£44'“æQXj=%µšØNZXV¸¾¶\f\u000ex\u001d¤\u000b\u0002ö±",
         "2024",
         "HSS",
         "xMg2ie5HzvOo5JwFBLKTqsgt9YbOGBR9v5MbRQTUg0I=",
         "Male",
         "18-Jun-2007",
         "SEBC",
         "NO",
         "NO",
         "NO",
         "Odisha",
         "Koraput",
         "AT/BONDAGUDA POST/MOSTIPUT DIST/KORAPUT",
         "Koraput (MPL)",
         "764021",
         "0 - 1,50,000",
         "OybWpQmZajVAb2/2Z9qvgg==",
         "10TH",
         "Board of Secondary Education, Orissa, Cuttack-1, Year 2001 and onwards",
         "BSE, Odisha",
         "Annual",
         "2023",
         "600",
         "271.00",
         "45.17",
         "NO",
         "[{\"ReportedInstitute\": \"Government Higher Secondary School, Landiguda, Koraput\", \"SAMSCode\": \"20171101\", \"Stream\": \"Commerce\", \"InstituteDistrict\": \"Koraput\", \"InstituteBlock\": \"Koraput (MPL)\", \"TypeofInstitute\": \"Govt. (SME)\", \"Phase\": \"1\", \"Year\": \"2024\", \"AdmissionStatus\": \"ADMITTED\", \"OptionNo\": \"1\"}, {\"ReportedInstitute\": \"Vikram Deb Higher Secondary School, Jeypore\", \"SAMSCode\": \"20061101\", \"Stream\": \"Commerce\", \"InstituteDistrict\": \"Koraput\", \"InstituteBlock\": \"Jeypore (MPL)\", \"TypeofInstitute\": \"Govt. (SME)\", \"Phase\": \"1\", \"Year\": \"2024\", \"AdmissionStatus\": \"NOT SELECTED\", \"OptionNo\": \"2\"}, {\"ReportedInstitute\": \"Dr. B.R.A. Higher Secondary School, Koraput\", \"SAMSCode\": \"20109103\", \"Stream\": \"Arts\", \"InstituteDistrict\": \"Koraput\", \"InstituteBlock\": \"Koraput\", \"TypeofInstitute\": \"Non-Govt Aided (662 Categories)\", \"Phase\": \"1\", \"Year\": \"2024\", \"AdmissionStatus\": \"NOT SELECTED\", \"OptionNo\": \"3\"}, {\"ReportedInstitute\": \"Semiliguda Higher Secondary School, Seimiliguda\", \"SAMSCode\": \"20162101\", \"Stream\": \"Arts\", \"InstituteDistrict\": \"Koraput\", \"InstituteBlock\": \"Semiliguda\", \"TypeofInstitute\": \"Non-Govt Aided (488 Categories)\", \"Phase\": \"1\", \"Year\": \"2024\", \"AdmissionStatus\": \"NOT SELECTED\", \"OptionNo\": \"4\"}, {\"ReportedInstitute\": \"Sindha Devi Higher Secondary School, Nandapur\", \"SAMSCode\": \"20139101\", \"Stream\": \"Arts\", \"InstituteDistrict\": \"Koraput\", \"InstituteBlock\": \"Nandapur\", \"TypeofInstitute\": \"Non-Govt Aided (662 Categories)\", \"Phase\": \"1\", \"Year\": \"2024\", \"AdmissionStatus\": \"NOT SELECTED\", \"OptionNo\": \"5\"}, {\"ReportedInstitute\": \"Government Higher Secondary School, Landiguda, Koraput\", \"SAMSCode\": \"20171101\", \"Stream\": \"Arts\", \"InstituteDistrict\": \"Koraput\", \"InstituteBlock\": \"Koraput (MPL)\", \"TypeofInstitute\": \"Govt. (SME)\", \"Phase\": \"1\", \"Year\": \"2024\", \"AdmissionStatus\": \"NOT SELECTED\", \"OptionNo\": \"6\"}, {\"ReportedInstitute\": \"Vikram Deb Higher Secondary School, Jeypore\", \"SAMSCode\": \"20061101\", \"Stream\": \"Arts\", \"InstituteDistrict\": \"Koraput\", \"InstituteBlock\": \"Jeypore (MPL)\", \"TypeofInstitute\": \"Govt. (SME)\", \"Phase\": \"1\", \"Year\": \"2024\", \"AdmissionStatus\": \"NOT SELECTED\", \"OptionNo\": \"7\"}]",
         "[]"
        ]
       ],
       "shape": {
        "columns": 29,
        "rows": 5
       }
      },
      "text/html": [
       "<div>\n",
       "<style scoped>\n",
       "    .dataframe tbody tr th:only-of-type {\n",
       "        vertical-align: middle;\n",
       "    }\n",
       "\n",
       "    .dataframe tbody tr th {\n",
       "        vertical-align: top;\n",
       "    }\n",
       "\n",
       "    .dataframe thead th {\n",
       "        text-align: right;\n",
       "    }\n",
       "</style>\n",
       "<table border=\"1\" class=\"dataframe\">\n",
       "  <thead>\n",
       "    <tr style=\"text-align: right;\">\n",
       "      <th></th>\n",
       "      <th>barcode</th>\n",
       "      <th>aadhar_no</th>\n",
       "      <th>academic_year</th>\n",
       "      <th>module</th>\n",
       "      <th>student_name</th>\n",
       "      <th>gender</th>\n",
       "      <th>dob</th>\n",
       "      <th>social_category</th>\n",
       "      <th>orphan</th>\n",
       "      <th>es</th>\n",
       "      <th>...</th>\n",
       "      <th>board_exam_name_for_highest_qualification</th>\n",
       "      <th>examination_board_of_the_highest_qualification</th>\n",
       "      <th>examination_type</th>\n",
       "      <th>year_of_passing</th>\n",
       "      <th>total_marks</th>\n",
       "      <th>secured_marks</th>\n",
       "      <th>percentage</th>\n",
       "      <th>compartmental_status</th>\n",
       "      <th>hss_option_details</th>\n",
       "      <th>hss_compartments</th>\n",
       "    </tr>\n",
       "  </thead>\n",
       "  <tbody>\n",
       "    <tr>\n",
       "      <th>0</th>\n",
       "      <td>22H4912639</td>\n",
       "      <td>£4vÐ0ã\\n\u001aO„©³%É@äÁXÔAŒ\\¡2Çœ©\u0012+#\f´</td>\n",
       "      <td>2022</td>\n",
       "      <td>HSS</td>\n",
       "      <td>7YsWktVbq816K4kzi0Tvla4urZgbH4A+60ZFliLBvqM=</td>\n",
       "      <td>Male</td>\n",
       "      <td>22-Apr-2004</td>\n",
       "      <td>SC</td>\n",
       "      <td>NO</td>\n",
       "      <td>NO</td>\n",
       "      <td>...</td>\n",
       "      <td>Board of Secondary Education, Orissa, Cuttack-...</td>\n",
       "      <td>BSE, Odisha</td>\n",
       "      <td>Annual</td>\n",
       "      <td>2022</td>\n",
       "      <td>600</td>\n",
       "      <td>520.00</td>\n",
       "      <td>86.67</td>\n",
       "      <td>NO</td>\n",
       "      <td>[{\"ReportedInstitute\": \"Government (SSD) Highe...</td>\n",
       "      <td>[]</td>\n",
       "    </tr>\n",
       "    <tr>\n",
       "      <th>1</th>\n",
       "      <td>22H1266274</td>\n",
       "      <td>£4vÐ0ã\\n\u001aO„©³%É@äÁXÔAŒ\\¡2Çœ©\u0012+#\f´</td>\n",
       "      <td>2022</td>\n",
       "      <td>HSS</td>\n",
       "      <td>7YsWktVbq816K4kzi0Tvla4urZgbH4A+60ZFliLBvqM=</td>\n",
       "      <td>Male</td>\n",
       "      <td>22-Apr-2004</td>\n",
       "      <td>SC</td>\n",
       "      <td>NO</td>\n",
       "      <td>NO</td>\n",
       "      <td>...</td>\n",
       "      <td>Board of Secondary Education, Orissa, Cuttack-...</td>\n",
       "      <td>BSE, Odisha</td>\n",
       "      <td>Annual</td>\n",
       "      <td>2022</td>\n",
       "      <td>600</td>\n",
       "      <td>520.00</td>\n",
       "      <td>86.67</td>\n",
       "      <td>NO</td>\n",
       "      <td>[{\"ReportedInstitute\": \"Buxi Jagabandhu Bidyad...</td>\n",
       "      <td>[]</td>\n",
       "    </tr>\n",
       "    <tr>\n",
       "      <th>2</th>\n",
       "      <td>21H4032033</td>\n",
       "      <td>£4wQ²îµËI¶Ã…\u0004…?%½¯†\u0002I¥±ÄáW^M#$Ã</td>\n",
       "      <td>2021</td>\n",
       "      <td>HSS</td>\n",
       "      <td>by31dul/d+d92Kzto+gtizZh1ToLWKGOiBxytowUXGY=</td>\n",
       "      <td>Female</td>\n",
       "      <td>26-Nov-2005</td>\n",
       "      <td>OBC</td>\n",
       "      <td>NO</td>\n",
       "      <td>NO</td>\n",
       "      <td>...</td>\n",
       "      <td>Board of Secondary Education, Orissa, Cuttack-...</td>\n",
       "      <td>BSE, Odisha</td>\n",
       "      <td>Annual</td>\n",
       "      <td>2021</td>\n",
       "      <td>600</td>\n",
       "      <td>523.00</td>\n",
       "      <td>87.17</td>\n",
       "      <td>NO</td>\n",
       "      <td>[{\"ReportedInstitute\": \"North Odisha Higher Se...</td>\n",
       "      <td>[]</td>\n",
       "    </tr>\n",
       "    <tr>\n",
       "      <th>3</th>\n",
       "      <td>23H1211722</td>\n",
       "      <td>£44'“æQXj=%µšØNZXV¸¾¶\f\u000ex\u001d¤\u000b\u0002ö±</td>\n",
       "      <td>2023</td>\n",
       "      <td>HSS</td>\n",
       "      <td>xMg2ie5HzvOo5JwFBLKTqsgt9YbOGBR9v5MbRQTUg0I=</td>\n",
       "      <td>Male</td>\n",
       "      <td>18-Jun-2007</td>\n",
       "      <td>GEN</td>\n",
       "      <td>NO</td>\n",
       "      <td>NO</td>\n",
       "      <td>...</td>\n",
       "      <td>Board of Secondary Education, Orissa, Cuttack-...</td>\n",
       "      <td>BSE, Odisha</td>\n",
       "      <td>Annual</td>\n",
       "      <td>2023</td>\n",
       "      <td>600</td>\n",
       "      <td>271.00</td>\n",
       "      <td>45.17</td>\n",
       "      <td>NO</td>\n",
       "      <td>[{\"ReportedInstitute\": \"Government Higher Seco...</td>\n",
       "      <td>[]</td>\n",
       "    </tr>\n",
       "    <tr>\n",
       "      <th>4</th>\n",
       "      <td>24H8792210</td>\n",
       "      <td>£44'“æQXj=%µšØNZXV¸¾¶\f\u000ex\u001d¤\u000b\u0002ö±</td>\n",
       "      <td>2024</td>\n",
       "      <td>HSS</td>\n",
       "      <td>xMg2ie5HzvOo5JwFBLKTqsgt9YbOGBR9v5MbRQTUg0I=</td>\n",
       "      <td>Male</td>\n",
       "      <td>18-Jun-2007</td>\n",
       "      <td>SEBC</td>\n",
       "      <td>NO</td>\n",
       "      <td>NO</td>\n",
       "      <td>...</td>\n",
       "      <td>Board of Secondary Education, Orissa, Cuttack-...</td>\n",
       "      <td>BSE, Odisha</td>\n",
       "      <td>Annual</td>\n",
       "      <td>2023</td>\n",
       "      <td>600</td>\n",
       "      <td>271.00</td>\n",
       "      <td>45.17</td>\n",
       "      <td>NO</td>\n",
       "      <td>[{\"ReportedInstitute\": \"Government Higher Seco...</td>\n",
       "      <td>[]</td>\n",
       "    </tr>\n",
       "  </tbody>\n",
       "</table>\n",
       "<p>5 rows × 29 columns</p>\n",
       "</div>"
      ],
      "text/plain": [
       "      barcode                          aadhar_no  academic_year module  \\\n",
       "0  22H4912639  £4vÐ0ã\\n\u001aO„©³%É@äÁXÔAŒ\\¡2Çœ©\u0012+#\n",
       "´           2022    HSS   \n",
       "1  22H1266274  £4vÐ0ã\\n\u001aO„©³%É@äÁXÔAŒ\\¡2Çœ©\u0012+#\n",
       "´           2022    HSS   \n",
       "2  21H4032033   £4wQ²îµËI¶Ã…\u0004…?%½¯†\u0002I¥±ÄáW^M#$Ã           2021    HSS   \n",
       "3  23H1211722   £44'“æQXj=%µšØNZXV¸¾¶\n",
       "\u000ex\n",
       "¤\n",
       "\u0002ö±           2023    HSS   \n",
       "4  24H8792210   £44'“æQXj=%µšØNZXV¸¾¶\n",
       "\u000ex\n",
       "¤\n",
       "\u0002ö±           2024    HSS   \n",
       "\n",
       "                                   student_name  gender          dob  \\\n",
       "0  7YsWktVbq816K4kzi0Tvla4urZgbH4A+60ZFliLBvqM=    Male  22-Apr-2004   \n",
       "1  7YsWktVbq816K4kzi0Tvla4urZgbH4A+60ZFliLBvqM=    Male  22-Apr-2004   \n",
       "2  by31dul/d+d92Kzto+gtizZh1ToLWKGOiBxytowUXGY=  Female  26-Nov-2005   \n",
       "3  xMg2ie5HzvOo5JwFBLKTqsgt9YbOGBR9v5MbRQTUg0I=    Male  18-Jun-2007   \n",
       "4  xMg2ie5HzvOo5JwFBLKTqsgt9YbOGBR9v5MbRQTUg0I=    Male  18-Jun-2007   \n",
       "\n",
       "  social_category orphan  es  ...  \\\n",
       "0              SC     NO  NO  ...   \n",
       "1              SC     NO  NO  ...   \n",
       "2             OBC     NO  NO  ...   \n",
       "3             GEN     NO  NO  ...   \n",
       "4            SEBC     NO  NO  ...   \n",
       "\n",
       "           board_exam_name_for_highest_qualification  \\\n",
       "0  Board of Secondary Education, Orissa, Cuttack-...   \n",
       "1  Board of Secondary Education, Orissa, Cuttack-...   \n",
       "2  Board of Secondary Education, Orissa, Cuttack-...   \n",
       "3  Board of Secondary Education, Orissa, Cuttack-...   \n",
       "4  Board of Secondary Education, Orissa, Cuttack-...   \n",
       "\n",
       "  examination_board_of_the_highest_qualification examination_type  \\\n",
       "0                                    BSE, Odisha           Annual   \n",
       "1                                    BSE, Odisha           Annual   \n",
       "2                                    BSE, Odisha           Annual   \n",
       "3                                    BSE, Odisha           Annual   \n",
       "4                                    BSE, Odisha           Annual   \n",
       "\n",
       "  year_of_passing total_marks secured_marks percentage compartmental_status  \\\n",
       "0            2022         600        520.00      86.67                   NO   \n",
       "1            2022         600        520.00      86.67                   NO   \n",
       "2            2021         600        523.00      87.17                   NO   \n",
       "3            2023         600        271.00      45.17                   NO   \n",
       "4            2023         600        271.00      45.17                   NO   \n",
       "\n",
       "                                  hss_option_details hss_compartments  \n",
       "0  [{\"ReportedInstitute\": \"Government (SSD) Highe...               []  \n",
       "1  [{\"ReportedInstitute\": \"Buxi Jagabandhu Bidyad...               []  \n",
       "2  [{\"ReportedInstitute\": \"North Odisha Higher Se...               []  \n",
       "3  [{\"ReportedInstitute\": \"Government Higher Seco...               []  \n",
       "4  [{\"ReportedInstitute\": \"Government Higher Seco...               []  \n",
       "\n",
       "[5 rows x 29 columns]"
      ]
     },
     "execution_count": 9,
     "metadata": {},
     "output_type": "execute_result"
    }
   ],
   "source": [
    "hss_enrollments = load_data(datasets[\"hss_enrollments\"])\n",
    "hss_enrollments.head()"
   ]
  },
  {
   "cell_type": "code",
   "execution_count": 11,
   "id": "8fa7f554",
   "metadata": {},
   "outputs": [
    {
     "name": "stdout",
     "output_type": "stream",
     "text": [
      "\u001b[32m2025-09-23 17:06:40.386\u001b[0m | \u001b[1mINFO    \u001b[0m | \u001b[36msams.utils\u001b[0m:\u001b[36mload_data\u001b[0m:\u001b[36m75\u001b[0m - \u001b[1mLoading data from C:\\Users\\Admin\\Documents\\GitHub\\sams\\data\\interim\\hss_marks.pq\u001b[0m\n"
     ]
    }
   ],
   "source": [
    "from sams.utils import load_data\n",
    "from sams.config import datasets\n",
    "hss_marks = load_data(datasets['hss_marks'])"
   ]
  },
  {
   "cell_type": "code",
   "execution_count": 12,
   "id": "3ff2d4f3",
   "metadata": {},
   "outputs": [
    {
     "data": {
      "application/vnd.microsoft.datawrangler.viewer.v0+json": {
       "columns": [
        {
         "name": "index",
         "rawType": "int64",
         "type": "integer"
        },
        {
         "name": "aadhar_no",
         "rawType": "object",
         "type": "unknown"
        },
        {
         "name": "barcode",
         "rawType": "object",
         "type": "string"
        },
        {
         "name": "academic_year",
         "rawType": "int64",
         "type": "integer"
        },
        {
         "name": "module",
         "rawType": "object",
         "type": "string"
        },
        {
         "name": "board_exam_name_for_highest_qualification",
         "rawType": "object",
         "type": "string"
        },
        {
         "name": "highest_qualification",
         "rawType": "object",
         "type": "string"
        },
        {
         "name": "examination_board_of_the_highest_qualification",
         "rawType": "object",
         "type": "string"
        },
        {
         "name": "examination_type",
         "rawType": "object",
         "type": "string"
        },
        {
         "name": "year_of_passing",
         "rawType": "object",
         "type": "string"
        },
        {
         "name": "total_marks",
         "rawType": "object",
         "type": "string"
        },
        {
         "name": "secured_marks",
         "rawType": "object",
         "type": "string"
        },
        {
         "name": "percentage",
         "rawType": "object",
         "type": "string"
        },
        {
         "name": "compartmental_status",
         "rawType": "object",
         "type": "string"
        },
        {
         "name": "comp_subject",
         "rawType": "object",
         "type": "unknown"
        },
        {
         "name": "comp_fail_mark",
         "rawType": "object",
         "type": "unknown"
        },
        {
         "name": "comp_pass_mark",
         "rawType": "object",
         "type": "unknown"
        }
       ],
       "ref": "8600ce30-31bc-405e-84a8-768fc52a7c6b",
       "rows": [
        [
         "0",
         null,
         "18J0000045",
         "2018",
         "HSS",
         "Board of Secondary Education, Orissa, Cuttack-1, Year 2001 and onwards",
         "10TH",
         "BSE, Odisha",
         "Annual",
         "2018",
         "600",
         "426.00",
         "71.00",
         "NO",
         null,
         null,
         null
        ],
        [
         "1",
         null,
         "18J0000057",
         "2018",
         "HSS",
         "Board of Secondary Education, Orissa, Cuttack-1, Year 2001 and onwards",
         "10TH",
         "BSE, Odisha",
         "Annual",
         "2018",
         "600",
         "203.00",
         "33.83",
         "NO",
         null,
         null,
         null
        ],
        [
         "2",
         null,
         "18J0000067",
         "2018",
         "HSS",
         "Board of Secondary Education, Orissa, Cuttack-1, Year 2001 and onwards",
         "10TH",
         "BSE, Odisha",
         "Annual",
         "2018",
         "600",
         "292.00",
         "48.67",
         "NO",
         null,
         null,
         null
        ],
        [
         "3",
         null,
         "18J0000075",
         "2018",
         "HSS",
         "Board of Secondary Education, Orissa, Cuttack-1, Year 2001 and onwards",
         "10TH",
         "BSE, Odisha",
         "Annual",
         "2018",
         "600",
         "289.00",
         "48.17",
         "NO",
         null,
         null,
         null
        ],
        [
         "4",
         null,
         "18J0000081",
         "2018",
         "HSS",
         "Board of Secondary Education, Orissa, Cuttack-1, Year 2001 and onwards",
         "10TH",
         "BSE, Odisha",
         "Annual",
         "2018",
         "600",
         "409.00",
         "68.17",
         "NO",
         null,
         null,
         null
        ]
       ],
       "shape": {
        "columns": 16,
        "rows": 5
       }
      },
      "text/html": [
       "<div>\n",
       "<style scoped>\n",
       "    .dataframe tbody tr th:only-of-type {\n",
       "        vertical-align: middle;\n",
       "    }\n",
       "\n",
       "    .dataframe tbody tr th {\n",
       "        vertical-align: top;\n",
       "    }\n",
       "\n",
       "    .dataframe thead th {\n",
       "        text-align: right;\n",
       "    }\n",
       "</style>\n",
       "<table border=\"1\" class=\"dataframe\">\n",
       "  <thead>\n",
       "    <tr style=\"text-align: right;\">\n",
       "      <th></th>\n",
       "      <th>aadhar_no</th>\n",
       "      <th>barcode</th>\n",
       "      <th>academic_year</th>\n",
       "      <th>module</th>\n",
       "      <th>board_exam_name_for_highest_qualification</th>\n",
       "      <th>highest_qualification</th>\n",
       "      <th>examination_board_of_the_highest_qualification</th>\n",
       "      <th>examination_type</th>\n",
       "      <th>year_of_passing</th>\n",
       "      <th>total_marks</th>\n",
       "      <th>secured_marks</th>\n",
       "      <th>percentage</th>\n",
       "      <th>compartmental_status</th>\n",
       "      <th>comp_subject</th>\n",
       "      <th>comp_fail_mark</th>\n",
       "      <th>comp_pass_mark</th>\n",
       "    </tr>\n",
       "  </thead>\n",
       "  <tbody>\n",
       "    <tr>\n",
       "      <th>0</th>\n",
       "      <td>None</td>\n",
       "      <td>18J0000045</td>\n",
       "      <td>2018</td>\n",
       "      <td>HSS</td>\n",
       "      <td>Board of Secondary Education, Orissa, Cuttack-...</td>\n",
       "      <td>10TH</td>\n",
       "      <td>BSE, Odisha</td>\n",
       "      <td>Annual</td>\n",
       "      <td>2018</td>\n",
       "      <td>600</td>\n",
       "      <td>426.00</td>\n",
       "      <td>71.00</td>\n",
       "      <td>NO</td>\n",
       "      <td>None</td>\n",
       "      <td>None</td>\n",
       "      <td>None</td>\n",
       "    </tr>\n",
       "    <tr>\n",
       "      <th>1</th>\n",
       "      <td>None</td>\n",
       "      <td>18J0000057</td>\n",
       "      <td>2018</td>\n",
       "      <td>HSS</td>\n",
       "      <td>Board of Secondary Education, Orissa, Cuttack-...</td>\n",
       "      <td>10TH</td>\n",
       "      <td>BSE, Odisha</td>\n",
       "      <td>Annual</td>\n",
       "      <td>2018</td>\n",
       "      <td>600</td>\n",
       "      <td>203.00</td>\n",
       "      <td>33.83</td>\n",
       "      <td>NO</td>\n",
       "      <td>None</td>\n",
       "      <td>None</td>\n",
       "      <td>None</td>\n",
       "    </tr>\n",
       "    <tr>\n",
       "      <th>2</th>\n",
       "      <td>None</td>\n",
       "      <td>18J0000067</td>\n",
       "      <td>2018</td>\n",
       "      <td>HSS</td>\n",
       "      <td>Board of Secondary Education, Orissa, Cuttack-...</td>\n",
       "      <td>10TH</td>\n",
       "      <td>BSE, Odisha</td>\n",
       "      <td>Annual</td>\n",
       "      <td>2018</td>\n",
       "      <td>600</td>\n",
       "      <td>292.00</td>\n",
       "      <td>48.67</td>\n",
       "      <td>NO</td>\n",
       "      <td>None</td>\n",
       "      <td>None</td>\n",
       "      <td>None</td>\n",
       "    </tr>\n",
       "    <tr>\n",
       "      <th>3</th>\n",
       "      <td>None</td>\n",
       "      <td>18J0000075</td>\n",
       "      <td>2018</td>\n",
       "      <td>HSS</td>\n",
       "      <td>Board of Secondary Education, Orissa, Cuttack-...</td>\n",
       "      <td>10TH</td>\n",
       "      <td>BSE, Odisha</td>\n",
       "      <td>Annual</td>\n",
       "      <td>2018</td>\n",
       "      <td>600</td>\n",
       "      <td>289.00</td>\n",
       "      <td>48.17</td>\n",
       "      <td>NO</td>\n",
       "      <td>None</td>\n",
       "      <td>None</td>\n",
       "      <td>None</td>\n",
       "    </tr>\n",
       "    <tr>\n",
       "      <th>4</th>\n",
       "      <td>None</td>\n",
       "      <td>18J0000081</td>\n",
       "      <td>2018</td>\n",
       "      <td>HSS</td>\n",
       "      <td>Board of Secondary Education, Orissa, Cuttack-...</td>\n",
       "      <td>10TH</td>\n",
       "      <td>BSE, Odisha</td>\n",
       "      <td>Annual</td>\n",
       "      <td>2018</td>\n",
       "      <td>600</td>\n",
       "      <td>409.00</td>\n",
       "      <td>68.17</td>\n",
       "      <td>NO</td>\n",
       "      <td>None</td>\n",
       "      <td>None</td>\n",
       "      <td>None</td>\n",
       "    </tr>\n",
       "  </tbody>\n",
       "</table>\n",
       "</div>"
      ],
      "text/plain": [
       "  aadhar_no     barcode  academic_year module  \\\n",
       "0      None  18J0000045           2018    HSS   \n",
       "1      None  18J0000057           2018    HSS   \n",
       "2      None  18J0000067           2018    HSS   \n",
       "3      None  18J0000075           2018    HSS   \n",
       "4      None  18J0000081           2018    HSS   \n",
       "\n",
       "           board_exam_name_for_highest_qualification highest_qualification  \\\n",
       "0  Board of Secondary Education, Orissa, Cuttack-...                  10TH   \n",
       "1  Board of Secondary Education, Orissa, Cuttack-...                  10TH   \n",
       "2  Board of Secondary Education, Orissa, Cuttack-...                  10TH   \n",
       "3  Board of Secondary Education, Orissa, Cuttack-...                  10TH   \n",
       "4  Board of Secondary Education, Orissa, Cuttack-...                  10TH   \n",
       "\n",
       "  examination_board_of_the_highest_qualification examination_type  \\\n",
       "0                                    BSE, Odisha           Annual   \n",
       "1                                    BSE, Odisha           Annual   \n",
       "2                                    BSE, Odisha           Annual   \n",
       "3                                    BSE, Odisha           Annual   \n",
       "4                                    BSE, Odisha           Annual   \n",
       "\n",
       "  year_of_passing total_marks secured_marks percentage compartmental_status  \\\n",
       "0            2018         600        426.00      71.00                   NO   \n",
       "1            2018         600        203.00      33.83                   NO   \n",
       "2            2018         600        292.00      48.67                   NO   \n",
       "3            2018         600        289.00      48.17                   NO   \n",
       "4            2018         600        409.00      68.17                   NO   \n",
       "\n",
       "  comp_subject comp_fail_mark comp_pass_mark  \n",
       "0         None           None           None  \n",
       "1         None           None           None  \n",
       "2         None           None           None  \n",
       "3         None           None           None  \n",
       "4         None           None           None  "
      ]
     },
     "execution_count": 12,
     "metadata": {},
     "output_type": "execute_result"
    }
   ],
   "source": [
    "hss_marks.head()"
   ]
  },
  {
   "cell_type": "code",
   "execution_count": null,
   "id": "9b939b0b",
   "metadata": {},
   "outputs": [
    {
     "data": {
      "application/vnd.microsoft.datawrangler.viewer.v0+json": {
       "columns": [
        {
         "name": "index",
         "rawType": "int64",
         "type": "integer"
        },
        {
         "name": "aadhar_no",
         "rawType": "object",
         "type": "unknown"
        },
        {
         "name": "barcode",
         "rawType": "object",
         "type": "string"
        },
        {
         "name": "academic_year",
         "rawType": "int64",
         "type": "integer"
        },
        {
         "name": "module",
         "rawType": "object",
         "type": "string"
        },
        {
         "name": "board_exam_name_for_highest_qualification",
         "rawType": "object",
         "type": "string"
        },
        {
         "name": "highest_qualification",
         "rawType": "object",
         "type": "string"
        },
        {
         "name": "examination_board_of_the_highest_qualification",
         "rawType": "object",
         "type": "string"
        },
        {
         "name": "examination_type",
         "rawType": "object",
         "type": "string"
        },
        {
         "name": "year_of_passing",
         "rawType": "object",
         "type": "string"
        },
        {
         "name": "total_marks",
         "rawType": "object",
         "type": "string"
        },
        {
         "name": "secured_marks",
         "rawType": "object",
         "type": "string"
        },
        {
         "name": "percentage",
         "rawType": "object",
         "type": "string"
        },
        {
         "name": "compartmental_status",
         "rawType": "object",
         "type": "string"
        },
        {
         "name": "comp_index",
         "rawType": "object",
         "type": "unknown"
        },
        {
         "name": "comp_subject",
         "rawType": "object",
         "type": "unknown"
        },
        {
         "name": "comp_fail_mark",
         "rawType": "object",
         "type": "unknown"
        },
        {
         "name": "comp_pass_mark",
         "rawType": "object",
         "type": "unknown"
        }
       ],
       "ref": "0cec344c-9469-4bad-a5f2-a88b33d373ae",
       "rows": [
        [
         "0",
         null,
         "18J0000045",
         "2018",
         "HSS",
         "Board of Secondary Education, Orissa, Cuttack-1, Year 2001 and onwards",
         "10TH",
         "BSE, Odisha",
         "Annual",
         "2018",
         "600",
         "426.00",
         "71.00",
         "NO",
         null,
         null,
         null,
         null
        ],
        [
         "1",
         null,
         "18J0000057",
         "2018",
         "HSS",
         "Board of Secondary Education, Orissa, Cuttack-1, Year 2001 and onwards",
         "10TH",
         "BSE, Odisha",
         "Annual",
         "2018",
         "600",
         "203.00",
         "33.83",
         "NO",
         null,
         null,
         null,
         null
        ],
        [
         "2",
         null,
         "18J0000067",
         "2018",
         "HSS",
         "Board of Secondary Education, Orissa, Cuttack-1, Year 2001 and onwards",
         "10TH",
         "BSE, Odisha",
         "Annual",
         "2018",
         "600",
         "292.00",
         "48.67",
         "NO",
         null,
         null,
         null,
         null
        ],
        [
         "3",
         null,
         "18J0000075",
         "2018",
         "HSS",
         "Board of Secondary Education, Orissa, Cuttack-1, Year 2001 and onwards",
         "10TH",
         "BSE, Odisha",
         "Annual",
         "2018",
         "600",
         "289.00",
         "48.17",
         "NO",
         null,
         null,
         null,
         null
        ],
        [
         "4",
         null,
         "18J0000081",
         "2018",
         "HSS",
         "Board of Secondary Education, Orissa, Cuttack-1, Year 2001 and onwards",
         "10TH",
         "BSE, Odisha",
         "Annual",
         "2018",
         "600",
         "409.00",
         "68.17",
         "NO",
         null,
         null,
         null,
         null
        ]
       ],
       "shape": {
        "columns": 17,
        "rows": 5
       }
      },
      "text/html": [
       "<div>\n",
       "<style scoped>\n",
       "    .dataframe tbody tr th:only-of-type {\n",
       "        vertical-align: middle;\n",
       "    }\n",
       "\n",
       "    .dataframe tbody tr th {\n",
       "        vertical-align: top;\n",
       "    }\n",
       "\n",
       "    .dataframe thead th {\n",
       "        text-align: right;\n",
       "    }\n",
       "</style>\n",
       "<table border=\"1\" class=\"dataframe\">\n",
       "  <thead>\n",
       "    <tr style=\"text-align: right;\">\n",
       "      <th></th>\n",
       "      <th>aadhar_no</th>\n",
       "      <th>barcode</th>\n",
       "      <th>academic_year</th>\n",
       "      <th>module</th>\n",
       "      <th>board_exam_name_for_highest_qualification</th>\n",
       "      <th>highest_qualification</th>\n",
       "      <th>examination_board_of_the_highest_qualification</th>\n",
       "      <th>examination_type</th>\n",
       "      <th>year_of_passing</th>\n",
       "      <th>total_marks</th>\n",
       "      <th>secured_marks</th>\n",
       "      <th>percentage</th>\n",
       "      <th>compartmental_status</th>\n",
       "      <th>comp_index</th>\n",
       "      <th>comp_subject</th>\n",
       "      <th>comp_fail_mark</th>\n",
       "      <th>comp_pass_mark</th>\n",
       "    </tr>\n",
       "  </thead>\n",
       "  <tbody>\n",
       "    <tr>\n",
       "      <th>0</th>\n",
       "      <td>None</td>\n",
       "      <td>18J0000045</td>\n",
       "      <td>2018</td>\n",
       "      <td>HSS</td>\n",
       "      <td>Board of Secondary Education, Orissa, Cuttack-...</td>\n",
       "      <td>10TH</td>\n",
       "      <td>BSE, Odisha</td>\n",
       "      <td>Annual</td>\n",
       "      <td>2018</td>\n",
       "      <td>600</td>\n",
       "      <td>426.00</td>\n",
       "      <td>71.00</td>\n",
       "      <td>NO</td>\n",
       "      <td>None</td>\n",
       "      <td>None</td>\n",
       "      <td>None</td>\n",
       "      <td>None</td>\n",
       "    </tr>\n",
       "    <tr>\n",
       "      <th>1</th>\n",
       "      <td>None</td>\n",
       "      <td>18J0000057</td>\n",
       "      <td>2018</td>\n",
       "      <td>HSS</td>\n",
       "      <td>Board of Secondary Education, Orissa, Cuttack-...</td>\n",
       "      <td>10TH</td>\n",
       "      <td>BSE, Odisha</td>\n",
       "      <td>Annual</td>\n",
       "      <td>2018</td>\n",
       "      <td>600</td>\n",
       "      <td>203.00</td>\n",
       "      <td>33.83</td>\n",
       "      <td>NO</td>\n",
       "      <td>None</td>\n",
       "      <td>None</td>\n",
       "      <td>None</td>\n",
       "      <td>None</td>\n",
       "    </tr>\n",
       "    <tr>\n",
       "      <th>2</th>\n",
       "      <td>None</td>\n",
       "      <td>18J0000067</td>\n",
       "      <td>2018</td>\n",
       "      <td>HSS</td>\n",
       "      <td>Board of Secondary Education, Orissa, Cuttack-...</td>\n",
       "      <td>10TH</td>\n",
       "      <td>BSE, Odisha</td>\n",
       "      <td>Annual</td>\n",
       "      <td>2018</td>\n",
       "      <td>600</td>\n",
       "      <td>292.00</td>\n",
       "      <td>48.67</td>\n",
       "      <td>NO</td>\n",
       "      <td>None</td>\n",
       "      <td>None</td>\n",
       "      <td>None</td>\n",
       "      <td>None</td>\n",
       "    </tr>\n",
       "    <tr>\n",
       "      <th>3</th>\n",
       "      <td>None</td>\n",
       "      <td>18J0000075</td>\n",
       "      <td>2018</td>\n",
       "      <td>HSS</td>\n",
       "      <td>Board of Secondary Education, Orissa, Cuttack-...</td>\n",
       "      <td>10TH</td>\n",
       "      <td>BSE, Odisha</td>\n",
       "      <td>Annual</td>\n",
       "      <td>2018</td>\n",
       "      <td>600</td>\n",
       "      <td>289.00</td>\n",
       "      <td>48.17</td>\n",
       "      <td>NO</td>\n",
       "      <td>None</td>\n",
       "      <td>None</td>\n",
       "      <td>None</td>\n",
       "      <td>None</td>\n",
       "    </tr>\n",
       "    <tr>\n",
       "      <th>4</th>\n",
       "      <td>None</td>\n",
       "      <td>18J0000081</td>\n",
       "      <td>2018</td>\n",
       "      <td>HSS</td>\n",
       "      <td>Board of Secondary Education, Orissa, Cuttack-...</td>\n",
       "      <td>10TH</td>\n",
       "      <td>BSE, Odisha</td>\n",
       "      <td>Annual</td>\n",
       "      <td>2018</td>\n",
       "      <td>600</td>\n",
       "      <td>409.00</td>\n",
       "      <td>68.17</td>\n",
       "      <td>NO</td>\n",
       "      <td>None</td>\n",
       "      <td>None</td>\n",
       "      <td>None</td>\n",
       "      <td>None</td>\n",
       "    </tr>\n",
       "  </tbody>\n",
       "</table>\n",
       "</div>"
      ],
      "text/plain": [
       "  aadhar_no     barcode  academic_year module  \\\n",
       "0      None  18J0000045           2018    HSS   \n",
       "1      None  18J0000057           2018    HSS   \n",
       "2      None  18J0000067           2018    HSS   \n",
       "3      None  18J0000075           2018    HSS   \n",
       "4      None  18J0000081           2018    HSS   \n",
       "\n",
       "           board_exam_name_for_highest_qualification highest_qualification  \\\n",
       "0  Board of Secondary Education, Orissa, Cuttack-...                  10TH   \n",
       "1  Board of Secondary Education, Orissa, Cuttack-...                  10TH   \n",
       "2  Board of Secondary Education, Orissa, Cuttack-...                  10TH   \n",
       "3  Board of Secondary Education, Orissa, Cuttack-...                  10TH   \n",
       "4  Board of Secondary Education, Orissa, Cuttack-...                  10TH   \n",
       "\n",
       "  examination_board_of_the_highest_qualification examination_type  \\\n",
       "0                                    BSE, Odisha           Annual   \n",
       "1                                    BSE, Odisha           Annual   \n",
       "2                                    BSE, Odisha           Annual   \n",
       "3                                    BSE, Odisha           Annual   \n",
       "4                                    BSE, Odisha           Annual   \n",
       "\n",
       "  year_of_passing total_marks secured_marks percentage compartmental_status  \\\n",
       "0            2018         600        426.00      71.00                   NO   \n",
       "1            2018         600        203.00      33.83                   NO   \n",
       "2            2018         600        292.00      48.67                   NO   \n",
       "3            2018         600        289.00      48.17                   NO   \n",
       "4            2018         600        409.00      68.17                   NO   \n",
       "\n",
       "  comp_index comp_subject comp_fail_mark comp_pass_mark  \n",
       "0       None         None           None           None  \n",
       "1       None         None           None           None  \n",
       "2       None         None           None           None  \n",
       "3       None         None           None           None  \n",
       "4       None         None           None           None  "
      ]
     },
     "execution_count": 9,
     "metadata": {},
     "output_type": "execute_result"
    }
   ],
   "source": [
    "hss_marks.head()\n"
   ]
  },
  {
   "cell_type": "code",
   "execution_count": 14,
   "id": "2b3e42ea",
   "metadata": {},
   "outputs": [
    {
     "data": {
      "text/plain": [
       "Index(['aadhar_no', 'barcode', 'academic_year', 'module',\n",
       "       'board_exam_name_for_highest_qualification', 'highest_qualification',\n",
       "       'examination_board_of_the_highest_qualification', 'examination_type',\n",
       "       'year_of_passing', 'total_marks', 'secured_marks', 'percentage',\n",
       "       'compartmental_status', 'comp_subject', 'comp_fail_mark',\n",
       "       'comp_pass_mark'],\n",
       "      dtype='object')"
      ]
     },
     "execution_count": 14,
     "metadata": {},
     "output_type": "execute_result"
    }
   ],
   "source": [
    "hss_marks.columns"
   ]
  },
  {
   "cell_type": "code",
   "execution_count": 13,
   "id": "8da71386",
   "metadata": {},
   "outputs": [
    {
     "data": {
      "text/plain": [
       "(3463531, 16)"
      ]
     },
     "execution_count": 13,
     "metadata": {},
     "output_type": "execute_result"
    }
   ],
   "source": [
    "hss_marks.shape"
   ]
  },
  {
   "cell_type": "code",
   "execution_count": 12,
   "id": "1aa5fc08",
   "metadata": {},
   "outputs": [
    {
     "name": "stdout",
     "output_type": "stream",
     "text": [
      "\u001b[32m2025-09-23 13:23:48.587\u001b[0m | \u001b[1mINFO    \u001b[0m | \u001b[36msams.utils\u001b[0m:\u001b[36mload_data\u001b[0m:\u001b[36m75\u001b[0m - \u001b[1mLoading data from C:\\Users\\Admin\\Documents\\GitHub\\sams\\data\\interim\\hss_applications.pq\u001b[0m\n"
     ]
    },
    {
     "data": {
      "text/plain": [
       "(1855, 14)"
      ]
     },
     "execution_count": 12,
     "metadata": {},
     "output_type": "execute_result"
    }
   ],
   "source": [
    "hss_applications = load_data(datasets['hss_applications'])\n",
    "hss_applications.shape"
   ]
  },
  {
   "cell_type": "code",
   "execution_count": 7,
   "id": "a328556c",
   "metadata": {},
   "outputs": [
    {
     "data": {
      "text/plain": [
       "(14640073, 15)"
      ]
     },
     "execution_count": 7,
     "metadata": {},
     "output_type": "execute_result"
    }
   ],
   "source": [
    "deg_applications.shape"
   ]
  },
  {
   "cell_type": "code",
   "execution_count": 17,
   "id": "f7691096",
   "metadata": {},
   "outputs": [
    {
     "data": {
      "application/vnd.microsoft.datawrangler.viewer.v0+json": {
       "columns": [
        {
         "name": "index",
         "rawType": "int64",
         "type": "integer"
        },
        {
         "name": "aadhar_no",
         "rawType": "object",
         "type": "unknown"
        },
        {
         "name": "academic_year",
         "rawType": "int64",
         "type": "integer"
        },
        {
         "name": "barcode",
         "rawType": "object",
         "type": "string"
        },
        {
         "name": "stream",
         "rawType": "object",
         "type": "string"
        },
        {
         "name": "subject",
         "rawType": "object",
         "type": "string"
        },
        {
         "name": "admission_status",
         "rawType": "object",
         "type": "string"
        },
        {
         "name": "reported_institute",
         "rawType": "object",
         "type": "string"
        },
        {
         "name": "sams_code",
         "rawType": "object",
         "type": "string"
        },
        {
         "name": "institute_district",
         "rawType": "object",
         "type": "string"
        },
        {
         "name": "institute_block",
         "rawType": "object",
         "type": "string"
        },
        {
         "name": "type_of_institute",
         "rawType": "object",
         "type": "string"
        },
        {
         "name": "year",
         "rawType": "object",
         "type": "string"
        },
        {
         "name": "phase",
         "rawType": "object",
         "type": "string"
        },
        {
         "name": "option_no",
         "rawType": "object",
         "type": "string"
        },
        {
         "name": "num_applications",
         "rawType": "int64",
         "type": "integer"
        }
       ],
       "ref": "e265c561-08c5-4d5e-b2bc-d5a2bb064ff3",
       "rows": [
        [
         "0",
         null,
         "2018",
         "18D000058",
         "Arts",
         "Education",
         "NOT SELECTED",
         "Balikhanda  (Degree) College, Balikhanda",
         "02099301",
         "Balasore",
         "Simulia",
         "Non-Govt Aided (662 Categories)",
         "2018",
         "1",
         "3",
         "10"
        ],
        [
         "1",
         null,
         "2018",
         "18D000058",
         "Arts",
         "Education",
         "NOT SELECTED",
         "Jambeswar (Degree) Mahavidyalaya, Garsang",
         "02079301",
         "Balasore",
         "Khaira",
         "Non-Govt Aided (662 Categories)",
         "2018",
         "1",
         "4",
         "10"
        ],
        [
         "2",
         null,
         "2018",
         "18D000058",
         "Arts",
         "Odia",
         "NOT SELECTED",
         "Charampa (Degree) College, Charampa",
         "04022301",
         "Bhadrak",
         "Bhadrak",
         "Non-Govt Aided (488 Categories)",
         "2018",
         "1",
         "1",
         "10"
        ],
        [
         "3",
         null,
         "2018",
         "18D000058",
         "Arts",
         "Odia",
         "NOT SELECTED",
         "Biranchi Narayan Madhab Arjuna (Degree) College, Paliabindha",
         "04072303",
         "Bhadrak",
         "Tihidi",
         "Non-Govt Aided (488 Categories)",
         "2018",
         "1",
         "2",
         "10"
        ],
        [
         "4",
         null,
         "2018",
         "18D000058",
         "Arts",
         "Sociology",
         "NOT SELECTED",
         "Maa Sarada Devi (Degree) College, Kothar",
         "04069302",
         "Bhadrak",
         "Dhamnagar",
         "Non-Govt Aided (662 Categories)",
         "2018",
         "1",
         "5",
         "10"
        ]
       ],
       "shape": {
        "columns": 15,
        "rows": 5
       }
      },
      "text/html": [
       "<div>\n",
       "<style scoped>\n",
       "    .dataframe tbody tr th:only-of-type {\n",
       "        vertical-align: middle;\n",
       "    }\n",
       "\n",
       "    .dataframe tbody tr th {\n",
       "        vertical-align: top;\n",
       "    }\n",
       "\n",
       "    .dataframe thead th {\n",
       "        text-align: right;\n",
       "    }\n",
       "</style>\n",
       "<table border=\"1\" class=\"dataframe\">\n",
       "  <thead>\n",
       "    <tr style=\"text-align: right;\">\n",
       "      <th></th>\n",
       "      <th>aadhar_no</th>\n",
       "      <th>academic_year</th>\n",
       "      <th>barcode</th>\n",
       "      <th>stream</th>\n",
       "      <th>subject</th>\n",
       "      <th>admission_status</th>\n",
       "      <th>reported_institute</th>\n",
       "      <th>sams_code</th>\n",
       "      <th>institute_district</th>\n",
       "      <th>institute_block</th>\n",
       "      <th>type_of_institute</th>\n",
       "      <th>year</th>\n",
       "      <th>phase</th>\n",
       "      <th>option_no</th>\n",
       "      <th>num_applications</th>\n",
       "    </tr>\n",
       "  </thead>\n",
       "  <tbody>\n",
       "    <tr>\n",
       "      <th>0</th>\n",
       "      <td>None</td>\n",
       "      <td>2018</td>\n",
       "      <td>18D000058</td>\n",
       "      <td>Arts</td>\n",
       "      <td>Education</td>\n",
       "      <td>NOT SELECTED</td>\n",
       "      <td>Balikhanda  (Degree) College, Balikhanda</td>\n",
       "      <td>02099301</td>\n",
       "      <td>Balasore</td>\n",
       "      <td>Simulia</td>\n",
       "      <td>Non-Govt Aided (662 Categories)</td>\n",
       "      <td>2018</td>\n",
       "      <td>1</td>\n",
       "      <td>3</td>\n",
       "      <td>10</td>\n",
       "    </tr>\n",
       "    <tr>\n",
       "      <th>1</th>\n",
       "      <td>None</td>\n",
       "      <td>2018</td>\n",
       "      <td>18D000058</td>\n",
       "      <td>Arts</td>\n",
       "      <td>Education</td>\n",
       "      <td>NOT SELECTED</td>\n",
       "      <td>Jambeswar (Degree) Mahavidyalaya, Garsang</td>\n",
       "      <td>02079301</td>\n",
       "      <td>Balasore</td>\n",
       "      <td>Khaira</td>\n",
       "      <td>Non-Govt Aided (662 Categories)</td>\n",
       "      <td>2018</td>\n",
       "      <td>1</td>\n",
       "      <td>4</td>\n",
       "      <td>10</td>\n",
       "    </tr>\n",
       "    <tr>\n",
       "      <th>2</th>\n",
       "      <td>None</td>\n",
       "      <td>2018</td>\n",
       "      <td>18D000058</td>\n",
       "      <td>Arts</td>\n",
       "      <td>Odia</td>\n",
       "      <td>NOT SELECTED</td>\n",
       "      <td>Charampa (Degree) College, Charampa</td>\n",
       "      <td>04022301</td>\n",
       "      <td>Bhadrak</td>\n",
       "      <td>Bhadrak</td>\n",
       "      <td>Non-Govt Aided (488 Categories)</td>\n",
       "      <td>2018</td>\n",
       "      <td>1</td>\n",
       "      <td>1</td>\n",
       "      <td>10</td>\n",
       "    </tr>\n",
       "    <tr>\n",
       "      <th>3</th>\n",
       "      <td>None</td>\n",
       "      <td>2018</td>\n",
       "      <td>18D000058</td>\n",
       "      <td>Arts</td>\n",
       "      <td>Odia</td>\n",
       "      <td>NOT SELECTED</td>\n",
       "      <td>Biranchi Narayan Madhab Arjuna (Degree) Colleg...</td>\n",
       "      <td>04072303</td>\n",
       "      <td>Bhadrak</td>\n",
       "      <td>Tihidi</td>\n",
       "      <td>Non-Govt Aided (488 Categories)</td>\n",
       "      <td>2018</td>\n",
       "      <td>1</td>\n",
       "      <td>2</td>\n",
       "      <td>10</td>\n",
       "    </tr>\n",
       "    <tr>\n",
       "      <th>4</th>\n",
       "      <td>None</td>\n",
       "      <td>2018</td>\n",
       "      <td>18D000058</td>\n",
       "      <td>Arts</td>\n",
       "      <td>Sociology</td>\n",
       "      <td>NOT SELECTED</td>\n",
       "      <td>Maa Sarada Devi (Degree) College, Kothar</td>\n",
       "      <td>04069302</td>\n",
       "      <td>Bhadrak</td>\n",
       "      <td>Dhamnagar</td>\n",
       "      <td>Non-Govt Aided (662 Categories)</td>\n",
       "      <td>2018</td>\n",
       "      <td>1</td>\n",
       "      <td>5</td>\n",
       "      <td>10</td>\n",
       "    </tr>\n",
       "  </tbody>\n",
       "</table>\n",
       "</div>"
      ],
      "text/plain": [
       "  aadhar_no  academic_year    barcode stream    subject admission_status  \\\n",
       "0      None           2018  18D000058   Arts  Education     NOT SELECTED   \n",
       "1      None           2018  18D000058   Arts  Education     NOT SELECTED   \n",
       "2      None           2018  18D000058   Arts       Odia     NOT SELECTED   \n",
       "3      None           2018  18D000058   Arts       Odia     NOT SELECTED   \n",
       "4      None           2018  18D000058   Arts  Sociology     NOT SELECTED   \n",
       "\n",
       "                                  reported_institute sams_code  \\\n",
       "0           Balikhanda  (Degree) College, Balikhanda  02099301   \n",
       "1          Jambeswar (Degree) Mahavidyalaya, Garsang  02079301   \n",
       "2                Charampa (Degree) College, Charampa  04022301   \n",
       "3  Biranchi Narayan Madhab Arjuna (Degree) Colleg...  04072303   \n",
       "4           Maa Sarada Devi (Degree) College, Kothar  04069302   \n",
       "\n",
       "  institute_district institute_block                type_of_institute  year  \\\n",
       "0           Balasore         Simulia  Non-Govt Aided (662 Categories)  2018   \n",
       "1           Balasore          Khaira  Non-Govt Aided (662 Categories)  2018   \n",
       "2            Bhadrak         Bhadrak  Non-Govt Aided (488 Categories)  2018   \n",
       "3            Bhadrak          Tihidi  Non-Govt Aided (488 Categories)  2018   \n",
       "4            Bhadrak       Dhamnagar  Non-Govt Aided (662 Categories)  2018   \n",
       "\n",
       "  phase option_no  num_applications  \n",
       "0     1         3                10  \n",
       "1     1         4                10  \n",
       "2     1         1                10  \n",
       "3     1         2                10  \n",
       "4     1         5                10  "
      ]
     },
     "execution_count": 17,
     "metadata": {},
     "output_type": "execute_result"
    }
   ],
   "source": [
    "deg_applications.head()"
   ]
  },
  {
   "cell_type": "code",
   "execution_count": 18,
   "id": "d6fa7c93",
   "metadata": {},
   "outputs": [
    {
     "data": {
      "application/vnd.microsoft.datawrangler.viewer.v0+json": {
       "columns": [
        {
         "name": "index",
         "rawType": "int64",
         "type": "integer"
        },
        {
         "name": "aadhar_no",
         "rawType": "object",
         "type": "unknown"
        },
        {
         "name": "academic_year",
         "rawType": "int64",
         "type": "integer"
        },
        {
         "name": "barcode",
         "rawType": "object",
         "type": "string"
        },
        {
         "name": "board_exam_name_for_highest_qualification",
         "rawType": "object",
         "type": "string"
        },
        {
         "name": "highest_qualification",
         "rawType": "object",
         "type": "string"
        },
        {
         "name": "module",
         "rawType": "object",
         "type": "string"
        },
        {
         "name": "examination_board_of_the_highest_qualification",
         "rawType": "object",
         "type": "string"
        },
        {
         "name": "examination_type",
         "rawType": "object",
         "type": "string"
        },
        {
         "name": "year_of_passing",
         "rawType": "object",
         "type": "string"
        },
        {
         "name": "total_marks",
         "rawType": "object",
         "type": "string"
        },
        {
         "name": "secured_marks",
         "rawType": "object",
         "type": "string"
        },
        {
         "name": "percentage",
         "rawType": "object",
         "type": "string"
        },
        {
         "name": "compartmental_status",
         "rawType": "object",
         "type": "string"
        },
        {
         "name": "comp_subject",
         "rawType": "object",
         "type": "unknown"
        },
        {
         "name": "comp_fail_mark",
         "rawType": "object",
         "type": "unknown"
        },
        {
         "name": "comp_pass_mark",
         "rawType": "object",
         "type": "unknown"
        }
       ],
       "ref": "e4c850f4-f06e-4209-8019-b874cf454975",
       "rows": [
        [
         "0",
         null,
         "2018",
         "18D000005",
         "Council of Higher Secondary Education, Odisha",
         "+2 SCIENCE",
         "DEG",
         "CHSE, Odisha",
         "Annual",
         "2018",
         "600",
         "419.0",
         "69.83",
         "NO",
         null,
         null,
         null
        ],
        [
         "1",
         null,
         "2018",
         "18D000009",
         "Council of Higher Secondary Education, Odisha",
         "+2 ARTS",
         "DEG",
         "CHSE, Odisha",
         "Annual",
         "2018",
         "600",
         "478.0",
         "79.67",
         "NO",
         null,
         null,
         null
        ],
        [
         "2",
         null,
         "2018",
         "18D000014",
         "Council of Higher Secondary Education, Odisha",
         "+2 ARTS",
         "DEG",
         "CHSE, Odisha",
         "Annual",
         "2018",
         "600",
         "230.0",
         "38.33",
         "NO",
         null,
         null,
         null
        ],
        [
         "3",
         null,
         "2018",
         "18D000017",
         "Council of Higher Secondary Education, Odisha",
         "+2 SCIENCE",
         "DEG",
         "CHSE, Odisha",
         "Annual",
         "2018",
         "600",
         "333.0",
         "55.50",
         "NO",
         null,
         null,
         null
        ],
        [
         "4",
         null,
         "2018",
         "18D000019",
         "Council of Higher Secondary Education, Odisha",
         "+2 ARTS",
         "DEG",
         "CHSE, Odisha",
         "Annual",
         "2018",
         "600",
         "236.0",
         "39.33",
         "NO",
         null,
         null,
         null
        ]
       ],
       "shape": {
        "columns": 16,
        "rows": 5
       }
      },
      "text/html": [
       "<div>\n",
       "<style scoped>\n",
       "    .dataframe tbody tr th:only-of-type {\n",
       "        vertical-align: middle;\n",
       "    }\n",
       "\n",
       "    .dataframe tbody tr th {\n",
       "        vertical-align: top;\n",
       "    }\n",
       "\n",
       "    .dataframe thead th {\n",
       "        text-align: right;\n",
       "    }\n",
       "</style>\n",
       "<table border=\"1\" class=\"dataframe\">\n",
       "  <thead>\n",
       "    <tr style=\"text-align: right;\">\n",
       "      <th></th>\n",
       "      <th>aadhar_no</th>\n",
       "      <th>academic_year</th>\n",
       "      <th>barcode</th>\n",
       "      <th>board_exam_name_for_highest_qualification</th>\n",
       "      <th>highest_qualification</th>\n",
       "      <th>module</th>\n",
       "      <th>examination_board_of_the_highest_qualification</th>\n",
       "      <th>examination_type</th>\n",
       "      <th>year_of_passing</th>\n",
       "      <th>total_marks</th>\n",
       "      <th>secured_marks</th>\n",
       "      <th>percentage</th>\n",
       "      <th>compartmental_status</th>\n",
       "      <th>comp_subject</th>\n",
       "      <th>comp_fail_mark</th>\n",
       "      <th>comp_pass_mark</th>\n",
       "    </tr>\n",
       "  </thead>\n",
       "  <tbody>\n",
       "    <tr>\n",
       "      <th>0</th>\n",
       "      <td>None</td>\n",
       "      <td>2018</td>\n",
       "      <td>18D000005</td>\n",
       "      <td>Council of Higher Secondary Education, Odisha</td>\n",
       "      <td>+2 SCIENCE</td>\n",
       "      <td>DEG</td>\n",
       "      <td>CHSE, Odisha</td>\n",
       "      <td>Annual</td>\n",
       "      <td>2018</td>\n",
       "      <td>600</td>\n",
       "      <td>419.0</td>\n",
       "      <td>69.83</td>\n",
       "      <td>NO</td>\n",
       "      <td>None</td>\n",
       "      <td>None</td>\n",
       "      <td>None</td>\n",
       "    </tr>\n",
       "    <tr>\n",
       "      <th>1</th>\n",
       "      <td>None</td>\n",
       "      <td>2018</td>\n",
       "      <td>18D000009</td>\n",
       "      <td>Council of Higher Secondary Education, Odisha</td>\n",
       "      <td>+2 ARTS</td>\n",
       "      <td>DEG</td>\n",
       "      <td>CHSE, Odisha</td>\n",
       "      <td>Annual</td>\n",
       "      <td>2018</td>\n",
       "      <td>600</td>\n",
       "      <td>478.0</td>\n",
       "      <td>79.67</td>\n",
       "      <td>NO</td>\n",
       "      <td>None</td>\n",
       "      <td>None</td>\n",
       "      <td>None</td>\n",
       "    </tr>\n",
       "    <tr>\n",
       "      <th>2</th>\n",
       "      <td>None</td>\n",
       "      <td>2018</td>\n",
       "      <td>18D000014</td>\n",
       "      <td>Council of Higher Secondary Education, Odisha</td>\n",
       "      <td>+2 ARTS</td>\n",
       "      <td>DEG</td>\n",
       "      <td>CHSE, Odisha</td>\n",
       "      <td>Annual</td>\n",
       "      <td>2018</td>\n",
       "      <td>600</td>\n",
       "      <td>230.0</td>\n",
       "      <td>38.33</td>\n",
       "      <td>NO</td>\n",
       "      <td>None</td>\n",
       "      <td>None</td>\n",
       "      <td>None</td>\n",
       "    </tr>\n",
       "    <tr>\n",
       "      <th>3</th>\n",
       "      <td>None</td>\n",
       "      <td>2018</td>\n",
       "      <td>18D000017</td>\n",
       "      <td>Council of Higher Secondary Education, Odisha</td>\n",
       "      <td>+2 SCIENCE</td>\n",
       "      <td>DEG</td>\n",
       "      <td>CHSE, Odisha</td>\n",
       "      <td>Annual</td>\n",
       "      <td>2018</td>\n",
       "      <td>600</td>\n",
       "      <td>333.0</td>\n",
       "      <td>55.50</td>\n",
       "      <td>NO</td>\n",
       "      <td>None</td>\n",
       "      <td>None</td>\n",
       "      <td>None</td>\n",
       "    </tr>\n",
       "    <tr>\n",
       "      <th>4</th>\n",
       "      <td>None</td>\n",
       "      <td>2018</td>\n",
       "      <td>18D000019</td>\n",
       "      <td>Council of Higher Secondary Education, Odisha</td>\n",
       "      <td>+2 ARTS</td>\n",
       "      <td>DEG</td>\n",
       "      <td>CHSE, Odisha</td>\n",
       "      <td>Annual</td>\n",
       "      <td>2018</td>\n",
       "      <td>600</td>\n",
       "      <td>236.0</td>\n",
       "      <td>39.33</td>\n",
       "      <td>NO</td>\n",
       "      <td>None</td>\n",
       "      <td>None</td>\n",
       "      <td>None</td>\n",
       "    </tr>\n",
       "  </tbody>\n",
       "</table>\n",
       "</div>"
      ],
      "text/plain": [
       "  aadhar_no  academic_year    barcode  \\\n",
       "0      None           2018  18D000005   \n",
       "1      None           2018  18D000009   \n",
       "2      None           2018  18D000014   \n",
       "3      None           2018  18D000017   \n",
       "4      None           2018  18D000019   \n",
       "\n",
       "       board_exam_name_for_highest_qualification highest_qualification module  \\\n",
       "0  Council of Higher Secondary Education, Odisha            +2 SCIENCE    DEG   \n",
       "1  Council of Higher Secondary Education, Odisha               +2 ARTS    DEG   \n",
       "2  Council of Higher Secondary Education, Odisha               +2 ARTS    DEG   \n",
       "3  Council of Higher Secondary Education, Odisha            +2 SCIENCE    DEG   \n",
       "4  Council of Higher Secondary Education, Odisha               +2 ARTS    DEG   \n",
       "\n",
       "  examination_board_of_the_highest_qualification examination_type  \\\n",
       "0                                   CHSE, Odisha           Annual   \n",
       "1                                   CHSE, Odisha           Annual   \n",
       "2                                   CHSE, Odisha           Annual   \n",
       "3                                   CHSE, Odisha           Annual   \n",
       "4                                   CHSE, Odisha           Annual   \n",
       "\n",
       "  year_of_passing total_marks secured_marks percentage compartmental_status  \\\n",
       "0            2018         600         419.0      69.83                   NO   \n",
       "1            2018         600         478.0      79.67                   NO   \n",
       "2            2018         600         230.0      38.33                   NO   \n",
       "3            2018         600         333.0      55.50                   NO   \n",
       "4            2018         600         236.0      39.33                   NO   \n",
       "\n",
       "  comp_subject comp_fail_mark comp_pass_mark  \n",
       "0         None           None           None  \n",
       "1         None           None           None  \n",
       "2         None           None           None  \n",
       "3         None           None           None  \n",
       "4         None           None           None  "
      ]
     },
     "execution_count": 18,
     "metadata": {},
     "output_type": "execute_result"
    }
   ],
   "source": [
    "deg_marks.head()"
   ]
  },
  {
   "cell_type": "code",
   "execution_count": null,
   "id": "e321f44d",
   "metadata": {},
   "outputs": [
    {
     "data": {
      "application/vnd.microsoft.datawrangler.viewer.v0+json": {
       "columns": [
        {
         "name": "index",
         "rawType": "int64",
         "type": "integer"
        },
        {
         "name": "aadhar_no",
         "rawType": "object",
         "type": "unknown"
        },
        {
         "name": "academic_year",
         "rawType": "int64",
         "type": "integer"
        },
        {
         "name": "barcode",
         "rawType": "object",
         "type": "string"
        },
        {
         "name": "board_exam_name_for_highest_qualification",
         "rawType": "object",
         "type": "string"
        },
        {
         "name": "highest_qualification",
         "rawType": "object",
         "type": "string"
        },
        {
         "name": "module",
         "rawType": "object",
         "type": "string"
        },
        {
         "name": "examination_board_of_the_highest_qualification",
         "rawType": "object",
         "type": "string"
        },
        {
         "name": "examination_type",
         "rawType": "object",
         "type": "string"
        },
        {
         "name": "year_of_passing",
         "rawType": "object",
         "type": "string"
        },
        {
         "name": "total_marks",
         "rawType": "object",
         "type": "string"
        },
        {
         "name": "secured_marks",
         "rawType": "object",
         "type": "string"
        },
        {
         "name": "percentage",
         "rawType": "object",
         "type": "string"
        },
        {
         "name": "compartmental_status",
         "rawType": "object",
         "type": "string"
        },
        {
         "name": "comp_subject",
         "rawType": "object",
         "type": "unknown"
        },
        {
         "name": "comp_fail_mark",
         "rawType": "object",
         "type": "unknown"
        },
        {
         "name": "comp_pass_mark",
         "rawType": "object",
         "type": "unknown"
        }
       ],
       "ref": "39186542-35d6-490c-801f-2d3156457aeb",
       "rows": [
        [
         "0",
         null,
         "2018",
         "18D000005",
         "Council of Higher Secondary Education, Odisha",
         "+2 SCIENCE",
         "DEG",
         "CHSE, Odisha",
         "Annual",
         "2018",
         "600",
         "419.0",
         "69.83",
         "NO",
         null,
         null,
         null
        ],
        [
         "1",
         null,
         "2018",
         "18D000009",
         "Council of Higher Secondary Education, Odisha",
         "+2 ARTS",
         "DEG",
         "CHSE, Odisha",
         "Annual",
         "2018",
         "600",
         "478.0",
         "79.67",
         "NO",
         null,
         null,
         null
        ],
        [
         "2",
         null,
         "2018",
         "18D000014",
         "Council of Higher Secondary Education, Odisha",
         "+2 ARTS",
         "DEG",
         "CHSE, Odisha",
         "Annual",
         "2018",
         "600",
         "230.0",
         "38.33",
         "NO",
         null,
         null,
         null
        ],
        [
         "3",
         null,
         "2018",
         "18D000017",
         "Council of Higher Secondary Education, Odisha",
         "+2 SCIENCE",
         "DEG",
         "CHSE, Odisha",
         "Annual",
         "2018",
         "600",
         "333.0",
         "55.50",
         "NO",
         null,
         null,
         null
        ],
        [
         "4",
         null,
         "2018",
         "18D000019",
         "Council of Higher Secondary Education, Odisha",
         "+2 ARTS",
         "DEG",
         "CHSE, Odisha",
         "Annual",
         "2018",
         "600",
         "236.0",
         "39.33",
         "NO",
         null,
         null,
         null
        ]
       ],
       "shape": {
        "columns": 16,
        "rows": 5
       }
      },
      "text/html": [
       "<div>\n",
       "<style scoped>\n",
       "    .dataframe tbody tr th:only-of-type {\n",
       "        vertical-align: middle;\n",
       "    }\n",
       "\n",
       "    .dataframe tbody tr th {\n",
       "        vertical-align: top;\n",
       "    }\n",
       "\n",
       "    .dataframe thead th {\n",
       "        text-align: right;\n",
       "    }\n",
       "</style>\n",
       "<table border=\"1\" class=\"dataframe\">\n",
       "  <thead>\n",
       "    <tr style=\"text-align: right;\">\n",
       "      <th></th>\n",
       "      <th>aadhar_no</th>\n",
       "      <th>academic_year</th>\n",
       "      <th>barcode</th>\n",
       "      <th>board_exam_name_for_highest_qualification</th>\n",
       "      <th>highest_qualification</th>\n",
       "      <th>module</th>\n",
       "      <th>examination_board_of_the_highest_qualification</th>\n",
       "      <th>examination_type</th>\n",
       "      <th>year_of_passing</th>\n",
       "      <th>total_marks</th>\n",
       "      <th>secured_marks</th>\n",
       "      <th>percentage</th>\n",
       "      <th>compartmental_status</th>\n",
       "      <th>comp_subject</th>\n",
       "      <th>comp_fail_mark</th>\n",
       "      <th>comp_pass_mark</th>\n",
       "    </tr>\n",
       "  </thead>\n",
       "  <tbody>\n",
       "    <tr>\n",
       "      <th>0</th>\n",
       "      <td>None</td>\n",
       "      <td>2018</td>\n",
       "      <td>18D000005</td>\n",
       "      <td>Council of Higher Secondary Education, Odisha</td>\n",
       "      <td>+2 SCIENCE</td>\n",
       "      <td>DEG</td>\n",
       "      <td>CHSE, Odisha</td>\n",
       "      <td>Annual</td>\n",
       "      <td>2018</td>\n",
       "      <td>600</td>\n",
       "      <td>419.0</td>\n",
       "      <td>69.83</td>\n",
       "      <td>NO</td>\n",
       "      <td>None</td>\n",
       "      <td>None</td>\n",
       "      <td>None</td>\n",
       "    </tr>\n",
       "    <tr>\n",
       "      <th>1</th>\n",
       "      <td>None</td>\n",
       "      <td>2018</td>\n",
       "      <td>18D000009</td>\n",
       "      <td>Council of Higher Secondary Education, Odisha</td>\n",
       "      <td>+2 ARTS</td>\n",
       "      <td>DEG</td>\n",
       "      <td>CHSE, Odisha</td>\n",
       "      <td>Annual</td>\n",
       "      <td>2018</td>\n",
       "      <td>600</td>\n",
       "      <td>478.0</td>\n",
       "      <td>79.67</td>\n",
       "      <td>NO</td>\n",
       "      <td>None</td>\n",
       "      <td>None</td>\n",
       "      <td>None</td>\n",
       "    </tr>\n",
       "    <tr>\n",
       "      <th>2</th>\n",
       "      <td>None</td>\n",
       "      <td>2018</td>\n",
       "      <td>18D000014</td>\n",
       "      <td>Council of Higher Secondary Education, Odisha</td>\n",
       "      <td>+2 ARTS</td>\n",
       "      <td>DEG</td>\n",
       "      <td>CHSE, Odisha</td>\n",
       "      <td>Annual</td>\n",
       "      <td>2018</td>\n",
       "      <td>600</td>\n",
       "      <td>230.0</td>\n",
       "      <td>38.33</td>\n",
       "      <td>NO</td>\n",
       "      <td>None</td>\n",
       "      <td>None</td>\n",
       "      <td>None</td>\n",
       "    </tr>\n",
       "    <tr>\n",
       "      <th>3</th>\n",
       "      <td>None</td>\n",
       "      <td>2018</td>\n",
       "      <td>18D000017</td>\n",
       "      <td>Council of Higher Secondary Education, Odisha</td>\n",
       "      <td>+2 SCIENCE</td>\n",
       "      <td>DEG</td>\n",
       "      <td>CHSE, Odisha</td>\n",
       "      <td>Annual</td>\n",
       "      <td>2018</td>\n",
       "      <td>600</td>\n",
       "      <td>333.0</td>\n",
       "      <td>55.50</td>\n",
       "      <td>NO</td>\n",
       "      <td>None</td>\n",
       "      <td>None</td>\n",
       "      <td>None</td>\n",
       "    </tr>\n",
       "    <tr>\n",
       "      <th>4</th>\n",
       "      <td>None</td>\n",
       "      <td>2018</td>\n",
       "      <td>18D000019</td>\n",
       "      <td>Council of Higher Secondary Education, Odisha</td>\n",
       "      <td>+2 ARTS</td>\n",
       "      <td>DEG</td>\n",
       "      <td>CHSE, Odisha</td>\n",
       "      <td>Annual</td>\n",
       "      <td>2018</td>\n",
       "      <td>600</td>\n",
       "      <td>236.0</td>\n",
       "      <td>39.33</td>\n",
       "      <td>NO</td>\n",
       "      <td>None</td>\n",
       "      <td>None</td>\n",
       "      <td>None</td>\n",
       "    </tr>\n",
       "  </tbody>\n",
       "</table>\n",
       "</div>"
      ],
      "text/plain": [
       "  aadhar_no  academic_year    barcode  \\\n",
       "0      None           2018  18D000005   \n",
       "1      None           2018  18D000009   \n",
       "2      None           2018  18D000014   \n",
       "3      None           2018  18D000017   \n",
       "4      None           2018  18D000019   \n",
       "\n",
       "       board_exam_name_for_highest_qualification highest_qualification module  \\\n",
       "0  Council of Higher Secondary Education, Odisha            +2 SCIENCE    DEG   \n",
       "1  Council of Higher Secondary Education, Odisha               +2 ARTS    DEG   \n",
       "2  Council of Higher Secondary Education, Odisha               +2 ARTS    DEG   \n",
       "3  Council of Higher Secondary Education, Odisha            +2 SCIENCE    DEG   \n",
       "4  Council of Higher Secondary Education, Odisha               +2 ARTS    DEG   \n",
       "\n",
       "  examination_board_of_the_highest_qualification examination_type  \\\n",
       "0                                   CHSE, Odisha           Annual   \n",
       "1                                   CHSE, Odisha           Annual   \n",
       "2                                   CHSE, Odisha           Annual   \n",
       "3                                   CHSE, Odisha           Annual   \n",
       "4                                   CHSE, Odisha           Annual   \n",
       "\n",
       "  year_of_passing total_marks secured_marks percentage compartmental_status  \\\n",
       "0            2018         600         419.0      69.83                   NO   \n",
       "1            2018         600         478.0      79.67                   NO   \n",
       "2            2018         600         230.0      38.33                   NO   \n",
       "3            2018         600         333.0      55.50                   NO   \n",
       "4            2018         600         236.0      39.33                   NO   \n",
       "\n",
       "  comp_subject comp_fail_mark comp_pass_mark  \n",
       "0         None           None           None  \n",
       "1         None           None           None  \n",
       "2         None           None           None  \n",
       "3         None           None           None  \n",
       "4         None           None           None  "
      ]
     },
     "execution_count": 15,
     "metadata": {},
     "output_type": "execute_result"
    }
   ],
   "source": [
    "deg_marks.head()"
   ]
  },
  {
   "cell_type": "code",
   "execution_count": 7,
   "id": "e8dece8a",
   "metadata": {},
   "outputs": [
    {
     "data": {
      "text/plain": [
       "(2064490, 16)"
      ]
     },
     "execution_count": 7,
     "metadata": {},
     "output_type": "execute_result"
    }
   ],
   "source": [
    "deg_marks.shape"
   ]
  },
  {
   "cell_type": "code",
   "execution_count": null,
   "id": "0e996974",
   "metadata": {},
   "outputs": [],
   "source": [
    "deg_enrollments.head()"
   ]
  },
  {
   "cell_type": "code",
   "execution_count": 31,
   "id": "b318faae",
   "metadata": {},
   "outputs": [
    {
     "name": "stdout",
     "output_type": "stream",
     "text": [
      "Year: 2018, Count: 312823\n",
      "Year: 2019, Count: 254342\n",
      "Year: 2020, Count: 242661\n",
      "Year: 2021, Count: 264152\n",
      "Year: 2022, Count: 379911\n",
      "Year: 2023, Count: 289849\n",
      "Year: 2024, Count: 310753\n"
     ]
    }
   ],
   "source": [
    "conn = sqlite3.connect(db_path)\n",
    "cursor = conn.cursor()\n",
    "\n",
    "query = \"\"\"\n",
    "SELECT \n",
    "    module,\n",
    "    academic_year,\n",
    "    COUNT(*) AS count_students\n",
    "FROM students\n",
    "WHERE module = \"DEG\"\n",
    "GROUP BY academic_year\n",
    "\"\"\"\n",
    "\n",
    "cursor.execute(query)\n",
    "rows = cursor.fetchall()\n",
    "\n",
    "for row in rows:\n",
    "    print(f\"Year: {row[1]}, Count: {row[2]}\")\n",
    "\n",
    "cursor.close()\n",
    "conn.close()"
   ]
  },
  {
   "cell_type": "code",
   "execution_count": 7,
   "id": "b2d893bc",
   "metadata": {},
   "outputs": [
    {
     "name": "stdout",
     "output_type": "stream",
     "text": [
      "\u001b[32m2025-09-15 10:31:28.501\u001b[0m | \u001b[1mINFO    \u001b[0m | \u001b[36msams.utils\u001b[0m:\u001b[36mload_data\u001b[0m:\u001b[36m70\u001b[0m - \u001b[1mLoading data from C:\\Users\\Admin\\Documents\\GitHub\\sams\\data\\interim\\deg_applications.pq\u001b[0m\n"
     ]
    }
   ],
   "source": [
    "deg_applications = load_data(datasets[\"deg_applications\"])"
   ]
  },
  {
   "cell_type": "code",
   "execution_count": 8,
   "id": "2f4ec403",
   "metadata": {},
   "outputs": [
    {
     "data": {
      "text/plain": [
       "Index(['barcode', 'aadhar_no', 'academic_year', 'year', 'phase',\n",
       "       'reported_institute', 'sams_code', 'institute_district',\n",
       "       'institute_block', 'type_of_institute', 'stream', 'subject',\n",
       "       'option_no', 'admission_status', 'num_applications'],\n",
       "      dtype='object')"
      ]
     },
     "execution_count": 8,
     "metadata": {},
     "output_type": "execute_result"
    }
   ],
   "source": [
    "deg_applications.columns"
   ]
  },
  {
   "cell_type": "code",
   "execution_count": null,
   "id": "a363b4e5",
   "metadata": {},
   "outputs": [
    {
     "name": "stdout",
     "output_type": "stream",
     "text": [
      "   Academic Year  Number of Students   Mean  Std Dev  25th  Median  75th\n",
      "0           2018              202946   7.28     4.24   5.0     5.0   9.0\n",
      "1           2019              198918   7.98     4.25   5.0     6.0  10.0\n",
      "2           2020              190598   7.98     4.27   5.0     6.0  10.0\n",
      "3           2021              249005  11.34     7.12   5.0    10.0  15.0\n",
      "4           2022              255005  10.72     5.38   5.0    10.0  14.0\n",
      "5           2023              234901  10.63     7.34   5.0     8.0  14.0\n",
      "6           2024              260542  10.10     7.68   5.0     7.0  12.0\n"
     ]
    }
   ],
   "source": [
    "deg_applications = deg_applications.dropna(subset=['aadhar_no', 'num_applications', 'academic_year'])\n",
    "\n",
    "deg_applications['num_applications'] = pd.to_numeric(deg_applications['num_applications'], errors='coerce')\n",
    "\n",
    "# Group and aggregate\n",
    "summary = (\n",
    "    deg_applications.groupby('academic_year')\n",
    "    .agg(\n",
    "        Number_of_Students=('aadhar_no', pd.Series.nunique),\n",
    "        Mean=('num_applications', 'mean'),\n",
    "        Std_Dev=('num_applications', 'std'),\n",
    "        P25=('num_applications', lambda x: x.quantile(0.25)),\n",
    "        Median=('num_applications', 'median'),\n",
    "        P75=('num_applications', lambda x: x.quantile(0.75)),\n",
    "    )\n",
    "    .reset_index()\n",
    "    .rename(columns={\n",
    "        'academic_year': 'Academic Year',\n",
    "        'Number_of_Students': 'Number of Students',\n",
    "        'Std_Dev': 'Std Dev',\n",
    "        'P25': '25th',\n",
    "        'P75': '75th'\n",
    "    })\n",
    ")\n",
    "\n",
    "summary = summary.round(2)\n",
    "print(summary)"
   ]
  },
  {
   "cell_type": "code",
   "execution_count": null,
   "id": "8863ad82",
   "metadata": {},
   "outputs": [],
   "source": []
  },
  {
   "cell_type": "code",
   "execution_count": null,
   "id": "2868a1e8",
   "metadata": {},
   "outputs": [],
   "source": []
  },
  {
   "cell_type": "code",
   "execution_count": null,
   "id": "51d0c80e",
   "metadata": {},
   "outputs": [],
   "source": []
  },
  {
   "cell_type": "code",
   "execution_count": null,
   "id": "9c511cb0",
   "metadata": {},
   "outputs": [],
   "source": []
  },
  {
   "cell_type": "code",
   "execution_count": null,
   "id": "93bcddd5",
   "metadata": {},
   "outputs": [],
   "source": []
  },
  {
   "cell_type": "code",
   "execution_count": null,
   "id": "a4b51b0c",
   "metadata": {},
   "outputs": [],
   "source": []
  },
  {
   "cell_type": "code",
   "execution_count": null,
   "id": "4437fc9e",
   "metadata": {},
   "outputs": [],
   "source": []
  },
  {
   "cell_type": "code",
   "execution_count": null,
   "id": "ab5db5b2",
   "metadata": {},
   "outputs": [],
   "source": []
  },
  {
   "cell_type": "code",
   "execution_count": null,
   "id": "4448ad7a",
   "metadata": {},
   "outputs": [],
   "source": []
  },
  {
   "cell_type": "code",
   "execution_count": null,
   "id": "261fb2d5",
   "metadata": {},
   "outputs": [],
   "source": []
  }
 ],
 "metadata": {
  "kernelspec": {
   "display_name": "skills",
   "language": "python",
   "name": "python3"
  },
  "language_info": {
   "codemirror_mode": {
    "name": "ipython",
    "version": 3
   },
   "file_extension": ".py",
   "mimetype": "text/x-python",
   "name": "python",
   "nbconvert_exporter": "python",
   "pygments_lexer": "ipython3",
   "version": "3.10.17"
  }
 },
 "nbformat": 4,
 "nbformat_minor": 5
}
