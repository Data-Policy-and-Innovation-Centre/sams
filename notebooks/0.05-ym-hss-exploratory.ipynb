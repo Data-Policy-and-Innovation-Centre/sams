{
 "cells": [
  {
   "cell_type": "code",
   "execution_count": 1,
   "id": "9f54a776",
   "metadata": {},
   "outputs": [
    {
     "name": "stderr",
     "output_type": "stream",
     "text": [
      "\u001b[32m2025-09-04 15:37:25.878\u001b[0m | \u001b[1mINFO    \u001b[0m | \u001b[36msams.config\u001b[0m:\u001b[36m<module>\u001b[0m:\u001b[36m15\u001b[0m - \u001b[1mPROJ_ROOT path is: /Users/ymohanty/Documents/GitHub/sams\u001b[0m\n",
      "\u001b[32m2025-09-04 15:37:25.896\u001b[0m | \u001b[33m\u001b[1mWARNING \u001b[0m | \u001b[36msams.config\u001b[0m:\u001b[36m<module>\u001b[0m:\u001b[36m83\u001b[0m - \u001b[33m\u001b[1mGoogle MAPS API key not found, using Nominatim geocoder\u001b[0m\n",
      "\u001b[32m2025-09-04 15:37:25.910\u001b[0m | \u001b[1mINFO    \u001b[0m | \u001b[36msams.config\u001b[0m:\u001b[36m<module>\u001b[0m:\u001b[36m92\u001b[0m - \u001b[1mLoaded 61900 geocodes from cache\u001b[0m\n"
     ]
    }
   ],
   "source": [
    "from sams.config import INTERIM_DATA_DIR, RAW_DATA_DIR\n",
    "import polars as pl\n",
    "import pandas as pd\n",
    "import sqlite3 as sqlite"
   ]
  },
  {
   "cell_type": "code",
   "execution_count": null,
   "id": "d9a16c06",
   "metadata": {},
   "outputs": [
    {
     "name": "stderr",
     "output_type": "stream",
     "text": [
      "Exception ignored in: <bound method IPythonKernel._clean_thread_parent_frames of <ipykernel.ipkernel.IPythonKernel object at 0x106455030>>\n",
      "Traceback (most recent call last):\n",
      "  File \"/opt/anaconda3/envs/skills/lib/python3.10/site-packages/ipykernel/ipkernel.py\", line 781, in _clean_thread_parent_frames\n",
      "    def _clean_thread_parent_frames(\n",
      "KeyboardInterrupt: \n"
     ]
    }
   ],
   "source": [
    "conn = sqlite.connect(RAW_DATA_DIR / \"sams.db\")\n",
    "query_hss = \"SELECT * FROM students WHERE module = 'HSS'\"\n",
    "data_hss = pd.read_sql_query(query_hss, conn)\n"
   ]
  },
  {
   "cell_type": "code",
   "execution_count": null,
   "id": "89969321",
   "metadata": {},
   "outputs": [],
   "source": [
    "query_iti = \"SELECT * FROM students WHERE module = 'ITI'\""
   ]
  },
  {
   "cell_type": "code",
   "execution_count": null,
   "id": "68971571",
   "metadata": {},
   "outputs": [
    {
     "data": {
      "text/plain": [
       "dtype('O')"
      ]
     },
     "execution_count": 19,
     "metadata": {},
     "output_type": "execute_result"
    }
   ],
   "source": []
  },
  {
   "cell_type": "code",
   "execution_count": 3,
   "id": "0907af9f",
   "metadata": {},
   "outputs": [],
   "source": [
    "# Load HSS data\n",
    "hss_enrollments = pl.read_parquet(INTERIM_DATA_DIR / \"hss_enrollments.pq\")\n",
    "hss_applications = pl.read_parquet(INTERIM_DATA_DIR / \"hss_applications.pq\")\n",
    "hss_marks = pl.read_parquet(INTERIM_DATA_DIR / \"hss_marks.pq\")\n",
    "\n",
    "\n"
   ]
  },
  {
   "cell_type": "code",
   "execution_count": 1,
   "id": "3a5a8c78",
   "metadata": {},
   "outputs": [
    {
     "ename": "NameError",
     "evalue": "name 'hss_enrollments' is not defined",
     "output_type": "error",
     "traceback": [
      "\u001b[0;31m---------------------------------------------------------------------------\u001b[0m",
      "\u001b[0;31mNameError\u001b[0m                                 Traceback (most recent call last)",
      "Cell \u001b[0;32mIn[1], line 1\u001b[0m\n\u001b[0;32m----> 1\u001b[0m \u001b[43mhss_enrollments\u001b[49m\u001b[38;5;241m.\u001b[39mcolumns\n",
      "\u001b[0;31mNameError\u001b[0m: name 'hss_enrollments' is not defined"
     ]
    }
   ],
   "source": [
    "hss_enrollments.columns"
   ]
  },
  {
   "cell_type": "code",
   "execution_count": null,
   "id": "c2f8559d",
   "metadata": {},
   "outputs": [
    {
     "data": {
      "text/plain": [
       "['aadhar_no',\n",
       " 'barcode',\n",
       " 'academic_year',\n",
       " 'compartmental_status',\n",
       " 'subject',\n",
       " 'failed_mark',\n",
       " 'pass_mark']"
      ]
     },
     "execution_count": 9,
     "metadata": {},
     "output_type": "execute_result"
    }
   ],
   "source": [
    "hss_marks"
   ]
  },
  {
   "cell_type": "code",
   "execution_count": 30,
   "id": "17db342f",
   "metadata": {},
   "outputs": [
    {
     "data": {
      "text/html": [
       "<div><style>\n",
       ".dataframe > thead > tr,\n",
       ".dataframe > tbody > tr {\n",
       "  text-align: right;\n",
       "  white-space: pre-wrap;\n",
       "}\n",
       "</style>\n",
       "<small>shape: (41, 2)</small><table border=\"1\" class=\"dataframe\"><thead><tr><th>stream</th><th>count</th></tr><tr><td>str</td><td>u32</td></tr></thead><tbody><tr><td>&quot;Arts&quot;</td><td>12495427</td></tr><tr><td>&quot;Science&quot;</td><td>4351357</td></tr><tr><td>&quot;Commerce&quot;</td><td>996621</td></tr><tr><td>&quot;Upashastri&quot;</td><td>255736</td></tr><tr><td>&quot;CT&quot;</td><td>30215</td></tr><tr><td>&hellip;</td><td>&hellip;</td></tr><tr><td>&quot;Dress Making&quot;</td><td>18</td></tr><tr><td>&quot;Plumbing (plumber general -II)&quot;</td><td>8</td></tr><tr><td>&quot;Solar Panel Installation Techn…</td><td>8</td></tr><tr><td>&quot;Smartphone Technician cum App …</td><td>4</td></tr><tr><td>&quot;Solar Technician (Electrical)&quot;</td><td>2</td></tr></tbody></table></div>"
      ],
      "text/plain": [
       "shape: (41, 2)\n",
       "┌─────────────────────────────────┬──────────┐\n",
       "│ stream                          ┆ count    │\n",
       "│ ---                             ┆ ---      │\n",
       "│ str                             ┆ u32      │\n",
       "╞═════════════════════════════════╪══════════╡\n",
       "│ Arts                            ┆ 12495427 │\n",
       "│ Science                         ┆ 4351357  │\n",
       "│ Commerce                        ┆ 996621   │\n",
       "│ Upashastri                      ┆ 255736   │\n",
       "│ CT                              ┆ 30215    │\n",
       "│ …                               ┆ …        │\n",
       "│ Dress Making                    ┆ 18       │\n",
       "│ Plumbing (plumber general -II)  ┆ 8        │\n",
       "│ Solar Panel Installation Techn… ┆ 8        │\n",
       "│ Smartphone Technician cum App … ┆ 4        │\n",
       "│ Solar Technician (Electrical)   ┆ 2        │\n",
       "└─────────────────────────────────┴──────────┘"
      ]
     },
     "execution_count": 30,
     "metadata": {},
     "output_type": "execute_result"
    }
   ],
   "source": [
    "hss_applications[\"stream\"].value_counts().sort([\"count\"],descending=True)"
   ]
  },
  {
   "cell_type": "markdown",
   "id": "90746a91",
   "metadata": {},
   "source": [
    "- Check base class 10 numbers\n",
    "- Ask for 10th data fom SME (Durga Prasad)\n",
    "- Check +2 numbers with SAMS dashboard\n",
    "- Dropouts, trades, streams\n",
    "- applications vs admissions\n",
    "- trades by applications and seats (geography vs type of institutes)\n",
    "- compare to vacancies by trade\n",
    "- gender [potential blog]\n",
    "- caste \n",
    "- Trades vs institutes (ratios of the two)\n",
    "- does skilling in odisha in line with industrial policy\n",
    "- new govt / difference in choices\n",
    "- talking to Tata and other big employers on hiring from ITI and Polytechnics\n",
    "- Do people with higher marks choose +2 over vocational? Does this change over time?\n",
    "- Choice of public vs private (+2, +3, for particular streams, by geography) [potential blog]\n",
    "- Schooling choice literature review\n",
    "-  background of students applying / highest qualification / marks\n",
    "\n",
    "# TODO\n",
    "- characterizing demand by public vs private / trade / gender\n",
    "- distribution of marks\n",
    "- key \n",
    "\n",
    "\n",
    "\n"
   ]
  }
 ],
 "metadata": {
  "kernelspec": {
   "display_name": "skills",
   "language": "python",
   "name": "python3"
  },
  "language_info": {
   "codemirror_mode": {
    "name": "ipython",
    "version": 3
   },
   "file_extension": ".py",
   "mimetype": "text/x-python",
   "name": "python",
   "nbconvert_exporter": "python",
   "pygments_lexer": "ipython3",
   "version": "3.10.18"
  }
 },
 "nbformat": 4,
 "nbformat_minor": 5
}
