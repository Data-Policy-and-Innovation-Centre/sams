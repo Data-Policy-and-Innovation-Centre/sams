{
 "cells": [
  {
   "cell_type": "code",
   "execution_count": 1,
   "id": "bf561847",
   "metadata": {},
   "outputs": [
    {
     "name": "stderr",
     "output_type": "stream",
     "text": [
      "\u001b[32m2025-09-08 18:07:50.297\u001b[0m | \u001b[1mINFO    \u001b[0m | \u001b[36msams.config\u001b[0m:\u001b[36m<module>\u001b[0m:\u001b[36m15\u001b[0m - \u001b[1mPROJ_ROOT path is: C:\\Users\\Admin\\Documents\\GitHub\\sams\u001b[0m\n",
      "\u001b[32m2025-09-08 18:07:50.359\u001b[0m | \u001b[33m\u001b[1mWARNING \u001b[0m | \u001b[36msams.config\u001b[0m:\u001b[36m<module>\u001b[0m:\u001b[36m83\u001b[0m - \u001b[33m\u001b[1mGoogle MAPS API key not found, using Nominatim geocoder\u001b[0m\n",
      "\u001b[32m2025-09-08 18:07:50.361\u001b[0m | \u001b[1mINFO    \u001b[0m | \u001b[36msams.config\u001b[0m:\u001b[36m<module>\u001b[0m:\u001b[36m92\u001b[0m - \u001b[1mLoaded 0 geocodes from cache\u001b[0m\n"
     ]
    }
   ],
   "source": [
    "\n",
    "# Standard libraries\n",
    "import os\n",
    "import json\n",
    "import sqlite3\n",
    "from pathlib import Path\n",
    "\n",
    "# Data handling\n",
    "import pandas as pd\n",
    "import numpy as np\n",
    "\n",
    "# Visualization\n",
    "import matplotlib.pyplot as plt\n",
    "import seaborn as sns\n",
    "import plotly.graph_objects as go\n",
    "\n",
    "from sams.config import datasets\n",
    "from sams.utils import load_data"
   ]
  },
  {
   "cell_type": "code",
   "execution_count": 2,
   "id": "46800542",
   "metadata": {},
   "outputs": [
    {
     "name": "stdout",
     "output_type": "stream",
     "text": [
      "\n",
      "Variable of the table: students\n",
      "id (INTEGER)\n",
      "barcode (VARCHAR)\n",
      "student_name (VARCHAR)\n",
      "gender (VARCHAR)\n",
      "religion_name (VARCHAR)\n",
      "dob (VARCHAR)\n",
      "nationality (VARCHAR)\n",
      "annual_income (VARCHAR)\n",
      "address (VARCHAR)\n",
      "state (VARCHAR)\n",
      "district (VARCHAR)\n",
      "block (VARCHAR)\n",
      "pin_code (VARCHAR)\n",
      "social_category (VARCHAR)\n",
      "domicile (VARCHAR)\n",
      "s_domicile_category (VARCHAR)\n",
      "outside_odisha_applicant_state_name (VARCHAR)\n",
      "odia_applicant_living_outside_odisha_state_name (VARCHAR)\n",
      "residence_barcode_number (VARCHAR)\n",
      "tenth_exam_school_address (VARCHAR)\n",
      "eighth_exam_school_address (VARCHAR)\n",
      "highest_qualification_exam_board (VARCHAR)\n",
      "board_exam_name_for_highest_qualification (VARCHAR)\n",
      "highest_qualification (VARCHAR)\n",
      "had_two_year_full_time_work_exp_after_tenth (VARCHAR)\n",
      "gc (VARCHAR)\n",
      "ph (VARCHAR)\n",
      "es (VARCHAR)\n",
      "sports (VARCHAR)\n",
      "national_cadet_corps (VARCHAR)\n",
      "pm_care (VARCHAR)\n",
      "orphan (VARCHAR)\n",
      "income_barcode (VARCHAR)\n",
      "tfw (VARCHAR)\n",
      "ews (VARCHAR)\n",
      "boc (VARCHAR)\n",
      "boc_regd_no (VARCHAR)\n",
      "course_name (VARCHAR)\n",
      "course_period (VARCHAR)\n",
      "beauty_culture_type (VARCHAR)\n",
      "sams_code (VARCHAR)\n",
      "reported_institute (VARCHAR)\n",
      "reported_branch_or_trade (VARCHAR)\n",
      "institute_district (VARCHAR)\n",
      "type_of_institute (VARCHAR)\n",
      "phase (VARCHAR)\n",
      "year (INTEGER)\n",
      "admission_status (VARCHAR)\n",
      "enrollment_status (VARCHAR)\n",
      "applied_status (VARCHAR)\n",
      "date_of_application (VARCHAR)\n",
      "application_status (VARCHAR)\n",
      "aadhar_no (VARCHAR)\n",
      "registration_number (VARCHAR)\n",
      "mark_data (JSON)\n",
      "module (VARCHAR(7))\n",
      "academic_year (INTEGER)\n",
      "contact_no (VARCHAR)\n",
      "option_data (JSON)\n",
      "examination_board_of_the_highest_qualification (VARCHAR)\n",
      "examination_type (VARCHAR)\n",
      "year_of_passing (VARCHAR)\n",
      "roll_no (VARCHAR)\n",
      "total_marks (VARCHAR)\n",
      "secured_marks (VARCHAR)\n",
      "percentage (VARCHAR)\n",
      "compartmental_status (VARCHAR)\n",
      "hss_option_details (JSON)\n",
      "hss_compartments (JSON)\n",
      "deg_option_details (JSON)\n",
      "deg_compartments (JSON)\n"
     ]
    }
   ],
   "source": [
    "db_path = datasets[\"sams\"][\"path\"]\n",
    "conn = sqlite3.connect(db_path)\n",
    "cursor = conn.cursor()\n",
    "\n",
    "# Function to show column names of a table\n",
    "def describe_table(table_name):\n",
    "    try:\n",
    "        print(f\"\\nVariable of the table: {table_name}\")\n",
    "        cursor.execute(f\"PRAGMA table_info({table_name});\")\n",
    "        columns = cursor.fetchall()\n",
    "        for col in columns:\n",
    "            print(f\"{col[1]} ({col[2]})\")\n",
    "    except sqlite3.Error as e:\n",
    "        print(f\"Error describing table {table_name}: {e}\")\n",
    "\n",
    "\n",
    "# Describe both tables\n",
    "describe_table(\"students\")\n",
    "\n",
    "conn.close()"
   ]
  },
  {
   "cell_type": "code",
   "execution_count": 257,
   "id": "458f413e",
   "metadata": {},
   "outputs": [
    {
     "data": {
      "application/vnd.microsoft.datawrangler.viewer.v0+json": {
       "columns": [
        {
         "name": "index",
         "rawType": "int64",
         "type": "integer"
        },
        {
         "name": "id",
         "rawType": "int64",
         "type": "integer"
        },
        {
         "name": "academic_year",
         "rawType": "int64",
         "type": "integer"
        },
        {
         "name": "barcode",
         "rawType": "object",
         "type": "string"
        },
        {
         "name": "aadhar_no",
         "rawType": "object",
         "type": "string"
        },
        {
         "name": "dob",
         "rawType": "object",
         "type": "string"
        },
        {
         "name": "highest_qualification",
         "rawType": "object",
         "type": "string"
        },
        {
         "name": "ExamName",
         "rawType": "object",
         "type": "string"
        },
        {
         "name": "YearofPassing",
         "rawType": "object",
         "type": "string"
        },
        {
         "name": "RollNo",
         "rawType": "object",
         "type": "string"
        },
        {
         "name": "ExaminationType",
         "rawType": "object",
         "type": "string"
        },
        {
         "name": "TotalMarks",
         "rawType": "object",
         "type": "string"
        },
        {
         "name": "SecuredMarks",
         "rawType": "object",
         "type": "string"
        },
        {
         "name": "Percentage",
         "rawType": "object",
         "type": "string"
        },
        {
         "name": "CompartmentalStatus",
         "rawType": "object",
         "type": "string"
        },
        {
         "name": "CompartmentalFailMark",
         "rawType": "object",
         "type": "string"
        },
        {
         "name": "SubjectWiseMarks",
         "rawType": "object",
         "type": "string"
        },
        {
         "name": "HighestQualificationBoardExamName",
         "rawType": "object",
         "type": "string"
        },
        {
         "name": "HighestQualificationExamBoard",
         "rawType": "object",
         "type": "string"
        }
       ],
       "ref": "ae1e9011-be8d-4606-9bd3-f836fb5a055e",
       "rows": [
        [
         "0",
         "7404718",
         "2017",
         "17T0181047",
         "DeGxV1bCBqOBygfLzt3u268Es6xBaRZq3tf+eEp6WDw=",
         "01-Jan-2002",
         "10TH",
         "10th Pass",
         "2017",
         "PoLOLFcCUYZ/iR42DWBy2A==",
         "Annual",
         "600",
         "291.00",
         "NA",
         "No",
         "NA",
         "Mark SL :50,Mark Math :47,Mark Science :30,Mark Social Studies :39",
         "NA",
         "Board of Secondary Education, Odisha, Cuttack-753001"
        ],
        [
         "1",
         "7404719",
         "2017",
         "17T0114510",
         "6/Vau/OfdeJ6NAV7iD6bmnbzGEexPB8LP/JcN1eroCs=",
         "20-Apr-2000",
         "10TH",
         "10th Pass",
         "2015",
         "Gb1fbGJ4hl2z+FvcTECm4A==",
         "Annual",
         "600",
         "390.00",
         "NA",
         "No",
         "NA",
         "Mark SL :49,Mark Math :91,Mark Science :54,Mark Social Studies :66",
         "NA",
         "Board of Secondary Education, Odisha, Cuttack-753001"
        ],
        [
         "2",
         "7404720",
         "2017",
         "17T0346747",
         "EPFmTPfdOGPrc/oLdkNxJ+t1ocsxYmM+j+/2AL7aEBQ=",
         "07-Oct-2001",
         "10TH",
         "10th Pass",
         "2017",
         "LjH/WJQkl9UJzVJCu+CaSQ==",
         "Annual",
         "600",
         "399.00",
         "NA",
         "No",
         "NA",
         "Mark SL :76,Mark Math :68,Mark Science :45,Mark Social Studies :57",
         "NA",
         "Board of Secondary Education, Odisha, Cuttack-753001"
        ],
        [
         "3",
         "7404721",
         "2017",
         "17T0288737",
         "yg4tiEAGopVFYnXgybQlTen34PqwEI08id2hvZS9spw=",
         "05-Nov-1999",
         "10 TH",
         "10th Pass",
         "2015",
         "3czUb8VotFM3QA1R8yE/Jw==",
         "Annual",
         "600",
         "305.00",
         "NA",
         "No",
         "NA",
         "Mark SL :46,Mark Math :50,Mark Science :49,Mark Social Studies :56",
         "NA",
         "Board of Secondary Education, Odisha, Cuttack-753001"
        ],
        [
         "4",
         "7404722",
         "2017",
         "17T0151332",
         "5HZd0Oz9ono6DBV2LKOoQiVGsyUreUWNxVEOdVgcrcs=",
         "20-Apr-1999",
         "12 TH",
         "10th Pass",
         "2014",
         "BpFNV6ZmrmdtbEcHJS6eGg==",
         "Annual",
         "600",
         "260.00",
         "NA",
         "No",
         "NA",
         "Mark SL :43,Mark Math :31,Mark Science :47,Mark Social Studies :39",
         "NA",
         "Board of Secondary Education, Odisha, Cuttack-753001"
        ]
       ],
       "shape": {
        "columns": 18,
        "rows": 5
       }
      },
      "text/html": [
       "<div>\n",
       "<style scoped>\n",
       "    .dataframe tbody tr th:only-of-type {\n",
       "        vertical-align: middle;\n",
       "    }\n",
       "\n",
       "    .dataframe tbody tr th {\n",
       "        vertical-align: top;\n",
       "    }\n",
       "\n",
       "    .dataframe thead th {\n",
       "        text-align: right;\n",
       "    }\n",
       "</style>\n",
       "<table border=\"1\" class=\"dataframe\">\n",
       "  <thead>\n",
       "    <tr style=\"text-align: right;\">\n",
       "      <th></th>\n",
       "      <th>id</th>\n",
       "      <th>academic_year</th>\n",
       "      <th>barcode</th>\n",
       "      <th>aadhar_no</th>\n",
       "      <th>dob</th>\n",
       "      <th>highest_qualification</th>\n",
       "      <th>ExamName</th>\n",
       "      <th>YearofPassing</th>\n",
       "      <th>RollNo</th>\n",
       "      <th>ExaminationType</th>\n",
       "      <th>TotalMarks</th>\n",
       "      <th>SecuredMarks</th>\n",
       "      <th>Percentage</th>\n",
       "      <th>CompartmentalStatus</th>\n",
       "      <th>CompartmentalFailMark</th>\n",
       "      <th>SubjectWiseMarks</th>\n",
       "      <th>HighestQualificationBoardExamName</th>\n",
       "      <th>HighestQualificationExamBoard</th>\n",
       "    </tr>\n",
       "  </thead>\n",
       "  <tbody>\n",
       "    <tr>\n",
       "      <th>0</th>\n",
       "      <td>7404718</td>\n",
       "      <td>2017</td>\n",
       "      <td>17T0181047</td>\n",
       "      <td>DeGxV1bCBqOBygfLzt3u268Es6xBaRZq3tf+eEp6WDw=</td>\n",
       "      <td>01-Jan-2002</td>\n",
       "      <td>10TH</td>\n",
       "      <td>10th Pass</td>\n",
       "      <td>2017</td>\n",
       "      <td>PoLOLFcCUYZ/iR42DWBy2A==</td>\n",
       "      <td>Annual</td>\n",
       "      <td>600</td>\n",
       "      <td>291.00</td>\n",
       "      <td>NA</td>\n",
       "      <td>No</td>\n",
       "      <td>NA</td>\n",
       "      <td>Mark SL :50,Mark Math :47,Mark Science :30,Mar...</td>\n",
       "      <td>NA</td>\n",
       "      <td>Board of Secondary Education, Odisha, Cuttack-...</td>\n",
       "    </tr>\n",
       "    <tr>\n",
       "      <th>1</th>\n",
       "      <td>7404719</td>\n",
       "      <td>2017</td>\n",
       "      <td>17T0114510</td>\n",
       "      <td>6/Vau/OfdeJ6NAV7iD6bmnbzGEexPB8LP/JcN1eroCs=</td>\n",
       "      <td>20-Apr-2000</td>\n",
       "      <td>10TH</td>\n",
       "      <td>10th Pass</td>\n",
       "      <td>2015</td>\n",
       "      <td>Gb1fbGJ4hl2z+FvcTECm4A==</td>\n",
       "      <td>Annual</td>\n",
       "      <td>600</td>\n",
       "      <td>390.00</td>\n",
       "      <td>NA</td>\n",
       "      <td>No</td>\n",
       "      <td>NA</td>\n",
       "      <td>Mark SL :49,Mark Math :91,Mark Science :54,Mar...</td>\n",
       "      <td>NA</td>\n",
       "      <td>Board of Secondary Education, Odisha, Cuttack-...</td>\n",
       "    </tr>\n",
       "    <tr>\n",
       "      <th>2</th>\n",
       "      <td>7404720</td>\n",
       "      <td>2017</td>\n",
       "      <td>17T0346747</td>\n",
       "      <td>EPFmTPfdOGPrc/oLdkNxJ+t1ocsxYmM+j+/2AL7aEBQ=</td>\n",
       "      <td>07-Oct-2001</td>\n",
       "      <td>10TH</td>\n",
       "      <td>10th Pass</td>\n",
       "      <td>2017</td>\n",
       "      <td>LjH/WJQkl9UJzVJCu+CaSQ==</td>\n",
       "      <td>Annual</td>\n",
       "      <td>600</td>\n",
       "      <td>399.00</td>\n",
       "      <td>NA</td>\n",
       "      <td>No</td>\n",
       "      <td>NA</td>\n",
       "      <td>Mark SL :76,Mark Math :68,Mark Science :45,Mar...</td>\n",
       "      <td>NA</td>\n",
       "      <td>Board of Secondary Education, Odisha, Cuttack-...</td>\n",
       "    </tr>\n",
       "    <tr>\n",
       "      <th>3</th>\n",
       "      <td>7404721</td>\n",
       "      <td>2017</td>\n",
       "      <td>17T0288737</td>\n",
       "      <td>yg4tiEAGopVFYnXgybQlTen34PqwEI08id2hvZS9spw=</td>\n",
       "      <td>05-Nov-1999</td>\n",
       "      <td>10 TH</td>\n",
       "      <td>10th Pass</td>\n",
       "      <td>2015</td>\n",
       "      <td>3czUb8VotFM3QA1R8yE/Jw==</td>\n",
       "      <td>Annual</td>\n",
       "      <td>600</td>\n",
       "      <td>305.00</td>\n",
       "      <td>NA</td>\n",
       "      <td>No</td>\n",
       "      <td>NA</td>\n",
       "      <td>Mark SL :46,Mark Math :50,Mark Science :49,Mar...</td>\n",
       "      <td>NA</td>\n",
       "      <td>Board of Secondary Education, Odisha, Cuttack-...</td>\n",
       "    </tr>\n",
       "    <tr>\n",
       "      <th>4</th>\n",
       "      <td>7404722</td>\n",
       "      <td>2017</td>\n",
       "      <td>17T0151332</td>\n",
       "      <td>5HZd0Oz9ono6DBV2LKOoQiVGsyUreUWNxVEOdVgcrcs=</td>\n",
       "      <td>20-Apr-1999</td>\n",
       "      <td>12 TH</td>\n",
       "      <td>10th Pass</td>\n",
       "      <td>2014</td>\n",
       "      <td>BpFNV6ZmrmdtbEcHJS6eGg==</td>\n",
       "      <td>Annual</td>\n",
       "      <td>600</td>\n",
       "      <td>260.00</td>\n",
       "      <td>NA</td>\n",
       "      <td>No</td>\n",
       "      <td>NA</td>\n",
       "      <td>Mark SL :43,Mark Math :31,Mark Science :47,Mar...</td>\n",
       "      <td>NA</td>\n",
       "      <td>Board of Secondary Education, Odisha, Cuttack-...</td>\n",
       "    </tr>\n",
       "  </tbody>\n",
       "</table>\n",
       "</div>"
      ],
      "text/plain": [
       "        id  academic_year     barcode  \\\n",
       "0  7404718           2017  17T0181047   \n",
       "1  7404719           2017  17T0114510   \n",
       "2  7404720           2017  17T0346747   \n",
       "3  7404721           2017  17T0288737   \n",
       "4  7404722           2017  17T0151332   \n",
       "\n",
       "                                      aadhar_no          dob  \\\n",
       "0  DeGxV1bCBqOBygfLzt3u268Es6xBaRZq3tf+eEp6WDw=  01-Jan-2002   \n",
       "1  6/Vau/OfdeJ6NAV7iD6bmnbzGEexPB8LP/JcN1eroCs=  20-Apr-2000   \n",
       "2  EPFmTPfdOGPrc/oLdkNxJ+t1ocsxYmM+j+/2AL7aEBQ=  07-Oct-2001   \n",
       "3  yg4tiEAGopVFYnXgybQlTen34PqwEI08id2hvZS9spw=  05-Nov-1999   \n",
       "4  5HZd0Oz9ono6DBV2LKOoQiVGsyUreUWNxVEOdVgcrcs=  20-Apr-1999   \n",
       "\n",
       "  highest_qualification   ExamName YearofPassing                    RollNo  \\\n",
       "0                  10TH  10th Pass          2017  PoLOLFcCUYZ/iR42DWBy2A==   \n",
       "1                  10TH  10th Pass          2015  Gb1fbGJ4hl2z+FvcTECm4A==   \n",
       "2                  10TH  10th Pass          2017  LjH/WJQkl9UJzVJCu+CaSQ==   \n",
       "3                 10 TH  10th Pass          2015  3czUb8VotFM3QA1R8yE/Jw==   \n",
       "4                 12 TH  10th Pass          2014  BpFNV6ZmrmdtbEcHJS6eGg==   \n",
       "\n",
       "  ExaminationType TotalMarks SecuredMarks Percentage CompartmentalStatus  \\\n",
       "0          Annual        600       291.00         NA                  No   \n",
       "1          Annual        600       390.00         NA                  No   \n",
       "2          Annual        600       399.00         NA                  No   \n",
       "3          Annual        600       305.00         NA                  No   \n",
       "4          Annual        600       260.00         NA                  No   \n",
       "\n",
       "  CompartmentalFailMark                                   SubjectWiseMarks  \\\n",
       "0                    NA  Mark SL :50,Mark Math :47,Mark Science :30,Mar...   \n",
       "1                    NA  Mark SL :49,Mark Math :91,Mark Science :54,Mar...   \n",
       "2                    NA  Mark SL :76,Mark Math :68,Mark Science :45,Mar...   \n",
       "3                    NA  Mark SL :46,Mark Math :50,Mark Science :49,Mar...   \n",
       "4                    NA  Mark SL :43,Mark Math :31,Mark Science :47,Mar...   \n",
       "\n",
       "  HighestQualificationBoardExamName  \\\n",
       "0                                NA   \n",
       "1                                NA   \n",
       "2                                NA   \n",
       "3                                NA   \n",
       "4                                NA   \n",
       "\n",
       "                       HighestQualificationExamBoard  \n",
       "0  Board of Secondary Education, Odisha, Cuttack-...  \n",
       "1  Board of Secondary Education, Odisha, Cuttack-...  \n",
       "2  Board of Secondary Education, Odisha, Cuttack-...  \n",
       "3  Board of Secondary Education, Odisha, Cuttack-...  \n",
       "4  Board of Secondary Education, Odisha, Cuttack-...  "
      ]
     },
     "execution_count": 257,
     "metadata": {},
     "output_type": "execute_result"
    }
   ],
   "source": [
    "db_path = datasets[\"sams\"][\"path\"]\n",
    "conn = sqlite3.connect(db_path)\n",
    "\n",
    "query = \"\"\"\n",
    "SELECT\n",
    "    id,\n",
    "    academic_year,\n",
    "    barcode,\n",
    "    aadhar_no,\n",
    "    dob,\n",
    "    highest_qualification,\n",
    "    mark_data\n",
    "FROM students\n",
    "WHERE module = 'ITI'\n",
    "\"\"\"\n",
    "\n",
    "students_df = pd.read_sql_query(query, conn)\n",
    "conn.close()\n",
    "# Function to parse JSON strings safely\n",
    "def parse_option_data(val):\n",
    "    \"\"\"\n",
    "    Safely parses a JSON string into a Python object.\n",
    "\n",
    "    Parameters:\n",
    "    ----------\n",
    "    val : str, list, or any\n",
    "        The value to be parsed. If it's a JSON string, it will be decoded.\n",
    "        If it's already a list, it is returned unchanged.\n",
    "        All other types return an empty list.\n",
    "\n",
    "    Returns:\n",
    "    -------\n",
    "    list\n",
    "        Parsed list from JSON string, or the original list, or an empty list if parsing fails.\n",
    "    \"\"\"\n",
    "    if isinstance(val, str):\n",
    "        try:\n",
    "            return json.loads(val)\n",
    "        except json.JSONDecodeError:\n",
    "            return []\n",
    "    elif isinstance(val, list):\n",
    "        return val\n",
    "    else:\n",
    "        return []\n",
    "\n",
    "students_df['mark_data'] = students_df['mark_data'].apply(parse_option_data)\n",
    "df_exploded = students_df.explode('mark_data').reset_index(drop=True)\n",
    "option_details = pd.json_normalize(df_exploded['mark_data'])\n",
    "iti_df = pd.concat([df_exploded.drop(columns=['mark_data']), option_details], axis=1)\n",
    "\n",
    "iti_df.head()"
   ]
  },
  {
   "cell_type": "code",
   "execution_count": 230,
   "id": "3bc4f650",
   "metadata": {},
   "outputs": [
    {
     "data": {
      "text/plain": [
       "Index(['id', 'academic_year', 'barcode', 'aadhar_no', 'dob',\n",
       "       'highest_qualification', 'ExamName', 'YearofPassing', 'RollNo',\n",
       "       'ExaminationType', 'TotalMarks', 'SecuredMarks', 'Percentage',\n",
       "       'CompartmentalStatus', 'CompartmentalFailMark', 'SubjectWiseMarks',\n",
       "       'HighestQualificationBoardExamName', 'HighestQualificationExamBoard'],\n",
       "      dtype='object')"
      ]
     },
     "execution_count": 230,
     "metadata": {},
     "output_type": "execute_result"
    }
   ],
   "source": [
    "iti_df.columns"
   ]
  },
  {
   "cell_type": "code",
   "execution_count": null,
   "id": "ae683bd0",
   "metadata": {},
   "outputs": [
    {
     "data": {
      "text/plain": [
       "Index(['sams_id', 'academic_year', 'barcode', 'aadhar_no', 'dob',\n",
       "       'highest_qualification', 'ExamName', 'passing_year', 'roll_no',\n",
       "       'ExaminationType', 'TotalMarks', 'SecuredMarks', 'Percentage',\n",
       "       'CompartmentalStatus', 'CompartmentalFailMark', 'SubjectWiseMarks',\n",
       "       'HighestQualificationBoardExamName', 'exam_board_name_of_highest_qual'],\n",
       "      dtype='object')"
      ]
     },
     "execution_count": 239,
     "metadata": {},
     "output_type": "execute_result"
    }
   ],
   "source": [
    "# Drop unnecessary columns and rename selected ones\n",
    "iti_df = (\n",
    "    iti_df.rename(columns={\n",
    "        \"id\": \"sams_id\",\n",
    "        \"YearofPassing\": \"passing_year\",\n",
    "        \"RollNo\": \"roll_no\",\n",
    "        \"HighestQualificationExamBoard\": \"exam_board_name_of_highest_qual\"\n",
    "    })\n",
    "    .drop(columns=[\n",
    "        \"ExamName\", \"ExaminationType\", \"TotalMarks\", \"SecuredMarks\", \n",
    "        \"Percentage\", \"CompartmentalStatus\", \"CompartmentalFailMark\", \n",
    "        \"SubjectWiseMarks\", \"HighestQualificationBoardExamName\"\n",
    "    ])\n",
    ")\n",
    "\n",
    "# Verify result\n",
    "iti_df.columns\n"
   ]
  },
  {
   "cell_type": "code",
   "execution_count": 240,
   "id": "2785cd5e",
   "metadata": {},
   "outputs": [
    {
     "data": {
      "application/vnd.microsoft.datawrangler.viewer.v0+json": {
       "columns": [
        {
         "name": "index",
         "rawType": "object",
         "type": "string"
        },
        {
         "name": "0",
         "rawType": "int64",
         "type": "integer"
        }
       ],
       "ref": "1271be81-6590-475c-8064-9a014e258b86",
       "rows": [
        [
         "sams_id",
         "0"
        ],
        [
         "academic_year",
         "0"
        ],
        [
         "barcode",
         "0"
        ],
        [
         "aadhar_no",
         "0"
        ],
        [
         "dob",
         "0"
        ],
        [
         "highest_qualification",
         "0"
        ],
        [
         "ExamName",
         "0"
        ],
        [
         "passing_year",
         "0"
        ],
        [
         "roll_no",
         "0"
        ],
        [
         "ExaminationType",
         "0"
        ],
        [
         "TotalMarks",
         "0"
        ],
        [
         "SecuredMarks",
         "9"
        ],
        [
         "Percentage",
         "0"
        ],
        [
         "CompartmentalStatus",
         "0"
        ],
        [
         "CompartmentalFailMark",
         "0"
        ],
        [
         "SubjectWiseMarks",
         "0"
        ],
        [
         "HighestQualificationBoardExamName",
         "0"
        ],
        [
         "exam_board_name_of_highest_qual",
         "0"
        ]
       ],
       "shape": {
        "columns": 1,
        "rows": 18
       }
      },
      "text/plain": [
       "sams_id                              0\n",
       "academic_year                        0\n",
       "barcode                              0\n",
       "aadhar_no                            0\n",
       "dob                                  0\n",
       "highest_qualification                0\n",
       "ExamName                             0\n",
       "passing_year                         0\n",
       "roll_no                              0\n",
       "ExaminationType                      0\n",
       "TotalMarks                           0\n",
       "SecuredMarks                         9\n",
       "Percentage                           0\n",
       "CompartmentalStatus                  0\n",
       "CompartmentalFailMark                0\n",
       "SubjectWiseMarks                     0\n",
       "HighestQualificationBoardExamName    0\n",
       "exam_board_name_of_highest_qual      0\n",
       "dtype: int64"
      ]
     },
     "execution_count": 240,
     "metadata": {},
     "output_type": "execute_result"
    }
   ],
   "source": [
    "iti_df.isna().sum()"
   ]
  },
  {
   "cell_type": "code",
   "execution_count": 241,
   "id": "4aba8b34",
   "metadata": {},
   "outputs": [
    {
     "data": {
      "application/vnd.microsoft.datawrangler.viewer.v0+json": {
       "columns": [
        {
         "name": "index",
         "rawType": "int64",
         "type": "integer"
        },
        {
         "name": "variable",
         "rawType": "object",
         "type": "string"
        },
        {
         "name": "total_enrolled",
         "rawType": "int64",
         "type": "integer"
        },
        {
         "name": "unique_values",
         "rawType": "int64",
         "type": "integer"
        },
        {
         "name": "missing_count",
         "rawType": "int64",
         "type": "integer"
        },
        {
         "name": "available_count",
         "rawType": "int64",
         "type": "integer"
        }
       ],
       "ref": "5516dfed-bc1b-4176-b9b0-187a631c7cbd",
       "rows": [
        [
         "0",
         "aadhar_no",
         "559575",
         "518025",
         "0",
         "559575"
        ],
        [
         "1",
         "dob",
         "559575",
         "11007",
         "0",
         "559575"
        ],
        [
         "2",
         "highest_qualification",
         "559575",
         "1121",
         "87171",
         "472404"
        ],
        [
         "3",
         "passing_year",
         "559575",
         "52",
         "0",
         "559575"
        ],
        [
         "4",
         "roll_no",
         "559575",
         "473015",
         "0",
         "559575"
        ],
        [
         "5",
         "exam_board_name_of_highest_qual",
         "559575",
         "53",
         "1644",
         "557931"
        ]
       ],
       "shape": {
        "columns": 5,
        "rows": 6
       }
      },
      "text/html": [
       "<div>\n",
       "<style scoped>\n",
       "    .dataframe tbody tr th:only-of-type {\n",
       "        vertical-align: middle;\n",
       "    }\n",
       "\n",
       "    .dataframe tbody tr th {\n",
       "        vertical-align: top;\n",
       "    }\n",
       "\n",
       "    .dataframe thead th {\n",
       "        text-align: right;\n",
       "    }\n",
       "</style>\n",
       "<table border=\"1\" class=\"dataframe\">\n",
       "  <thead>\n",
       "    <tr style=\"text-align: right;\">\n",
       "      <th></th>\n",
       "      <th>variable</th>\n",
       "      <th>total_enrolled</th>\n",
       "      <th>unique_values</th>\n",
       "      <th>missing_count</th>\n",
       "      <th>available_count</th>\n",
       "    </tr>\n",
       "  </thead>\n",
       "  <tbody>\n",
       "    <tr>\n",
       "      <th>0</th>\n",
       "      <td>aadhar_no</td>\n",
       "      <td>559575</td>\n",
       "      <td>518025</td>\n",
       "      <td>0</td>\n",
       "      <td>559575</td>\n",
       "    </tr>\n",
       "    <tr>\n",
       "      <th>1</th>\n",
       "      <td>dob</td>\n",
       "      <td>559575</td>\n",
       "      <td>11007</td>\n",
       "      <td>0</td>\n",
       "      <td>559575</td>\n",
       "    </tr>\n",
       "    <tr>\n",
       "      <th>2</th>\n",
       "      <td>highest_qualification</td>\n",
       "      <td>559575</td>\n",
       "      <td>1121</td>\n",
       "      <td>87171</td>\n",
       "      <td>472404</td>\n",
       "    </tr>\n",
       "    <tr>\n",
       "      <th>3</th>\n",
       "      <td>passing_year</td>\n",
       "      <td>559575</td>\n",
       "      <td>52</td>\n",
       "      <td>0</td>\n",
       "      <td>559575</td>\n",
       "    </tr>\n",
       "    <tr>\n",
       "      <th>4</th>\n",
       "      <td>roll_no</td>\n",
       "      <td>559575</td>\n",
       "      <td>473015</td>\n",
       "      <td>0</td>\n",
       "      <td>559575</td>\n",
       "    </tr>\n",
       "    <tr>\n",
       "      <th>5</th>\n",
       "      <td>exam_board_name_of_highest_qual</td>\n",
       "      <td>559575</td>\n",
       "      <td>53</td>\n",
       "      <td>1644</td>\n",
       "      <td>557931</td>\n",
       "    </tr>\n",
       "  </tbody>\n",
       "</table>\n",
       "</div>"
      ],
      "text/plain": [
       "                          variable  total_enrolled  unique_values  \\\n",
       "0                        aadhar_no          559575         518025   \n",
       "1                              dob          559575          11007   \n",
       "2            highest_qualification          559575           1121   \n",
       "3                     passing_year          559575             52   \n",
       "4                          roll_no          559575         473015   \n",
       "5  exam_board_name_of_highest_qual          559575             53   \n",
       "\n",
       "   missing_count  available_count  \n",
       "0              0           559575  \n",
       "1              0           559575  \n",
       "2          87171           472404  \n",
       "3              0           559575  \n",
       "4              0           559575  \n",
       "5           1644           557931  "
      ]
     },
     "execution_count": 241,
     "metadata": {},
     "output_type": "execute_result"
    }
   ],
   "source": [
    "key_vars = ['aadhar_no', 'dob', 'highest_qualification', 'passing_year', 'roll_no', 'exam_board_name_of_highest_qual']\n",
    "\n",
    "summary = []\n",
    "\n",
    "for col in key_vars:\n",
    "    total = iti_df[col].count()  \n",
    "    \n",
    "    unique_vals = iti_df[col].nunique()\n",
    "\n",
    "    missing = (\n",
    "        iti_df[col].isna().sum()\n",
    "        + (iti_df[col] == \"\").sum()\n",
    "        + (iti_df[col] == \"NA\").sum()\n",
    "        )\n",
    "    available = total - missing\n",
    "    \n",
    "    summary.append({\n",
    "        \"variable\": col,\n",
    "        \"total_enrolled\": total,\n",
    "        \"unique_values\": unique_vals,\n",
    "        \"missing_count\": missing,\n",
    "        \"available_count\": available\n",
    "    })\n",
    "\n",
    "availability_report = pd.DataFrame(summary)\n",
    "availability_report\n"
   ]
  },
  {
   "cell_type": "code",
   "execution_count": null,
   "id": "7e6ad9b9",
   "metadata": {},
   "outputs": [
    {
     "data": {
      "application/vnd.microsoft.datawrangler.viewer.v0+json": {
       "columns": [
        {
         "name": "index",
         "rawType": "object",
         "type": "string"
        },
        {
         "name": "nan_missing",
         "rawType": "int64",
         "type": "integer"
        },
        {
         "name": "na_string",
         "rawType": "int64",
         "type": "integer"
        },
        {
         "name": "blank_string",
         "rawType": "int64",
         "type": "integer"
        },
        {
         "name": "total",
         "rawType": "int64",
         "type": "integer"
        }
       ],
       "ref": "9bad0029-e30b-4072-96b0-5f8f6b825eee",
       "rows": [
        [
         "aadhar_no",
         "0",
         "0",
         "0",
         "0"
        ],
        [
         "dob",
         "0",
         "0",
         "0",
         "0"
        ],
        [
         "highest_qualification",
         "0",
         "72198",
         "14973",
         "87171"
        ],
        [
         "passing_year",
         "0",
         "0",
         "0",
         "0"
        ],
        [
         "roll_no",
         "0",
         "0",
         "0",
         "0"
        ],
        [
         "exam_board_name_of_highest_qual",
         "0",
         "1644",
         "0",
         "1644"
        ]
       ],
       "shape": {
        "columns": 4,
        "rows": 6
       }
      },
      "text/html": [
       "<div>\n",
       "<style scoped>\n",
       "    .dataframe tbody tr th:only-of-type {\n",
       "        vertical-align: middle;\n",
       "    }\n",
       "\n",
       "    .dataframe tbody tr th {\n",
       "        vertical-align: top;\n",
       "    }\n",
       "\n",
       "    .dataframe thead th {\n",
       "        text-align: right;\n",
       "    }\n",
       "</style>\n",
       "<table border=\"1\" class=\"dataframe\">\n",
       "  <thead>\n",
       "    <tr style=\"text-align: right;\">\n",
       "      <th></th>\n",
       "      <th>nan_missing</th>\n",
       "      <th>na_string</th>\n",
       "      <th>blank_string</th>\n",
       "      <th>total</th>\n",
       "    </tr>\n",
       "  </thead>\n",
       "  <tbody>\n",
       "    <tr>\n",
       "      <th>aadhar_no</th>\n",
       "      <td>0</td>\n",
       "      <td>0</td>\n",
       "      <td>0</td>\n",
       "      <td>0</td>\n",
       "    </tr>\n",
       "    <tr>\n",
       "      <th>dob</th>\n",
       "      <td>0</td>\n",
       "      <td>0</td>\n",
       "      <td>0</td>\n",
       "      <td>0</td>\n",
       "    </tr>\n",
       "    <tr>\n",
       "      <th>highest_qualification</th>\n",
       "      <td>0</td>\n",
       "      <td>72198</td>\n",
       "      <td>14973</td>\n",
       "      <td>87171</td>\n",
       "    </tr>\n",
       "    <tr>\n",
       "      <th>passing_year</th>\n",
       "      <td>0</td>\n",
       "      <td>0</td>\n",
       "      <td>0</td>\n",
       "      <td>0</td>\n",
       "    </tr>\n",
       "    <tr>\n",
       "      <th>roll_no</th>\n",
       "      <td>0</td>\n",
       "      <td>0</td>\n",
       "      <td>0</td>\n",
       "      <td>0</td>\n",
       "    </tr>\n",
       "    <tr>\n",
       "      <th>exam_board_name_of_highest_qual</th>\n",
       "      <td>0</td>\n",
       "      <td>1644</td>\n",
       "      <td>0</td>\n",
       "      <td>1644</td>\n",
       "    </tr>\n",
       "  </tbody>\n",
       "</table>\n",
       "</div>"
      ],
      "text/plain": [
       "                                 nan_missing  na_string  blank_string  total\n",
       "aadhar_no                                  0          0             0      0\n",
       "dob                                        0          0             0      0\n",
       "highest_qualification                      0      72198         14973  87171\n",
       "passing_year                               0          0             0      0\n",
       "roll_no                                    0          0             0      0\n",
       "exam_board_name_of_highest_qual            0       1644             0   1644"
      ]
     },
     "execution_count": 246,
     "metadata": {},
     "output_type": "execute_result"
    }
   ],
   "source": [
    "# Focus only on key columns\n",
    "key_columns = [\"aadhar_no\",\"dob\",\"highest_qualification\",\"passing_year\",\"roll_no\",\"exam_board_name_of_highest_qual\"]\n",
    "\n",
    "missing_summary = pd.DataFrame({\n",
    "    \"nan_missing\": iti_df[key_columns].isna().sum(),\n",
    "    \"na_string\": (iti_df[key_columns] == \"NA\").sum(),\n",
    "    \"blank_string\": (iti_df[key_columns] == \"\").sum()\n",
    "})\n",
    "\n",
    "missing_summary[\"total\"] = (\n",
    "    missing_summary[\"nan_missing\"]\n",
    "    + missing_summary[\"na_string\"]\n",
    "    + missing_summary[\"blank_string\"]\n",
    ")\n",
    "\n",
    "missing_summary"
   ]
  },
  {
   "cell_type": "code",
   "execution_count": 247,
   "id": "be6cd996",
   "metadata": {},
   "outputs": [
    {
     "name": "stdout",
     "output_type": "stream",
     "text": [
      "   academic_year  na_string_count\n",
      "0           2017              102\n",
      "1           2018              183\n",
      "2           2019               52\n",
      "3           2020              218\n",
      "4           2021              312\n",
      "5           2022              296\n",
      "6           2023              481\n",
      "7           2024                0\n"
     ]
    }
   ],
   "source": [
    "na_by_year = (\n",
    "    iti_df.groupby(\"academic_year\")[\"exam_board_name_of_highest_qual\"]\n",
    "      .apply(lambda s: (s == \"NA\").sum())\n",
    "      .reset_index(name=\"na_string_count\")\n",
    ")\n",
    "\n",
    "print(na_by_year)"
   ]
  },
  {
   "cell_type": "code",
   "execution_count": null,
   "id": "f3b992cc",
   "metadata": {},
   "outputs": [
    {
     "data": {
      "application/vnd.microsoft.datawrangler.viewer.v0+json": {
       "columns": [
        {
         "name": "index",
         "rawType": "int64",
         "type": "integer"
        },
        {
         "name": "sams_id",
         "rawType": "int64",
         "type": "integer"
        },
        {
         "name": "academic_year",
         "rawType": "int64",
         "type": "integer"
        },
        {
         "name": "barcode",
         "rawType": "object",
         "type": "string"
        },
        {
         "name": "aadhar_no",
         "rawType": "object",
         "type": "string"
        },
        {
         "name": "dob",
         "rawType": "object",
         "type": "string"
        },
        {
         "name": "highest_qualification",
         "rawType": "object",
         "type": "string"
        },
        {
         "name": "passing_year",
         "rawType": "object",
         "type": "string"
        },
        {
         "name": "roll_no",
         "rawType": "object",
         "type": "string"
        },
        {
         "name": "exam_board_name_of_highest_qual",
         "rawType": "object",
         "type": "string"
        },
        {
         "name": "student_key",
         "rawType": "object",
         "type": "string"
        }
       ],
       "ref": "b08cd8c0-89ae-49a4-8be7-7f3aea5dc895",
       "rows": [
        [
         "0",
         "7404718",
         "2017",
         "17T0181047",
         "DeGxV1bCBqOBygfLzt3u268Es6xBaRZq3tf+eEp6WDw=",
         "01-Jan-2002",
         "10TH",
         "2017",
         "PoLOLFcCUYZ/iR42DWBy2A==",
         "Board of Secondary Education, Odisha, Cuttack-753001",
         "2017_01-Jan-2002_10th_PoLOLFcCUYZ/iR42DWBy2A==_Board of Secondary Education, Odisha, Cuttack-753001"
        ],
        [
         "1",
         "7404719",
         "2017",
         "17T0114510",
         "6/Vau/OfdeJ6NAV7iD6bmnbzGEexPB8LP/JcN1eroCs=",
         "20-Apr-2000",
         "10TH",
         "2015",
         "Gb1fbGJ4hl2z+FvcTECm4A==",
         "Board of Secondary Education, Odisha, Cuttack-753001",
         "2015_20-Apr-2000_10th_Gb1fbGJ4hl2z+FvcTECm4A==_Board of Secondary Education, Odisha, Cuttack-753001"
        ],
        [
         "2",
         "7404720",
         "2017",
         "17T0346747",
         "EPFmTPfdOGPrc/oLdkNxJ+t1ocsxYmM+j+/2AL7aEBQ=",
         "07-Oct-2001",
         "10TH",
         "2017",
         "LjH/WJQkl9UJzVJCu+CaSQ==",
         "Board of Secondary Education, Odisha, Cuttack-753001",
         "2017_07-Oct-2001_10th_LjH/WJQkl9UJzVJCu+CaSQ==_Board of Secondary Education, Odisha, Cuttack-753001"
        ],
        [
         "3",
         "7404721",
         "2017",
         "17T0288737",
         "yg4tiEAGopVFYnXgybQlTen34PqwEI08id2hvZS9spw=",
         "05-Nov-1999",
         "10 TH",
         "2015",
         "3czUb8VotFM3QA1R8yE/Jw==",
         "Board of Secondary Education, Odisha, Cuttack-753001",
         "2015_05-Nov-1999_10th_3czUb8VotFM3QA1R8yE/Jw==_Board of Secondary Education, Odisha, Cuttack-753001"
        ],
        [
         "4",
         "7404722",
         "2017",
         "17T0151332",
         "5HZd0Oz9ono6DBV2LKOoQiVGsyUreUWNxVEOdVgcrcs=",
         "20-Apr-1999",
         "12 TH",
         "2014",
         "BpFNV6ZmrmdtbEcHJS6eGg==",
         "Board of Secondary Education, Odisha, Cuttack-753001",
         "2014_20-Apr-1999_12th_BpFNV6ZmrmdtbEcHJS6eGg==_Board of Secondary Education, Odisha, Cuttack-753001"
        ]
       ],
       "shape": {
        "columns": 10,
        "rows": 5
       }
      },
      "text/html": [
       "<div>\n",
       "<style scoped>\n",
       "    .dataframe tbody tr th:only-of-type {\n",
       "        vertical-align: middle;\n",
       "    }\n",
       "\n",
       "    .dataframe tbody tr th {\n",
       "        vertical-align: top;\n",
       "    }\n",
       "\n",
       "    .dataframe thead th {\n",
       "        text-align: right;\n",
       "    }\n",
       "</style>\n",
       "<table border=\"1\" class=\"dataframe\">\n",
       "  <thead>\n",
       "    <tr style=\"text-align: right;\">\n",
       "      <th></th>\n",
       "      <th>sams_id</th>\n",
       "      <th>academic_year</th>\n",
       "      <th>barcode</th>\n",
       "      <th>aadhar_no</th>\n",
       "      <th>dob</th>\n",
       "      <th>highest_qualification</th>\n",
       "      <th>passing_year</th>\n",
       "      <th>roll_no</th>\n",
       "      <th>exam_board_name_of_highest_qual</th>\n",
       "      <th>student_key</th>\n",
       "    </tr>\n",
       "  </thead>\n",
       "  <tbody>\n",
       "    <tr>\n",
       "      <th>0</th>\n",
       "      <td>7404718</td>\n",
       "      <td>2017</td>\n",
       "      <td>17T0181047</td>\n",
       "      <td>DeGxV1bCBqOBygfLzt3u268Es6xBaRZq3tf+eEp6WDw=</td>\n",
       "      <td>01-Jan-2002</td>\n",
       "      <td>10TH</td>\n",
       "      <td>2017</td>\n",
       "      <td>PoLOLFcCUYZ/iR42DWBy2A==</td>\n",
       "      <td>Board of Secondary Education, Odisha, Cuttack-...</td>\n",
       "      <td>2017_01-Jan-2002_10th_PoLOLFcCUYZ/iR42DWBy2A==...</td>\n",
       "    </tr>\n",
       "    <tr>\n",
       "      <th>1</th>\n",
       "      <td>7404719</td>\n",
       "      <td>2017</td>\n",
       "      <td>17T0114510</td>\n",
       "      <td>6/Vau/OfdeJ6NAV7iD6bmnbzGEexPB8LP/JcN1eroCs=</td>\n",
       "      <td>20-Apr-2000</td>\n",
       "      <td>10TH</td>\n",
       "      <td>2015</td>\n",
       "      <td>Gb1fbGJ4hl2z+FvcTECm4A==</td>\n",
       "      <td>Board of Secondary Education, Odisha, Cuttack-...</td>\n",
       "      <td>2015_20-Apr-2000_10th_Gb1fbGJ4hl2z+FvcTECm4A==...</td>\n",
       "    </tr>\n",
       "    <tr>\n",
       "      <th>2</th>\n",
       "      <td>7404720</td>\n",
       "      <td>2017</td>\n",
       "      <td>17T0346747</td>\n",
       "      <td>EPFmTPfdOGPrc/oLdkNxJ+t1ocsxYmM+j+/2AL7aEBQ=</td>\n",
       "      <td>07-Oct-2001</td>\n",
       "      <td>10TH</td>\n",
       "      <td>2017</td>\n",
       "      <td>LjH/WJQkl9UJzVJCu+CaSQ==</td>\n",
       "      <td>Board of Secondary Education, Odisha, Cuttack-...</td>\n",
       "      <td>2017_07-Oct-2001_10th_LjH/WJQkl9UJzVJCu+CaSQ==...</td>\n",
       "    </tr>\n",
       "    <tr>\n",
       "      <th>3</th>\n",
       "      <td>7404721</td>\n",
       "      <td>2017</td>\n",
       "      <td>17T0288737</td>\n",
       "      <td>yg4tiEAGopVFYnXgybQlTen34PqwEI08id2hvZS9spw=</td>\n",
       "      <td>05-Nov-1999</td>\n",
       "      <td>10 TH</td>\n",
       "      <td>2015</td>\n",
       "      <td>3czUb8VotFM3QA1R8yE/Jw==</td>\n",
       "      <td>Board of Secondary Education, Odisha, Cuttack-...</td>\n",
       "      <td>2015_05-Nov-1999_10th_3czUb8VotFM3QA1R8yE/Jw==...</td>\n",
       "    </tr>\n",
       "    <tr>\n",
       "      <th>4</th>\n",
       "      <td>7404722</td>\n",
       "      <td>2017</td>\n",
       "      <td>17T0151332</td>\n",
       "      <td>5HZd0Oz9ono6DBV2LKOoQiVGsyUreUWNxVEOdVgcrcs=</td>\n",
       "      <td>20-Apr-1999</td>\n",
       "      <td>12 TH</td>\n",
       "      <td>2014</td>\n",
       "      <td>BpFNV6ZmrmdtbEcHJS6eGg==</td>\n",
       "      <td>Board of Secondary Education, Odisha, Cuttack-...</td>\n",
       "      <td>2014_20-Apr-1999_12th_BpFNV6ZmrmdtbEcHJS6eGg==...</td>\n",
       "    </tr>\n",
       "  </tbody>\n",
       "</table>\n",
       "</div>"
      ],
      "text/plain": [
       "   sams_id  academic_year     barcode  \\\n",
       "0  7404718           2017  17T0181047   \n",
       "1  7404719           2017  17T0114510   \n",
       "2  7404720           2017  17T0346747   \n",
       "3  7404721           2017  17T0288737   \n",
       "4  7404722           2017  17T0151332   \n",
       "\n",
       "                                      aadhar_no          dob  \\\n",
       "0  DeGxV1bCBqOBygfLzt3u268Es6xBaRZq3tf+eEp6WDw=  01-Jan-2002   \n",
       "1  6/Vau/OfdeJ6NAV7iD6bmnbzGEexPB8LP/JcN1eroCs=  20-Apr-2000   \n",
       "2  EPFmTPfdOGPrc/oLdkNxJ+t1ocsxYmM+j+/2AL7aEBQ=  07-Oct-2001   \n",
       "3  yg4tiEAGopVFYnXgybQlTen34PqwEI08id2hvZS9spw=  05-Nov-1999   \n",
       "4  5HZd0Oz9ono6DBV2LKOoQiVGsyUreUWNxVEOdVgcrcs=  20-Apr-1999   \n",
       "\n",
       "  highest_qualification passing_year                   roll_no  \\\n",
       "0                  10TH         2017  PoLOLFcCUYZ/iR42DWBy2A==   \n",
       "1                  10TH         2015  Gb1fbGJ4hl2z+FvcTECm4A==   \n",
       "2                  10TH         2017  LjH/WJQkl9UJzVJCu+CaSQ==   \n",
       "3                 10 TH         2015  3czUb8VotFM3QA1R8yE/Jw==   \n",
       "4                 12 TH         2014  BpFNV6ZmrmdtbEcHJS6eGg==   \n",
       "\n",
       "                     exam_board_name_of_highest_qual  \\\n",
       "0  Board of Secondary Education, Odisha, Cuttack-...   \n",
       "1  Board of Secondary Education, Odisha, Cuttack-...   \n",
       "2  Board of Secondary Education, Odisha, Cuttack-...   \n",
       "3  Board of Secondary Education, Odisha, Cuttack-...   \n",
       "4  Board of Secondary Education, Odisha, Cuttack-...   \n",
       "\n",
       "                                         student_key  \n",
       "0  2017_01-Jan-2002_10th_PoLOLFcCUYZ/iR42DWBy2A==...  \n",
       "1  2015_20-Apr-2000_10th_Gb1fbGJ4hl2z+FvcTECm4A==...  \n",
       "2  2017_07-Oct-2001_10th_LjH/WJQkl9UJzVJCu+CaSQ==...  \n",
       "3  2015_05-Nov-1999_10th_3czUb8VotFM3QA1R8yE/Jw==...  \n",
       "4  2014_20-Apr-1999_12th_BpFNV6ZmrmdtbEcHJS6eGg==...  "
      ]
     },
     "execution_count": 248,
     "metadata": {},
     "output_type": "execute_result"
    }
   ],
   "source": [
    "iti_df.head()"
   ]
  },
  {
   "cell_type": "code",
   "execution_count": null,
   "id": "2d30657f",
   "metadata": {},
   "outputs": [
    {
     "data": {
      "application/vnd.microsoft.datawrangler.viewer.v0+json": {
       "columns": [
        {
         "name": "highest_qualification",
         "rawType": "object",
         "type": "string"
        },
        {
         "name": "count",
         "rawType": "int64",
         "type": "integer"
        }
       ],
       "ref": "55aa6269-f4db-4002-bc97-0fdade2cfe6f",
       "rows": [
        [
         "10th",
         "359892"
        ],
        [
         "12th",
         "76918"
        ],
        [
         "NA",
         "72198"
        ],
        [
         "",
         "14973"
        ],
        [
         "Graduate and above",
         "10263"
        ],
        [
         "10TH",
         "3826"
        ],
        [
         "HSC",
         "2592"
        ],
        [
         "10TH PASS",
         "2525"
        ],
        [
         "BA",
         "2399"
        ],
        [
         "JBT/ETT",
         "1094"
        ],
        [
         "MATRIC",
         "901"
        ],
        [
         "Diploma",
         "597"
        ],
        [
         "10th pass",
         "561"
        ],
        [
         "B.Sc",
         "538"
        ],
        [
         "HSC PASS",
         "501"
        ],
        [
         "12TH",
         "448"
        ],
        [
         "OT",
         "428"
        ],
        [
         "CHSE",
         "423"
        ],
        [
         "HSE",
         "333"
        ],
        [
         "10TH PASSED",
         "314"
        ],
        [
         "B.Com",
         "304"
        ],
        [
         "PLUS TWO",
         "275"
        ],
        [
         "MATRICULATION",
         "224"
        ],
        [
         "3 Year Diploma",
         "203"
        ],
        [
         "GRADUATION",
         "200"
        ],
        [
         "PLUS TWO ARTS",
         "197"
        ],
        [
         "10 TH",
         "188"
        ],
        [
         "CHSE ODISHA",
         "184"
        ],
        [
         "ITI Course",
         "180"
        ],
        [
         "hsc",
         "171"
        ],
        [
         "10 TH PASS",
         "167"
        ],
        [
         "hsc passed",
         "165"
        ],
        [
         "IA",
         "152"
        ],
        [
         "BSE",
         "142"
        ],
        [
         "INTERMEDIATE",
         "135"
        ],
        [
         "12TH PASS",
         "126"
        ],
        [
         "B.Ed",
         "125"
        ],
        [
         "matric",
         "119"
        ],
        [
         "PLUS TWO PASS",
         "93"
        ],
        [
         "M.Ed",
         "92"
        ],
        [
         "CHSE PASS",
         "88"
        ],
        [
         "HSC PASSED",
         "85"
        ],
        [
         "PLUS TWO SCIENCE",
         "82"
        ],
        [
         "10",
         "71"
        ],
        [
         "B.Tech",
         "71"
        ],
        [
         "8th",
         "70"
        ],
        [
         "hsc pass",
         "65"
        ],
        [
         "chse",
         "63"
        ],
        [
         "12TH ARTS",
         "60"
        ],
        [
         "BSC",
         "60"
        ]
       ],
       "shape": {
        "columns": 1,
        "rows": 1121
       }
      },
      "text/plain": [
       "highest_qualification\n",
       "10th                     359892\n",
       "12th                      76918\n",
       "NA                        72198\n",
       "                          14973\n",
       "Graduate and above        10263\n",
       "                          ...  \n",
       "Intermedia in Arts            1\n",
       "diploma                       1\n",
       "PLUS 2 VOCATIONAL             1\n",
       "M.Sc.(CS)                     1\n",
       "Master in Engineering         1\n",
       "Name: count, Length: 1121, dtype: int64"
      ]
     },
     "execution_count": 226,
     "metadata": {},
     "output_type": "execute_result"
    }
   ],
   "source": [
    "iti_df['highest_qualification'].value_counts()"
   ]
  },
  {
   "cell_type": "code",
   "execution_count": null,
   "id": "6c688c3b",
   "metadata": {},
   "outputs": [
    {
     "data": {
      "application/vnd.microsoft.datawrangler.viewer.v0+json": {
       "columns": [
        {
         "name": "highest_qualification_std",
         "rawType": "object",
         "type": "string"
        },
        {
         "name": "count",
         "rawType": "int64",
         "type": "integer"
        }
       ],
       "ref": "32f6a7b8-b521-4f19-ab8d-67c9bc9820ae",
       "rows": [
        [
         "10th",
         "369713"
        ],
        [
         "12th",
         "83941"
        ],
        [
         "na",
         "72199"
        ],
        [
         "",
         "14973"
        ],
        [
         "Graduate and above",
         "14487"
        ],
        [
         "Diploma",
         "1946"
        ],
        [
         "ot",
         "428"
        ],
        [
         "hse",
         "344"
        ],
        [
         "ITI",
         "194"
        ],
        [
         "ia",
         "169"
        ],
        [
         "8th",
         "70"
        ],
        [
         "isc",
         "68"
        ],
        [
         "metric",
         "54"
        ],
        [
         "tenth",
         "45"
        ],
        [
         "higher secondary",
         "42"
        ],
        [
         "intermidiate",
         "37"
        ],
        [
         "inter mediate arts",
         "27"
        ],
        [
         "twelvth",
         "24"
        ],
        [
         "ia pass",
         "23"
        ],
        [
         "others",
         "22"
        ],
        [
         "none",
         "18"
        ],
        [
         "high school certificate examination",
         "14"
        ],
        [
         "higher secondary education",
         "14"
        ],
        [
         "i a",
         "14"
        ],
        [
         "ba pass",
         "13"
        ],
        [
         "below secondary",
         "13"
        ],
        [
         "plus three",
         "12"
        ],
        [
         "intermidate",
         "12"
        ],
        [
         "inter mediate",
         "10"
        ],
        [
         "b sc",
         "10"
        ],
        [
         "ba arts",
         "10"
        ],
        [
         "2arts",
         "9"
        ],
        [
         "twelth",
         "9"
        ],
        [
         "council of higher secondary education odisha",
         "9"
        ],
        [
         "no",
         "8"
        ],
        [
         "2 arts",
         "8"
        ],
        [
         "gradution",
         "7"
        ],
        [
         "2 science",
         "7"
        ],
        [
         "icom",
         "7"
        ],
        [
         "plus three arts",
         "7"
        ],
        [
         "h s c",
         "7"
        ],
        [
         "arts",
         "6"
        ],
        [
         "1oth pass",
         "6"
        ],
        [
         "b a",
         "6"
        ],
        [
         "inter mediate science",
         "6"
        ],
        [
         "council of higher secondary education",
         "6"
        ],
        [
         "i sc",
         "6"
        ],
        [
         "1oth",
         "6"
        ],
        [
         "plus three arts pass",
         "6"
        ],
        [
         "c h s e odisha",
         "6"
        ]
       ],
       "shape": {
        "columns": 1,
        "rows": 389
       }
      },
      "text/plain": [
       "highest_qualification_std\n",
       "10th                  369713\n",
       "12th                   83941\n",
       "na                     72199\n",
       "                       14973\n",
       "Graduate and above     14487\n",
       "                       ...  \n",
       "plus tow arts              1\n",
       "bscphysics                 1\n",
       "1th pass                   1\n",
       "arts pass                  1\n",
       "bce odisha                 1\n",
       "Name: count, Length: 389, dtype: int64"
      ]
     },
     "execution_count": 254,
     "metadata": {},
     "output_type": "execute_result"
    }
   ],
   "source": [
    "from sams.preprocessing.iti_diploma_nodes import _fix_qual_names\n",
    "\n",
    "iti_df[\"highest_qualification_std\"] = _fix_qual_names(df[\"highest_qualification\"])\n",
    "iti_df[\"highest_qualification_std\"].value_counts()\n"
   ]
  },
  {
   "cell_type": "code",
   "execution_count": null,
   "id": "d38f8c6e",
   "metadata": {},
   "outputs": [],
   "source": [
    "# ---- Config: key fields for the fingerprint ----\n",
    "KEY_FIELDS = ['highest_qualification', 'YearofPassing', 'RollNo', 'HighestQualificationExamBoard']\n",
    "\n",
    "# ---- Helpers ----\n",
    "def is_missing_series(s: pd.Series) -> pd.Series:\n",
    "    s = s.astype(str).str.strip()\n",
    "    return s.isna() | s.eq(\"\") | s.eq(\"NA\")\n",
    "\n",
    "def row_has_all_key_fields(df: pd.DataFrame, cols) -> pd.Series:\n",
    "    mask = pd.Series(True, index=df.index)\n",
    "    for c in cols:\n",
    "        mask &= ~is_missing_series(df[c])\n",
    "    return mask\n",
    "\n",
    "# ---- A1. Scale: rows & students ----\n",
    "total_rows = len(iti_df)\n",
    "\n",
    "aadhar = iti_df['aadhar_no'].astype(str).str.strip()\n",
    "aadhar_missing = is_missing_series(aadhar)\n",
    "valid_aadhar = ~aadhar_missing\n",
    "\n",
    "students_total = aadhar[valid_aadhar].nunique()\n",
    "rows_with_missing_aadhar = int(aadhar_missing.sum())\n",
    "\n",
    "# ---- A2. Redundancy: students with >1 row ----\n",
    "rows_per_student = (\n",
    "    iti_df.loc[valid_aadhar]\n",
    "          .groupby(aadhar[valid_aadhar])\n",
    "          .size()\n",
    ")\n",
    "students_multi_rows = int((rows_per_student > 1).sum())\n",
    "pct_students_multi_rows = round(100 * students_multi_rows / max(students_total, 1), 2)\n",
    "\n",
    "# ---- A3. Coverage: students with at least one complete record (all 4 key fields present in the same row) ----\n",
    "complete_row_mask = row_has_all_key_fields(iti_df, KEY_FIELDS)\n",
    "has_complete_row_per_student = complete_row_mask[valid_aadhar].groupby(aadhar[valid_aadhar]).any()\n",
    "students_with_complete = int(has_complete_row_per_student.sum())\n",
    "pct_students_with_complete = round(100 * students_with_complete / max(students_total, 1), 2)\n",
    "\n",
    "# Display summary \n",
    "summary = pd.DataFrame([\n",
    "    {\"Metric\": \"Total rows\", \"Value\": total_rows},\n",
    "    {\"Metric\": \"Rows with missing/invalid Aadhaar\", \"Value\": rows_with_missing_aadhar},\n",
    "    {\"Metric\": \"Students (unique Aadhaar)\", \"Value\": students_total},\n",
    "    {\"Metric\": \"Students with >1 row\", \"Value\": f\"{students_multi_rows} ({pct_students_multi_rows}%)\"},\n",
    "    {\"Metric\": \"Students with ≥1 complete record (4 key fields)\", \"Value\": f\"{students_with_complete} ({pct_students_with_complete}%)\"},\n",
    "])\n",
    "\n",
    "summary"
   ]
  },
  {
   "cell_type": "code",
   "execution_count": null,
   "id": "e39db341",
   "metadata": {},
   "outputs": [
    {
     "name": "stdout",
     "output_type": "stream",
     "text": [
      "Total student records processed for generating key: 559575\n",
      "Unique Aadhaar numbers: 518025\n",
      "Unique student key generated: 543916\n",
      "Duplicate student_keys (How many unique keys were reused): 14874\n"
     ]
    },
    {
     "data": {
      "application/vnd.microsoft.datawrangler.viewer.v0+json": {
       "columns": [
        {
         "name": "index",
         "rawType": "int64",
         "type": "integer"
        },
        {
         "name": "sams_id",
         "rawType": "int64",
         "type": "integer"
        },
        {
         "name": "academic_year",
         "rawType": "int64",
         "type": "integer"
        },
        {
         "name": "barcode",
         "rawType": "object",
         "type": "string"
        },
        {
         "name": "aadhar_no",
         "rawType": "object",
         "type": "string"
        },
        {
         "name": "dob",
         "rawType": "object",
         "type": "string"
        },
        {
         "name": "highest_qualification",
         "rawType": "object",
         "type": "string"
        },
        {
         "name": "passing_year",
         "rawType": "object",
         "type": "string"
        },
        {
         "name": "roll_no",
         "rawType": "object",
         "type": "string"
        },
        {
         "name": "exam_board_name_of_highest_qual",
         "rawType": "object",
         "type": "string"
        },
        {
         "name": "student_key",
         "rawType": "object",
         "type": "string"
        },
        {
         "name": "highest_qualification_std",
         "rawType": "object",
         "type": "string"
        }
       ],
       "ref": "d909e105-910e-437a-9319-e4a99611c122",
       "rows": [
        [
         "0",
         "7404718",
         "2017",
         "17T0181047",
         "DeGxV1bCBqOBygfLzt3u268Es6xBaRZq3tf+eEp6WDw=",
         "01-Jan-2002",
         "10TH",
         "2017",
         "PoLOLFcCUYZ/iR42DWBy2A==",
         "Board of Secondary Education, Odisha, Cuttack-753001",
         "2017_01-Jan-2002_10TH_PoLOLFcCUYZ/iR42DWBy2A==_Board of Secondary Education, Odisha, Cuttack-753001",
         "10th"
        ],
        [
         "1",
         "7404719",
         "2017",
         "17T0114510",
         "6/Vau/OfdeJ6NAV7iD6bmnbzGEexPB8LP/JcN1eroCs=",
         "20-Apr-2000",
         "10TH",
         "2015",
         "Gb1fbGJ4hl2z+FvcTECm4A==",
         "Board of Secondary Education, Odisha, Cuttack-753001",
         "2015_20-Apr-2000_10TH_Gb1fbGJ4hl2z+FvcTECm4A==_Board of Secondary Education, Odisha, Cuttack-753001",
         "10th"
        ],
        [
         "2",
         "7404720",
         "2017",
         "17T0346747",
         "EPFmTPfdOGPrc/oLdkNxJ+t1ocsxYmM+j+/2AL7aEBQ=",
         "07-Oct-2001",
         "10TH",
         "2017",
         "LjH/WJQkl9UJzVJCu+CaSQ==",
         "Board of Secondary Education, Odisha, Cuttack-753001",
         "2017_07-Oct-2001_10TH_LjH/WJQkl9UJzVJCu+CaSQ==_Board of Secondary Education, Odisha, Cuttack-753001",
         "10th"
        ],
        [
         "3",
         "7404721",
         "2017",
         "17T0288737",
         "yg4tiEAGopVFYnXgybQlTen34PqwEI08id2hvZS9spw=",
         "05-Nov-1999",
         "10 TH",
         "2015",
         "3czUb8VotFM3QA1R8yE/Jw==",
         "Board of Secondary Education, Odisha, Cuttack-753001",
         "2015_05-Nov-1999_10 TH_3czUb8VotFM3QA1R8yE/Jw==_Board of Secondary Education, Odisha, Cuttack-753001",
         "10th"
        ],
        [
         "4",
         "7404722",
         "2017",
         "17T0151332",
         "5HZd0Oz9ono6DBV2LKOoQiVGsyUreUWNxVEOdVgcrcs=",
         "20-Apr-1999",
         "12 TH",
         "2014",
         "BpFNV6ZmrmdtbEcHJS6eGg==",
         "Board of Secondary Education, Odisha, Cuttack-753001",
         "2014_20-Apr-1999_12 TH_BpFNV6ZmrmdtbEcHJS6eGg==_Board of Secondary Education, Odisha, Cuttack-753001",
         "12th"
        ]
       ],
       "shape": {
        "columns": 11,
        "rows": 5
       }
      },
      "text/html": [
       "<div>\n",
       "<style scoped>\n",
       "    .dataframe tbody tr th:only-of-type {\n",
       "        vertical-align: middle;\n",
       "    }\n",
       "\n",
       "    .dataframe tbody tr th {\n",
       "        vertical-align: top;\n",
       "    }\n",
       "\n",
       "    .dataframe thead th {\n",
       "        text-align: right;\n",
       "    }\n",
       "</style>\n",
       "<table border=\"1\" class=\"dataframe\">\n",
       "  <thead>\n",
       "    <tr style=\"text-align: right;\">\n",
       "      <th></th>\n",
       "      <th>sams_id</th>\n",
       "      <th>academic_year</th>\n",
       "      <th>barcode</th>\n",
       "      <th>aadhar_no</th>\n",
       "      <th>dob</th>\n",
       "      <th>highest_qualification</th>\n",
       "      <th>passing_year</th>\n",
       "      <th>roll_no</th>\n",
       "      <th>exam_board_name_of_highest_qual</th>\n",
       "      <th>student_key</th>\n",
       "      <th>highest_qualification_std</th>\n",
       "    </tr>\n",
       "  </thead>\n",
       "  <tbody>\n",
       "    <tr>\n",
       "      <th>0</th>\n",
       "      <td>7404718</td>\n",
       "      <td>2017</td>\n",
       "      <td>17T0181047</td>\n",
       "      <td>DeGxV1bCBqOBygfLzt3u268Es6xBaRZq3tf+eEp6WDw=</td>\n",
       "      <td>01-Jan-2002</td>\n",
       "      <td>10TH</td>\n",
       "      <td>2017</td>\n",
       "      <td>PoLOLFcCUYZ/iR42DWBy2A==</td>\n",
       "      <td>Board of Secondary Education, Odisha, Cuttack-...</td>\n",
       "      <td>2017_01-Jan-2002_10TH_PoLOLFcCUYZ/iR42DWBy2A==...</td>\n",
       "      <td>10th</td>\n",
       "    </tr>\n",
       "    <tr>\n",
       "      <th>1</th>\n",
       "      <td>7404719</td>\n",
       "      <td>2017</td>\n",
       "      <td>17T0114510</td>\n",
       "      <td>6/Vau/OfdeJ6NAV7iD6bmnbzGEexPB8LP/JcN1eroCs=</td>\n",
       "      <td>20-Apr-2000</td>\n",
       "      <td>10TH</td>\n",
       "      <td>2015</td>\n",
       "      <td>Gb1fbGJ4hl2z+FvcTECm4A==</td>\n",
       "      <td>Board of Secondary Education, Odisha, Cuttack-...</td>\n",
       "      <td>2015_20-Apr-2000_10TH_Gb1fbGJ4hl2z+FvcTECm4A==...</td>\n",
       "      <td>10th</td>\n",
       "    </tr>\n",
       "    <tr>\n",
       "      <th>2</th>\n",
       "      <td>7404720</td>\n",
       "      <td>2017</td>\n",
       "      <td>17T0346747</td>\n",
       "      <td>EPFmTPfdOGPrc/oLdkNxJ+t1ocsxYmM+j+/2AL7aEBQ=</td>\n",
       "      <td>07-Oct-2001</td>\n",
       "      <td>10TH</td>\n",
       "      <td>2017</td>\n",
       "      <td>LjH/WJQkl9UJzVJCu+CaSQ==</td>\n",
       "      <td>Board of Secondary Education, Odisha, Cuttack-...</td>\n",
       "      <td>2017_07-Oct-2001_10TH_LjH/WJQkl9UJzVJCu+CaSQ==...</td>\n",
       "      <td>10th</td>\n",
       "    </tr>\n",
       "    <tr>\n",
       "      <th>3</th>\n",
       "      <td>7404721</td>\n",
       "      <td>2017</td>\n",
       "      <td>17T0288737</td>\n",
       "      <td>yg4tiEAGopVFYnXgybQlTen34PqwEI08id2hvZS9spw=</td>\n",
       "      <td>05-Nov-1999</td>\n",
       "      <td>10 TH</td>\n",
       "      <td>2015</td>\n",
       "      <td>3czUb8VotFM3QA1R8yE/Jw==</td>\n",
       "      <td>Board of Secondary Education, Odisha, Cuttack-...</td>\n",
       "      <td>2015_05-Nov-1999_10 TH_3czUb8VotFM3QA1R8yE/Jw=...</td>\n",
       "      <td>10th</td>\n",
       "    </tr>\n",
       "    <tr>\n",
       "      <th>4</th>\n",
       "      <td>7404722</td>\n",
       "      <td>2017</td>\n",
       "      <td>17T0151332</td>\n",
       "      <td>5HZd0Oz9ono6DBV2LKOoQiVGsyUreUWNxVEOdVgcrcs=</td>\n",
       "      <td>20-Apr-1999</td>\n",
       "      <td>12 TH</td>\n",
       "      <td>2014</td>\n",
       "      <td>BpFNV6ZmrmdtbEcHJS6eGg==</td>\n",
       "      <td>Board of Secondary Education, Odisha, Cuttack-...</td>\n",
       "      <td>2014_20-Apr-1999_12 TH_BpFNV6ZmrmdtbEcHJS6eGg=...</td>\n",
       "      <td>12th</td>\n",
       "    </tr>\n",
       "  </tbody>\n",
       "</table>\n",
       "</div>"
      ],
      "text/plain": [
       "   sams_id  academic_year     barcode  \\\n",
       "0  7404718           2017  17T0181047   \n",
       "1  7404719           2017  17T0114510   \n",
       "2  7404720           2017  17T0346747   \n",
       "3  7404721           2017  17T0288737   \n",
       "4  7404722           2017  17T0151332   \n",
       "\n",
       "                                      aadhar_no          dob  \\\n",
       "0  DeGxV1bCBqOBygfLzt3u268Es6xBaRZq3tf+eEp6WDw=  01-Jan-2002   \n",
       "1  6/Vau/OfdeJ6NAV7iD6bmnbzGEexPB8LP/JcN1eroCs=  20-Apr-2000   \n",
       "2  EPFmTPfdOGPrc/oLdkNxJ+t1ocsxYmM+j+/2AL7aEBQ=  07-Oct-2001   \n",
       "3  yg4tiEAGopVFYnXgybQlTen34PqwEI08id2hvZS9spw=  05-Nov-1999   \n",
       "4  5HZd0Oz9ono6DBV2LKOoQiVGsyUreUWNxVEOdVgcrcs=  20-Apr-1999   \n",
       "\n",
       "  highest_qualification passing_year                   roll_no  \\\n",
       "0                  10TH         2017  PoLOLFcCUYZ/iR42DWBy2A==   \n",
       "1                  10TH         2015  Gb1fbGJ4hl2z+FvcTECm4A==   \n",
       "2                  10TH         2017  LjH/WJQkl9UJzVJCu+CaSQ==   \n",
       "3                 10 TH         2015  3czUb8VotFM3QA1R8yE/Jw==   \n",
       "4                 12 TH         2014  BpFNV6ZmrmdtbEcHJS6eGg==   \n",
       "\n",
       "                     exam_board_name_of_highest_qual  \\\n",
       "0  Board of Secondary Education, Odisha, Cuttack-...   \n",
       "1  Board of Secondary Education, Odisha, Cuttack-...   \n",
       "2  Board of Secondary Education, Odisha, Cuttack-...   \n",
       "3  Board of Secondary Education, Odisha, Cuttack-...   \n",
       "4  Board of Secondary Education, Odisha, Cuttack-...   \n",
       "\n",
       "                                         student_key highest_qualification_std  \n",
       "0  2017_01-Jan-2002_10TH_PoLOLFcCUYZ/iR42DWBy2A==...                      10th  \n",
       "1  2015_20-Apr-2000_10TH_Gb1fbGJ4hl2z+FvcTECm4A==...                      10th  \n",
       "2  2017_07-Oct-2001_10TH_LjH/WJQkl9UJzVJCu+CaSQ==...                      10th  \n",
       "3  2015_05-Nov-1999_10 TH_3czUb8VotFM3QA1R8yE/Jw=...                      10th  \n",
       "4  2014_20-Apr-1999_12 TH_BpFNV6ZmrmdtbEcHJS6eGg=...                      12th  "
      ]
     },
     "execution_count": 256,
     "metadata": {},
     "output_type": "execute_result"
    }
   ],
   "source": [
    "from sams.preprocessing.iti_diploma_nodes import _fix_qual_names\n",
    "\n",
    "def encode_part(s: pd.Series, *, na_label=\"NA\", missing_label=\"MISSING\", lower=False) -> pd.Series:\n",
    "    \"\"\"\n",
    "    Encodes a string Series by:\n",
    "    - Replacing literal 'NA' with na_label\n",
    "    - Replacing blanks, whitespace, or NaN with missing_label\n",
    "    - Lowercasing (optional) for standardization, excluding placeholders\n",
    "    \"\"\"\n",
    "    is_nan = s.isna()\n",
    "    t = s.astype(str).str.strip()\n",
    "    out = t.copy()\n",
    "\n",
    "    # Literal 'NA' -> na_label\n",
    "    out = out.mask(t.eq(\"NA\"), na_label)\n",
    "\n",
    "    # True NaN or empty/whitespace -> missing_label\n",
    "    out = out.mask(t.eq(\"\") | is_nan, missing_label)\n",
    "\n",
    "    if lower:\n",
    "        out = out.where(out.isin([na_label, missing_label]), out.str.lower())\n",
    "\n",
    "    return out\n",
    "\n",
    "\n",
    "# Generate student_key with standardized highest_qualification\n",
    "# Generate student_key with standardized highest_qualification\n",
    "iti_df['student_key'] = (\n",
    "    encode_part(iti_df['passing_year']) + \"_\" +\n",
    "    encode_part(iti_df['dob']) + \"_\" +\n",
    "    encode_part(iti_df[\"highest_qualification\"]) + \"_\" + \n",
    "    encode_part(iti_df['roll_no']) + \"_\" +\n",
    "    encode_part(iti_df['exam_board_name_of_highest_qual'])\n",
    ")\n",
    "\n",
    "\n",
    "# Quick quality checks\n",
    "# hq_enc = encode_part(df['highest_qualification'], lower=True)\n",
    "\n",
    "# print(\"Students with 'NA' as their highest qualification (kept as-is):\", (hq_enc == \"NA\").sum())\n",
    "# print(\"Students missing highest qualification info (marked as 'MISSING'):\", (hq_enc == \"MISSING\").sum())\n",
    "\n",
    "# Summary of keys\n",
    "total_keys = len(iti_df['student_key'])\n",
    "total_records = len(iti_df)\n",
    "unique_aadhar = iti_df[\"aadhar_no\"].nunique()\n",
    "\n",
    "unique_keys = iti_df['student_key'].nunique()\n",
    "non_unique_key_uses = total_keys - unique_keys\n",
    "\n",
    "print(\"Total student records processed for generating key:\", total_keys)\n",
    "print(\"Unique Aadhaar numbers:\", unique_aadhar)\n",
    "print(\"Unique student key generated:\", unique_keys)\n",
    "# print(\"Duplicate key uses (How many keys were reused):\", non_unique_key_uses)\n",
    "\n",
    "\n",
    "# Duplicate key diagnostics\n",
    "key_counts = iti_df['student_key'].value_counts()\n",
    "duplicate_keys = key_counts[key_counts > 1]\n",
    "duplicate_rows = iti_df['student_key'].isin(duplicate_keys.index).sum()\n",
    "\n",
    "print(\"Duplicate student_keys (How many unique keys were reused):\", len(duplicate_keys))\n",
    "# print(\"Total rows with duplicated keys(How many rows are involved in key duplication):\", duplicate_rows)\n",
    "\n",
    "# Preview updated DataFrame\n",
    "df = iti_df.head()"
   ]
  },
  {
   "cell_type": "code",
   "execution_count": 196,
   "id": "3fab5ab1",
   "metadata": {},
   "outputs": [
    {
     "data": {
      "text/plain": [
       "Index(['sams_id', 'academic_year', 'barcode', 'aadhar_no', 'dob',\n",
       "       'highest_qualification', 'passing_year', 'roll_no',\n",
       "       'exam_board_name_of_highest_qual', 'student_key'],\n",
       "      dtype='object')"
      ]
     },
     "execution_count": 196,
     "metadata": {},
     "output_type": "execute_result"
    }
   ],
   "source": [
    "df.columns"
   ]
  },
  {
   "cell_type": "code",
   "execution_count": null,
   "id": "45961b60",
   "metadata": {},
   "outputs": [],
   "source": [
    "# have to check for the uniqueness of each variable, \n",
    "# like enroll count and unquie variable ('aadhar_no', 'dob','highest_qualification', 'passing_year', 'roll_no','exam_board_name_of_highest_qual') count"
   ]
  },
  {
   "cell_type": "code",
   "execution_count": null,
   "id": "acea7757",
   "metadata": {},
   "outputs": [],
   "source": []
  },
  {
   "cell_type": "code",
   "execution_count": 195,
   "id": "0ef42980",
   "metadata": {},
   "outputs": [
    {
     "data": {
      "application/vnd.microsoft.datawrangler.viewer.v0+json": {
       "columns": [
        {
         "name": "highest_qualification",
         "rawType": "object",
         "type": "string"
        },
        {
         "name": "count",
         "rawType": "int64",
         "type": "integer"
        }
       ],
       "ref": "ca4e254e-d452-4e72-8f0c-9e2b25f8fa4a",
       "rows": [
        [
         "10th",
         "359892"
        ],
        [
         "12th",
         "76918"
        ],
        [
         "NA",
         "72198"
        ],
        [
         "",
         "14973"
        ],
        [
         "Graduate and above",
         "10263"
        ],
        [
         "10TH",
         "3826"
        ],
        [
         "HSC",
         "2592"
        ],
        [
         "10TH PASS",
         "2525"
        ],
        [
         "BA",
         "2399"
        ],
        [
         "JBT/ETT",
         "1094"
        ],
        [
         "MATRIC",
         "901"
        ],
        [
         "Diploma",
         "597"
        ],
        [
         "10th pass",
         "561"
        ],
        [
         "B.Sc",
         "538"
        ],
        [
         "HSC PASS",
         "501"
        ],
        [
         "12TH",
         "448"
        ],
        [
         "OT",
         "428"
        ],
        [
         "CHSE",
         "423"
        ],
        [
         "HSE",
         "333"
        ],
        [
         "10TH PASSED",
         "314"
        ],
        [
         "B.Com",
         "304"
        ],
        [
         "PLUS TWO",
         "275"
        ],
        [
         "MATRICULATION",
         "224"
        ],
        [
         "3 Year Diploma",
         "203"
        ],
        [
         "GRADUATION",
         "200"
        ],
        [
         "PLUS TWO ARTS",
         "197"
        ],
        [
         "10 TH",
         "188"
        ],
        [
         "CHSE ODISHA",
         "184"
        ],
        [
         "ITI Course",
         "180"
        ],
        [
         "hsc",
         "171"
        ],
        [
         "10 TH PASS",
         "167"
        ],
        [
         "hsc passed",
         "165"
        ],
        [
         "IA",
         "152"
        ],
        [
         "BSE",
         "142"
        ],
        [
         "INTERMEDIATE",
         "135"
        ],
        [
         "12TH PASS",
         "126"
        ],
        [
         "B.Ed",
         "125"
        ],
        [
         "matric",
         "119"
        ],
        [
         "PLUS TWO PASS",
         "93"
        ],
        [
         "M.Ed",
         "92"
        ],
        [
         "CHSE PASS",
         "88"
        ],
        [
         "HSC PASSED",
         "85"
        ],
        [
         "PLUS TWO SCIENCE",
         "82"
        ],
        [
         "10",
         "71"
        ],
        [
         "B.Tech",
         "71"
        ],
        [
         "8th",
         "70"
        ],
        [
         "hsc pass",
         "65"
        ],
        [
         "chse",
         "63"
        ],
        [
         "12TH ARTS",
         "60"
        ],
        [
         "BSC",
         "60"
        ]
       ],
       "shape": {
        "columns": 1,
        "rows": 1121
       }
      },
      "text/plain": [
       "highest_qualification\n",
       "10th                     359892\n",
       "12th                      76918\n",
       "NA                        72198\n",
       "                          14973\n",
       "Graduate and above        10263\n",
       "                          ...  \n",
       "Intermedia in Arts            1\n",
       "diploma                       1\n",
       "PLUS 2 VOCATIONAL             1\n",
       "M.Sc.(CS)                     1\n",
       "Master in Engineering         1\n",
       "Name: count, Length: 1121, dtype: int64"
      ]
     },
     "execution_count": 195,
     "metadata": {},
     "output_type": "execute_result"
    }
   ],
   "source": [
    "high_qual_count = df['highest_qualification'].value_counts()\n",
    "high_qual_count"
   ]
  },
  {
   "cell_type": "code",
   "execution_count": null,
   "id": "bdcf6774",
   "metadata": {},
   "outputs": [
    {
     "name": "stdout",
     "output_type": "stream",
     "text": [
      "   academic_year  na_string_count\n",
      "0           2017              102\n",
      "1           2018              183\n",
      "2           2019               52\n",
      "3           2020              218\n",
      "4           2021              312\n",
      "5           2022              296\n",
      "6           2023              481\n",
      "7           2024                0\n"
     ]
    }
   ],
   "source": [
    "na_by_year = (\n",
    "    df.groupby(\"academic_year\")[\"exam_board_name_of_highest_qual\"]\n",
    "      .apply(lambda s: (s == \"NA\").sum())\n",
    "      .reset_index(name=\"na_string_count\")\n",
    ")\n",
    "\n",
    "print(na_by_year)"
   ]
  },
  {
   "cell_type": "code",
   "execution_count": 183,
   "id": "1975f200",
   "metadata": {},
   "outputs": [
    {
     "name": "stdout",
     "output_type": "stream",
     "text": [
      "Total rows with duplicated composite keys: 57705\n"
     ]
    }
   ],
   "source": [
    "rows_with_duplicated_keys = df[df['student_key'].isin(duplicate_keys.index)]\n",
    "\n",
    "print(f\"Total rows with duplicated composite keys: {len(rows_with_duplicated_keys)}\")"
   ]
  },
  {
   "cell_type": "code",
   "execution_count": 184,
   "id": "49f5decc",
   "metadata": {},
   "outputs": [
    {
     "data": {
      "application/vnd.microsoft.datawrangler.viewer.v0+json": {
       "columns": [
        {
         "name": "index",
         "rawType": "int64",
         "type": "integer"
        },
        {
         "name": "sams_id",
         "rawType": "int64",
         "type": "integer"
        },
        {
         "name": "academic_year",
         "rawType": "int64",
         "type": "integer"
        },
        {
         "name": "barcode",
         "rawType": "object",
         "type": "string"
        },
        {
         "name": "aadhar_no",
         "rawType": "object",
         "type": "string"
        },
        {
         "name": "dob",
         "rawType": "object",
         "type": "string"
        },
        {
         "name": "highest_qualification",
         "rawType": "object",
         "type": "string"
        },
        {
         "name": "passing_year",
         "rawType": "object",
         "type": "string"
        },
        {
         "name": "roll_no",
         "rawType": "object",
         "type": "string"
        },
        {
         "name": "exam_board_name_of_highest_qual",
         "rawType": "object",
         "type": "string"
        },
        {
         "name": "student_key",
         "rawType": "object",
         "type": "string"
        }
       ],
       "ref": "62bf833c-fb7a-411e-9d34-2908a852d315",
       "rows": [
        [
         "223990",
         "7628708",
         "2020",
         "20T0001304",
         "w0xEqev+9oEfD/MyabsPOE6RUN8lUpx4tuBb692UEOc=",
         "04-Oct-2001",
         "10th",
         "2017",
         "zpYPVPKkyc2AWkMEZJGe8w==",
         "Board of Secondary Education, Odisha, Cuttack-753001",
         "2017_04-Oct-2001_zpYPVPKkyc2AWkMEZJGe8w==_Board of Secondary Education, Odisha, Cuttack-753001"
        ],
        [
         "107100",
         "7511818",
         "2018",
         "18T0445707",
         "lH/7VmdItB99eMkCN/KOyPhDPIebYmOlWNYNvlVikrE=",
         "15-Apr-2002",
         "10th",
         "2018",
         "SH3OqhzJpeUi1vWjnhFKqg==",
         "Board of Secondary Education, Odisha, Cuttack-753001",
         "2018_15-Apr-2002_SH3OqhzJpeUi1vWjnhFKqg==_Board of Secondary Education, Odisha, Cuttack-753001"
        ],
        [
         "234404",
         "7639122",
         "2020",
         "20T00595811",
         "2GjDm+A9wn4tOGg10s+vlvAJ36Yo71K/sONy0wZ4I2Q=",
         "28-Mar-2000",
         "NA",
         "2016",
         "6u1d1T1CpyBohL0mj3GfBQ==",
         "Board of Secondary Education, Odisha, Cuttack-753001",
         "2016_28-Mar-2000_6u1d1T1CpyBohL0mj3GfBQ==_Board of Secondary Education, Odisha, Cuttack-753001"
        ],
        [
         "38039",
         "7442757",
         "2018",
         "18T00425011",
         "7vYpSJ+/EDL5JfTVAufkeLZAwfVHUP6JHNcfpF/XGwk=",
         "04-Jan-1998",
         "10th",
         "2013",
         "5c3VfBnaShSwrvEpCdgiLQ==",
         "Board of Secondary Education, Odisha, Cuttack-753001",
         "2013_04-Jan-1998_5c3VfBnaShSwrvEpCdgiLQ==_Board of Secondary Education, Odisha, Cuttack-753001"
        ],
        [
         "451399",
         "7856117",
         "2023",
         "23T09361110",
         "OrS6q1qU3W7JmgUkUgiKjavml3VLaE0pNRNyQj1ZutU=",
         "06-Nov-2006",
         "10th",
         "2022",
         "32odOEti2gXn3tNcaH2Qag==",
         "Board of Secondary Education, Odisha, Cuttack-753001",
         "2022_06-Nov-2006_32odOEti2gXn3tNcaH2Qag==_Board of Secondary Education, Odisha, Cuttack-753001"
        ]
       ],
       "shape": {
        "columns": 10,
        "rows": 5
       }
      },
      "text/html": [
       "<div>\n",
       "<style scoped>\n",
       "    .dataframe tbody tr th:only-of-type {\n",
       "        vertical-align: middle;\n",
       "    }\n",
       "\n",
       "    .dataframe tbody tr th {\n",
       "        vertical-align: top;\n",
       "    }\n",
       "\n",
       "    .dataframe thead th {\n",
       "        text-align: right;\n",
       "    }\n",
       "</style>\n",
       "<table border=\"1\" class=\"dataframe\">\n",
       "  <thead>\n",
       "    <tr style=\"text-align: right;\">\n",
       "      <th></th>\n",
       "      <th>sams_id</th>\n",
       "      <th>academic_year</th>\n",
       "      <th>barcode</th>\n",
       "      <th>aadhar_no</th>\n",
       "      <th>dob</th>\n",
       "      <th>highest_qualification</th>\n",
       "      <th>passing_year</th>\n",
       "      <th>roll_no</th>\n",
       "      <th>exam_board_name_of_highest_qual</th>\n",
       "      <th>student_key</th>\n",
       "    </tr>\n",
       "  </thead>\n",
       "  <tbody>\n",
       "    <tr>\n",
       "      <th>223990</th>\n",
       "      <td>7628708</td>\n",
       "      <td>2020</td>\n",
       "      <td>20T0001304</td>\n",
       "      <td>w0xEqev+9oEfD/MyabsPOE6RUN8lUpx4tuBb692UEOc=</td>\n",
       "      <td>04-Oct-2001</td>\n",
       "      <td>10th</td>\n",
       "      <td>2017</td>\n",
       "      <td>zpYPVPKkyc2AWkMEZJGe8w==</td>\n",
       "      <td>Board of Secondary Education, Odisha, Cuttack-...</td>\n",
       "      <td>2017_04-Oct-2001_zpYPVPKkyc2AWkMEZJGe8w==_Boar...</td>\n",
       "    </tr>\n",
       "    <tr>\n",
       "      <th>107100</th>\n",
       "      <td>7511818</td>\n",
       "      <td>2018</td>\n",
       "      <td>18T0445707</td>\n",
       "      <td>lH/7VmdItB99eMkCN/KOyPhDPIebYmOlWNYNvlVikrE=</td>\n",
       "      <td>15-Apr-2002</td>\n",
       "      <td>10th</td>\n",
       "      <td>2018</td>\n",
       "      <td>SH3OqhzJpeUi1vWjnhFKqg==</td>\n",
       "      <td>Board of Secondary Education, Odisha, Cuttack-...</td>\n",
       "      <td>2018_15-Apr-2002_SH3OqhzJpeUi1vWjnhFKqg==_Boar...</td>\n",
       "    </tr>\n",
       "    <tr>\n",
       "      <th>234404</th>\n",
       "      <td>7639122</td>\n",
       "      <td>2020</td>\n",
       "      <td>20T00595811</td>\n",
       "      <td>2GjDm+A9wn4tOGg10s+vlvAJ36Yo71K/sONy0wZ4I2Q=</td>\n",
       "      <td>28-Mar-2000</td>\n",
       "      <td>NA</td>\n",
       "      <td>2016</td>\n",
       "      <td>6u1d1T1CpyBohL0mj3GfBQ==</td>\n",
       "      <td>Board of Secondary Education, Odisha, Cuttack-...</td>\n",
       "      <td>2016_28-Mar-2000_6u1d1T1CpyBohL0mj3GfBQ==_Boar...</td>\n",
       "    </tr>\n",
       "    <tr>\n",
       "      <th>38039</th>\n",
       "      <td>7442757</td>\n",
       "      <td>2018</td>\n",
       "      <td>18T00425011</td>\n",
       "      <td>7vYpSJ+/EDL5JfTVAufkeLZAwfVHUP6JHNcfpF/XGwk=</td>\n",
       "      <td>04-Jan-1998</td>\n",
       "      <td>10th</td>\n",
       "      <td>2013</td>\n",
       "      <td>5c3VfBnaShSwrvEpCdgiLQ==</td>\n",
       "      <td>Board of Secondary Education, Odisha, Cuttack-...</td>\n",
       "      <td>2013_04-Jan-1998_5c3VfBnaShSwrvEpCdgiLQ==_Boar...</td>\n",
       "    </tr>\n",
       "    <tr>\n",
       "      <th>451399</th>\n",
       "      <td>7856117</td>\n",
       "      <td>2023</td>\n",
       "      <td>23T09361110</td>\n",
       "      <td>OrS6q1qU3W7JmgUkUgiKjavml3VLaE0pNRNyQj1ZutU=</td>\n",
       "      <td>06-Nov-2006</td>\n",
       "      <td>10th</td>\n",
       "      <td>2022</td>\n",
       "      <td>32odOEti2gXn3tNcaH2Qag==</td>\n",
       "      <td>Board of Secondary Education, Odisha, Cuttack-...</td>\n",
       "      <td>2022_06-Nov-2006_32odOEti2gXn3tNcaH2Qag==_Boar...</td>\n",
       "    </tr>\n",
       "  </tbody>\n",
       "</table>\n",
       "</div>"
      ],
      "text/plain": [
       "        sams_id  academic_year      barcode  \\\n",
       "223990  7628708           2020   20T0001304   \n",
       "107100  7511818           2018   18T0445707   \n",
       "234404  7639122           2020  20T00595811   \n",
       "38039   7442757           2018  18T00425011   \n",
       "451399  7856117           2023  23T09361110   \n",
       "\n",
       "                                           aadhar_no          dob  \\\n",
       "223990  w0xEqev+9oEfD/MyabsPOE6RUN8lUpx4tuBb692UEOc=  04-Oct-2001   \n",
       "107100  lH/7VmdItB99eMkCN/KOyPhDPIebYmOlWNYNvlVikrE=  15-Apr-2002   \n",
       "234404  2GjDm+A9wn4tOGg10s+vlvAJ36Yo71K/sONy0wZ4I2Q=  28-Mar-2000   \n",
       "38039   7vYpSJ+/EDL5JfTVAufkeLZAwfVHUP6JHNcfpF/XGwk=  04-Jan-1998   \n",
       "451399  OrS6q1qU3W7JmgUkUgiKjavml3VLaE0pNRNyQj1ZutU=  06-Nov-2006   \n",
       "\n",
       "       highest_qualification passing_year                   roll_no  \\\n",
       "223990                  10th         2017  zpYPVPKkyc2AWkMEZJGe8w==   \n",
       "107100                  10th         2018  SH3OqhzJpeUi1vWjnhFKqg==   \n",
       "234404                    NA         2016  6u1d1T1CpyBohL0mj3GfBQ==   \n",
       "38039                   10th         2013  5c3VfBnaShSwrvEpCdgiLQ==   \n",
       "451399                  10th         2022  32odOEti2gXn3tNcaH2Qag==   \n",
       "\n",
       "                          exam_board_name_of_highest_qual  \\\n",
       "223990  Board of Secondary Education, Odisha, Cuttack-...   \n",
       "107100  Board of Secondary Education, Odisha, Cuttack-...   \n",
       "234404  Board of Secondary Education, Odisha, Cuttack-...   \n",
       "38039   Board of Secondary Education, Odisha, Cuttack-...   \n",
       "451399  Board of Secondary Education, Odisha, Cuttack-...   \n",
       "\n",
       "                                              student_key  \n",
       "223990  2017_04-Oct-2001_zpYPVPKkyc2AWkMEZJGe8w==_Boar...  \n",
       "107100  2018_15-Apr-2002_SH3OqhzJpeUi1vWjnhFKqg==_Boar...  \n",
       "234404  2016_28-Mar-2000_6u1d1T1CpyBohL0mj3GfBQ==_Boar...  \n",
       "38039   2013_04-Jan-1998_5c3VfBnaShSwrvEpCdgiLQ==_Boar...  \n",
       "451399  2022_06-Nov-2006_32odOEti2gXn3tNcaH2Qag==_Boar...  "
      ]
     },
     "execution_count": 184,
     "metadata": {},
     "output_type": "execute_result"
    }
   ],
   "source": [
    "rows_with_duplicated_keys.sample(5)"
   ]
  },
  {
   "cell_type": "code",
   "execution_count": 185,
   "id": "ffa0fb0a",
   "metadata": {},
   "outputs": [
    {
     "data": {
      "application/vnd.microsoft.datawrangler.viewer.v0+json": {
       "columns": [
        {
         "name": "student_key",
         "rawType": "object",
         "type": "string"
        },
        {
         "name": "count",
         "rawType": "int64",
         "type": "integer"
        }
       ],
       "ref": "33f0e636-67b9-44b8-ad2a-6945afb127e0",
       "rows": [
        [
         "2010_15-May-1993_9wIzGIy7YkWroQ7fX790ag==_Board of Secondary Education, Odisha, Cuttack-753001",
         "7"
        ],
        [
         "2015_06-May-1999_5cx6HNlPN9N2PAHg/EB5Fg==_Board of Secondary Education, Odisha, Cuttack-753001",
         "6"
        ],
        [
         "2014_15-Jun-1999_2wkNbSPM350/xZ773pooCQ==_Board of Secondary Education, Odisha, Cuttack-753001",
         "6"
        ],
        [
         "2002_21-Apr-1987_jWlOQX0hinwWcp7RPujpQw==_Board of Secondary Education, Odisha, Cuttack-753001",
         "6"
        ],
        [
         "2015_30-Jul-1998_PhYyRVzo5FqtDeZZW3sT2A==_Central Board of Secondary Education, 02-Community Centre, Shaiksha Kendra, Preet Vihar, Delhi-110301",
         "6"
        ],
        [
         "2015_03-Jun-1999_7pCTSEqkgcE5k0Af4RvVIA==_Board of Secondary Education, Odisha, Cuttack-753001",
         "6"
        ],
        [
         "2015_29-Jun-1999_1z60joFAuB9kG6zMMZRUGg==_Board of Secondary Education, Odisha, Cuttack-753001",
         "6"
        ],
        [
         "2014_12-May-1998_YyCJzb15bZFk1rnv5VJRQw==_Board of Secondary Education, Odisha, Cuttack-753001",
         "6"
        ],
        [
         "2011_30-May-1995_J67ibHlz2JFVKXx8aQdsog==_Board of Secondary Education, Odisha, Cuttack-753001",
         "6"
        ],
        [
         "2008_07-Mar-1993_PJy2Qsp5Pjuu4mn6nmuMww==_Board of Secondary Education, Odisha, Cuttack-753001",
         "5"
        ],
        [
         "2011_08-Aug-1995_RJVTC7iESptCsNjS2TmtVQ==_Board of Secondary Education, Odisha, Cuttack-753001",
         "5"
        ],
        [
         "2015_22-Nov-1999_HbbdIP07UjLO0yxNGCy9fw==_Board of Secondary Education, Odisha, Cuttack-753001",
         "5"
        ],
        [
         "2018_16-Apr-2002_nAqzu2y0X+SHFIG5GEMobA==_Board of Secondary Education, Odisha, Cuttack-753001",
         "5"
        ],
        [
         "2017_08-Jul-2002_TMcxjFxszmHWlsx1CSeQ/w==_Board of Secondary Education, Odisha, Cuttack-753001",
         "5"
        ],
        [
         "2015_01-Mar-2000_xxoSNOoHlWFfwNamvBBu2w==_Board of Secondary Education, Odisha, Cuttack-753001",
         "5"
        ],
        [
         "2017_02-Apr-2002_YxZXAqkH9OYsrPHbwefNzw==_Board of Secondary Education, Odisha, Cuttack-753001",
         "5"
        ],
        [
         "2007_21-Apr-1991_oPeURic2yBADteRsN8dW/A==_Board of Secondary Education, Odisha, Cuttack-753001",
         "5"
        ],
        [
         "2010_16-Aug-1995_RJSHGiTfEdSvB/tIMf0uMQ==_Board of Secondary Education, Odisha, Cuttack-753001",
         "5"
        ],
        [
         "2014_31-Dec-1997_arX276EgnYJqhbkrNwkTMA==_Board of Secondary Education, Odisha, Cuttack-753001",
         "5"
        ],
        [
         "2009_22-Jun-1994_ar9ybIV19UxbwqOoYvtxew==_Board of Secondary Education, Odisha, Cuttack-753001",
         "5"
        ],
        [
         "2017_27-May-2001_uAY1e6WiUH/liuB4Jc0qwg==_Board of Secondary Education, Odisha, Cuttack-753001",
         "5"
        ],
        [
         "2015_14-Aug-1999_mfisVbGOgMGsX+OOelzJSg==_Board of Secondary Education, Odisha, Cuttack-753001",
         "5"
        ],
        [
         "2017_14-Apr-2000_d/JFSR9+dPJLocP0/6sxzg==_Board of Secondary Education, Odisha, Cuttack-753001",
         "5"
        ],
        [
         "2015_15-Mar-1998_yIrNe5uQe5R7Pc59LU/rDw==_Board of Secondary Education, Odisha, Cuttack-753001",
         "5"
        ],
        [
         "2014_15-Mar-1993_u8lns6UBrhsgPYJkI0IMqg==_Board of Secondary Education, Odisha, Cuttack-753001",
         "5"
        ],
        [
         "2014_10-Jun-1997_UtH+UmWsN7F1iAMmdTJ7Aw==_Board of Secondary Education, Odisha, Cuttack-753001",
         "5"
        ],
        [
         "2011_05-Jul-1995_SGm57w6/TTZduQ382Tying==_Board of Secondary Education, Odisha, Cuttack-753001",
         "5"
        ],
        [
         "2014_11-Jun-1999_LiaWAyTLkYAh8sie5rpHkA==_Board of Secondary Education, Odisha, Cuttack-753001",
         "5"
        ],
        [
         "2015_28-Mar-2000_wF2ENrOsHHbKOuhh0uyjgQ==_Board of Secondary Education, Odisha, Cuttack-753001",
         "5"
        ],
        [
         "2014_12-May-1999_33CVJUuYnQCLeRpPpGn5AA==_Board of Secondary Education, Odisha, Cuttack-753001",
         "5"
        ],
        [
         "2019_02-Jun-1993_0fX4/VLul/uXwjzCD+PkGg==_Board of Secondary Education, Odisha, Cuttack-753001",
         "5"
        ],
        [
         "2015_16-Apr-1996_W9TzTIbxNeLInnB4JoGnpQ==_Board of Secondary Education, Odisha, Cuttack-753001",
         "5"
        ],
        [
         "2015_25-Apr-2000_a/DtX3LErMzP+Y3KXQpPQQ==_Board of Secondary Education, Odisha, Cuttack-753001",
         "5"
        ],
        [
         "2014_14-Jun-1999_WmCt7tZn+DDknQLciqAD+g==_Board of Secondary Education, Odisha, Cuttack-753001",
         "5"
        ],
        [
         "2013_22-May-1998_jZJ9/rHopwjtz8Jnd4KOCA==_Board of Secondary Education, Odisha, Cuttack-753001",
         "4"
        ],
        [
         "2014_20-May-1999_rjApPCsLUmDc8tIvq/y9JA==_Board of Secondary Education, Odisha, Cuttack-753001",
         "4"
        ],
        [
         "2015_25-Jun-1997_6+09n0LhzlVD9hYu3QwDlQ==_Board of Secondary Education, Odisha, Cuttack-753001",
         "4"
        ],
        [
         "2018_24-Jan-2002_imEoOzg9353E0NB/Xc8SQQ==_Board of Secondary Education, Odisha, Cuttack-753001",
         "4"
        ],
        [
         "2015_14-Jun-1999_oo/sr+wMyK12DUjkIJ9K+w==_Board of Secondary Education, Odisha, Cuttack-753001",
         "4"
        ],
        [
         "2010_01-Jul-1993_K7YL3q/nOozfl0YTXI3fCA==_Board of Secondary Education, Odisha, Cuttack-753001",
         "4"
        ],
        [
         "2015_01-Dec-1999_AY4RBfRN9ScUg0K2hU7cLw==_Board of Secondary Education, Odisha, Cuttack-753001",
         "4"
        ],
        [
         "2015_20-Jan-2000_sougXMGPhBiJc5V77swLBQ==_Board of Secondary Education, Odisha, Cuttack-753001",
         "4"
        ],
        [
         "2015_26-Jun-1999_Xa8KpxoQO7tSGIZYsaZ02g==_Board of Secondary Education, Odisha, Cuttack-753001",
         "4"
        ],
        [
         "2015_01-Jul-2000_hTp6bCKU9xnjQhOWhvRuPg==_Board of Secondary Education, Odisha, Cuttack-753001",
         "4"
        ],
        [
         "2017_02-Jan-2000_FKXUV50gxIGDFXJj9nXcDg==_Board of Secondary Education, Odisha, Cuttack-753001",
         "4"
        ],
        [
         "2014_21-Apr-1998_BOuMZQnJvSuIiDmS6WyFpg==_Board of Secondary Education, Odisha, Cuttack-753001",
         "4"
        ],
        [
         "2014_01-Jun-1999_NFydzze4LvjniYN3ptZQ1w==_Board of Secondary Education, Odisha, Cuttack-753001",
         "4"
        ],
        [
         "2014_09-May-1999_VWZNG8dczCYihlL9xH84ug==_Board of Secondary Education, Odisha, Cuttack-753001",
         "4"
        ],
        [
         "2011_04-Feb-1996_xoN+wzNBMW1HgIjtd9OyOg==_Board of Secondary Education, Odisha, Cuttack-753001",
         "4"
        ],
        [
         "2015_17-Jan-2000_ibud0fH/clC5y5RHKhPAVQ==_Board of Secondary Education, Odisha, Cuttack-753001",
         "4"
        ]
       ],
       "shape": {
        "columns": 1,
        "rows": 27456
       }
      },
      "text/plain": [
       "student_key\n",
       "2010_15-May-1993_9wIzGIy7YkWroQ7fX790ag==_Board of Secondary Education, Odisha, Cuttack-753001                                                     7\n",
       "2015_06-May-1999_5cx6HNlPN9N2PAHg/EB5Fg==_Board of Secondary Education, Odisha, Cuttack-753001                                                     6\n",
       "2014_15-Jun-1999_2wkNbSPM350/xZ773pooCQ==_Board of Secondary Education, Odisha, Cuttack-753001                                                     6\n",
       "2002_21-Apr-1987_jWlOQX0hinwWcp7RPujpQw==_Board of Secondary Education, Odisha, Cuttack-753001                                                     6\n",
       "2015_30-Jul-1998_PhYyRVzo5FqtDeZZW3sT2A==_Central Board of Secondary Education, 02-Community Centre, Shaiksha Kendra, Preet Vihar, Delhi-110301    6\n",
       "                                                                                                                                                  ..\n",
       "2018_06-Mar-2002_mUjMSEtTdhV1PIf9uan01A==_Board of Secondary Education, Odisha, Cuttack-753001                                                     2\n",
       "2016_08-Feb-2000_WK4B4Zgp4ZakDGyfeJZiHw==_Board of Secondary Education, Odisha, Cuttack-753001                                                     2\n",
       "2018_25-Mar-2002_rzdEZ8quRdf+bu3VVylsvg==_Board of Secondary Education, Odisha, Cuttack-753001                                                     2\n",
       "2015_08-May-1999_Jzs7fpDrEQ4d4X0jSJHVrw==_Board of Secondary Education, Odisha, Cuttack-753001                                                     2\n",
       "2017_04-Mar-2000_HU+6S094lGyvPP0D2WMR1A==_Board of Secondary Education, Odisha, Cuttack-753001                                                     2\n",
       "Name: count, Length: 27456, dtype: int64"
      ]
     },
     "execution_count": 185,
     "metadata": {},
     "output_type": "execute_result"
    }
   ],
   "source": [
    "# Count how many times each composite key appears\n",
    "key_counts = df['student_key'].value_counts()\n",
    "\n",
    "# Keep only keys that appear more than once\n",
    "duplicate_keys = key_counts[key_counts > 1]\n",
    "duplicate_keys"
   ]
  },
  {
   "cell_type": "code",
   "execution_count": 186,
   "id": "f0e9ebc1",
   "metadata": {},
   "outputs": [
    {
     "data": {
      "application/vnd.microsoft.datawrangler.viewer.v0+json": {
       "columns": [
        {
         "name": "index",
         "rawType": "int64",
         "type": "integer"
        },
        {
         "name": "sams_id",
         "rawType": "int64",
         "type": "integer"
        },
        {
         "name": "academic_year",
         "rawType": "int64",
         "type": "integer"
        },
        {
         "name": "barcode",
         "rawType": "object",
         "type": "string"
        },
        {
         "name": "aadhar_no",
         "rawType": "object",
         "type": "string"
        },
        {
         "name": "dob",
         "rawType": "object",
         "type": "string"
        },
        {
         "name": "highest_qualification",
         "rawType": "object",
         "type": "string"
        },
        {
         "name": "passing_year",
         "rawType": "object",
         "type": "string"
        },
        {
         "name": "roll_no",
         "rawType": "object",
         "type": "string"
        },
        {
         "name": "exam_board_name_of_highest_qual",
         "rawType": "object",
         "type": "string"
        },
        {
         "name": "student_key",
         "rawType": "object",
         "type": "string"
        },
        {
         "name": "dup_count",
         "rawType": "int64",
         "type": "integer"
        }
       ],
       "ref": "4455afee-f1ec-4e69-b6af-00e3b4880d3e",
       "rows": [
        [
         "26853",
         "7431571",
         "2017",
         "17T0182328",
         "nKRxoM4K/9+CxLTs+Rdv5/BJGXU6PkZEmBdOzCY3Ahw=",
         "15-May-1993",
         "HIGHER SECONDARY",
         "2010",
         "9wIzGIy7YkWroQ7fX790ag==",
         "Board of Secondary Education, Odisha, Cuttack-753001",
         "2010_15-May-1993_9wIzGIy7YkWroQ7fX790ag==_Board of Secondary Education, Odisha, Cuttack-753001",
         "7"
        ],
        [
         "100193",
         "7504911",
         "2018",
         "18T01361710",
         "nKRxoM4K/9+CxLTs+Rdv5/BJGXU6PkZEmBdOzCY3Ahw=",
         "15-May-1993",
         "10th",
         "2010",
         "9wIzGIy7YkWroQ7fX790ag==",
         "Board of Secondary Education, Odisha, Cuttack-753001",
         "2010_15-May-1993_9wIzGIy7YkWroQ7fX790ag==_Board of Secondary Education, Odisha, Cuttack-753001",
         "7"
        ],
        [
         "167615",
         "7572333",
         "2019",
         "19T0079425",
         "nKRxoM4K/9+CxLTs+Rdv5/BJGXU6PkZEmBdOzCY3Ahw=",
         "15-May-1993",
         "NA",
         "2010",
         "9wIzGIy7YkWroQ7fX790ag==",
         "Board of Secondary Education, Odisha, Cuttack-753001",
         "2010_15-May-1993_9wIzGIy7YkWroQ7fX790ag==_Board of Secondary Education, Odisha, Cuttack-753001",
         "7"
        ],
        [
         "232055",
         "7636773",
         "2020",
         "20T0314988",
         "nKRxoM4K/9+CxLTs+Rdv5/BJGXU6PkZEmBdOzCY3Ahw=",
         "15-May-1993",
         "Graduate and above",
         "2010",
         "9wIzGIy7YkWroQ7fX790ag==",
         "Board of Secondary Education, Odisha, Cuttack-753001",
         "2010_15-May-1993_9wIzGIy7YkWroQ7fX790ag==_Board of Secondary Education, Odisha, Cuttack-753001",
         "7"
        ],
        [
         "308878",
         "7713596",
         "2021",
         "21T0029982",
         "nKRxoM4K/9+CxLTs+Rdv5/BJGXU6PkZEmBdOzCY3Ahw=",
         "15-May-1993",
         "10th",
         "2010",
         "9wIzGIy7YkWroQ7fX790ag==",
         "Board of Secondary Education, Odisha, Cuttack-753001",
         "2010_15-May-1993_9wIzGIy7YkWroQ7fX790ag==_Board of Secondary Education, Odisha, Cuttack-753001",
         "7"
        ]
       ],
       "shape": {
        "columns": 11,
        "rows": 5
       }
      },
      "text/html": [
       "<div>\n",
       "<style scoped>\n",
       "    .dataframe tbody tr th:only-of-type {\n",
       "        vertical-align: middle;\n",
       "    }\n",
       "\n",
       "    .dataframe tbody tr th {\n",
       "        vertical-align: top;\n",
       "    }\n",
       "\n",
       "    .dataframe thead th {\n",
       "        text-align: right;\n",
       "    }\n",
       "</style>\n",
       "<table border=\"1\" class=\"dataframe\">\n",
       "  <thead>\n",
       "    <tr style=\"text-align: right;\">\n",
       "      <th></th>\n",
       "      <th>sams_id</th>\n",
       "      <th>academic_year</th>\n",
       "      <th>barcode</th>\n",
       "      <th>aadhar_no</th>\n",
       "      <th>dob</th>\n",
       "      <th>highest_qualification</th>\n",
       "      <th>passing_year</th>\n",
       "      <th>roll_no</th>\n",
       "      <th>exam_board_name_of_highest_qual</th>\n",
       "      <th>student_key</th>\n",
       "      <th>dup_count</th>\n",
       "    </tr>\n",
       "  </thead>\n",
       "  <tbody>\n",
       "    <tr>\n",
       "      <th>26853</th>\n",
       "      <td>7431571</td>\n",
       "      <td>2017</td>\n",
       "      <td>17T0182328</td>\n",
       "      <td>nKRxoM4K/9+CxLTs+Rdv5/BJGXU6PkZEmBdOzCY3Ahw=</td>\n",
       "      <td>15-May-1993</td>\n",
       "      <td>HIGHER SECONDARY</td>\n",
       "      <td>2010</td>\n",
       "      <td>9wIzGIy7YkWroQ7fX790ag==</td>\n",
       "      <td>Board of Secondary Education, Odisha, Cuttack-...</td>\n",
       "      <td>2010_15-May-1993_9wIzGIy7YkWroQ7fX790ag==_Boar...</td>\n",
       "      <td>7</td>\n",
       "    </tr>\n",
       "    <tr>\n",
       "      <th>100193</th>\n",
       "      <td>7504911</td>\n",
       "      <td>2018</td>\n",
       "      <td>18T01361710</td>\n",
       "      <td>nKRxoM4K/9+CxLTs+Rdv5/BJGXU6PkZEmBdOzCY3Ahw=</td>\n",
       "      <td>15-May-1993</td>\n",
       "      <td>10th</td>\n",
       "      <td>2010</td>\n",
       "      <td>9wIzGIy7YkWroQ7fX790ag==</td>\n",
       "      <td>Board of Secondary Education, Odisha, Cuttack-...</td>\n",
       "      <td>2010_15-May-1993_9wIzGIy7YkWroQ7fX790ag==_Boar...</td>\n",
       "      <td>7</td>\n",
       "    </tr>\n",
       "    <tr>\n",
       "      <th>167615</th>\n",
       "      <td>7572333</td>\n",
       "      <td>2019</td>\n",
       "      <td>19T0079425</td>\n",
       "      <td>nKRxoM4K/9+CxLTs+Rdv5/BJGXU6PkZEmBdOzCY3Ahw=</td>\n",
       "      <td>15-May-1993</td>\n",
       "      <td>NA</td>\n",
       "      <td>2010</td>\n",
       "      <td>9wIzGIy7YkWroQ7fX790ag==</td>\n",
       "      <td>Board of Secondary Education, Odisha, Cuttack-...</td>\n",
       "      <td>2010_15-May-1993_9wIzGIy7YkWroQ7fX790ag==_Boar...</td>\n",
       "      <td>7</td>\n",
       "    </tr>\n",
       "    <tr>\n",
       "      <th>232055</th>\n",
       "      <td>7636773</td>\n",
       "      <td>2020</td>\n",
       "      <td>20T0314988</td>\n",
       "      <td>nKRxoM4K/9+CxLTs+Rdv5/BJGXU6PkZEmBdOzCY3Ahw=</td>\n",
       "      <td>15-May-1993</td>\n",
       "      <td>Graduate and above</td>\n",
       "      <td>2010</td>\n",
       "      <td>9wIzGIy7YkWroQ7fX790ag==</td>\n",
       "      <td>Board of Secondary Education, Odisha, Cuttack-...</td>\n",
       "      <td>2010_15-May-1993_9wIzGIy7YkWroQ7fX790ag==_Boar...</td>\n",
       "      <td>7</td>\n",
       "    </tr>\n",
       "    <tr>\n",
       "      <th>308878</th>\n",
       "      <td>7713596</td>\n",
       "      <td>2021</td>\n",
       "      <td>21T0029982</td>\n",
       "      <td>nKRxoM4K/9+CxLTs+Rdv5/BJGXU6PkZEmBdOzCY3Ahw=</td>\n",
       "      <td>15-May-1993</td>\n",
       "      <td>10th</td>\n",
       "      <td>2010</td>\n",
       "      <td>9wIzGIy7YkWroQ7fX790ag==</td>\n",
       "      <td>Board of Secondary Education, Odisha, Cuttack-...</td>\n",
       "      <td>2010_15-May-1993_9wIzGIy7YkWroQ7fX790ag==_Boar...</td>\n",
       "      <td>7</td>\n",
       "    </tr>\n",
       "  </tbody>\n",
       "</table>\n",
       "</div>"
      ],
      "text/plain": [
       "        sams_id  academic_year      barcode  \\\n",
       "26853   7431571           2017   17T0182328   \n",
       "100193  7504911           2018  18T01361710   \n",
       "167615  7572333           2019   19T0079425   \n",
       "232055  7636773           2020   20T0314988   \n",
       "308878  7713596           2021   21T0029982   \n",
       "\n",
       "                                           aadhar_no          dob  \\\n",
       "26853   nKRxoM4K/9+CxLTs+Rdv5/BJGXU6PkZEmBdOzCY3Ahw=  15-May-1993   \n",
       "100193  nKRxoM4K/9+CxLTs+Rdv5/BJGXU6PkZEmBdOzCY3Ahw=  15-May-1993   \n",
       "167615  nKRxoM4K/9+CxLTs+Rdv5/BJGXU6PkZEmBdOzCY3Ahw=  15-May-1993   \n",
       "232055  nKRxoM4K/9+CxLTs+Rdv5/BJGXU6PkZEmBdOzCY3Ahw=  15-May-1993   \n",
       "308878  nKRxoM4K/9+CxLTs+Rdv5/BJGXU6PkZEmBdOzCY3Ahw=  15-May-1993   \n",
       "\n",
       "       highest_qualification passing_year                   roll_no  \\\n",
       "26853       HIGHER SECONDARY         2010  9wIzGIy7YkWroQ7fX790ag==   \n",
       "100193                  10th         2010  9wIzGIy7YkWroQ7fX790ag==   \n",
       "167615                    NA         2010  9wIzGIy7YkWroQ7fX790ag==   \n",
       "232055    Graduate and above         2010  9wIzGIy7YkWroQ7fX790ag==   \n",
       "308878                  10th         2010  9wIzGIy7YkWroQ7fX790ag==   \n",
       "\n",
       "                          exam_board_name_of_highest_qual  \\\n",
       "26853   Board of Secondary Education, Odisha, Cuttack-...   \n",
       "100193  Board of Secondary Education, Odisha, Cuttack-...   \n",
       "167615  Board of Secondary Education, Odisha, Cuttack-...   \n",
       "232055  Board of Secondary Education, Odisha, Cuttack-...   \n",
       "308878  Board of Secondary Education, Odisha, Cuttack-...   \n",
       "\n",
       "                                              student_key  dup_count  \n",
       "26853   2010_15-May-1993_9wIzGIy7YkWroQ7fX790ag==_Boar...          7  \n",
       "100193  2010_15-May-1993_9wIzGIy7YkWroQ7fX790ag==_Boar...          7  \n",
       "167615  2010_15-May-1993_9wIzGIy7YkWroQ7fX790ag==_Boar...          7  \n",
       "232055  2010_15-May-1993_9wIzGIy7YkWroQ7fX790ag==_Boar...          7  \n",
       "308878  2010_15-May-1993_9wIzGIy7YkWroQ7fX790ag==_Boar...          7  "
      ]
     },
     "execution_count": 186,
     "metadata": {},
     "output_type": "execute_result"
    }
   ],
   "source": [
    "# Count how many times each composite_key appears\n",
    "key_counts = df['student_key'].value_counts()\n",
    "\n",
    "# Filter only duplicate keys (count > 1)\n",
    "duplicate_keys = key_counts[key_counts > 1]\n",
    "\n",
    "# Merge the count info back into the dataframe\n",
    "dup_df = df[df['student_key'].isin(duplicate_keys.index)].copy()\n",
    "dup_df['dup_count'] = dup_df['student_key'].map(duplicate_keys)\n",
    "\n",
    "# Sort so the most repeated keys appear first, and group within key\n",
    "dup_df = dup_df.sort_values(by=['dup_count', 'student_key', 'sams_id', 'academic_year'], \n",
    "                            ascending=[False, True, True, True])\n",
    "\n",
    "# Preview\n",
    "dup_df.head()\n"
   ]
  },
  {
   "cell_type": "code",
   "execution_count": null,
   "id": "3f9f4153",
   "metadata": {},
   "outputs": [],
   "source": [
    "# Filter for 2020\n",
    "df_2020 = df[df['academic_year'] == 2018]\n",
    "\n",
    "# Find duplicate Aadhar numbers in 2020\n",
    "dup_aadhar_2020 = df_2020['aadhar_no'].value_counts()\n",
    "dup_aadhar_2020 = dup_aadhar_2020[dup_aadhar_2020 > 1]\n",
    "\n",
    "# print(\"Duplicate Aadhar numbers in 2020:\")\n",
    "# print(dup_aadhar_2020)\n",
    "\n",
    "# Total number of distinct duplicated Aadhar numbers\n",
    "print(\"\\nTotal distinct duplicated Aadhar numbers in 2020:\", len(dup_aadhar_2020))\n"
   ]
  },
  {
   "cell_type": "code",
   "execution_count": 187,
   "id": "be8ffa78",
   "metadata": {},
   "outputs": [
    {
     "data": {
      "text/plain": [
       "Index(['sams_id', 'academic_year', 'barcode', 'aadhar_no', 'dob',\n",
       "       'highest_qualification', 'passing_year', 'roll_no',\n",
       "       'exam_board_name_of_highest_qual', 'student_key'],\n",
       "      dtype='object')"
      ]
     },
     "execution_count": 187,
     "metadata": {},
     "output_type": "execute_result"
    }
   ],
   "source": [
    "df.columns"
   ]
  },
  {
   "cell_type": "code",
   "execution_count": null,
   "id": "51f05fd9",
   "metadata": {},
   "outputs": [
    {
     "data": {
      "application/vnd.microsoft.datawrangler.viewer.v0+json": {
       "columns": [
        {
         "name": "index",
         "rawType": "object",
         "type": "unknown"
        },
        {
         "name": "academic_year",
         "rawType": "object",
         "type": "unknown"
        },
        {
         "name": "total_enrolled",
         "rawType": "int64",
         "type": "integer"
        },
        {
         "name": "unique_aadhar",
         "rawType": "int64",
         "type": "integer"
        },
        {
         "name": "unique_student_keys",
         "rawType": "int64",
         "type": "integer"
        },
        {
         "name": "diff_enroll_vs_aadhar",
         "rawType": "int64",
         "type": "integer"
        },
        {
         "name": "diff_enroll_vs_keys",
         "rawType": "int64",
         "type": "integer"
        }
       ],
       "ref": "f05097f4-3012-46e0-9ef7-215318e53313",
       "rows": [
        [
         "0",
         "2017",
         "34654",
         "27337",
         "30243",
         "7317",
         "4411"
        ],
        [
         "1",
         "2018",
         "75211",
         "70613",
         "71432",
         "4598",
         "3779"
        ],
        [
         "2",
         "2019",
         "64148",
         "64148",
         "64126",
         "0",
         "22"
        ],
        [
         "3",
         "2020",
         "67415",
         "67412",
         "67409",
         "3",
         "6"
        ],
        [
         "4",
         "2021",
         "68000",
         "68000",
         "67991",
         "0",
         "9"
        ],
        [
         "5",
         "2022",
         "74104",
         "74104",
         "74085",
         "0",
         "19"
        ],
        [
         "6",
         "2023",
         "92085",
         "92085",
         "92081",
         "0",
         "4"
        ],
        [
         "7",
         "2024",
         "83958",
         "83958",
         "83957",
         "0",
         "1"
        ],
        [
         "Total",
         "All Years",
         "559575",
         "547657",
         "551324",
         "11918",
         "8251"
        ]
       ],
       "shape": {
        "columns": 6,
        "rows": 9
       }
      },
      "text/html": [
       "<div>\n",
       "<style scoped>\n",
       "    .dataframe tbody tr th:only-of-type {\n",
       "        vertical-align: middle;\n",
       "    }\n",
       "\n",
       "    .dataframe tbody tr th {\n",
       "        vertical-align: top;\n",
       "    }\n",
       "\n",
       "    .dataframe thead th {\n",
       "        text-align: right;\n",
       "    }\n",
       "</style>\n",
       "<table border=\"1\" class=\"dataframe\">\n",
       "  <thead>\n",
       "    <tr style=\"text-align: right;\">\n",
       "      <th></th>\n",
       "      <th>academic_year</th>\n",
       "      <th>total_enrolled</th>\n",
       "      <th>unique_aadhar</th>\n",
       "      <th>unique_student_keys</th>\n",
       "      <th>diff_enroll_vs_aadhar</th>\n",
       "      <th>diff_enroll_vs_keys</th>\n",
       "    </tr>\n",
       "  </thead>\n",
       "  <tbody>\n",
       "    <tr>\n",
       "      <th>0</th>\n",
       "      <td>2017</td>\n",
       "      <td>34654</td>\n",
       "      <td>27337</td>\n",
       "      <td>30243</td>\n",
       "      <td>7317</td>\n",
       "      <td>4411</td>\n",
       "    </tr>\n",
       "    <tr>\n",
       "      <th>1</th>\n",
       "      <td>2018</td>\n",
       "      <td>75211</td>\n",
       "      <td>70613</td>\n",
       "      <td>71432</td>\n",
       "      <td>4598</td>\n",
       "      <td>3779</td>\n",
       "    </tr>\n",
       "    <tr>\n",
       "      <th>2</th>\n",
       "      <td>2019</td>\n",
       "      <td>64148</td>\n",
       "      <td>64148</td>\n",
       "      <td>64126</td>\n",
       "      <td>0</td>\n",
       "      <td>22</td>\n",
       "    </tr>\n",
       "    <tr>\n",
       "      <th>3</th>\n",
       "      <td>2020</td>\n",
       "      <td>67415</td>\n",
       "      <td>67412</td>\n",
       "      <td>67409</td>\n",
       "      <td>3</td>\n",
       "      <td>6</td>\n",
       "    </tr>\n",
       "    <tr>\n",
       "      <th>4</th>\n",
       "      <td>2021</td>\n",
       "      <td>68000</td>\n",
       "      <td>68000</td>\n",
       "      <td>67991</td>\n",
       "      <td>0</td>\n",
       "      <td>9</td>\n",
       "    </tr>\n",
       "    <tr>\n",
       "      <th>5</th>\n",
       "      <td>2022</td>\n",
       "      <td>74104</td>\n",
       "      <td>74104</td>\n",
       "      <td>74085</td>\n",
       "      <td>0</td>\n",
       "      <td>19</td>\n",
       "    </tr>\n",
       "    <tr>\n",
       "      <th>6</th>\n",
       "      <td>2023</td>\n",
       "      <td>92085</td>\n",
       "      <td>92085</td>\n",
       "      <td>92081</td>\n",
       "      <td>0</td>\n",
       "      <td>4</td>\n",
       "    </tr>\n",
       "    <tr>\n",
       "      <th>7</th>\n",
       "      <td>2024</td>\n",
       "      <td>83958</td>\n",
       "      <td>83958</td>\n",
       "      <td>83957</td>\n",
       "      <td>0</td>\n",
       "      <td>1</td>\n",
       "    </tr>\n",
       "    <tr>\n",
       "      <th>Total</th>\n",
       "      <td>All Years</td>\n",
       "      <td>559575</td>\n",
       "      <td>547657</td>\n",
       "      <td>551324</td>\n",
       "      <td>11918</td>\n",
       "      <td>8251</td>\n",
       "    </tr>\n",
       "  </tbody>\n",
       "</table>\n",
       "</div>"
      ],
      "text/plain": [
       "      academic_year  total_enrolled  unique_aadhar  unique_student_keys  \\\n",
       "0              2017           34654          27337                30243   \n",
       "1              2018           75211          70613                71432   \n",
       "2              2019           64148          64148                64126   \n",
       "3              2020           67415          67412                67409   \n",
       "4              2021           68000          68000                67991   \n",
       "5              2022           74104          74104                74085   \n",
       "6              2023           92085          92085                92081   \n",
       "7              2024           83958          83958                83957   \n",
       "Total     All Years          559575         547657               551324   \n",
       "\n",
       "       diff_enroll_vs_aadhar  diff_enroll_vs_keys  \n",
       "0                       7317                 4411  \n",
       "1                       4598                 3779  \n",
       "2                          0                   22  \n",
       "3                          3                    6  \n",
       "4                          0                    9  \n",
       "5                          0                   19  \n",
       "6                          0                    4  \n",
       "7                          0                    1  \n",
       "Total                  11918                 8251  "
      ]
     },
     "execution_count": 193,
     "metadata": {},
     "output_type": "execute_result"
    }
   ],
   "source": [
    "# Per-year aggregates to check unique aadhar and key\n",
    "grp = df.groupby(\"academic_year\")\n",
    "\n",
    "summary = pd.concat([\n",
    "    # totals\n",
    "    grp[\"aadhar_no\"].count().rename(\"total_enrolled\"),\n",
    "    # uniques\n",
    "    grp[\"aadhar_no\"].nunique().rename(\"unique_aadhar\"),\n",
    "    grp[\"student_key\"].nunique().rename(\"unique_student_keys\"),\n",
    "    \n",
    "    \n",
    "    # distinct duplicated VALUES (keys/aadhar that occur >1)\n",
    "    # grp[\"student_key\"].apply(lambda s: s.value_counts().gt(1).sum()).rename(\"duplicate_student_keys\"),\n",
    "    # grp[\"aadhar_no\"].apply(lambda s: s.value_counts().gt(1).sum()).rename(\"duplicate_aadhar\"),\n",
    "], axis=1).reset_index()\n",
    "# Add difference column\n",
    "\n",
    "# Add difference columns\n",
    "summary[\"diff_enroll_vs_aadhar\"] = summary[\"total_enrolled\"] - summary[\"unique_aadhar\"]\n",
    "summary[\"diff_enroll_vs_keys\"] = summary[\"total_enrolled\"] - summary[\"unique_student_keys\"]\n",
    "\n",
    "# Add one row for totals across all years\n",
    "summary.loc[\"Total\"] = [\n",
    "    \"All Years\",\n",
    "    summary[\"total_enrolled\"].sum(),\n",
    "    summary[\"unique_aadhar\"].sum(),\n",
    "    summary[\"unique_student_keys\"].sum(),\n",
    "    summary[\"diff_enroll_vs_aadhar\"].sum(),\n",
    "    summary[\"diff_enroll_vs_keys\"].sum()\n",
    "]\n",
    "\n",
    "summary"
   ]
  },
  {
   "cell_type": "code",
   "execution_count": null,
   "id": "18559aa1",
   "metadata": {},
   "outputs": [],
   "source": [
    "summary = (\n",
    "    df.groupby(\"academic_year\")\n",
    "      .agg(\n",
    "          total_enrolled=(\"aadhar_no\", \"count\"),\n",
    "          unique_aadhar=(\"aadhar_no\", \"nunique\"),\n",
    "          unique_keys=(\"student_key\", \"nunique\")\n",
    "      )\n",
    "      .reset_index()\n",
    ")\n",
    "\n",
    "# Add difference column\n",
    "summary[\"diff_keys_vs_aadhar\"] = summary[\"unique_keys\"] - summary[\"unique_aadhar\"]\n",
    "\n",
    "# Add one row for totals across all years\n",
    "summary.loc[\"Total\"] = [\n",
    "    \"All Years\",\n",
    "    summary[\"total_enrolled\"].sum(),\n",
    "    summary[\"unique_aadhar\"].sum(),\n",
    "    summary[\"unique_keys\"].sum(),\n",
    "    summary[\"diff_keys_vs_aadhar\"].sum()\n",
    "]\n",
    "\n",
    "print(summary)\n"
   ]
  },
  {
   "cell_type": "code",
   "execution_count": null,
   "id": "23b7bae8",
   "metadata": {},
   "outputs": [],
   "source": [
    "# Per-year aggregates to check unique aadhar and student_key\n",
    "grp = df.groupby(\"academic_year\")\n",
    "\n",
    "summary = pd.concat([\n",
    "    # total records per year\n",
    "    grp[\"aadhar_no\"].count().rename(\"student_records\"),\n",
    "    # unique counts\n",
    "    grp[\"student_key\"].nunique().rename(\"unique_student_keys\"),\n",
    "    grp[\"aadhar_no\"].nunique().rename(\"unique_aadhar\"),\n",
    "    # duplicated counts (values that appear >1)\n",
    "    grp[\"student_key\"].apply(lambda s: s.value_counts().gt(1).sum()).rename(\"duplicate_student_keys\"),\n",
    "    grp[\"aadhar_no\"].apply(lambda s: s.value_counts().gt(1).sum()).rename(\"duplicate_aadhar\"),\n",
    "], axis=1).reset_index()\n",
    "\n",
    "summary\n"
   ]
  },
  {
   "cell_type": "code",
   "execution_count": null,
   "id": "331199bf",
   "metadata": {},
   "outputs": [],
   "source": []
  },
  {
   "cell_type": "code",
   "execution_count": null,
   "id": "36f6939f",
   "metadata": {},
   "outputs": [],
   "source": []
  },
  {
   "cell_type": "code",
   "execution_count": null,
   "id": "bff0b48e",
   "metadata": {},
   "outputs": [
    {
     "data": {
      "application/vnd.microsoft.datawrangler.viewer.v0+json": {
       "columns": [
        {
         "name": "index",
         "rawType": "int64",
         "type": "integer"
        },
        {
         "name": "academic_year",
         "rawType": "int64",
         "type": "integer"
        },
        {
         "name": "aadhar_no",
         "rawType": "object",
         "type": "string"
        },
        {
         "name": "n_keys",
         "rawType": "int64",
         "type": "integer"
        }
       ],
       "ref": "40247d45-1296-4166-aef0-b854fe66041f",
       "rows": [
        [
         "25",
         "2017",
         "+3/iaW/UMl82KYssYR0sd2zl9HAjGDOCBHl56OMeO84=",
         "2"
        ],
        [
         "28",
         "2017",
         "+3DI3Zw9wsP/GOHK7V4w6RKaXw8FeAUdLAbdBA8IFf4=",
         "2"
        ],
        [
         "31",
         "2017",
         "+3XJqw5EG91YwZA5u/NtO52uOyhjkDk/J9KCoXODx9Q=",
         "2"
        ],
        [
         "37",
         "2017",
         "+4lDGPuOAq0sFuF9djEfwECb9HhTveq7U/qE0WO/ZYI=",
         "2"
        ],
        [
         "43",
         "2017",
         "+5Rl8dotsgjRIJP9bRf8nqZJ7T9vKO/lnTyWjl8cpaE=",
         "2"
        ]
       ],
       "shape": {
        "columns": 3,
        "rows": 5
       }
      },
      "text/html": [
       "<div>\n",
       "<style scoped>\n",
       "    .dataframe tbody tr th:only-of-type {\n",
       "        vertical-align: middle;\n",
       "    }\n",
       "\n",
       "    .dataframe tbody tr th {\n",
       "        vertical-align: top;\n",
       "    }\n",
       "\n",
       "    .dataframe thead th {\n",
       "        text-align: right;\n",
       "    }\n",
       "</style>\n",
       "<table border=\"1\" class=\"dataframe\">\n",
       "  <thead>\n",
       "    <tr style=\"text-align: right;\">\n",
       "      <th></th>\n",
       "      <th>academic_year</th>\n",
       "      <th>aadhar_no</th>\n",
       "      <th>n_keys</th>\n",
       "    </tr>\n",
       "  </thead>\n",
       "  <tbody>\n",
       "    <tr>\n",
       "      <th>25</th>\n",
       "      <td>2017</td>\n",
       "      <td>+3/iaW/UMl82KYssYR0sd2zl9HAjGDOCBHl56OMeO84=</td>\n",
       "      <td>2</td>\n",
       "    </tr>\n",
       "    <tr>\n",
       "      <th>28</th>\n",
       "      <td>2017</td>\n",
       "      <td>+3DI3Zw9wsP/GOHK7V4w6RKaXw8FeAUdLAbdBA8IFf4=</td>\n",
       "      <td>2</td>\n",
       "    </tr>\n",
       "    <tr>\n",
       "      <th>31</th>\n",
       "      <td>2017</td>\n",
       "      <td>+3XJqw5EG91YwZA5u/NtO52uOyhjkDk/J9KCoXODx9Q=</td>\n",
       "      <td>2</td>\n",
       "    </tr>\n",
       "    <tr>\n",
       "      <th>37</th>\n",
       "      <td>2017</td>\n",
       "      <td>+4lDGPuOAq0sFuF9djEfwECb9HhTveq7U/qE0WO/ZYI=</td>\n",
       "      <td>2</td>\n",
       "    </tr>\n",
       "    <tr>\n",
       "      <th>43</th>\n",
       "      <td>2017</td>\n",
       "      <td>+5Rl8dotsgjRIJP9bRf8nqZJ7T9vKO/lnTyWjl8cpaE=</td>\n",
       "      <td>2</td>\n",
       "    </tr>\n",
       "  </tbody>\n",
       "</table>\n",
       "</div>"
      ],
      "text/plain": [
       "    academic_year                                     aadhar_no  n_keys\n",
       "25           2017  +3/iaW/UMl82KYssYR0sd2zl9HAjGDOCBHl56OMeO84=       2\n",
       "28           2017  +3DI3Zw9wsP/GOHK7V4w6RKaXw8FeAUdLAbdBA8IFf4=       2\n",
       "31           2017  +3XJqw5EG91YwZA5u/NtO52uOyhjkDk/J9KCoXODx9Q=       2\n",
       "37           2017  +4lDGPuOAq0sFuF9djEfwECb9HhTveq7U/qE0WO/ZYI=       2\n",
       "43           2017  +5Rl8dotsgjRIJP9bRf8nqZJ7T9vKO/lnTyWjl8cpaE=       2"
      ]
     },
     "execution_count": 146,
     "metadata": {},
     "output_type": "execute_result"
    }
   ],
   "source": [
    "# Aadhaar → how many distinct keys in the same year?\n",
    "aadhar_key_counts = (\n",
    "    df.groupby([\"academic_year\", \"aadhar_no\"])[\"student_key\"]\n",
    "      .nunique()\n",
    "      .reset_index(name=\"n_keys\")\n",
    ")\n",
    "\n",
    "# Filter only those with more than 1 key\n",
    "trouble_students = aadhar_key_counts[aadhar_key_counts[\"n_keys\"] > 1]\n",
    "trouble_students.head()\n",
    "df"
   ]
  },
  {
   "cell_type": "code",
   "execution_count": 148,
   "id": "26d25d6e",
   "metadata": {},
   "outputs": [
    {
     "name": "stdout",
     "output_type": "stream",
     "text": [
      "All columns in students table: ['id', 'barcode', 'student_name', 'gender', 'religion_name', 'dob', 'nationality', 'annual_income', 'address', 'state', 'district', 'block', 'pin_code', 'social_category', 'domicile', 's_domicile_category', 'outside_odisha_applicant_state_name', 'odia_applicant_living_outside_odisha_state_name', 'residence_barcode_number', 'tenth_exam_school_address', 'eighth_exam_school_address', 'highest_qualification_exam_board', 'board_exam_name_for_highest_qualification', 'highest_qualification', 'had_two_year_full_time_work_exp_after_tenth', 'gc', 'ph', 'es', 'sports', 'national_cadet_corps', 'pm_care', 'orphan', 'income_barcode', 'tfw', 'ews', 'boc', 'boc_regd_no', 'course_name', 'course_period', 'beauty_culture_type', 'sams_code', 'reported_institute', 'reported_branch_or_trade', 'institute_district', 'type_of_institute', 'phase', 'year', 'admission_status', 'enrollment_status', 'applied_status', 'date_of_application', 'application_status', 'aadhar_no', 'registration_number', 'mark_data', 'module', 'academic_year', 'contact_no', 'option_data', 'examination_board_of_the_highest_qualification', 'examination_type', 'year_of_passing', 'roll_no', 'total_marks', 'secured_marks', 'percentage', 'compartmental_status', 'hss_option_details', 'hss_compartments', 'deg_option_details', 'deg_compartments']\n"
     ]
    }
   ],
   "source": [
    "import sqlite3\n",
    "import pandas as pd\n",
    "\n",
    "db_path = datasets[\"sams\"][\"path\"]\n",
    "conn = sqlite3.connect(db_path)\n",
    "\n",
    "# Get list of all columns\n",
    "cursor = conn.execute(\"PRAGMA table_info(students)\")\n",
    "all_columns = [col[1] for col in cursor.fetchall()]\n",
    "print(\"All columns in students table:\", all_columns)\n"
   ]
  },
  {
   "cell_type": "code",
   "execution_count": null,
   "id": "0c20d3bf",
   "metadata": {},
   "outputs": [
    {
     "data": {
      "application/vnd.microsoft.datawrangler.viewer.v0+json": {
       "columns": [
        {
         "name": "index",
         "rawType": "int64",
         "type": "integer"
        },
        {
         "name": "id",
         "rawType": "int64",
         "type": "integer"
        },
        {
         "name": "barcode",
         "rawType": "object",
         "type": "string"
        },
        {
         "name": "student_name",
         "rawType": "object",
         "type": "string"
        },
        {
         "name": "gender",
         "rawType": "object",
         "type": "string"
        },
        {
         "name": "dob",
         "rawType": "object",
         "type": "string"
        },
        {
         "name": "aadhar_no",
         "rawType": "object",
         "type": "string"
        },
        {
         "name": "academic_year",
         "rawType": "int64",
         "type": "integer"
        },
        {
         "name": "highest_qualification",
         "rawType": "object",
         "type": "string"
        },
        {
         "name": "year_of_passing",
         "rawType": "object",
         "type": "unknown"
        },
        {
         "name": "roll_no",
         "rawType": "object",
         "type": "unknown"
        },
        {
         "name": "highest_qualification_exam_board",
         "rawType": "object",
         "type": "unknown"
        },
        {
         "name": "board_exam_name_for_highest_qualification",
         "rawType": "object",
         "type": "unknown"
        },
        {
         "name": "total_marks",
         "rawType": "object",
         "type": "unknown"
        },
        {
         "name": "secured_marks",
         "rawType": "object",
         "type": "unknown"
        },
        {
         "name": "percentage",
         "rawType": "object",
         "type": "unknown"
        },
        {
         "name": "compartmental_status",
         "rawType": "object",
         "type": "unknown"
        },
        {
         "name": "mark_data",
         "rawType": "object",
         "type": "string"
        },
        {
         "name": "reported_institute",
         "rawType": "object",
         "type": "unknown"
        },
        {
         "name": "reported_branch_or_trade",
         "rawType": "object",
         "type": "unknown"
        },
        {
         "name": "type_of_institute",
         "rawType": "object",
         "type": "unknown"
        },
        {
         "name": "phase",
         "rawType": "object",
         "type": "unknown"
        },
        {
         "name": "admission_status",
         "rawType": "object",
         "type": "string"
        },
        {
         "name": "applied_status",
         "rawType": "object",
         "type": "string"
        },
        {
         "name": "application_status",
         "rawType": "object",
         "type": "string"
        },
        {
         "name": "date_of_application",
         "rawType": "object",
         "type": "string"
        },
        {
         "name": "option_data",
         "rawType": "object",
         "type": "string"
        }
       ],
       "ref": "e61bd5eb-79ce-41ff-9002-9aa933760d2d",
       "rows": [
        [
         "0",
         "7413376",
         "17T0413558",
         "SANTOSH KUMAR PANDA",
         "Male",
         "30-Apr-2000",
         "+GL8v/l9lFbqydlpzyJ5x63fJZL2UfJFsvYukfaLEvc=",
         "2017",
         "10TH PASS",
         null,
         null,
         null,
         null,
         null,
         null,
         null,
         null,
         "[{\"ExamName\": \"10th Pass\", \"YearofPassing\": \"2015\", \"RollNo\": \"MEOpDmm20KUuUu9pGZvzZQ==\", \"ExaminationType\": \"Annual\", \"TotalMarks\": \"600\", \"SecuredMarks\": \"248.00\", \"Percentage\": \"NA\", \"CompartmentalStatus\": \"No\", \"CompartmentalFailMark\": \"NA\", \"SubjectWiseMarks\": \"Mark SL :34,Mark Math :34,Mark Science :30,Mark Social Studies :30\", \"HighestQualificationBoardExamName\": \"NA\", \"HighestQualificationExamBoard\": \"Board of Secondary Education, Odisha, Cuttack-753001\"}]",
         "ITI Bhubaneswar, Khurda",
         "Refrigeration & Air Conditioning Technician(NSQF)",
         "Govt.",
         "3",
         "Yes",
         "Yes",
         "Accepted",
         "02-Aug-2017",
         "[]"
        ],
        [
         "1",
         "7434901",
         "17T0201080",
         "SANTOSH KUMAR PANDA",
         "Male",
         "30-Apr-2000",
         "+GL8v/l9lFbqydlpzyJ5x63fJZL2UfJFsvYukfaLEvc=",
         "2017",
         "10TH  CLASS  PASS",
         null,
         null,
         null,
         null,
         null,
         null,
         null,
         null,
         "[{\"ExamName\": \"10th Pass\", \"YearofPassing\": \"2015\", \"RollNo\": \"MEOpDmm20KUuUu9pGZvzZQ==\", \"ExaminationType\": \"Annual\", \"TotalMarks\": \"600\", \"SecuredMarks\": \"248.00\", \"Percentage\": \"NA\", \"CompartmentalStatus\": \"No\", \"CompartmentalFailMark\": \"NA\", \"SubjectWiseMarks\": \"Mark SL :34,Mark Math :34,Mark Science :30,Mark Social Studies :30\", \"HighestQualificationBoardExamName\": \"NA\", \"HighestQualificationExamBoard\": \"Board of Secondary Education, Odisha, Cuttack-753001\"}]",
         null,
         null,
         null,
         null,
         "No",
         "No",
         "Pending",
         "02-Jun-2017",
         "[{\"Phase\": \"1\", \"Option_No\": \"1\", \"Institute_Name\": \"ITI Bhubaneswar, Khurda\", \"Trade\": \"Fitter (NSQF)\", \"Status\": \"Opted\"}, {\"Phase\": \"1\", \"Option_No\": \"2\", \"Institute_Name\": \"ITI Bhubaneswar, Khurda\", \"Trade\": \"Refrigeration & Air Conditioning Technician(NSQF)\", \"Status\": \"Opted\"}, {\"Phase\": \"1\", \"Option_No\": \"3\", \"Institute_Name\": \"ITI Bhubaneswar, Khurda\", \"Trade\": \"Electronics Mechanic (NSQF)\", \"Status\": \"Opted\"}]"
        ],
        [
         "2",
         "7434903",
         "17T0377676",
         "SANTOSH KUMAR PANDA",
         "Male",
         "30-Apr-2000",
         "+GL8v/l9lFbqydlpzyJ5x63fJZL2UfJFsvYukfaLEvc=",
         "2017",
         "Matriculation",
         null,
         null,
         null,
         null,
         null,
         null,
         null,
         null,
         "[{\"ExamName\": \"10th Pass\", \"YearofPassing\": \"2015\", \"RollNo\": \"MEOpDmm20KUuUu9pGZvzZQ==\", \"ExaminationType\": \"Annual\", \"TotalMarks\": \"600\", \"SecuredMarks\": \"248.00\", \"Percentage\": \"NA\", \"CompartmentalStatus\": \"No\", \"CompartmentalFailMark\": \"NA\", \"SubjectWiseMarks\": \"Mark SL :34,Mark Math :34,Mark Science :30,Mark Social Studies :30\", \"HighestQualificationBoardExamName\": \"NA\", \"HighestQualificationExamBoard\": \"Board of Secondary Education, Odisha, Cuttack-753001\"}]",
         null,
         null,
         null,
         null,
         "No",
         "No",
         "Pending",
         "21-Jul-2017",
         "[{\"Phase\": \"1\", \"Option_No\": \"1\", \"Institute_Name\": \"ITI Bhubaneswar, Khurda\", \"Trade\": \"Fitter (NSQF)\", \"Status\": \"Opted\"}, {\"Phase\": \"1\", \"Option_No\": \"2\", \"Institute_Name\": \"ITI Bhubaneswar, Khurda\", \"Trade\": \"Electronics Mechanic (NSQF)\", \"Status\": \"Opted\"}, {\"Phase\": \"1\", \"Option_No\": \"3\", \"Institute_Name\": \"ITI Bhubaneswar, Khurda\", \"Trade\": \"Refrigeration & Air Conditioning Technician(NSQF)\", \"Status\": \"Opted\"}]"
        ]
       ],
       "shape": {
        "columns": 26,
        "rows": 3
       }
      },
      "text/html": [
       "<div>\n",
       "<style scoped>\n",
       "    .dataframe tbody tr th:only-of-type {\n",
       "        vertical-align: middle;\n",
       "    }\n",
       "\n",
       "    .dataframe tbody tr th {\n",
       "        vertical-align: top;\n",
       "    }\n",
       "\n",
       "    .dataframe thead th {\n",
       "        text-align: right;\n",
       "    }\n",
       "</style>\n",
       "<table border=\"1\" class=\"dataframe\">\n",
       "  <thead>\n",
       "    <tr style=\"text-align: right;\">\n",
       "      <th></th>\n",
       "      <th>id</th>\n",
       "      <th>barcode</th>\n",
       "      <th>student_name</th>\n",
       "      <th>gender</th>\n",
       "      <th>dob</th>\n",
       "      <th>aadhar_no</th>\n",
       "      <th>academic_year</th>\n",
       "      <th>highest_qualification</th>\n",
       "      <th>year_of_passing</th>\n",
       "      <th>roll_no</th>\n",
       "      <th>...</th>\n",
       "      <th>mark_data</th>\n",
       "      <th>reported_institute</th>\n",
       "      <th>reported_branch_or_trade</th>\n",
       "      <th>type_of_institute</th>\n",
       "      <th>phase</th>\n",
       "      <th>admission_status</th>\n",
       "      <th>applied_status</th>\n",
       "      <th>application_status</th>\n",
       "      <th>date_of_application</th>\n",
       "      <th>option_data</th>\n",
       "    </tr>\n",
       "  </thead>\n",
       "  <tbody>\n",
       "    <tr>\n",
       "      <th>0</th>\n",
       "      <td>7413376</td>\n",
       "      <td>17T0413558</td>\n",
       "      <td>SANTOSH KUMAR PANDA</td>\n",
       "      <td>Male</td>\n",
       "      <td>30-Apr-2000</td>\n",
       "      <td>+GL8v/l9lFbqydlpzyJ5x63fJZL2UfJFsvYukfaLEvc=</td>\n",
       "      <td>2017</td>\n",
       "      <td>10TH PASS</td>\n",
       "      <td>None</td>\n",
       "      <td>None</td>\n",
       "      <td>...</td>\n",
       "      <td>[{\"ExamName\": \"10th Pass\", \"YearofPassing\": \"2...</td>\n",
       "      <td>ITI Bhubaneswar, Khurda</td>\n",
       "      <td>Refrigeration &amp; Air Conditioning Technician(NSQF)</td>\n",
       "      <td>Govt.</td>\n",
       "      <td>3</td>\n",
       "      <td>Yes</td>\n",
       "      <td>Yes</td>\n",
       "      <td>Accepted</td>\n",
       "      <td>02-Aug-2017</td>\n",
       "      <td>[]</td>\n",
       "    </tr>\n",
       "    <tr>\n",
       "      <th>1</th>\n",
       "      <td>7434901</td>\n",
       "      <td>17T0201080</td>\n",
       "      <td>SANTOSH KUMAR PANDA</td>\n",
       "      <td>Male</td>\n",
       "      <td>30-Apr-2000</td>\n",
       "      <td>+GL8v/l9lFbqydlpzyJ5x63fJZL2UfJFsvYukfaLEvc=</td>\n",
       "      <td>2017</td>\n",
       "      <td>10TH  CLASS  PASS</td>\n",
       "      <td>None</td>\n",
       "      <td>None</td>\n",
       "      <td>...</td>\n",
       "      <td>[{\"ExamName\": \"10th Pass\", \"YearofPassing\": \"2...</td>\n",
       "      <td>None</td>\n",
       "      <td>None</td>\n",
       "      <td>None</td>\n",
       "      <td>None</td>\n",
       "      <td>No</td>\n",
       "      <td>No</td>\n",
       "      <td>Pending</td>\n",
       "      <td>02-Jun-2017</td>\n",
       "      <td>[{\"Phase\": \"1\", \"Option_No\": \"1\", \"Institute_N...</td>\n",
       "    </tr>\n",
       "    <tr>\n",
       "      <th>2</th>\n",
       "      <td>7434903</td>\n",
       "      <td>17T0377676</td>\n",
       "      <td>SANTOSH KUMAR PANDA</td>\n",
       "      <td>Male</td>\n",
       "      <td>30-Apr-2000</td>\n",
       "      <td>+GL8v/l9lFbqydlpzyJ5x63fJZL2UfJFsvYukfaLEvc=</td>\n",
       "      <td>2017</td>\n",
       "      <td>Matriculation</td>\n",
       "      <td>None</td>\n",
       "      <td>None</td>\n",
       "      <td>...</td>\n",
       "      <td>[{\"ExamName\": \"10th Pass\", \"YearofPassing\": \"2...</td>\n",
       "      <td>None</td>\n",
       "      <td>None</td>\n",
       "      <td>None</td>\n",
       "      <td>None</td>\n",
       "      <td>No</td>\n",
       "      <td>No</td>\n",
       "      <td>Pending</td>\n",
       "      <td>21-Jul-2017</td>\n",
       "      <td>[{\"Phase\": \"1\", \"Option_No\": \"1\", \"Institute_N...</td>\n",
       "    </tr>\n",
       "  </tbody>\n",
       "</table>\n",
       "<p>3 rows × 26 columns</p>\n",
       "</div>"
      ],
      "text/plain": [
       "        id     barcode         student_name gender          dob  \\\n",
       "0  7413376  17T0413558  SANTOSH KUMAR PANDA   Male  30-Apr-2000   \n",
       "1  7434901  17T0201080  SANTOSH KUMAR PANDA   Male  30-Apr-2000   \n",
       "2  7434903  17T0377676  SANTOSH KUMAR PANDA   Male  30-Apr-2000   \n",
       "\n",
       "                                      aadhar_no  academic_year  \\\n",
       "0  +GL8v/l9lFbqydlpzyJ5x63fJZL2UfJFsvYukfaLEvc=           2017   \n",
       "1  +GL8v/l9lFbqydlpzyJ5x63fJZL2UfJFsvYukfaLEvc=           2017   \n",
       "2  +GL8v/l9lFbqydlpzyJ5x63fJZL2UfJFsvYukfaLEvc=           2017   \n",
       "\n",
       "  highest_qualification year_of_passing roll_no  ...  \\\n",
       "0             10TH PASS            None    None  ...   \n",
       "1     10TH  CLASS  PASS            None    None  ...   \n",
       "2         Matriculation            None    None  ...   \n",
       "\n",
       "                                           mark_data       reported_institute  \\\n",
       "0  [{\"ExamName\": \"10th Pass\", \"YearofPassing\": \"2...  ITI Bhubaneswar, Khurda   \n",
       "1  [{\"ExamName\": \"10th Pass\", \"YearofPassing\": \"2...                     None   \n",
       "2  [{\"ExamName\": \"10th Pass\", \"YearofPassing\": \"2...                     None   \n",
       "\n",
       "                            reported_branch_or_trade type_of_institute phase  \\\n",
       "0  Refrigeration & Air Conditioning Technician(NSQF)             Govt.     3   \n",
       "1                                               None              None  None   \n",
       "2                                               None              None  None   \n",
       "\n",
       "  admission_status applied_status application_status date_of_application  \\\n",
       "0              Yes            Yes           Accepted         02-Aug-2017   \n",
       "1               No             No            Pending         02-Jun-2017   \n",
       "2               No             No            Pending         21-Jul-2017   \n",
       "\n",
       "                                         option_data  \n",
       "0                                                 []  \n",
       "1  [{\"Phase\": \"1\", \"Option_No\": \"1\", \"Institute_N...  \n",
       "2  [{\"Phase\": \"1\", \"Option_No\": \"1\", \"Institute_N...  \n",
       "\n",
       "[3 rows x 26 columns]"
      ]
     },
     "execution_count": 150,
     "metadata": {},
     "output_type": "execute_result"
    }
   ],
   "source": [
    "conn = sqlite3.connect(db_path)\n",
    "\n",
    "query = \"\"\"\n",
    "SELECT\n",
    "    id,\n",
    "    barcode,\n",
    "    student_name,\n",
    "    gender,\n",
    "    dob,\n",
    "    aadhar_no,\n",
    "    highest_qualification,\n",
    "    mark_data\n",
    "FROM students\n",
    "WHERE module = 'ITI'\n",
    "  AND academic_year = 2017\n",
    "  AND aadhar_no = '47DEQpj8HBSa+/TImW+5JCeuQeRkm5NMpJWZG3hSuFU='\n",
    "\"\"\"\n",
    "\n",
    "row_df = pd.read_sql_query(query, conn)\n",
    "conn.close()\n",
    "row_df.head()"
   ]
  },
  {
   "cell_type": "code",
   "execution_count": null,
   "id": "34ec55d7",
   "metadata": {},
   "outputs": [
    {
     "data": {
      "application/vnd.microsoft.datawrangler.viewer.v0+json": {
       "columns": [
        {
         "name": "index",
         "rawType": "object",
         "type": "string"
        },
        {
         "name": "0",
         "rawType": "object",
         "type": "unknown"
        },
        {
         "name": "1",
         "rawType": "object",
         "type": "unknown"
        },
        {
         "name": "2",
         "rawType": "object",
         "type": "unknown"
        }
       ],
       "ref": "fe510c69-817c-42dc-b34b-d1a1edd18553",
       "rows": [
        [
         "id",
         "7413376",
         "7434901",
         "7434903"
        ],
        [
         "barcode",
         "17T0413558",
         "17T0201080",
         "17T0377676"
        ],
        [
         "student_name",
         "SANTOSH KUMAR PANDA",
         "SANTOSH KUMAR PANDA",
         "SANTOSH KUMAR PANDA"
        ],
        [
         "gender",
         "Male",
         "Male",
         "Male"
        ],
        [
         "dob",
         "30-Apr-2000",
         "30-Apr-2000",
         "30-Apr-2000"
        ],
        [
         "aadhar_no",
         "+GL8v/l9lFbqydlpzyJ5x63fJZL2UfJFsvYukfaLEvc=",
         "+GL8v/l9lFbqydlpzyJ5x63fJZL2UfJFsvYukfaLEvc=",
         "+GL8v/l9lFbqydlpzyJ5x63fJZL2UfJFsvYukfaLEvc="
        ],
        [
         "academic_year",
         "2017",
         "2017",
         "2017"
        ],
        [
         "highest_qualification",
         "10TH PASS",
         "10TH  CLASS  PASS",
         "Matriculation"
        ],
        [
         "mark_data",
         "[{\"ExamName\": \"10th Pass\", \"YearofPassing\": \"2015\", \"RollNo\": \"MEOpDmm20KUuUu9pGZvzZQ==\", \"ExaminationType\": \"Annual\", \"TotalMarks\": \"600\", \"SecuredMarks\": \"248.00\", \"Percentage\": \"NA\", \"CompartmentalStatus\": \"No\", \"CompartmentalFailMark\": \"NA\", \"SubjectWiseMarks\": \"Mark SL :34,Mark Math :34,Mark Science :30,Mark Social Studies :30\", \"HighestQualificationBoardExamName\": \"NA\", \"HighestQualificationExamBoard\": \"Board of Secondary Education, Odisha, Cuttack-753001\"}]",
         "[{\"ExamName\": \"10th Pass\", \"YearofPassing\": \"2015\", \"RollNo\": \"MEOpDmm20KUuUu9pGZvzZQ==\", \"ExaminationType\": \"Annual\", \"TotalMarks\": \"600\", \"SecuredMarks\": \"248.00\", \"Percentage\": \"NA\", \"CompartmentalStatus\": \"No\", \"CompartmentalFailMark\": \"NA\", \"SubjectWiseMarks\": \"Mark SL :34,Mark Math :34,Mark Science :30,Mark Social Studies :30\", \"HighestQualificationBoardExamName\": \"NA\", \"HighestQualificationExamBoard\": \"Board of Secondary Education, Odisha, Cuttack-753001\"}]",
         "[{\"ExamName\": \"10th Pass\", \"YearofPassing\": \"2015\", \"RollNo\": \"MEOpDmm20KUuUu9pGZvzZQ==\", \"ExaminationType\": \"Annual\", \"TotalMarks\": \"600\", \"SecuredMarks\": \"248.00\", \"Percentage\": \"NA\", \"CompartmentalStatus\": \"No\", \"CompartmentalFailMark\": \"NA\", \"SubjectWiseMarks\": \"Mark SL :34,Mark Math :34,Mark Science :30,Mark Social Studies :30\", \"HighestQualificationBoardExamName\": \"NA\", \"HighestQualificationExamBoard\": \"Board of Secondary Education, Odisha, Cuttack-753001\"}]"
        ],
        [
         "reported_institute",
         "ITI Bhubaneswar, Khurda",
         null,
         null
        ],
        [
         "reported_branch_or_trade",
         "Refrigeration & Air Conditioning Technician(NSQF)",
         null,
         null
        ],
        [
         "type_of_institute",
         "Govt.",
         null,
         null
        ],
        [
         "phase",
         "3",
         null,
         null
        ],
        [
         "admission_status",
         "Yes",
         "No",
         "No"
        ],
        [
         "applied_status",
         "Yes",
         "No",
         "No"
        ],
        [
         "application_status",
         "Accepted",
         "Pending",
         "Pending"
        ],
        [
         "date_of_application",
         "02-Aug-2017",
         "02-Jun-2017",
         "21-Jul-2017"
        ],
        [
         "option_data",
         "[]",
         "[{\"Phase\": \"1\", \"Option_No\": \"1\", \"Institute_Name\": \"ITI Bhubaneswar, Khurda\", \"Trade\": \"Fitter (NSQF)\", \"Status\": \"Opted\"}, {\"Phase\": \"1\", \"Option_No\": \"2\", \"Institute_Name\": \"ITI Bhubaneswar, Khurda\", \"Trade\": \"Refrigeration & Air Conditioning Technician(NSQF)\", \"Status\": \"Opted\"}, {\"Phase\": \"1\", \"Option_No\": \"3\", \"Institute_Name\": \"ITI Bhubaneswar, Khurda\", \"Trade\": \"Electronics Mechanic (NSQF)\", \"Status\": \"Opted\"}]",
         "[{\"Phase\": \"1\", \"Option_No\": \"1\", \"Institute_Name\": \"ITI Bhubaneswar, Khurda\", \"Trade\": \"Fitter (NSQF)\", \"Status\": \"Opted\"}, {\"Phase\": \"1\", \"Option_No\": \"2\", \"Institute_Name\": \"ITI Bhubaneswar, Khurda\", \"Trade\": \"Electronics Mechanic (NSQF)\", \"Status\": \"Opted\"}, {\"Phase\": \"1\", \"Option_No\": \"3\", \"Institute_Name\": \"ITI Bhubaneswar, Khurda\", \"Trade\": \"Refrigeration & Air Conditioning Technician(NSQF)\", \"Status\": \"Opted\"}]"
        ]
       ],
       "shape": {
        "columns": 3,
        "rows": 18
       }
      },
      "text/html": [
       "<div>\n",
       "<style scoped>\n",
       "    .dataframe tbody tr th:only-of-type {\n",
       "        vertical-align: middle;\n",
       "    }\n",
       "\n",
       "    .dataframe tbody tr th {\n",
       "        vertical-align: top;\n",
       "    }\n",
       "\n",
       "    .dataframe thead th {\n",
       "        text-align: right;\n",
       "    }\n",
       "</style>\n",
       "<table border=\"1\" class=\"dataframe\">\n",
       "  <thead>\n",
       "    <tr style=\"text-align: right;\">\n",
       "      <th></th>\n",
       "      <th>0</th>\n",
       "      <th>1</th>\n",
       "      <th>2</th>\n",
       "    </tr>\n",
       "  </thead>\n",
       "  <tbody>\n",
       "    <tr>\n",
       "      <th>id</th>\n",
       "      <td>7413376</td>\n",
       "      <td>7434901</td>\n",
       "      <td>7434903</td>\n",
       "    </tr>\n",
       "    <tr>\n",
       "      <th>barcode</th>\n",
       "      <td>17T0413558</td>\n",
       "      <td>17T0201080</td>\n",
       "      <td>17T0377676</td>\n",
       "    </tr>\n",
       "    <tr>\n",
       "      <th>student_name</th>\n",
       "      <td>SANTOSH KUMAR PANDA</td>\n",
       "      <td>SANTOSH KUMAR PANDA</td>\n",
       "      <td>SANTOSH KUMAR PANDA</td>\n",
       "    </tr>\n",
       "    <tr>\n",
       "      <th>gender</th>\n",
       "      <td>Male</td>\n",
       "      <td>Male</td>\n",
       "      <td>Male</td>\n",
       "    </tr>\n",
       "    <tr>\n",
       "      <th>dob</th>\n",
       "      <td>30-Apr-2000</td>\n",
       "      <td>30-Apr-2000</td>\n",
       "      <td>30-Apr-2000</td>\n",
       "    </tr>\n",
       "    <tr>\n",
       "      <th>aadhar_no</th>\n",
       "      <td>+GL8v/l9lFbqydlpzyJ5x63fJZL2UfJFsvYukfaLEvc=</td>\n",
       "      <td>+GL8v/l9lFbqydlpzyJ5x63fJZL2UfJFsvYukfaLEvc=</td>\n",
       "      <td>+GL8v/l9lFbqydlpzyJ5x63fJZL2UfJFsvYukfaLEvc=</td>\n",
       "    </tr>\n",
       "    <tr>\n",
       "      <th>academic_year</th>\n",
       "      <td>2017</td>\n",
       "      <td>2017</td>\n",
       "      <td>2017</td>\n",
       "    </tr>\n",
       "    <tr>\n",
       "      <th>highest_qualification</th>\n",
       "      <td>10TH PASS</td>\n",
       "      <td>10TH  CLASS  PASS</td>\n",
       "      <td>Matriculation</td>\n",
       "    </tr>\n",
       "    <tr>\n",
       "      <th>mark_data</th>\n",
       "      <td>[{\"ExamName\": \"10th Pass\", \"YearofPassing\": \"2...</td>\n",
       "      <td>[{\"ExamName\": \"10th Pass\", \"YearofPassing\": \"2...</td>\n",
       "      <td>[{\"ExamName\": \"10th Pass\", \"YearofPassing\": \"2...</td>\n",
       "    </tr>\n",
       "    <tr>\n",
       "      <th>reported_institute</th>\n",
       "      <td>ITI Bhubaneswar, Khurda</td>\n",
       "      <td>None</td>\n",
       "      <td>None</td>\n",
       "    </tr>\n",
       "    <tr>\n",
       "      <th>reported_branch_or_trade</th>\n",
       "      <td>Refrigeration &amp; Air Conditioning Technician(NSQF)</td>\n",
       "      <td>None</td>\n",
       "      <td>None</td>\n",
       "    </tr>\n",
       "    <tr>\n",
       "      <th>type_of_institute</th>\n",
       "      <td>Govt.</td>\n",
       "      <td>None</td>\n",
       "      <td>None</td>\n",
       "    </tr>\n",
       "    <tr>\n",
       "      <th>phase</th>\n",
       "      <td>3</td>\n",
       "      <td>None</td>\n",
       "      <td>None</td>\n",
       "    </tr>\n",
       "    <tr>\n",
       "      <th>admission_status</th>\n",
       "      <td>Yes</td>\n",
       "      <td>No</td>\n",
       "      <td>No</td>\n",
       "    </tr>\n",
       "    <tr>\n",
       "      <th>applied_status</th>\n",
       "      <td>Yes</td>\n",
       "      <td>No</td>\n",
       "      <td>No</td>\n",
       "    </tr>\n",
       "    <tr>\n",
       "      <th>application_status</th>\n",
       "      <td>Accepted</td>\n",
       "      <td>Pending</td>\n",
       "      <td>Pending</td>\n",
       "    </tr>\n",
       "    <tr>\n",
       "      <th>date_of_application</th>\n",
       "      <td>02-Aug-2017</td>\n",
       "      <td>02-Jun-2017</td>\n",
       "      <td>21-Jul-2017</td>\n",
       "    </tr>\n",
       "    <tr>\n",
       "      <th>option_data</th>\n",
       "      <td>[]</td>\n",
       "      <td>[{\"Phase\": \"1\", \"Option_No\": \"1\", \"Institute_N...</td>\n",
       "      <td>[{\"Phase\": \"1\", \"Option_No\": \"1\", \"Institute_N...</td>\n",
       "    </tr>\n",
       "  </tbody>\n",
       "</table>\n",
       "</div>"
      ],
      "text/plain": [
       "                                                                          0  \\\n",
       "id                                                                  7413376   \n",
       "barcode                                                          17T0413558   \n",
       "student_name                                            SANTOSH KUMAR PANDA   \n",
       "gender                                                                 Male   \n",
       "dob                                                             30-Apr-2000   \n",
       "aadhar_no                      +GL8v/l9lFbqydlpzyJ5x63fJZL2UfJFsvYukfaLEvc=   \n",
       "academic_year                                                          2017   \n",
       "highest_qualification                                             10TH PASS   \n",
       "mark_data                 [{\"ExamName\": \"10th Pass\", \"YearofPassing\": \"2...   \n",
       "reported_institute                                  ITI Bhubaneswar, Khurda   \n",
       "reported_branch_or_trade  Refrigeration & Air Conditioning Technician(NSQF)   \n",
       "type_of_institute                                                     Govt.   \n",
       "phase                                                                     3   \n",
       "admission_status                                                        Yes   \n",
       "applied_status                                                          Yes   \n",
       "application_status                                                 Accepted   \n",
       "date_of_application                                             02-Aug-2017   \n",
       "option_data                                                              []   \n",
       "\n",
       "                                                                          1  \\\n",
       "id                                                                  7434901   \n",
       "barcode                                                          17T0201080   \n",
       "student_name                                            SANTOSH KUMAR PANDA   \n",
       "gender                                                                 Male   \n",
       "dob                                                             30-Apr-2000   \n",
       "aadhar_no                      +GL8v/l9lFbqydlpzyJ5x63fJZL2UfJFsvYukfaLEvc=   \n",
       "academic_year                                                          2017   \n",
       "highest_qualification                                     10TH  CLASS  PASS   \n",
       "mark_data                 [{\"ExamName\": \"10th Pass\", \"YearofPassing\": \"2...   \n",
       "reported_institute                                                     None   \n",
       "reported_branch_or_trade                                               None   \n",
       "type_of_institute                                                      None   \n",
       "phase                                                                  None   \n",
       "admission_status                                                         No   \n",
       "applied_status                                                           No   \n",
       "application_status                                                  Pending   \n",
       "date_of_application                                             02-Jun-2017   \n",
       "option_data               [{\"Phase\": \"1\", \"Option_No\": \"1\", \"Institute_N...   \n",
       "\n",
       "                                                                          2  \n",
       "id                                                                  7434903  \n",
       "barcode                                                          17T0377676  \n",
       "student_name                                            SANTOSH KUMAR PANDA  \n",
       "gender                                                                 Male  \n",
       "dob                                                             30-Apr-2000  \n",
       "aadhar_no                      +GL8v/l9lFbqydlpzyJ5x63fJZL2UfJFsvYukfaLEvc=  \n",
       "academic_year                                                          2017  \n",
       "highest_qualification                                         Matriculation  \n",
       "mark_data                 [{\"ExamName\": \"10th Pass\", \"YearofPassing\": \"2...  \n",
       "reported_institute                                                     None  \n",
       "reported_branch_or_trade                                               None  \n",
       "type_of_institute                                                      None  \n",
       "phase                                                                  None  \n",
       "admission_status                                                         No  \n",
       "applied_status                                                           No  \n",
       "application_status                                                  Pending  \n",
       "date_of_application                                             21-Jul-2017  \n",
       "option_data               [{\"Phase\": \"1\", \"Option_No\": \"1\", \"Institute_N...  "
      ]
     },
     "execution_count": 152,
     "metadata": {},
     "output_type": "execute_result"
    }
   ],
   "source": [
    "# Show only non-null columns for that aadhar no\n",
    "non_nulls = row_df.loc[:, row_df.notna().any(axis=0)]\n",
    "non_nulls.T"
   ]
  },
  {
   "cell_type": "code",
   "execution_count": null,
   "id": "bf80ae43",
   "metadata": {},
   "outputs": [
    {
     "data": {
      "application/vnd.microsoft.datawrangler.viewer.v0+json": {
       "columns": [
        {
         "name": "index",
         "rawType": "int64",
         "type": "integer"
        },
        {
         "name": "id",
         "rawType": "int64",
         "type": "integer"
        },
        {
         "name": "barcode",
         "rawType": "object",
         "type": "string"
        },
        {
         "name": "student_name",
         "rawType": "object",
         "type": "string"
        },
        {
         "name": "gender",
         "rawType": "object",
         "type": "string"
        },
        {
         "name": "dob",
         "rawType": "object",
         "type": "string"
        },
        {
         "name": "aadhar_no",
         "rawType": "object",
         "type": "string"
        },
        {
         "name": "highest_qualification",
         "rawType": "object",
         "type": "string"
        },
        {
         "name": "mark_data",
         "rawType": "object",
         "type": "string"
        }
       ],
       "ref": "9bd909ca-7705-48e0-b4a2-3ac03b046d53",
       "rows": [
        [
         "0",
         "7404734",
         "17T0236830",
         "PRIYABRATA BEHERA",
         "Male",
         "28-Oct-2000",
         "47DEQpj8HBSa+/TImW+5JCeuQeRkm5NMpJWZG3hSuFU=",
         "10TH PASS",
         "[{\"ExamName\": \"10th Pass\", \"YearofPassing\": \"2017\", \"RollNo\": \"2K1NSvp/2R542TFdcKhXYA==\", \"ExaminationType\": \"Annual\", \"TotalMarks\": \"600\", \"SecuredMarks\": \"292.00\", \"Percentage\": \"NA\", \"CompartmentalStatus\": \"No\", \"CompartmentalFailMark\": \"NA\", \"SubjectWiseMarks\": \"Mark SL :45,Mark Math :38,Mark Science :36,Mark Social Studies :42\", \"HighestQualificationBoardExamName\": \"NA\", \"HighestQualificationExamBoard\": \"Indian Certificate of Secondary Education (ICSE), New Delhi\"}]"
        ],
        [
         "1",
         "7405343",
         "17T0216512",
         "LABANYA SUNDAR PATRA",
         "Male",
         "02-Mar-1996",
         "47DEQpj8HBSa+/TImW+5JCeuQeRkm5NMpJWZG3hSuFU=",
         "12TH",
         "[{\"ExamName\": \"10th Pass\", \"YearofPassing\": \"2011\", \"RollNo\": \"TZOKIGJKS+GG3zud6Lz15A==\", \"ExaminationType\": \"Annual\", \"TotalMarks\": \"600\", \"SecuredMarks\": \"364.00\", \"Percentage\": \"NA\", \"CompartmentalStatus\": \"No\", \"CompartmentalFailMark\": \"NA\", \"SubjectWiseMarks\": \"Mark SL :50,Mark Math :72,Mark Science :66,Mark Social Studies :37\", \"HighestQualificationBoardExamName\": \"NA\", \"HighestQualificationExamBoard\": \"Board of Secondary Education, Odisha, Cuttack-753001\"}]"
        ],
        [
         "2",
         "7405378",
         "17T0023407",
         "UTTAM KUMAR MOHANTY",
         "Male",
         "10-Sep-2001",
         "47DEQpj8HBSa+/TImW+5JCeuQeRkm5NMpJWZG3hSuFU=",
         "10TH",
         "[{\"ExamName\": \"10th Pass\", \"YearofPassing\": \"2017\", \"RollNo\": \"pqwO9xjhKdVvo1DgfEqtRA==\", \"ExaminationType\": \"Annual\", \"TotalMarks\": \"600\", \"SecuredMarks\": \"368.00\", \"Percentage\": \"NA\", \"CompartmentalStatus\": \"No\", \"CompartmentalFailMark\": \"NA\", \"SubjectWiseMarks\": \"Mark SL :57,Mark Math :57,Mark Science :51,Mark Social Studies :62\", \"HighestQualificationBoardExamName\": \"NA\", \"HighestQualificationExamBoard\": \"Board of Secondary Education, Odisha, Cuttack-753001\"}]"
        ],
        [
         "3",
         "7405670",
         "17T0424126",
         "SATYAJIT JENA",
         "Male",
         "14-Apr-2000",
         "47DEQpj8HBSa+/TImW+5JCeuQeRkm5NMpJWZG3hSuFU=",
         "",
         "[{\"ExamName\": \"10th Pass\", \"YearofPassing\": \"2015\", \"RollNo\": \"DAMBSfCoC4gO+carYe1YKQ==\", \"ExaminationType\": \"Annual\", \"TotalMarks\": \"600\", \"SecuredMarks\": \"467.00\", \"Percentage\": \"NA\", \"CompartmentalStatus\": \"No\", \"CompartmentalFailMark\": \"NA\", \"SubjectWiseMarks\": \"Mark SL :86,Mark Math :92,Mark Science :52,Mark Social Studies :67\", \"HighestQualificationBoardExamName\": \"NA\", \"HighestQualificationExamBoard\": \"Board of Secondary Education, Odisha, Cuttack-753001\"}]"
        ],
        [
         "4",
         "7406777",
         "17T0069387",
         "MADHUSMITA BADI",
         "Female",
         "20-Feb-2000",
         "47DEQpj8HBSa+/TImW+5JCeuQeRkm5NMpJWZG3hSuFU=",
         "",
         "[{\"ExamName\": \"10th Pass\", \"YearofPassing\": \"2016\", \"RollNo\": \"WyS3o/JTsUWUh3vbZLAW3g==\", \"ExaminationType\": \"Annual\", \"TotalMarks\": \"600\", \"SecuredMarks\": \"224.00\", \"Percentage\": \"NA\", \"CompartmentalStatus\": \"No\", \"CompartmentalFailMark\": \"NA\", \"SubjectWiseMarks\": \"Mark SL :32,Mark Math :30,Mark Science :30,Mark Social Studies :49\", \"HighestQualificationBoardExamName\": \"NA\", \"HighestQualificationExamBoard\": \"Board of Secondary Education, Odisha, Cuttack-753001\"}]"
        ]
       ],
       "shape": {
        "columns": 8,
        "rows": 5
       }
      },
      "text/html": [
       "<div>\n",
       "<style scoped>\n",
       "    .dataframe tbody tr th:only-of-type {\n",
       "        vertical-align: middle;\n",
       "    }\n",
       "\n",
       "    .dataframe tbody tr th {\n",
       "        vertical-align: top;\n",
       "    }\n",
       "\n",
       "    .dataframe thead th {\n",
       "        text-align: right;\n",
       "    }\n",
       "</style>\n",
       "<table border=\"1\" class=\"dataframe\">\n",
       "  <thead>\n",
       "    <tr style=\"text-align: right;\">\n",
       "      <th></th>\n",
       "      <th>id</th>\n",
       "      <th>barcode</th>\n",
       "      <th>student_name</th>\n",
       "      <th>gender</th>\n",
       "      <th>dob</th>\n",
       "      <th>aadhar_no</th>\n",
       "      <th>highest_qualification</th>\n",
       "      <th>mark_data</th>\n",
       "    </tr>\n",
       "  </thead>\n",
       "  <tbody>\n",
       "    <tr>\n",
       "      <th>0</th>\n",
       "      <td>7404734</td>\n",
       "      <td>17T0236830</td>\n",
       "      <td>PRIYABRATA BEHERA</td>\n",
       "      <td>Male</td>\n",
       "      <td>28-Oct-2000</td>\n",
       "      <td>47DEQpj8HBSa+/TImW+5JCeuQeRkm5NMpJWZG3hSuFU=</td>\n",
       "      <td>10TH PASS</td>\n",
       "      <td>[{\"ExamName\": \"10th Pass\", \"YearofPassing\": \"2...</td>\n",
       "    </tr>\n",
       "    <tr>\n",
       "      <th>1</th>\n",
       "      <td>7405343</td>\n",
       "      <td>17T0216512</td>\n",
       "      <td>LABANYA SUNDAR PATRA</td>\n",
       "      <td>Male</td>\n",
       "      <td>02-Mar-1996</td>\n",
       "      <td>47DEQpj8HBSa+/TImW+5JCeuQeRkm5NMpJWZG3hSuFU=</td>\n",
       "      <td>12TH</td>\n",
       "      <td>[{\"ExamName\": \"10th Pass\", \"YearofPassing\": \"2...</td>\n",
       "    </tr>\n",
       "    <tr>\n",
       "      <th>2</th>\n",
       "      <td>7405378</td>\n",
       "      <td>17T0023407</td>\n",
       "      <td>UTTAM KUMAR MOHANTY</td>\n",
       "      <td>Male</td>\n",
       "      <td>10-Sep-2001</td>\n",
       "      <td>47DEQpj8HBSa+/TImW+5JCeuQeRkm5NMpJWZG3hSuFU=</td>\n",
       "      <td>10TH</td>\n",
       "      <td>[{\"ExamName\": \"10th Pass\", \"YearofPassing\": \"2...</td>\n",
       "    </tr>\n",
       "    <tr>\n",
       "      <th>3</th>\n",
       "      <td>7405670</td>\n",
       "      <td>17T0424126</td>\n",
       "      <td>SATYAJIT JENA</td>\n",
       "      <td>Male</td>\n",
       "      <td>14-Apr-2000</td>\n",
       "      <td>47DEQpj8HBSa+/TImW+5JCeuQeRkm5NMpJWZG3hSuFU=</td>\n",
       "      <td></td>\n",
       "      <td>[{\"ExamName\": \"10th Pass\", \"YearofPassing\": \"2...</td>\n",
       "    </tr>\n",
       "    <tr>\n",
       "      <th>4</th>\n",
       "      <td>7406777</td>\n",
       "      <td>17T0069387</td>\n",
       "      <td>MADHUSMITA BADI</td>\n",
       "      <td>Female</td>\n",
       "      <td>20-Feb-2000</td>\n",
       "      <td>47DEQpj8HBSa+/TImW+5JCeuQeRkm5NMpJWZG3hSuFU=</td>\n",
       "      <td></td>\n",
       "      <td>[{\"ExamName\": \"10th Pass\", \"YearofPassing\": \"2...</td>\n",
       "    </tr>\n",
       "  </tbody>\n",
       "</table>\n",
       "</div>"
      ],
      "text/plain": [
       "        id     barcode          student_name  gender          dob  \\\n",
       "0  7404734  17T0236830     PRIYABRATA BEHERA    Male  28-Oct-2000   \n",
       "1  7405343  17T0216512  LABANYA SUNDAR PATRA    Male  02-Mar-1996   \n",
       "2  7405378  17T0023407   UTTAM KUMAR MOHANTY    Male  10-Sep-2001   \n",
       "3  7405670  17T0424126         SATYAJIT JENA    Male  14-Apr-2000   \n",
       "4  7406777  17T0069387       MADHUSMITA BADI  Female  20-Feb-2000   \n",
       "\n",
       "                                      aadhar_no highest_qualification  \\\n",
       "0  47DEQpj8HBSa+/TImW+5JCeuQeRkm5NMpJWZG3hSuFU=             10TH PASS   \n",
       "1  47DEQpj8HBSa+/TImW+5JCeuQeRkm5NMpJWZG3hSuFU=                  12TH   \n",
       "2  47DEQpj8HBSa+/TImW+5JCeuQeRkm5NMpJWZG3hSuFU=                  10TH   \n",
       "3  47DEQpj8HBSa+/TImW+5JCeuQeRkm5NMpJWZG3hSuFU=                         \n",
       "4  47DEQpj8HBSa+/TImW+5JCeuQeRkm5NMpJWZG3hSuFU=                         \n",
       "\n",
       "                                           mark_data  \n",
       "0  [{\"ExamName\": \"10th Pass\", \"YearofPassing\": \"2...  \n",
       "1  [{\"ExamName\": \"10th Pass\", \"YearofPassing\": \"2...  \n",
       "2  [{\"ExamName\": \"10th Pass\", \"YearofPassing\": \"2...  \n",
       "3  [{\"ExamName\": \"10th Pass\", \"YearofPassing\": \"2...  \n",
       "4  [{\"ExamName\": \"10th Pass\", \"YearofPassing\": \"2...  "
      ]
     },
     "execution_count": 153,
     "metadata": {},
     "output_type": "execute_result"
    }
   ],
   "source": [
    "conn = sqlite3.connect(db_path)\n",
    "\n",
    "query = \"\"\"\n",
    "SELECT\n",
    "    id,\n",
    "    barcode,\n",
    "    student_name,\n",
    "    gender,\n",
    "    dob,\n",
    "    aadhar_no,\n",
    "    highest_qualification,\n",
    "    mark_data\n",
    "FROM students\n",
    "WHERE module = 'ITI'\n",
    "  AND academic_year = 2017\n",
    "  AND aadhar_no = '47DEQpj8HBSa+/TImW+5JCeuQeRkm5NMpJWZG3hSuFU='\n",
    "\"\"\"\n",
    "\n",
    "sketcky_aadhar = pd.read_sql_query(query, conn)\n",
    "conn.close()\n",
    "sketcky_aadhar.head()"
   ]
  },
  {
   "cell_type": "code",
   "execution_count": 155,
   "id": "dac27f2a",
   "metadata": {},
   "outputs": [
    {
     "name": "stdout",
     "output_type": "stream",
     "text": [
      "                              0            1\n",
      "id                      7439328      7411375\n",
      "barcode             17T00017310   17T0002705\n",
      "student_name  VIKUNARAYAN SAHOO  SILU MALANA\n"
     ]
    }
   ],
   "source": [
    "import sqlite3\n",
    "import pandas as pd\n",
    "\n",
    "conn = sqlite3.connect(db_path)\n",
    "\n",
    "query = \"\"\"\n",
    "SELECT\n",
    "    id,\n",
    "    barcode,\n",
    "    student_name\n",
    "FROM students\n",
    "WHERE module = 'ITI'\n",
    "  AND barcode IN ('17T00017310', '17T0002705')\n",
    "\"\"\"\n",
    "\n",
    "barcode_df = pd.read_sql_query(query, conn)\n",
    "conn.close()\n",
    "\n",
    "print(barcode_df.T)  # transpose for easier viewing\n"
   ]
  },
  {
   "cell_type": "code",
   "execution_count": null,
   "id": "7bd47508",
   "metadata": {},
   "outputs": [],
   "source": []
  },
  {
   "cell_type": "code",
   "execution_count": null,
   "id": "752d06bb",
   "metadata": {},
   "outputs": [],
   "source": []
  },
  {
   "cell_type": "code",
   "execution_count": null,
   "metadata": {},
   "outputs": [],
   "source": []
  },
  {
   "cell_type": "code",
   "execution_count": null,
   "id": "c5a53f03",
   "metadata": {},
   "outputs": [],
   "source": []
  },
  {
   "cell_type": "code",
   "execution_count": null,
   "id": "1a00d55f",
   "metadata": {},
   "outputs": [
    {
     "name": "stdout",
     "output_type": "stream",
     "text": [
      "Total rows in dataset: 559575\n"
     ]
    },
    {
     "data": {
      "application/vnd.microsoft.datawrangler.viewer.v0+json": {
       "columns": [
        {
         "name": "index",
         "rawType": "int64",
         "type": "integer"
        },
        {
         "name": "column",
         "rawType": "object",
         "type": "string"
        },
        {
         "name": "'NA'",
         "rawType": "int64",
         "type": "integer"
        },
        {
         "name": "'' (empty)",
         "rawType": "int64",
         "type": "integer"
        },
        {
         "name": "Total Missing",
         "rawType": "int64",
         "type": "integer"
        }
       ],
       "ref": "324fccfe-5dac-4b22-9ec1-0d94bd585760",
       "rows": [
        [
         "0",
         "highest_qualification",
         "72198",
         "14973",
         "87171"
        ],
        [
         "1",
         "YearofPassing",
         "0",
         "0",
         "0"
        ],
        [
         "2",
         "RollNo",
         "0",
         "0",
         "0"
        ],
        [
         "3",
         "HighestQualificationExamBoard",
         "1644",
         "0",
         "1644"
        ]
       ],
       "shape": {
        "columns": 4,
        "rows": 4
       }
      },
      "text/html": [
       "<div>\n",
       "<style scoped>\n",
       "    .dataframe tbody tr th:only-of-type {\n",
       "        vertical-align: middle;\n",
       "    }\n",
       "\n",
       "    .dataframe tbody tr th {\n",
       "        vertical-align: top;\n",
       "    }\n",
       "\n",
       "    .dataframe thead th {\n",
       "        text-align: right;\n",
       "    }\n",
       "</style>\n",
       "<table border=\"1\" class=\"dataframe\">\n",
       "  <thead>\n",
       "    <tr style=\"text-align: right;\">\n",
       "      <th></th>\n",
       "      <th>column</th>\n",
       "      <th>'NA'</th>\n",
       "      <th>'' (empty)</th>\n",
       "      <th>Total Missing</th>\n",
       "    </tr>\n",
       "  </thead>\n",
       "  <tbody>\n",
       "    <tr>\n",
       "      <th>0</th>\n",
       "      <td>highest_qualification</td>\n",
       "      <td>72198</td>\n",
       "      <td>14973</td>\n",
       "      <td>87171</td>\n",
       "    </tr>\n",
       "    <tr>\n",
       "      <th>1</th>\n",
       "      <td>YearofPassing</td>\n",
       "      <td>0</td>\n",
       "      <td>0</td>\n",
       "      <td>0</td>\n",
       "    </tr>\n",
       "    <tr>\n",
       "      <th>2</th>\n",
       "      <td>RollNo</td>\n",
       "      <td>0</td>\n",
       "      <td>0</td>\n",
       "      <td>0</td>\n",
       "    </tr>\n",
       "    <tr>\n",
       "      <th>3</th>\n",
       "      <td>HighestQualificationExamBoard</td>\n",
       "      <td>1644</td>\n",
       "      <td>0</td>\n",
       "      <td>1644</td>\n",
       "    </tr>\n",
       "  </tbody>\n",
       "</table>\n",
       "</div>"
      ],
      "text/plain": [
       "                          column   'NA'  '' (empty)  Total Missing\n",
       "0          highest_qualification  72198       14973          87171\n",
       "1                  YearofPassing      0           0              0\n",
       "2                         RollNo      0           0              0\n",
       "3  HighestQualificationExamBoard   1644           0           1644"
      ]
     },
     "metadata": {},
     "output_type": "display_data"
    }
   ],
   "source": [
    "def missing_summary(df, cols):\n",
    "    total = len(df)\n",
    "    summary = []\n",
    "    for col in cols:\n",
    "        nan_count = df[col].isna().sum()\n",
    "        na_string = (df[col] == \"NA\").sum()\n",
    "        empty_count = (df[col] == \"\").sum()\n",
    "        summary.append({\n",
    "            \"column\": col,\n",
    "            \"'NA'\": na_string,\n",
    "            \"'' (empty)\": empty_count,\n",
    "            \"Total Missing\": nan_count + na_string + empty_count,\n",
    "        })\n",
    "    return pd.DataFrame(summary)\n",
    "\n",
    "print(f\"Total rows in dataset: {len(df)}\")\n",
    "\n",
    "key_columns = [\n",
    "    \"highest_qualification\",\n",
    "    \"YearofPassing\",\n",
    "    \"RollNo\",\n",
    "    \"HighestQualificationExamBoard\"\n",
    "]\n",
    "\n",
    "missing_report = missing_summary(df, key_columns)\n",
    "display(missing_report)\n"
   ]
  },
  {
   "cell_type": "code",
   "execution_count": null,
   "id": "76abe660",
   "metadata": {},
   "outputs": [],
   "source": []
  },
  {
   "cell_type": "code",
   "execution_count": null,
   "id": "5ea689e0",
   "metadata": {},
   "outputs": [],
   "source": []
  },
  {
   "cell_type": "code",
   "execution_count": null,
   "id": "9da4087b",
   "metadata": {},
   "outputs": [],
   "source": []
  },
  {
   "cell_type": "code",
   "execution_count": null,
   "id": "f2b12e67",
   "metadata": {},
   "outputs": [],
   "source": []
  },
  {
   "cell_type": "code",
   "execution_count": null,
   "id": "05388713",
   "metadata": {},
   "outputs": [],
   "source": []
  },
  {
   "cell_type": "code",
   "execution_count": null,
   "id": "14d85e6c",
   "metadata": {},
   "outputs": [],
   "source": []
  },
  {
   "cell_type": "code",
   "execution_count": null,
   "id": "e4a9964b",
   "metadata": {},
   "outputs": [],
   "source": []
  },
  {
   "cell_type": "code",
   "execution_count": null,
   "id": "27fc92f3",
   "metadata": {},
   "outputs": [],
   "source": []
  },
  {
   "cell_type": "code",
   "execution_count": null,
   "id": "cb7c8b2a",
   "metadata": {},
   "outputs": [],
   "source": []
  },
  {
   "cell_type": "code",
   "execution_count": null,
   "id": "d7560668",
   "metadata": {},
   "outputs": [
    {
     "name": "stdout",
     "output_type": "stream",
     "text": [
      "Unique keys in iti_df: 542756 / 559575\n"
     ]
    }
   ],
   "source": [
    "# Inspect the result\n",
    "print(f\"Unique keys in iti_df: {df['composite_key'].nunique()} / {len(df)}\")"
   ]
  },
  {
   "cell_type": "code",
   "execution_count": null,
   "id": "e0a52a49",
   "metadata": {},
   "outputs": [
    {
     "name": "stdout",
     "output_type": "stream",
     "text": [
      "Rows with duplicate composite keys: 32730\n",
      "Unique composite keys duplicated: 15911\n"
     ]
    }
   ],
   "source": [
    "# Find rows with duplicate keys\n",
    "duplicates_df = df[df.duplicated('composite_key', keep=False)]\n",
    "\n",
    "# How many rows are involved in duplicates\n",
    "print(f\"Rows with duplicate composite keys: {len(duplicates_df)}\")\n",
    "\n",
    "# How many unique keys are duplicated\n",
    "print(f\"Unique composite keys duplicated: {duplicates_df['composite_key'].nunique()}\")"
   ]
  },
  {
   "cell_type": "code",
   "execution_count": null,
   "id": "16914cf6",
   "metadata": {},
   "outputs": [
    {
     "data": {
      "application/vnd.microsoft.datawrangler.viewer.v0+json": {
       "columns": [
        {
         "name": "index",
         "rawType": "int64",
         "type": "integer"
        },
        {
         "name": "aadhar_no",
         "rawType": "object",
         "type": "string"
        },
        {
         "name": "highest_qualification",
         "rawType": "object",
         "type": "string"
        },
        {
         "name": "YearofPassing",
         "rawType": "object",
         "type": "string"
        },
        {
         "name": "RollNo",
         "rawType": "object",
         "type": "string"
        },
        {
         "name": "HighestQualificationExamBoard",
         "rawType": "object",
         "type": "string"
        },
        {
         "name": "composite_key",
         "rawType": "object",
         "type": "string"
        }
       ],
       "ref": "695dedb3-4ff7-4306-8886-2d6f0ee50a5b",
       "rows": [
        [
         "0",
         "DeGxV1bCBqOBygfLzt3u268Es6xBaRZq3tf+eEp6WDw=",
         "10TH",
         "2017",
         "PoLOLFcCUYZ/iR42DWBy2A==",
         "Board of Secondary Education, Odisha, Cuttack-753001",
         "10th_2017_PoLOLFcCUYZ/iR42DWBy2A==_Board of Secondary Education, Odisha, Cuttack-753001"
        ],
        [
         "2",
         "EPFmTPfdOGPrc/oLdkNxJ+t1ocsxYmM+j+/2AL7aEBQ=",
         "10TH",
         "2017",
         "LjH/WJQkl9UJzVJCu+CaSQ==",
         "Board of Secondary Education, Odisha, Cuttack-753001",
         "10th_2017_LjH/WJQkl9UJzVJCu+CaSQ==_Board of Secondary Education, Odisha, Cuttack-753001"
        ],
        [
         "7",
         "AM1BwT3d2R+NQ2nuBdCHt4Qhw83J+GG5svrRrRWvjrE=",
         "",
         "2017",
         "ygiPoVgEWXgegbZaYL66Aw==",
         "Board of Secondary Education, Odisha, Cuttack-753001",
         "_2017_ygiPoVgEWXgegbZaYL66Aw==_Board of Secondary Education, Odisha, Cuttack-753001"
        ],
        [
         "31",
         "2Pneod71Uf+OJ17wca36YJ/UPUBG6vBtc/s6awUm8aw=",
         "10TH PASS",
         "2017",
         "h/PsI1W/Ko0xE9jIPRfFBw==",
         "Board of Secondary Education, Odisha, Cuttack-753001",
         "10th pass_2017_h/PsI1W/Ko0xE9jIPRfFBw==_Board of Secondary Education, Odisha, Cuttack-753001"
        ],
        [
         "34",
         "guVWBg8CbeqpP+7HsPcu9ixqGj+4K5cUD5fFkniTcLs=",
         "10th",
         "2017",
         "oTiyDPHbNOxVEaJG+XFmqA==",
         "Board of Secondary Education, Odisha, Cuttack-753001",
         "10th_2017_oTiyDPHbNOxVEaJG+XFmqA==_Board of Secondary Education, Odisha, Cuttack-753001"
        ]
       ],
       "shape": {
        "columns": 6,
        "rows": 5
       }
      },
      "text/html": [
       "<div>\n",
       "<style scoped>\n",
       "    .dataframe tbody tr th:only-of-type {\n",
       "        vertical-align: middle;\n",
       "    }\n",
       "\n",
       "    .dataframe tbody tr th {\n",
       "        vertical-align: top;\n",
       "    }\n",
       "\n",
       "    .dataframe thead th {\n",
       "        text-align: right;\n",
       "    }\n",
       "</style>\n",
       "<table border=\"1\" class=\"dataframe\">\n",
       "  <thead>\n",
       "    <tr style=\"text-align: right;\">\n",
       "      <th></th>\n",
       "      <th>aadhar_no</th>\n",
       "      <th>highest_qualification</th>\n",
       "      <th>YearofPassing</th>\n",
       "      <th>RollNo</th>\n",
       "      <th>HighestQualificationExamBoard</th>\n",
       "      <th>composite_key</th>\n",
       "    </tr>\n",
       "  </thead>\n",
       "  <tbody>\n",
       "    <tr>\n",
       "      <th>0</th>\n",
       "      <td>DeGxV1bCBqOBygfLzt3u268Es6xBaRZq3tf+eEp6WDw=</td>\n",
       "      <td>10TH</td>\n",
       "      <td>2017</td>\n",
       "      <td>PoLOLFcCUYZ/iR42DWBy2A==</td>\n",
       "      <td>Board of Secondary Education, Odisha, Cuttack-...</td>\n",
       "      <td>10th_2017_PoLOLFcCUYZ/iR42DWBy2A==_Board of Se...</td>\n",
       "    </tr>\n",
       "    <tr>\n",
       "      <th>2</th>\n",
       "      <td>EPFmTPfdOGPrc/oLdkNxJ+t1ocsxYmM+j+/2AL7aEBQ=</td>\n",
       "      <td>10TH</td>\n",
       "      <td>2017</td>\n",
       "      <td>LjH/WJQkl9UJzVJCu+CaSQ==</td>\n",
       "      <td>Board of Secondary Education, Odisha, Cuttack-...</td>\n",
       "      <td>10th_2017_LjH/WJQkl9UJzVJCu+CaSQ==_Board of Se...</td>\n",
       "    </tr>\n",
       "    <tr>\n",
       "      <th>7</th>\n",
       "      <td>AM1BwT3d2R+NQ2nuBdCHt4Qhw83J+GG5svrRrRWvjrE=</td>\n",
       "      <td></td>\n",
       "      <td>2017</td>\n",
       "      <td>ygiPoVgEWXgegbZaYL66Aw==</td>\n",
       "      <td>Board of Secondary Education, Odisha, Cuttack-...</td>\n",
       "      <td>_2017_ygiPoVgEWXgegbZaYL66Aw==_Board of Second...</td>\n",
       "    </tr>\n",
       "    <tr>\n",
       "      <th>31</th>\n",
       "      <td>2Pneod71Uf+OJ17wca36YJ/UPUBG6vBtc/s6awUm8aw=</td>\n",
       "      <td>10TH PASS</td>\n",
       "      <td>2017</td>\n",
       "      <td>h/PsI1W/Ko0xE9jIPRfFBw==</td>\n",
       "      <td>Board of Secondary Education, Odisha, Cuttack-...</td>\n",
       "      <td>10th pass_2017_h/PsI1W/Ko0xE9jIPRfFBw==_Board ...</td>\n",
       "    </tr>\n",
       "    <tr>\n",
       "      <th>34</th>\n",
       "      <td>guVWBg8CbeqpP+7HsPcu9ixqGj+4K5cUD5fFkniTcLs=</td>\n",
       "      <td>10th</td>\n",
       "      <td>2017</td>\n",
       "      <td>oTiyDPHbNOxVEaJG+XFmqA==</td>\n",
       "      <td>Board of Secondary Education, Odisha, Cuttack-...</td>\n",
       "      <td>10th_2017_oTiyDPHbNOxVEaJG+XFmqA==_Board of Se...</td>\n",
       "    </tr>\n",
       "  </tbody>\n",
       "</table>\n",
       "</div>"
      ],
      "text/plain": [
       "                                       aadhar_no highest_qualification  \\\n",
       "0   DeGxV1bCBqOBygfLzt3u268Es6xBaRZq3tf+eEp6WDw=                  10TH   \n",
       "2   EPFmTPfdOGPrc/oLdkNxJ+t1ocsxYmM+j+/2AL7aEBQ=                  10TH   \n",
       "7   AM1BwT3d2R+NQ2nuBdCHt4Qhw83J+GG5svrRrRWvjrE=                         \n",
       "31  2Pneod71Uf+OJ17wca36YJ/UPUBG6vBtc/s6awUm8aw=             10TH PASS   \n",
       "34  guVWBg8CbeqpP+7HsPcu9ixqGj+4K5cUD5fFkniTcLs=                  10th   \n",
       "\n",
       "   YearofPassing                    RollNo  \\\n",
       "0           2017  PoLOLFcCUYZ/iR42DWBy2A==   \n",
       "2           2017  LjH/WJQkl9UJzVJCu+CaSQ==   \n",
       "7           2017  ygiPoVgEWXgegbZaYL66Aw==   \n",
       "31          2017  h/PsI1W/Ko0xE9jIPRfFBw==   \n",
       "34          2017  oTiyDPHbNOxVEaJG+XFmqA==   \n",
       "\n",
       "                        HighestQualificationExamBoard  \\\n",
       "0   Board of Secondary Education, Odisha, Cuttack-...   \n",
       "2   Board of Secondary Education, Odisha, Cuttack-...   \n",
       "7   Board of Secondary Education, Odisha, Cuttack-...   \n",
       "31  Board of Secondary Education, Odisha, Cuttack-...   \n",
       "34  Board of Secondary Education, Odisha, Cuttack-...   \n",
       "\n",
       "                                        composite_key  \n",
       "0   10th_2017_PoLOLFcCUYZ/iR42DWBy2A==_Board of Se...  \n",
       "2   10th_2017_LjH/WJQkl9UJzVJCu+CaSQ==_Board of Se...  \n",
       "7   _2017_ygiPoVgEWXgegbZaYL66Aw==_Board of Second...  \n",
       "31  10th pass_2017_h/PsI1W/Ko0xE9jIPRfFBw==_Board ...  \n",
       "34  10th_2017_oTiyDPHbNOxVEaJG+XFmqA==_Board of Se...  "
      ]
     },
     "execution_count": 42,
     "metadata": {},
     "output_type": "execute_result"
    }
   ],
   "source": [
    "# Look at a few duplicate groups\n",
    "example_dupes = duplicates_df.groupby('composite_key').head(5)\n",
    "example_dupes[['aadhar_no', 'highest_qualification', 'YearofPassing', 'RollNo', 'HighestQualificationExamBoard', 'composite_key']].head()\n",
    "example_dupes"
   ]
  },
  {
   "cell_type": "code",
   "execution_count": 43,
   "id": "3d0bd8c6",
   "metadata": {},
   "outputs": [
    {
     "name": "stdout",
     "output_type": "stream",
     "text": [
      "Composite keys linked to multiple Aadhaar numbers: 1128\n"
     ]
    }
   ],
   "source": [
    "conflicts = (\n",
    "    duplicates_df.groupby('composite_key')['aadhar_no']\n",
    "    .nunique()\n",
    "    .reset_index(name='unique_aadhar_count')\n",
    "    .query(\"unique_aadhar_count > 1\")\n",
    ")\n",
    "\n",
    "print(f\"Composite keys linked to multiple Aadhaar numbers: {len(conflicts)}\")\n"
   ]
  },
  {
   "cell_type": "code",
   "execution_count": null,
   "id": "f1584bfe",
   "metadata": {},
   "outputs": [],
   "source": []
  },
  {
   "cell_type": "code",
   "execution_count": null,
   "id": "5b1d91a6",
   "metadata": {},
   "outputs": [],
   "source": []
  },
  {
   "cell_type": "code",
   "execution_count": null,
   "id": "0c7acea0",
   "metadata": {},
   "outputs": [],
   "source": []
  },
  {
   "cell_type": "code",
   "execution_count": null,
   "id": "479d399c",
   "metadata": {},
   "outputs": [],
   "source": []
  },
  {
   "cell_type": "code",
   "execution_count": null,
   "id": "644a505e",
   "metadata": {},
   "outputs": [],
   "source": []
  },
  {
   "cell_type": "code",
   "execution_count": null,
   "id": "8c0e4c4f",
   "metadata": {},
   "outputs": [],
   "source": []
  }
 ],
 "metadata": {
  "kernelspec": {
   "display_name": "skills",
   "language": "python",
   "name": "python3"
  },
  "language_info": {
   "codemirror_mode": {
    "name": "ipython",
    "version": 3
   },
   "file_extension": ".py",
   "mimetype": "text/x-python",
   "name": "python",
   "nbconvert_exporter": "python",
   "pygments_lexer": "ipython3",
   "version": "3.10.17"
  }
 },
 "nbformat": 4,
 "nbformat_minor": 5
}
