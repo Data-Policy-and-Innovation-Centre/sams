{
 "cells": [
  {
   "cell_type": "code",
   "execution_count": 1,
   "metadata": {},
   "outputs": [
    {
     "name": "stderr",
     "output_type": "stream",
     "text": [
      "\u001b[32m2024-10-12 19:01:15.762\u001b[0m | \u001b[1mINFO    \u001b[0m | \u001b[36msams.config\u001b[0m:\u001b[36m<module>\u001b[0m:\u001b[36m11\u001b[0m - \u001b[1mPROJ_ROOT path is: C:\\Users\\Admin\\Documents\\GitHub\\sams\u001b[0m\n"
     ]
    }
   ],
   "source": [
    "from sams import config\n",
    "import pandas as pd\n",
    "import sqlite3\n",
    "import json"
   ]
  },
  {
   "cell_type": "code",
   "execution_count": 2,
   "metadata": {},
   "outputs": [],
   "source": [
    "con = sqlite3.connect(config.SAMS_DB)\n",
    "query = \"\"\"\n",
    "    SELECT *\n",
    "    FROM students\n",
    "    WHERE module='ITI' AND aadhar_no IS NOT NULL AND sams_code IS NOT NULL\n",
    "\"\"\"\n",
    "df = pd.read_sql(query, con)\n"
   ]
  },
  {
   "cell_type": "code",
   "execution_count": 3,
   "metadata": {},
   "outputs": [
    {
     "data": {
      "text/plain": [
       "(361680, 55)"
      ]
     },
     "execution_count": 3,
     "metadata": {},
     "output_type": "execute_result"
    }
   ],
   "source": [
    "df.shape"
   ]
  },
  {
   "cell_type": "code",
   "execution_count": 29,
   "metadata": {},
   "outputs": [
    {
     "data": {
      "text/plain": [
       "Index(['id', 'barcode', 'student_name', 'gender', 'religion_name', 'dob',\n",
       "       'nationality', 'annual_income', 'address', 'state', 'district', 'block',\n",
       "       'pin_code', 'social_category', 'domicile', 's_domicile_category',\n",
       "       'outside_odisha_applicant_state_name',\n",
       "       'odia_applicant_living_outside_odisha_state_name',\n",
       "       'residence_barcode_number', 'tenth_exam_school_address',\n",
       "       'eighth_exam_school_address', 'highest_qualification',\n",
       "       'had_two_year_full_time_work_exp_after_tenth', 'gc', 'ph', 'es',\n",
       "       'sports', 'national_cadet_corps', 'pm_care', 'orphan', 'income_barcode',\n",
       "       'tfw', 'ews', 'boc', 'boc_regd_no', 'course_name', 'course_period',\n",
       "       'beauty_culture_type', 'sams_code', 'reported_institute',\n",
       "       'reported_branch_or_trade', 'institute_district', 'typeof_institute',\n",
       "       'phase', 'year', 'admission_status', 'enrollment_status',\n",
       "       'applied_status', 'date_of_application', 'application_status',\n",
       "       'aadhar_no', 'registration_number', 'mark_data', 'module',\n",
       "       'academic_year'],\n",
       "      dtype='object')"
      ]
     },
     "execution_count": 29,
     "metadata": {},
     "output_type": "execute_result"
    }
   ],
   "source": [
    "df.columns"
   ]
  },
  {
   "cell_type": "code",
   "execution_count": null,
   "metadata": {},
   "outputs": [],
   "source": [
    "df.dtypes"
   ]
  },
  {
   "cell_type": "code",
   "execution_count": 27,
   "metadata": {},
   "outputs": [
    {
     "data": {
      "text/plain": [
       "{'nationality': 361680,\n",
       " 'annual_income': 4885,\n",
       " 'address': 2,\n",
       " 'pin_code': 22031,\n",
       " 'domicile': 361680,\n",
       " 's_domicile_category': 361680,\n",
       " 'outside_odisha_applicant_state_name': 361680,\n",
       " 'odia_applicant_living_outside_odisha_state_name': 361680,\n",
       " 'tenth_exam_school_address': 361680,\n",
       " 'eighth_exam_school_address': 361680,\n",
       " 'highest_qualification': 56906,\n",
       " 'had_two_year_full_time_work_exp_after_tenth': 361680,\n",
       " 'ph': 61,\n",
       " 'national_cadet_corps': 361680,\n",
       " 'pm_care': 361680,\n",
       " 'tfw': 361680,\n",
       " 'ews': 3117,\n",
       " 'beauty_culture_type': 361680}"
      ]
     },
     "execution_count": 27,
     "metadata": {},
     "output_type": "execute_result"
    }
   ],
   "source": [
    "def count_missing(df):\n",
    "    missing_counts = {}\n",
    "    for column in df.columns:\n",
    "        # Count missing values: None, \"\", \" \", \"NA\"\n",
    "        missing_count = df[column].isnull().sum()  # Count None values\n",
    "        missing_count += df[column].apply(lambda x: x in [\"\", \" \", \"NA\"]).sum()  # Count empty strings, spaces, and \"NA\"\n",
    "        missing_counts[column] = missing_count\n",
    "    return missing_counts\n",
    "\n",
    "\n",
    "missing_counts = count_missing(df)\n",
    "missing_counts = {key: int(value) for key, value in missing_counts.items() if int(value) > 0}\n",
    "missing_counts\n"
   ]
  },
  {
   "cell_type": "code",
   "execution_count": null,
   "metadata": {},
   "outputs": [],
   "source": [
    "[json.loads(js) for js in df['mark_data']]"
   ]
  },
  {
   "cell_type": "code",
   "execution_count": 32,
   "metadata": {},
   "outputs": [
    {
     "data": {
      "text/plain": [
       "array(['HINDU', 'OTHERS', 'MUSLIM', 'CHRISTIAN', 'SIKH', 'BUDHIST',\n",
       "       'PARSI'], dtype=object)"
      ]
     },
     "execution_count": 32,
     "metadata": {},
     "output_type": "execute_result"
    }
   ],
   "source": [
    "df['religion_name'].unique()\n"
   ]
  },
  {
   "cell_type": "code",
   "execution_count": 33,
   "metadata": {},
   "outputs": [
    {
     "data": {
      "text/plain": [
       "array(['Male', 'Female', 'Transgender'], dtype=object)"
      ]
     },
     "execution_count": 33,
     "metadata": {},
     "output_type": "execute_result"
    }
   ],
   "source": [
    "df['gender'].unique()"
   ]
  },
  {
   "cell_type": "code",
   "execution_count": 35,
   "metadata": {},
   "outputs": [
    {
     "data": {
      "text/plain": [
       "array(['OTHER', '0-1,00,000', '1,00,000-2,50,000', '2,50,000 - 6,00,000',\n",
       "       'NA', 'More than 8,00,000'], dtype=object)"
      ]
     },
     "execution_count": 35,
     "metadata": {},
     "output_type": "execute_result"
    }
   ],
   "source": [
    "df['annual_income'].unique()"
   ]
  },
  {
   "cell_type": "code",
   "execution_count": 37,
   "metadata": {},
   "outputs": [
    {
     "data": {
      "text/plain": [
       "array(['No', 'Yes'], dtype=object)"
      ]
     },
     "execution_count": 37,
     "metadata": {},
     "output_type": "execute_result"
    }
   ],
   "source": [
    "df['gc'].unique()"
   ]
  },
  {
   "cell_type": "code",
   "execution_count": 38,
   "metadata": {},
   "outputs": [
    {
     "data": {
      "text/plain": [
       "academic_year\n",
       "2017     3117\n",
       "2018    50453\n",
       "2019    47929\n",
       "2020    44161\n",
       "2021    46161\n",
       "2022    47296\n",
       "2023    64995\n",
       "2024    57568\n",
       "Name: count, dtype: int64"
      ]
     },
     "execution_count": 38,
     "metadata": {},
     "output_type": "execute_result"
    }
   ],
   "source": [
    "counts = df['academic_year'].value_counts()\n",
    "counts = counts.sort_index()\n",
    "counts\n",
    "\n",
    "\n"
   ]
  },
  {
   "cell_type": "code",
   "execution_count": 30,
   "metadata": {},
   "outputs": [
    {
     "data": {
      "text/plain": [
       "academic_year\n",
       "2017     3073\n",
       "2018    50431\n",
       "2019    47929\n",
       "2020    44161\n",
       "2021    46161\n",
       "2022    47296\n",
       "2023    64995\n",
       "2024    57568\n",
       "Name: aadhar_no, dtype: int64"
      ]
     },
     "execution_count": 30,
     "metadata": {},
     "output_type": "execute_result"
    }
   ],
   "source": [
    "unique_counts = df.groupby('academic_year')['aadhar_no'].nunique()\n",
    "unique_counts"
   ]
  },
  {
   "cell_type": "code",
   "execution_count": 60,
   "metadata": {},
   "outputs": [
    {
     "data": {
      "text/plain": [
       "academic_year\n",
       "2017    136\n",
       "2018     36\n",
       "2019     24\n",
       "2020      6\n",
       "2021      6\n",
       "2022      6\n",
       "2023      6\n",
       "2024      5\n",
       "Name: highest_qualification, dtype: int64"
      ]
     },
     "execution_count": 60,
     "metadata": {},
     "output_type": "execute_result"
    }
   ],
   "source": [
    "unique_quals = df.groupby('academic_year')['highest_qualification'].nunique()\n",
    "unique_quals"
   ]
  },
  {
   "cell_type": "code",
   "execution_count": 19,
   "metadata": {},
   "outputs": [
    {
     "data": {
      "text/plain": [
       "academic_year\n",
       "2017    31\n",
       "2018    31\n",
       "2019    31\n",
       "2020    31\n",
       "2021    31\n",
       "2022    31\n",
       "2023    31\n",
       "2024    31\n",
       "Name: district, dtype: int64"
      ]
     },
     "execution_count": 19,
     "metadata": {},
     "output_type": "execute_result"
    }
   ],
   "source": [
    "unique_home_districts = df.groupby('academic_year')['district'].nunique()\n",
    "unique_home_districts"
   ]
  },
  {
   "cell_type": "code",
   "execution_count": 20,
   "metadata": {},
   "outputs": [
    {
     "data": {
      "text/plain": [
       "array(['Angul', 'Keonjhar', 'Mayurbhanj', 'Dhenkanal', 'Balasore',\n",
       "       'Sundargarh', 'Kendrapara', 'Jajpur', 'Bhadrak', 'Baragarh',\n",
       "       'Deogarh', 'Ganjam', 'Cuttack', 'Jagatsinghpur', 'Khurda',\n",
       "       'Nayagarh', 'Sambalpur', 'Jharsuguda', 'Sonepur', 'Bolangir',\n",
       "       'Kalahandi', 'Koraput', 'Boudh', 'Nuapada', 'Kandhamal',\n",
       "       'Rayagada', 'Puri', 'Gajapati', 'Other', 'Nawarangpur',\n",
       "       'Malkangiri', 'Odisha', 'Skill Department (DTET)'], dtype=object)"
      ]
     },
     "execution_count": 20,
     "metadata": {},
     "output_type": "execute_result"
    }
   ],
   "source": [
    "df['district'].unique()"
   ]
  },
  {
   "cell_type": "code",
   "execution_count": 22,
   "metadata": {},
   "outputs": [
    {
     "data": {
      "text/plain": [
       "academic_year\n",
       "2017    28\n",
       "2018    30\n",
       "2019    30\n",
       "2020    30\n",
       "2021    30\n",
       "2022    30\n",
       "2023    30\n",
       "2024    30\n",
       "Name: institute_district, dtype: int64"
      ]
     },
     "execution_count": 22,
     "metadata": {},
     "output_type": "execute_result"
    }
   ],
   "source": [
    "unique_institute_district = df.groupby('academic_year')['institute_district'].nunique()\n",
    "unique_institute_district"
   ]
  },
  {
   "cell_type": "code",
   "execution_count": 25,
   "metadata": {},
   "outputs": [
    {
     "data": {
      "text/plain": [
       "array(['Angul', 'Balasore', 'Baragarh', 'Bolangir', 'Boudh', 'Cuttack',\n",
       "       'Deogarh', 'Dhenkanal', 'Gajapati', 'Ganjam', 'Jajpur',\n",
       "       'Jharsuguda', 'Kalahandi', 'Kandhamal', 'Kendrapara', 'Keonjhar',\n",
       "       'Khurda', 'Koraput', 'Malkangiri', 'Mayurbhanj', 'Nawarangpur',\n",
       "       'Nayagarh', 'Nuapada', 'Puri', 'Rayagada', 'Sambalpur', 'Sonepur',\n",
       "       'Sundargarh', 'Bhadrak', 'Jagatsinghpur'], dtype=object)"
      ]
     },
     "execution_count": 25,
     "metadata": {},
     "output_type": "execute_result"
    }
   ],
   "source": [
    "df['institute_district'].unique()"
   ]
  },
  {
   "cell_type": "code",
   "execution_count": 26,
   "metadata": {},
   "outputs": [
    {
     "data": {
      "text/plain": [
       "{'Odisha', 'Other', 'Skill Department (DTET)'}"
      ]
     },
     "execution_count": 26,
     "metadata": {},
     "output_type": "execute_result"
    }
   ],
   "source": [
    "set(df['district'].unique()).symmetric_difference(set(df['institute_district'].unique()))"
   ]
  }
 ],
 "metadata": {
  "kernelspec": {
   "display_name": "skills",
   "language": "python",
   "name": "python3"
  },
  "language_info": {
   "codemirror_mode": {
    "name": "ipython",
    "version": 3
   },
   "file_extension": ".py",
   "mimetype": "text/x-python",
   "name": "python",
   "nbconvert_exporter": "python",
   "pygments_lexer": "ipython3",
   "version": "3.10.15"
  }
 },
 "nbformat": 4,
 "nbformat_minor": 2
}
