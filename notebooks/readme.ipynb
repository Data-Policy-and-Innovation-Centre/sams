{
 "cells": [
  {
   "cell_type": "code",
   "execution_count": 2,
   "id": "e458b2b9",
   "metadata": {},
   "outputs": [
    {
     "name": "stderr",
     "output_type": "stream",
     "text": [
      "\u001b[32m2025-08-07 12:15:55.730\u001b[0m | \u001b[1mINFO    \u001b[0m | \u001b[36msams.config\u001b[0m:\u001b[36m<module>\u001b[0m:\u001b[36m15\u001b[0m - \u001b[1mPROJ_ROOT path is: C:\\Users\\Admin\\Documents\\GitHub\\sams\u001b[0m\n",
      "\u001b[32m2025-08-07 12:15:55.794\u001b[0m | \u001b[33m\u001b[1mWARNING \u001b[0m | \u001b[36msams.config\u001b[0m:\u001b[36m<module>\u001b[0m:\u001b[36m83\u001b[0m - \u001b[33m\u001b[1mGoogle MAPS API key not found, using Nominatim geocoder\u001b[0m\n",
      "\u001b[32m2025-08-07 12:15:55.796\u001b[0m | \u001b[1mINFO    \u001b[0m | \u001b[36msams.config\u001b[0m:\u001b[36m<module>\u001b[0m:\u001b[36m92\u001b[0m - \u001b[1mLoaded 0 geocodes from cache\u001b[0m\n"
     ]
    }
   ],
   "source": [
    "import sqlite3\n",
    "import pandas as pd\n",
    "import seaborn as sns\n",
    "import json\n",
    "import numpy as np\n",
    "import os\n",
    "from sams.utils import load_data\n",
    "from sams.config import datasets"
   ]
  },
  {
   "cell_type": "code",
   "execution_count": 3,
   "id": "6116dd61",
   "metadata": {},
   "outputs": [],
   "source": [
    "from pathlib import Path\n",
    "DATA_DIR = Path(\"C:/Users/Admin/Documents/GitHub/sams/data\")\n",
    "RAW_DATA_DIR = DATA_DIR / \"raw\"\n",
    "hss_df = pd.read_parquet(RAW_DATA_DIR / \"hss_data.pq\", engine='pyarrow')"
   ]
  },
  {
   "cell_type": "code",
   "execution_count": null,
   "id": "fc79dd51",
   "metadata": {},
   "outputs": [
    {
     "data": {
      "text/plain": [
       "Index(['aadhar_no', 'barcode', 'academic_year', 'gender', 'nationality',\n",
       "       'state', 'district', 'block', 'pin_code', 'social_category',\n",
       "       'examination_boardofthe_highest_qualification',\n",
       "       'board_exam_namefor_highest_qualification', 'examination_type',\n",
       "       'year_of_passing', 'total_marks', 'secured_marks', 'percentage',\n",
       "       'compartmental_status', 'hss_option_details'],\n",
       "      dtype='object')"
      ]
     },
     "execution_count": 5,
     "metadata": {},
     "output_type": "execute_result"
    }
   ],
   "source": [
    "option"
   ]
  },
  {
   "cell_type": "code",
   "execution_count": 4,
   "id": "178a1faf",
   "metadata": {},
   "outputs": [
    {
     "data": {
      "text/plain": [
       "(3453401, 19)"
      ]
     },
     "execution_count": 4,
     "metadata": {},
     "output_type": "execute_result"
    }
   ],
   "source": [
    "hss_df.shape"
   ]
  },
  {
   "cell_type": "code",
   "execution_count": 5,
   "id": "84b3177a",
   "metadata": {},
   "outputs": [
    {
     "data": {
      "text/plain": [
       "Index(['aadhar_no', 'barcode', 'academic_year', 'gender', 'nationality',\n",
       "       'state', 'district', 'block', 'pin_code', 'social_category',\n",
       "       'examination_boardofthe_highest_qualification',\n",
       "       'board_exam_namefor_highest_qualification', 'examination_type',\n",
       "       'year_of_passing', 'total_marks', 'secured_marks', 'percentage',\n",
       "       'compartmental_status', 'hss_option_details'],\n",
       "      dtype='object')"
      ]
     },
     "execution_count": 5,
     "metadata": {},
     "output_type": "execute_result"
    }
   ],
   "source": [
    "hss_df.columns"
   ]
  },
  {
   "cell_type": "code",
   "execution_count": 8,
   "id": "0a134a23",
   "metadata": {},
   "outputs": [
    {
     "data": {
      "application/vnd.microsoft.datawrangler.viewer.v0+json": {
       "columns": [
        {
         "name": "index",
         "rawType": "object",
         "type": "string"
        },
        {
         "name": "dtype",
         "rawType": "object",
         "type": "unknown"
        },
        {
         "name": "n_rows",
         "rawType": "int64",
         "type": "integer"
        },
        {
         "name": "n_missing",
         "rawType": "int64",
         "type": "integer"
        },
        {
         "name": "n_blank",
         "rawType": "int64",
         "type": "integer"
        },
        {
         "name": "n_null_like",
         "rawType": "int64",
         "type": "integer"
        },
        {
         "name": "missing_pct",
         "rawType": "float64",
         "type": "float"
        },
        {
         "name": "blank_pct",
         "rawType": "float64",
         "type": "float"
        },
        {
         "name": "null_like_pct",
         "rawType": "float64",
         "type": "float"
        }
       ],
       "ref": "689e2e17-ad05-479b-858b-3c67587a4d49",
       "rows": [
        [
         "pin_code",
         "Int32",
         "3453401",
         "183836",
         "0",
         "0",
         "5.323331984904157",
         "0.0",
         "0.0"
        ],
        [
         "aadhar_no",
         "string",
         "3453401",
         "45000",
         "385857",
         "0",
         "1.3030632700922946",
         "11.173246315733389",
         "0.0"
        ],
        [
         "barcode",
         "string",
         "3453401",
         "0",
         "0",
         "0",
         "0.0",
         "0.0",
         "0.0"
        ],
        [
         "academic_year",
         "Int16",
         "3453401",
         "0",
         "0",
         "0",
         "0.0",
         "0.0",
         "0.0"
        ],
        [
         "gender",
         "category",
         "3453401",
         "0",
         "0",
         "0",
         "0.0",
         "0.0",
         "0.0"
        ],
        [
         "nationality",
         "category",
         "3453401",
         "0",
         "0",
         "0",
         "0.0",
         "0.0",
         "0.0"
        ],
        [
         "state",
         "category",
         "3453401",
         "0",
         "0",
         "0",
         "0.0",
         "0.0",
         "0.0"
        ],
        [
         "district",
         "category",
         "3453401",
         "0",
         "0",
         "0",
         "0.0",
         "0.0",
         "0.0"
        ],
        [
         "block",
         "category",
         "3453401",
         "0",
         "0",
         "0",
         "0.0",
         "0.0",
         "0.0"
        ],
        [
         "social_category",
         "category",
         "3453401",
         "0",
         "0",
         "0",
         "0.0",
         "0.0",
         "0.0"
        ],
        [
         "examination_boardofthe_highest_qualification",
         "category",
         "3453401",
         "0",
         "0",
         "0",
         "0.0",
         "0.0",
         "0.0"
        ],
        [
         "board_exam_namefor_highest_qualification",
         "category",
         "3453401",
         "0",
         "0",
         "0",
         "0.0",
         "0.0",
         "0.0"
        ],
        [
         "examination_type",
         "category",
         "3453401",
         "0",
         "0",
         "0",
         "0.0",
         "0.0",
         "0.0"
        ],
        [
         "year_of_passing",
         "Int16",
         "3453401",
         "0",
         "0",
         "0",
         "0.0",
         "0.0",
         "0.0"
        ],
        [
         "total_marks",
         "Int16",
         "3453401",
         "0",
         "0",
         "0",
         "0.0",
         "0.0",
         "0.0"
        ],
        [
         "secured_marks",
         "Float32",
         "3453401",
         "0",
         "0",
         "0",
         "0.0",
         "0.0",
         "0.0"
        ],
        [
         "percentage",
         "Float32",
         "3453401",
         "0",
         "0",
         "0",
         "0.0",
         "0.0",
         "0.0"
        ],
        [
         "compartmental_status",
         "category",
         "3453401",
         "0",
         "0",
         "0",
         "0.0",
         "0.0",
         "0.0"
        ],
        [
         "hss_option_details",
         "object",
         "3453401",
         "0",
         "0",
         "0",
         "0.0",
         "0.0",
         "0.0"
        ]
       ],
       "shape": {
        "columns": 8,
        "rows": 19
       }
      },
      "text/html": [
       "<div>\n",
       "<style scoped>\n",
       "    .dataframe tbody tr th:only-of-type {\n",
       "        vertical-align: middle;\n",
       "    }\n",
       "\n",
       "    .dataframe tbody tr th {\n",
       "        vertical-align: top;\n",
       "    }\n",
       "\n",
       "    .dataframe thead th {\n",
       "        text-align: right;\n",
       "    }\n",
       "</style>\n",
       "<table border=\"1\" class=\"dataframe\">\n",
       "  <thead>\n",
       "    <tr style=\"text-align: right;\">\n",
       "      <th></th>\n",
       "      <th>dtype</th>\n",
       "      <th>n_rows</th>\n",
       "      <th>n_missing</th>\n",
       "      <th>n_blank</th>\n",
       "      <th>n_null_like</th>\n",
       "      <th>missing_pct</th>\n",
       "      <th>blank_pct</th>\n",
       "      <th>null_like_pct</th>\n",
       "    </tr>\n",
       "  </thead>\n",
       "  <tbody>\n",
       "    <tr>\n",
       "      <th>pin_code</th>\n",
       "      <td>Int32</td>\n",
       "      <td>3453401</td>\n",
       "      <td>183836</td>\n",
       "      <td>0</td>\n",
       "      <td>0</td>\n",
       "      <td>5.323332</td>\n",
       "      <td>0.000000</td>\n",
       "      <td>0.0</td>\n",
       "    </tr>\n",
       "    <tr>\n",
       "      <th>aadhar_no</th>\n",
       "      <td>string[python]</td>\n",
       "      <td>3453401</td>\n",
       "      <td>45000</td>\n",
       "      <td>385857</td>\n",
       "      <td>0</td>\n",
       "      <td>1.303063</td>\n",
       "      <td>11.173246</td>\n",
       "      <td>0.0</td>\n",
       "    </tr>\n",
       "    <tr>\n",
       "      <th>barcode</th>\n",
       "      <td>string[python]</td>\n",
       "      <td>3453401</td>\n",
       "      <td>0</td>\n",
       "      <td>0</td>\n",
       "      <td>0</td>\n",
       "      <td>0.000000</td>\n",
       "      <td>0.000000</td>\n",
       "      <td>0.0</td>\n",
       "    </tr>\n",
       "    <tr>\n",
       "      <th>academic_year</th>\n",
       "      <td>Int16</td>\n",
       "      <td>3453401</td>\n",
       "      <td>0</td>\n",
       "      <td>0</td>\n",
       "      <td>0</td>\n",
       "      <td>0.000000</td>\n",
       "      <td>0.000000</td>\n",
       "      <td>0.0</td>\n",
       "    </tr>\n",
       "    <tr>\n",
       "      <th>gender</th>\n",
       "      <td>category</td>\n",
       "      <td>3453401</td>\n",
       "      <td>0</td>\n",
       "      <td>0</td>\n",
       "      <td>0</td>\n",
       "      <td>0.000000</td>\n",
       "      <td>0.000000</td>\n",
       "      <td>0.0</td>\n",
       "    </tr>\n",
       "    <tr>\n",
       "      <th>nationality</th>\n",
       "      <td>category</td>\n",
       "      <td>3453401</td>\n",
       "      <td>0</td>\n",
       "      <td>0</td>\n",
       "      <td>0</td>\n",
       "      <td>0.000000</td>\n",
       "      <td>0.000000</td>\n",
       "      <td>0.0</td>\n",
       "    </tr>\n",
       "    <tr>\n",
       "      <th>state</th>\n",
       "      <td>category</td>\n",
       "      <td>3453401</td>\n",
       "      <td>0</td>\n",
       "      <td>0</td>\n",
       "      <td>0</td>\n",
       "      <td>0.000000</td>\n",
       "      <td>0.000000</td>\n",
       "      <td>0.0</td>\n",
       "    </tr>\n",
       "    <tr>\n",
       "      <th>district</th>\n",
       "      <td>category</td>\n",
       "      <td>3453401</td>\n",
       "      <td>0</td>\n",
       "      <td>0</td>\n",
       "      <td>0</td>\n",
       "      <td>0.000000</td>\n",
       "      <td>0.000000</td>\n",
       "      <td>0.0</td>\n",
       "    </tr>\n",
       "    <tr>\n",
       "      <th>block</th>\n",
       "      <td>category</td>\n",
       "      <td>3453401</td>\n",
       "      <td>0</td>\n",
       "      <td>0</td>\n",
       "      <td>0</td>\n",
       "      <td>0.000000</td>\n",
       "      <td>0.000000</td>\n",
       "      <td>0.0</td>\n",
       "    </tr>\n",
       "    <tr>\n",
       "      <th>social_category</th>\n",
       "      <td>category</td>\n",
       "      <td>3453401</td>\n",
       "      <td>0</td>\n",
       "      <td>0</td>\n",
       "      <td>0</td>\n",
       "      <td>0.000000</td>\n",
       "      <td>0.000000</td>\n",
       "      <td>0.0</td>\n",
       "    </tr>\n",
       "    <tr>\n",
       "      <th>examination_boardofthe_highest_qualification</th>\n",
       "      <td>category</td>\n",
       "      <td>3453401</td>\n",
       "      <td>0</td>\n",
       "      <td>0</td>\n",
       "      <td>0</td>\n",
       "      <td>0.000000</td>\n",
       "      <td>0.000000</td>\n",
       "      <td>0.0</td>\n",
       "    </tr>\n",
       "    <tr>\n",
       "      <th>board_exam_namefor_highest_qualification</th>\n",
       "      <td>category</td>\n",
       "      <td>3453401</td>\n",
       "      <td>0</td>\n",
       "      <td>0</td>\n",
       "      <td>0</td>\n",
       "      <td>0.000000</td>\n",
       "      <td>0.000000</td>\n",
       "      <td>0.0</td>\n",
       "    </tr>\n",
       "    <tr>\n",
       "      <th>examination_type</th>\n",
       "      <td>category</td>\n",
       "      <td>3453401</td>\n",
       "      <td>0</td>\n",
       "      <td>0</td>\n",
       "      <td>0</td>\n",
       "      <td>0.000000</td>\n",
       "      <td>0.000000</td>\n",
       "      <td>0.0</td>\n",
       "    </tr>\n",
       "    <tr>\n",
       "      <th>year_of_passing</th>\n",
       "      <td>Int16</td>\n",
       "      <td>3453401</td>\n",
       "      <td>0</td>\n",
       "      <td>0</td>\n",
       "      <td>0</td>\n",
       "      <td>0.000000</td>\n",
       "      <td>0.000000</td>\n",
       "      <td>0.0</td>\n",
       "    </tr>\n",
       "    <tr>\n",
       "      <th>total_marks</th>\n",
       "      <td>Int16</td>\n",
       "      <td>3453401</td>\n",
       "      <td>0</td>\n",
       "      <td>0</td>\n",
       "      <td>0</td>\n",
       "      <td>0.000000</td>\n",
       "      <td>0.000000</td>\n",
       "      <td>0.0</td>\n",
       "    </tr>\n",
       "    <tr>\n",
       "      <th>secured_marks</th>\n",
       "      <td>Float32</td>\n",
       "      <td>3453401</td>\n",
       "      <td>0</td>\n",
       "      <td>0</td>\n",
       "      <td>0</td>\n",
       "      <td>0.000000</td>\n",
       "      <td>0.000000</td>\n",
       "      <td>0.0</td>\n",
       "    </tr>\n",
       "    <tr>\n",
       "      <th>percentage</th>\n",
       "      <td>Float32</td>\n",
       "      <td>3453401</td>\n",
       "      <td>0</td>\n",
       "      <td>0</td>\n",
       "      <td>0</td>\n",
       "      <td>0.000000</td>\n",
       "      <td>0.000000</td>\n",
       "      <td>0.0</td>\n",
       "    </tr>\n",
       "    <tr>\n",
       "      <th>compartmental_status</th>\n",
       "      <td>category</td>\n",
       "      <td>3453401</td>\n",
       "      <td>0</td>\n",
       "      <td>0</td>\n",
       "      <td>0</td>\n",
       "      <td>0.000000</td>\n",
       "      <td>0.000000</td>\n",
       "      <td>0.0</td>\n",
       "    </tr>\n",
       "    <tr>\n",
       "      <th>hss_option_details</th>\n",
       "      <td>object</td>\n",
       "      <td>3453401</td>\n",
       "      <td>0</td>\n",
       "      <td>0</td>\n",
       "      <td>0</td>\n",
       "      <td>0.000000</td>\n",
       "      <td>0.000000</td>\n",
       "      <td>0.0</td>\n",
       "    </tr>\n",
       "  </tbody>\n",
       "</table>\n",
       "</div>"
      ],
      "text/plain": [
       "                                                       dtype   n_rows  \\\n",
       "pin_code                                               Int32  3453401   \n",
       "aadhar_no                                     string[python]  3453401   \n",
       "barcode                                       string[python]  3453401   \n",
       "academic_year                                          Int16  3453401   \n",
       "gender                                              category  3453401   \n",
       "nationality                                         category  3453401   \n",
       "state                                               category  3453401   \n",
       "district                                            category  3453401   \n",
       "block                                               category  3453401   \n",
       "social_category                                     category  3453401   \n",
       "examination_boardofthe_highest_qualification        category  3453401   \n",
       "board_exam_namefor_highest_qualification            category  3453401   \n",
       "examination_type                                    category  3453401   \n",
       "year_of_passing                                        Int16  3453401   \n",
       "total_marks                                            Int16  3453401   \n",
       "secured_marks                                        Float32  3453401   \n",
       "percentage                                           Float32  3453401   \n",
       "compartmental_status                                category  3453401   \n",
       "hss_option_details                                    object  3453401   \n",
       "\n",
       "                                              n_missing  n_blank  n_null_like  \\\n",
       "pin_code                                         183836        0            0   \n",
       "aadhar_no                                         45000   385857            0   \n",
       "barcode                                               0        0            0   \n",
       "academic_year                                         0        0            0   \n",
       "gender                                                0        0            0   \n",
       "nationality                                           0        0            0   \n",
       "state                                                 0        0            0   \n",
       "district                                              0        0            0   \n",
       "block                                                 0        0            0   \n",
       "social_category                                       0        0            0   \n",
       "examination_boardofthe_highest_qualification          0        0            0   \n",
       "board_exam_namefor_highest_qualification              0        0            0   \n",
       "examination_type                                      0        0            0   \n",
       "year_of_passing                                       0        0            0   \n",
       "total_marks                                           0        0            0   \n",
       "secured_marks                                         0        0            0   \n",
       "percentage                                            0        0            0   \n",
       "compartmental_status                                  0        0            0   \n",
       "hss_option_details                                    0        0            0   \n",
       "\n",
       "                                              missing_pct  blank_pct  \\\n",
       "pin_code                                         5.323332   0.000000   \n",
       "aadhar_no                                        1.303063  11.173246   \n",
       "barcode                                          0.000000   0.000000   \n",
       "academic_year                                    0.000000   0.000000   \n",
       "gender                                           0.000000   0.000000   \n",
       "nationality                                      0.000000   0.000000   \n",
       "state                                            0.000000   0.000000   \n",
       "district                                         0.000000   0.000000   \n",
       "block                                            0.000000   0.000000   \n",
       "social_category                                  0.000000   0.000000   \n",
       "examination_boardofthe_highest_qualification     0.000000   0.000000   \n",
       "board_exam_namefor_highest_qualification         0.000000   0.000000   \n",
       "examination_type                                 0.000000   0.000000   \n",
       "year_of_passing                                  0.000000   0.000000   \n",
       "total_marks                                      0.000000   0.000000   \n",
       "secured_marks                                    0.000000   0.000000   \n",
       "percentage                                       0.000000   0.000000   \n",
       "compartmental_status                             0.000000   0.000000   \n",
       "hss_option_details                               0.000000   0.000000   \n",
       "\n",
       "                                              null_like_pct  \n",
       "pin_code                                                0.0  \n",
       "aadhar_no                                               0.0  \n",
       "barcode                                                 0.0  \n",
       "academic_year                                           0.0  \n",
       "gender                                                  0.0  \n",
       "nationality                                             0.0  \n",
       "state                                                   0.0  \n",
       "district                                                0.0  \n",
       "block                                                   0.0  \n",
       "social_category                                         0.0  \n",
       "examination_boardofthe_highest_qualification            0.0  \n",
       "board_exam_namefor_highest_qualification                0.0  \n",
       "examination_type                                        0.0  \n",
       "year_of_passing                                         0.0  \n",
       "total_marks                                             0.0  \n",
       "secured_marks                                           0.0  \n",
       "percentage                                              0.0  \n",
       "compartmental_status                                    0.0  \n",
       "hss_option_details                                      0.0  "
      ]
     },
     "execution_count": 8,
     "metadata": {},
     "output_type": "execute_result"
    }
   ],
   "source": [
    "import pandas as pd\n",
    "import numpy as np\n",
    "\n",
    "def check_missing(df: pd.DataFrame) -> pd.DataFrame:\n",
    "    \"\"\"Return a summary of missing/blank/null-like values in each column.\"\"\"\n",
    "    summary = pd.DataFrame({\n",
    "        \"dtype\": df.dtypes,\n",
    "        \"n_rows\": len(df),\n",
    "        \"n_missing\": df.isna().sum(),\n",
    "        \"n_blank\": df.apply(lambda col: col.astype(str).str.fullmatch(r\"\\s*\").sum()),\n",
    "        \"n_null_like\": df.apply(lambda col: col.isin([\"NA\", \"na\", \"N/A\", \"n/a\", \"NULL\", \"null\"]).sum()),\n",
    "    })\n",
    "    summary[\"missing_pct\"] = (summary[\"n_missing\"] / summary[\"n_rows\"]) * 100\n",
    "    summary[\"blank_pct\"] = (summary[\"n_blank\"] / summary[\"n_rows\"]) * 100\n",
    "    summary[\"null_like_pct\"] = (summary[\"n_null_like\"] / summary[\"n_rows\"]) * 100\n",
    "    return summary.sort_values(by=[\"n_missing\", \"n_blank\", \"n_null_like\"], ascending=False)\n",
    "\n",
    "missing_summary = check_missing(hss_df)\n",
    "missing_summary\n"
   ]
  },
  {
   "cell_type": "code",
   "execution_count": null,
   "metadata": {},
   "outputs": [],
   "source": []
  },
  {
   "cell_type": "code",
   "execution_count": null,
   "metadata": {},
   "outputs": [],
   "source": []
  },
  {
   "cell_type": "code",
   "execution_count": 5,
   "id": "fd346942",
   "metadata": {},
   "outputs": [
    {
     "data": {
      "application/vnd.microsoft.datawrangler.viewer.v0+json": {
       "columns": [
        {
         "name": "index",
         "rawType": "int64",
         "type": "integer"
        },
        {
         "name": "academic_year",
         "rawType": "int64",
         "type": "integer"
        },
        {
         "name": "aadhar_no",
         "rawType": "object",
         "type": "string"
        },
        {
         "name": "barcode",
         "rawType": "object",
         "type": "string"
        },
        {
         "name": "module",
         "rawType": "object",
         "type": "string"
        },
        {
         "name": "option_data",
         "rawType": "object",
         "type": "string"
        }
       ],
       "ref": "20331b30-ca74-48e5-aee8-1d1d87e9e508",
       "rows": [
        [
         "0",
         "2020",
         "NA",
         "20S00045",
         "PDIS",
         "[]"
        ],
        [
         "1",
         "2020",
         "NA",
         "20S00031",
         "PDIS",
         "[]"
        ],
        [
         "2",
         "2020",
         "NA",
         "20S000532",
         "PDIS",
         "[{\"Phase\": \"1\", \"Option_No\": \"1\", \"Institute_Name\": \"SKDAV Government Polytechnic Rourkela\", \"Trade\": \"Post Diploma in Industrial Safety\", \"Status\": \"Opted\"}, {\"Phase\": \"1\", \"Option_No\": \"2\", \"Institute_Name\": \"Asian Workers Development institute (AWDI),Rourkela\", \"Trade\": \"Post Diploma in Industrial Safety\", \"Status\": \"Opted\"}, {\"Phase\": \"1\", \"Option_No\": \"3\", \"Institute_Name\": \"Koel Institute of Industrial Safety,Rourkela\", \"Trade\": \"Post Diploma in Industrial Safety\", \"Status\": \"Opted\"}]"
        ],
        [
         "3",
         "2020",
         "NA",
         "20S0008095",
         "PDIS",
         "[]"
        ],
        [
         "4",
         "2020",
         "NA",
         "20S000528",
         "PDIS",
         "[]"
        ]
       ],
       "shape": {
        "columns": 5,
        "rows": 5
       }
      },
      "text/html": [
       "<div>\n",
       "<style scoped>\n",
       "    .dataframe tbody tr th:only-of-type {\n",
       "        vertical-align: middle;\n",
       "    }\n",
       "\n",
       "    .dataframe tbody tr th {\n",
       "        vertical-align: top;\n",
       "    }\n",
       "\n",
       "    .dataframe thead th {\n",
       "        text-align: right;\n",
       "    }\n",
       "</style>\n",
       "<table border=\"1\" class=\"dataframe\">\n",
       "  <thead>\n",
       "    <tr style=\"text-align: right;\">\n",
       "      <th></th>\n",
       "      <th>academic_year</th>\n",
       "      <th>aadhar_no</th>\n",
       "      <th>barcode</th>\n",
       "      <th>module</th>\n",
       "      <th>option_data</th>\n",
       "    </tr>\n",
       "  </thead>\n",
       "  <tbody>\n",
       "    <tr>\n",
       "      <th>0</th>\n",
       "      <td>2020</td>\n",
       "      <td>NA</td>\n",
       "      <td>20S00045</td>\n",
       "      <td>PDIS</td>\n",
       "      <td>[]</td>\n",
       "    </tr>\n",
       "    <tr>\n",
       "      <th>1</th>\n",
       "      <td>2020</td>\n",
       "      <td>NA</td>\n",
       "      <td>20S00031</td>\n",
       "      <td>PDIS</td>\n",
       "      <td>[]</td>\n",
       "    </tr>\n",
       "    <tr>\n",
       "      <th>2</th>\n",
       "      <td>2020</td>\n",
       "      <td>NA</td>\n",
       "      <td>20S000532</td>\n",
       "      <td>PDIS</td>\n",
       "      <td>[{\"Phase\": \"1\", \"Option_No\": \"1\", \"Institute_N...</td>\n",
       "    </tr>\n",
       "    <tr>\n",
       "      <th>3</th>\n",
       "      <td>2020</td>\n",
       "      <td>NA</td>\n",
       "      <td>20S0008095</td>\n",
       "      <td>PDIS</td>\n",
       "      <td>[]</td>\n",
       "    </tr>\n",
       "    <tr>\n",
       "      <th>4</th>\n",
       "      <td>2020</td>\n",
       "      <td>NA</td>\n",
       "      <td>20S000528</td>\n",
       "      <td>PDIS</td>\n",
       "      <td>[]</td>\n",
       "    </tr>\n",
       "  </tbody>\n",
       "</table>\n",
       "</div>"
      ],
      "text/plain": [
       "   academic_year aadhar_no     barcode module  \\\n",
       "0           2020        NA    20S00045   PDIS   \n",
       "1           2020        NA    20S00031   PDIS   \n",
       "2           2020        NA   20S000532   PDIS   \n",
       "3           2020        NA  20S0008095   PDIS   \n",
       "4           2020        NA   20S000528   PDIS   \n",
       "\n",
       "                                         option_data  \n",
       "0                                                 []  \n",
       "1                                                 []  \n",
       "2  [{\"Phase\": \"1\", \"Option_No\": \"1\", \"Institute_N...  \n",
       "3                                                 []  \n",
       "4                                                 []  "
      ]
     },
     "execution_count": 5,
     "metadata": {},
     "output_type": "execute_result"
    }
   ],
   "source": [
    "db_path = datasets[\"sams\"][\"path\"]\n",
    "conn = sqlite3.connect(db_path)\n",
    "\n",
    "query = \"\"\"\n",
    "SELECT\n",
    "    academic_year,\n",
    "    aadhar_no,\n",
    "    barcode,\n",
    "    module,\n",
    "    option_data\n",
    "FROM students\n",
    "\"\"\"\n",
    "\n",
    "df = pd.read_sql_query(query, conn)\n",
    "conn.close()\n",
    "\n",
    "df.head()"
   ]
  },
  {
   "cell_type": "code",
   "execution_count": null,
   "id": "17117bee",
   "metadata": {},
   "outputs": [],
   "source": [
    "df"
   ]
  },
  {
   "cell_type": "code",
   "execution_count": 6,
   "id": "842fed95",
   "metadata": {},
   "outputs": [
    {
     "name": "stdout",
     "output_type": "stream",
     "text": [
      "========== [STUDENT OVERVIEW] ==========\n",
      "Total ITI Students     : 529,085\n",
      "Total Diploma Students : 417,756\n",
      "Total PDIS Students    : 5,717\n",
      "Total HSS Students    : 2,643,387\n",
      "\n",
      "========== [YEAR-WISE STUDENT COUNTS] ==========\n",
      "academic_year    ITI  Diploma  PDIS     HSS  Module Enrollments  Total Students\n",
      "         2017  27337        0     0       0               27337           27337\n",
      "         2018  70613    52530     0  367581              490724          119675\n",
      "         2019  64148    44080     0  355308              463536          105304\n",
      "         2020  67412    56533   916  341822              466683          121737\n",
      "         2021  81948    59278   874  375368              517468          137672\n",
      "         2022  74104    78196  1187  417040              570527          148698\n",
      "         2023  92085    79700  1287  419135              592207          167610\n",
      "         2024  83958    81789  1453  473097              640297          161490\n",
      "        Total 561605   452106  5717 2749351             3768779          989523\n",
      "\n",
      "========== [STUDENTS IN MULTIPLE YEARS] ==========\n",
      "Extra ITI student counts added across years (due to repeats): 32520\n",
      "Extra Diploma student counts added across years (due to repeats): 34350\n",
      "Extra PDIS student counts added across years (due to repeats): 0\n",
      "Extra HSS student counts added across years (due to repeats): 105964\n"
     ]
    }
   ],
   "source": [
    "import pandas as pd\n",
    "\n",
    "# Separate data by module\n",
    "df_iti = df[df['module'] == 'ITI']\n",
    "df_diploma = df[df['module'] == 'Diploma']\n",
    "df_pdis = df[df['module'] == 'PDIS']\n",
    "\n",
    "# ================= OVERVIEW SUMMARY =================\n",
    "\n",
    "total_iti_students = df_iti['aadhar_no'].nunique()\n",
    "total_diploma_students = df_diploma['aadhar_no'].nunique()\n",
    "total_pdis_students = df_pdis['barcode'].nunique()\n",
    "total_hss_students  = hss_df['aadhar_no'].nunique()\n",
    "\n",
    "print(\"========== [STUDENT OVERVIEW] ==========\")\n",
    "print(f\"Total ITI Students     : {total_iti_students:,}\")\n",
    "print(f\"Total Diploma Students : {total_diploma_students:,}\")\n",
    "print(f\"Total PDIS Students    : {total_pdis_students:,}\")\n",
    "print(f\"Total HSS Students     : {total_hss_students:,}\")\n",
    "print()\n",
    "\n",
    "# ================= YEAR-WISE SUMMARY =================\n",
    "\n",
    "# Count unique students by year for each module\n",
    "iti_counts = df_iti.groupby('academic_year')['aadhar_no'].nunique().rename('ITI')\n",
    "diploma_counts = df_diploma.groupby('academic_year')['aadhar_no'].nunique().rename('Diploma')\n",
    "pdis_counts = df_pdis.groupby('academic_year')['barcode'].nunique().rename('PDIS')\n",
    "hss_counts = hss_df.groupby('academic_year')['aadhar_no'].nunique().rename('HSS')\n",
    "\n",
    "\n",
    "# Combine all module counts\n",
    "combined = pd.concat([iti_counts, diploma_counts, pdis_counts,hss_counts], axis=1).fillna(0).astype(int)\n",
    "\n",
    "# Total unique students per year (across all modules using aadhar_no and barcode combined)\n",
    "# Create a unified student_id for accurate counting\n",
    "# Create unified student_id column for deduplication\n",
    "df['student_id'] = df.apply(lambda row: row['barcode'] if row['module'] == 'PDIS' else row['aadhar_no'], axis=1)\n",
    "\n",
    "# Count unique students per year\n",
    "unique_students = df.groupby('academic_year')['student_id'].nunique().rename('Total Students')\n",
    "\n",
    "# Module Enrollments (sum of all modules, including duplicates)\n",
    "module_enrollments = combined.sum(axis=1).rename('Module Enrollments')\n",
    "\n",
    "\n",
    "# Final year-wise summary table\n",
    "summary = pd.concat([combined, module_enrollments, unique_students], axis=1).reset_index()\n",
    "\n",
    "# Add totals row\n",
    "totals = summary.drop(columns='academic_year').sum(numeric_only=True)\n",
    "totals['academic_year'] = 'Total'\n",
    "\n",
    "# Append total to the summary\n",
    "summary_with_total = pd.concat([summary, pd.DataFrame([totals])], ignore_index=True)\n",
    "\n",
    "# Display the result\n",
    "print(\"========== [YEAR-WISE STUDENT COUNTS] ==========\")\n",
    "print(summary_with_total.to_string(index=False))\n",
    "\n",
    "print()\n",
    "\n",
    "\n",
    "\n",
    "print(\"========== [STUDENTS IN MULTIPLE YEARS] ==========\")\n",
    "\n",
    "# For ITI\n",
    "iti_years_per_student = df_iti.groupby('aadhar_no')['academic_year'].nunique()\n",
    "\n",
    "# Calculate total extra contributions from students who appeared in multiple years\n",
    "extra_counts = (df_iti.groupby('aadhar_no')['academic_year'].nunique() - 1).clip(lower=0).sum()\n",
    "print(f\"Extra ITI student counts added across years (due to repeats): {extra_counts}\")\n",
    "\n",
    "# For Diploma\n",
    "diploma_years_per_student = df_diploma.groupby('aadhar_no')['academic_year'].nunique()\n",
    "diploma_extra_counts = (diploma_years_per_student - 1).clip(lower=0).sum()\n",
    "print(f\"Extra Diploma student counts added across years (due to repeats): {diploma_extra_counts}\")\n",
    "\n",
    "# For PDIS (barcode is used as unique identifier here)\n",
    "pdis_years_per_student = df_pdis.groupby('barcode')['academic_year'].nunique()\n",
    "pdis_extra_counts = (pdis_years_per_student - 1).clip(lower=0).sum()\n",
    "print(f\"Extra PDIS student counts added across years (due to repeats): {pdis_extra_counts}\")\n",
    "\n",
    "\n",
    "# For HSS (barcode is used as unique identifier here)\n",
    "hss_years_per_student = hss_df.groupby('aadhar_no')['academic_year'].nunique()\n",
    "hss_extra_counts = (hss_years_per_student - 1).clip(lower=0).sum()\n",
    "print(f\"Extra HSS student counts added across years (due to repeats): {hss_extra_counts}\")"
   ]
  },
  {
   "cell_type": "code",
   "execution_count": 13,
   "id": "bf1ee8a5",
   "metadata": {},
   "outputs": [
    {
     "name": "stdout",
     "output_type": "stream",
     "text": [
      "Year Span  | Number of Students   | Repeat Year Entries   \n",
      "---------- | -------------------- | ----------------------\n",
      "1          | 498967               | 0                     \n",
      "2          | 27984                | 27984                 \n",
      "3          | 1914                 | 3828                  \n",
      "4          | 182                  | 546                   \n",
      "5          | 30                   | 120                   \n",
      "6          | 6                    | 30                    \n",
      "7          | 2                    | 12                    \n",
      "\n",
      "Summary:\n",
      "- Total Unique ITI Students        : 529,085\n",
      "- Total Students Across Years      : 561,605\n",
      "- Total Extra Year Counts          : 32,520\n",
      "- Difference Matches Extra Count?  : True\n"
     ]
    }
   ],
   "source": [
    "# Step 1: Count how many unique years each ITI student appeared in\n",
    "iti_years_per_student = df_iti.groupby('aadhar_no')['academic_year'].nunique()\n",
    "\n",
    "# Step 2: Count how many students fall into each \"year span\" (1 year, 2 years, etc.)\n",
    "students_by_year_span = iti_years_per_student.value_counts().sort_index()\n",
    "\n",
    "# Step 3: Calculate the number of extra appearances (repeats beyond first year)\n",
    "extra_repeat_count = sum((years - 1) * num_students for years, num_students in students_by_year_span.items())\n",
    "\n",
    "# Step 4: Display detailed breakdown\n",
    "print(f\"{'Year Span':<10} | {'Number of Students':<20} | {'Repeat Year Entries':<22}\")\n",
    "print(\"-\" * 10 + \" | \" + \"-\" * 20 + \" | \" + \"-\" * 22)\n",
    "\n",
    "for years, num_students in students_by_year_span.items():\n",
    "    extra = (years - 1) * num_students\n",
    "    print(f\"{years:<10} | {num_students:<20} | {extra:<22}\")\n",
    "\n",
    "# Final summary\n",
    "total_unique_students = len(iti_years_per_student)\n",
    "yearwise_total_counts = df_iti.groupby('academic_year')['aadhar_no'].nunique().sum()\n",
    "difference = yearwise_total_counts - total_unique_students\n",
    "\n",
    "print(\"\\nSummary:\")\n",
    "print(f\"- Total Unique ITI Students        : {total_unique_students:,}\")\n",
    "print(f\"- Total Students Across Years      : {yearwise_total_counts:,}\")\n",
    "print(f\"- Total Extra Year Counts          : {extra_repeat_count:,}\")\n",
    "print(f\"- Difference Matches Extra Count?  : {extra_repeat_count == difference}\")"
   ]
  },
  {
   "cell_type": "code",
   "execution_count": 11,
   "id": "9eee599e",
   "metadata": {},
   "outputs": [
    {
     "data": {
      "application/vnd.microsoft.datawrangler.viewer.v0+json": {
       "columns": [
        {
         "name": "index",
         "rawType": "int64",
         "type": "integer"
        },
        {
         "name": "academic_year",
         "rawType": "int64",
         "type": "integer"
        },
        {
         "name": "aadhar_no",
         "rawType": "object",
         "type": "string"
        },
        {
         "name": "barcode",
         "rawType": "object",
         "type": "string"
        },
        {
         "name": "module",
         "rawType": "object",
         "type": "string"
        },
        {
         "name": "Phase",
         "rawType": "object",
         "type": "unknown"
        },
        {
         "name": "Option_No",
         "rawType": "object",
         "type": "unknown"
        },
        {
         "name": "Institute_Name",
         "rawType": "object",
         "type": "unknown"
        },
        {
         "name": "Trade",
         "rawType": "object",
         "type": "unknown"
        },
        {
         "name": "Status",
         "rawType": "object",
         "type": "unknown"
        }
       ],
       "ref": "de42df1c-ff75-4b17-bda9-d4ea7b2d97f3",
       "rows": [
        [
         "0",
         "2020",
         "NA",
         "20S00045",
         "PDIS",
         null,
         null,
         null,
         null,
         null
        ],
        [
         "1",
         "2020",
         "NA",
         "20S00031",
         "PDIS",
         null,
         null,
         null,
         null,
         null
        ],
        [
         "2",
         "2020",
         "NA",
         "20S000532",
         "PDIS",
         "1",
         "1",
         "SKDAV Government Polytechnic Rourkela",
         "Post Diploma in Industrial Safety",
         "Opted"
        ],
        [
         "3",
         "2020",
         "NA",
         "20S000532",
         "PDIS",
         "1",
         "2",
         "Asian Workers Development institute (AWDI),Rourkela",
         "Post Diploma in Industrial Safety",
         "Opted"
        ],
        [
         "4",
         "2020",
         "NA",
         "20S000532",
         "PDIS",
         "1",
         "3",
         "Koel Institute of Industrial Safety,Rourkela",
         "Post Diploma in Industrial Safety",
         "Opted"
        ]
       ],
       "shape": {
        "columns": 9,
        "rows": 5
       }
      },
      "text/html": [
       "<div>\n",
       "<style scoped>\n",
       "    .dataframe tbody tr th:only-of-type {\n",
       "        vertical-align: middle;\n",
       "    }\n",
       "\n",
       "    .dataframe tbody tr th {\n",
       "        vertical-align: top;\n",
       "    }\n",
       "\n",
       "    .dataframe thead th {\n",
       "        text-align: right;\n",
       "    }\n",
       "</style>\n",
       "<table border=\"1\" class=\"dataframe\">\n",
       "  <thead>\n",
       "    <tr style=\"text-align: right;\">\n",
       "      <th></th>\n",
       "      <th>academic_year</th>\n",
       "      <th>aadhar_no</th>\n",
       "      <th>barcode</th>\n",
       "      <th>module</th>\n",
       "      <th>Phase</th>\n",
       "      <th>Option_No</th>\n",
       "      <th>Institute_Name</th>\n",
       "      <th>Trade</th>\n",
       "      <th>Status</th>\n",
       "    </tr>\n",
       "  </thead>\n",
       "  <tbody>\n",
       "    <tr>\n",
       "      <th>0</th>\n",
       "      <td>2020</td>\n",
       "      <td>NA</td>\n",
       "      <td>20S00045</td>\n",
       "      <td>PDIS</td>\n",
       "      <td>NaN</td>\n",
       "      <td>NaN</td>\n",
       "      <td>NaN</td>\n",
       "      <td>NaN</td>\n",
       "      <td>NaN</td>\n",
       "    </tr>\n",
       "    <tr>\n",
       "      <th>1</th>\n",
       "      <td>2020</td>\n",
       "      <td>NA</td>\n",
       "      <td>20S00031</td>\n",
       "      <td>PDIS</td>\n",
       "      <td>NaN</td>\n",
       "      <td>NaN</td>\n",
       "      <td>NaN</td>\n",
       "      <td>NaN</td>\n",
       "      <td>NaN</td>\n",
       "    </tr>\n",
       "    <tr>\n",
       "      <th>2</th>\n",
       "      <td>2020</td>\n",
       "      <td>NA</td>\n",
       "      <td>20S000532</td>\n",
       "      <td>PDIS</td>\n",
       "      <td>1</td>\n",
       "      <td>1</td>\n",
       "      <td>SKDAV Government Polytechnic Rourkela</td>\n",
       "      <td>Post Diploma in Industrial Safety</td>\n",
       "      <td>Opted</td>\n",
       "    </tr>\n",
       "    <tr>\n",
       "      <th>3</th>\n",
       "      <td>2020</td>\n",
       "      <td>NA</td>\n",
       "      <td>20S000532</td>\n",
       "      <td>PDIS</td>\n",
       "      <td>1</td>\n",
       "      <td>2</td>\n",
       "      <td>Asian Workers Development institute (AWDI),Rou...</td>\n",
       "      <td>Post Diploma in Industrial Safety</td>\n",
       "      <td>Opted</td>\n",
       "    </tr>\n",
       "    <tr>\n",
       "      <th>4</th>\n",
       "      <td>2020</td>\n",
       "      <td>NA</td>\n",
       "      <td>20S000532</td>\n",
       "      <td>PDIS</td>\n",
       "      <td>1</td>\n",
       "      <td>3</td>\n",
       "      <td>Koel Institute of Industrial Safety,Rourkela</td>\n",
       "      <td>Post Diploma in Industrial Safety</td>\n",
       "      <td>Opted</td>\n",
       "    </tr>\n",
       "  </tbody>\n",
       "</table>\n",
       "</div>"
      ],
      "text/plain": [
       "   academic_year aadhar_no    barcode module Phase Option_No  \\\n",
       "0           2020        NA   20S00045   PDIS   NaN       NaN   \n",
       "1           2020        NA   20S00031   PDIS   NaN       NaN   \n",
       "2           2020        NA  20S000532   PDIS     1         1   \n",
       "3           2020        NA  20S000532   PDIS     1         2   \n",
       "4           2020        NA  20S000532   PDIS     1         3   \n",
       "\n",
       "                                      Institute_Name  \\\n",
       "0                                                NaN   \n",
       "1                                                NaN   \n",
       "2              SKDAV Government Polytechnic Rourkela   \n",
       "3  Asian Workers Development institute (AWDI),Rou...   \n",
       "4       Koel Institute of Industrial Safety,Rourkela   \n",
       "\n",
       "                               Trade Status  \n",
       "0                                NaN    NaN  \n",
       "1                                NaN    NaN  \n",
       "2  Post Diploma in Industrial Safety  Opted  \n",
       "3  Post Diploma in Industrial Safety  Opted  \n",
       "4  Post Diploma in Industrial Safety  Opted  "
      ]
     },
     "execution_count": 11,
     "metadata": {},
     "output_type": "execute_result"
    }
   ],
   "source": [
    "conn = sqlite3.connect(db_path)\n",
    "\n",
    "query = \"\"\"\n",
    "SELECT\n",
    "    academic_year,\n",
    "    aadhar_no,\n",
    "    barcode,\n",
    "    module,\n",
    "    option_data\n",
    "FROM students\n",
    "\"\"\"\n",
    "\n",
    "json_df = pd.read_sql_query(query, conn)\n",
    "conn.close()\n",
    "\n",
    "\n",
    "# Function to parse JSON strings safely\n",
    "def parse_option_data(val):\n",
    "    \"\"\"\n",
    "    Safely parses a JSON string into a Python object.\n",
    "\n",
    "    Parameters:\n",
    "    ----------\n",
    "    val : str, list, or any\n",
    "        The value to be parsed. If it's a JSON string, it will be decoded.\n",
    "        If it's already a list, it is returned unchanged.\n",
    "        All other types return an empty list.\n",
    "\n",
    "    Returns:\n",
    "    -------\n",
    "    list\n",
    "        Parsed list from JSON string, or the original list, or an empty list if parsing fails.\n",
    "    \"\"\"\n",
    "    if isinstance(val, str):\n",
    "        try:\n",
    "            return json.loads(val)\n",
    "        except json.JSONDecodeError:\n",
    "            return []\n",
    "    elif isinstance(val, list):\n",
    "        return val\n",
    "    else:\n",
    "        return []\n",
    "\n",
    "json_df['option_data'] = json_df['option_data'].apply(parse_option_data)\n",
    "df_exploded = json_df.explode('option_data').reset_index(drop=True)\n",
    "option_details = pd.json_normalize(df_exploded['option_data'])\n",
    "json_df = pd.concat([df_exploded.drop(columns=['option_data']), option_details], axis=1)\n",
    "\n",
    "json_df.head()"
   ]
  },
  {
   "cell_type": "code",
   "execution_count": null,
   "id": "a6b3ba74",
   "metadata": {},
   "outputs": [
    {
     "data": {
      "text/plain": [
       "Index(['academic_year', 'aadhar_no', 'barcode', 'module', 'Phase', 'Option_No',\n",
       "       'Institute_Name', 'Trade', 'Status'],\n",
       "      dtype='object')"
      ]
     },
     "metadata": {},
     "output_type": "display_data"
    }
   ],
   "source": [
    "json_df.columns"
   ]
  },
  {
   "cell_type": "code",
   "execution_count": 35,
   "id": "439faa70",
   "metadata": {},
   "outputs": [],
   "source": [
    "option_df = pd.read_parquet(RAW_DATA_DIR / \"hss_option.pq\", engine='pyarrow')"
   ]
  },
  {
   "cell_type": "code",
   "execution_count": 38,
   "id": "77313a5b",
   "metadata": {},
   "outputs": [
    {
     "data": {
      "text/plain": [
       "Index(['barcode', 'ReportedInstitute', 'SAMSCode', 'Stream',\n",
       "       'InstituteDistrict', 'InstituteBlock', 'TypeofInstitute', 'Phase',\n",
       "       'Year', 'AdmissionStatus', 'OptionNo'],\n",
       "      dtype='object')"
      ]
     },
     "execution_count": 38,
     "metadata": {},
     "output_type": "execute_result"
    }
   ],
   "source": [
    "option_df.columns"
   ]
  },
  {
   "cell_type": "code",
   "execution_count": null,
   "id": "ecaee5af",
   "metadata": {},
   "outputs": [],
   "source": []
  },
  {
   "cell_type": "code",
   "execution_count": null,
   "id": "35f2bed5",
   "metadata": {},
   "outputs": [],
   "source": []
  },
  {
   "cell_type": "code",
   "execution_count": null,
   "id": "db426790",
   "metadata": {},
   "outputs": [],
   "source": []
  },
  {
   "cell_type": "code",
   "execution_count": null,
   "id": "5f74f5f6",
   "metadata": {},
   "outputs": [],
   "source": []
  },
  {
   "cell_type": "code",
   "execution_count": 36,
   "id": "1699e505",
   "metadata": {},
   "outputs": [
    {
     "data": {
      "text/plain": [
       "Index(['barcode', 'ReportedInstitute', 'SAMSCode', 'Stream',\n",
       "       'InstituteDistrict', 'InstituteBlock', 'TypeofInstitute', 'Phase',\n",
       "       'Year', 'AdmissionStatus', 'OptionNo'],\n",
       "      dtype='object')"
      ]
     },
     "execution_count": 36,
     "metadata": {},
     "output_type": "execute_result"
    }
   ],
   "source": [
    "option_df.columns"
   ]
  },
  {
   "cell_type": "code",
   "execution_count": 19,
   "id": "ed0b2ebb",
   "metadata": {},
   "outputs": [
    {
     "data": {
      "text/plain": [
       "Index(['barcode', 'ReportedInstitute', 'SAMSCode', 'Stream',\n",
       "       'InstituteDistrict', 'InstituteBlock', 'TypeofInstitute', 'Phase',\n",
       "       'Year', 'AdmissionStatus', 'OptionNo'],\n",
       "      dtype='object')"
      ]
     },
     "execution_count": 19,
     "metadata": {},
     "output_type": "execute_result"
    }
   ],
   "source": [
    "option_df.columns"
   ]
  },
  {
   "cell_type": "code",
   "execution_count": 31,
   "id": "7ed0d823",
   "metadata": {},
   "outputs": [],
   "source": [
    "# Step 1: Select only the necessary columns from hss_df\n",
    "hss_subset = hss_df[['barcode', 'aadhar_no', 'academic_year']]\n",
    "\n",
    "# Step 2: Merge option_df with hss_subset on 'barcode'\n",
    "merged_df = option_df.merge(hss_subset, on='barcode', how='left')\n",
    "\n",
    "# Step 3: Rename columns as required\n",
    "merged_df = merged_df.rename(columns={\n",
    "    'ReportedInstitute': 'reported_institute',\n",
    "    'SAMSCode': 'sams_code',\n",
    "    'Stream': 'stream',\n",
    "    'TypeofInstitute': 'type_of_institute',\n",
    "    'Phase': 'phase',\n",
    "    'Year': 'year',\n",
    "    'AdmissionStatus': 'admission_status',\n",
    "    'OptionNo': 'option_no',\n",
    "    'barcode': 'barcode'\n",
    "})\n",
    "\n",
    "# Step 4: Select only the desired final columns\n",
    "hss_first_choice_admissions = merged_df[\n",
    "    ['reported_institute', 'sams_code', 'stream', 'type_of_institute',\n",
    "     'phase', 'admission_status', 'option_no',\n",
    "     'barcode', 'academic_year', 'aadhar_no']\n",
    "]\n"
   ]
  },
  {
   "cell_type": "code",
   "execution_count": 32,
   "id": "287c8636",
   "metadata": {},
   "outputs": [
    {
     "data": {
      "text/plain": [
       "Index(['reported_institute', 'sams_code', 'stream', 'type_of_institute',\n",
       "       'phase', 'admission_status', 'option_no', 'barcode', 'academic_year',\n",
       "       'aadhar_no'],\n",
       "      dtype='object')"
      ]
     },
     "execution_count": 32,
     "metadata": {},
     "output_type": "execute_result"
    }
   ],
   "source": [
    "hss_first_choice_admissions.columns"
   ]
  },
  {
   "cell_type": "code",
   "execution_count": 33,
   "id": "d38f8f30",
   "metadata": {},
   "outputs": [],
   "source": [
    "# save df in parquet format\n",
    "from pathlib import Path\n",
    "DATA_DIR = Path(\"C:/Users/Admin/Documents/GitHub/sams/data\")\n",
    "RAW_DATA_DIR = DATA_DIR / \"raw\"\n",
    "output_path = Path(RAW_DATA_DIR) / \"hss_first_choice_admissions.pq\"\n",
    "hss_first_choice_admissions.to_parquet(output_path, index=False, compression='snappy')"
   ]
  },
  {
   "cell_type": "code",
   "execution_count": 34,
   "id": "245b6c6b",
   "metadata": {},
   "outputs": [
    {
     "data": {
      "application/vnd.microsoft.datawrangler.viewer.v0+json": {
       "columns": [
        {
         "name": "index",
         "rawType": "int64",
         "type": "integer"
        },
        {
         "name": "reported_institute",
         "rawType": "object",
         "type": "string"
        },
        {
         "name": "sams_code",
         "rawType": "object",
         "type": "string"
        },
        {
         "name": "stream",
         "rawType": "object",
         "type": "string"
        },
        {
         "name": "type_of_institute",
         "rawType": "object",
         "type": "string"
        },
        {
         "name": "phase",
         "rawType": "object",
         "type": "string"
        },
        {
         "name": "admission_status",
         "rawType": "object",
         "type": "string"
        },
        {
         "name": "option_no",
         "rawType": "object",
         "type": "string"
        },
        {
         "name": "barcode",
         "rawType": "object",
         "type": "string"
        },
        {
         "name": "academic_year",
         "rawType": "Int16",
         "type": "integer"
        },
        {
         "name": "aadhar_no",
         "rawType": "string",
         "type": "string"
        }
       ],
       "ref": "a877890e-e315-4ec5-8399-62776bc57264",
       "rows": [
        [
         "0",
         "Gangadhar Meher Higher Secondary School, Sambalpur",
         "28141101",
         "Commerce",
         "Govt. (SME)",
         "1",
         "TC TAKEN",
         "1",
         "18J0000045",
         "2018",
         null
        ],
        [
         "1",
         "Netaji Subash Chandra Bose Higher Secondary School, Sambalpur",
         "28111101",
         "Commerce",
         "Govt. (SME)",
         "1",
         "NOT SELECTED",
         "2",
         "18J0000045",
         "2018",
         null
        ],
        [
         "2",
         "Hirakud Higher Secondary School, Hirakud",
         "28132101",
         "Commerce",
         "Non-Govt Aided (488 Categories)",
         "1",
         "NOT SELECTED",
         "3",
         "18J0000045",
         "2018",
         null
        ],
        [
         "3",
         "Surajmal Higher Secondary School, Rampella",
         "28112102",
         "Commerce",
         "Non-Govt Aided (488 Categories)",
         "1",
         "NOT SELECTED",
         "4",
         "18J0000045",
         "2018",
         null
        ],
        [
         "4",
         "Burla N.A.C. Higher Secondary School, Burla",
         "28122101",
         "Commerce",
         "Non-Govt Aided (488 Categories)",
         "1",
         "NOT SELECTED",
         "5",
         "18J0000045",
         "2018",
         null
        ]
       ],
       "shape": {
        "columns": 10,
        "rows": 5
       }
      },
      "text/html": [
       "<div>\n",
       "<style scoped>\n",
       "    .dataframe tbody tr th:only-of-type {\n",
       "        vertical-align: middle;\n",
       "    }\n",
       "\n",
       "    .dataframe tbody tr th {\n",
       "        vertical-align: top;\n",
       "    }\n",
       "\n",
       "    .dataframe thead th {\n",
       "        text-align: right;\n",
       "    }\n",
       "</style>\n",
       "<table border=\"1\" class=\"dataframe\">\n",
       "  <thead>\n",
       "    <tr style=\"text-align: right;\">\n",
       "      <th></th>\n",
       "      <th>reported_institute</th>\n",
       "      <th>sams_code</th>\n",
       "      <th>stream</th>\n",
       "      <th>type_of_institute</th>\n",
       "      <th>phase</th>\n",
       "      <th>admission_status</th>\n",
       "      <th>option_no</th>\n",
       "      <th>barcode</th>\n",
       "      <th>academic_year</th>\n",
       "      <th>aadhar_no</th>\n",
       "    </tr>\n",
       "  </thead>\n",
       "  <tbody>\n",
       "    <tr>\n",
       "      <th>0</th>\n",
       "      <td>Gangadhar Meher Higher Secondary School, Samba...</td>\n",
       "      <td>28141101</td>\n",
       "      <td>Commerce</td>\n",
       "      <td>Govt. (SME)</td>\n",
       "      <td>1</td>\n",
       "      <td>TC TAKEN</td>\n",
       "      <td>1</td>\n",
       "      <td>18J0000045</td>\n",
       "      <td>2018</td>\n",
       "      <td>&lt;NA&gt;</td>\n",
       "    </tr>\n",
       "    <tr>\n",
       "      <th>1</th>\n",
       "      <td>Netaji Subash Chandra Bose Higher Secondary Sc...</td>\n",
       "      <td>28111101</td>\n",
       "      <td>Commerce</td>\n",
       "      <td>Govt. (SME)</td>\n",
       "      <td>1</td>\n",
       "      <td>NOT SELECTED</td>\n",
       "      <td>2</td>\n",
       "      <td>18J0000045</td>\n",
       "      <td>2018</td>\n",
       "      <td>&lt;NA&gt;</td>\n",
       "    </tr>\n",
       "    <tr>\n",
       "      <th>2</th>\n",
       "      <td>Hirakud Higher Secondary School, Hirakud</td>\n",
       "      <td>28132101</td>\n",
       "      <td>Commerce</td>\n",
       "      <td>Non-Govt Aided (488 Categories)</td>\n",
       "      <td>1</td>\n",
       "      <td>NOT SELECTED</td>\n",
       "      <td>3</td>\n",
       "      <td>18J0000045</td>\n",
       "      <td>2018</td>\n",
       "      <td>&lt;NA&gt;</td>\n",
       "    </tr>\n",
       "    <tr>\n",
       "      <th>3</th>\n",
       "      <td>Surajmal Higher Secondary School, Rampella</td>\n",
       "      <td>28112102</td>\n",
       "      <td>Commerce</td>\n",
       "      <td>Non-Govt Aided (488 Categories)</td>\n",
       "      <td>1</td>\n",
       "      <td>NOT SELECTED</td>\n",
       "      <td>4</td>\n",
       "      <td>18J0000045</td>\n",
       "      <td>2018</td>\n",
       "      <td>&lt;NA&gt;</td>\n",
       "    </tr>\n",
       "    <tr>\n",
       "      <th>4</th>\n",
       "      <td>Burla N.A.C. Higher Secondary School, Burla</td>\n",
       "      <td>28122101</td>\n",
       "      <td>Commerce</td>\n",
       "      <td>Non-Govt Aided (488 Categories)</td>\n",
       "      <td>1</td>\n",
       "      <td>NOT SELECTED</td>\n",
       "      <td>5</td>\n",
       "      <td>18J0000045</td>\n",
       "      <td>2018</td>\n",
       "      <td>&lt;NA&gt;</td>\n",
       "    </tr>\n",
       "  </tbody>\n",
       "</table>\n",
       "</div>"
      ],
      "text/plain": [
       "                                  reported_institute sams_code    stream  \\\n",
       "0  Gangadhar Meher Higher Secondary School, Samba...  28141101  Commerce   \n",
       "1  Netaji Subash Chandra Bose Higher Secondary Sc...  28111101  Commerce   \n",
       "2           Hirakud Higher Secondary School, Hirakud  28132101  Commerce   \n",
       "3         Surajmal Higher Secondary School, Rampella  28112102  Commerce   \n",
       "4        Burla N.A.C. Higher Secondary School, Burla  28122101  Commerce   \n",
       "\n",
       "                 type_of_institute phase admission_status option_no  \\\n",
       "0                      Govt. (SME)     1         TC TAKEN         1   \n",
       "1                      Govt. (SME)     1     NOT SELECTED         2   \n",
       "2  Non-Govt Aided (488 Categories)     1     NOT SELECTED         3   \n",
       "3  Non-Govt Aided (488 Categories)     1     NOT SELECTED         4   \n",
       "4  Non-Govt Aided (488 Categories)     1     NOT SELECTED         5   \n",
       "\n",
       "      barcode  academic_year aadhar_no  \n",
       "0  18J0000045           2018      <NA>  \n",
       "1  18J0000045           2018      <NA>  \n",
       "2  18J0000045           2018      <NA>  \n",
       "3  18J0000045           2018      <NA>  \n",
       "4  18J0000045           2018      <NA>  "
      ]
     },
     "execution_count": 34,
     "metadata": {},
     "output_type": "execute_result"
    }
   ],
   "source": [
    "hss_first_choice_admissions.head()"
   ]
  },
  {
   "cell_type": "code",
   "execution_count": 13,
   "id": "640f556e",
   "metadata": {},
   "outputs": [],
   "source": [
    "option_df = option_df.rename(columns={'Year': 'academic_year', 'OptionNo': 'Option_No'})"
   ]
  },
  {
   "cell_type": "code",
   "execution_count": 14,
   "id": "47632527",
   "metadata": {},
   "outputs": [
    {
     "data": {
      "text/plain": [
       "Index(['aadhar_no', 'barcode', 'academic_year', 'Option_No'], dtype='object')"
      ]
     },
     "execution_count": 14,
     "metadata": {},
     "output_type": "execute_result"
    }
   ],
   "source": [
    "# Merge on barcode\n",
    "hss_merged = pd.merge(\n",
    "    hss_df[['aadhar_no', 'barcode', 'academic_year']],\n",
    "    option_df[['barcode', 'Option_No']],\n",
    "    on='barcode',\n",
    "    how='inner'  # use 'inner' to keep only matching barcodes\n",
    ")\n",
    "\n",
    "# Display result\n",
    "hss_merged.columns"
   ]
  },
  {
   "cell_type": "code",
   "execution_count": 15,
   "id": "6a833ca6",
   "metadata": {},
   "outputs": [
    {
     "name": "stdout",
     "output_type": "stream",
     "text": [
      "\n",
      "========== [APPLICATION STATS - ALL MODULES + PDIS] ==========\n",
      " academic_year  num_students  avg_apps  std_dev  p25  median  p75\n",
      "          2017         27337      5.24    76.48  2.0     4.0  6.0\n",
      "          2018        119675      3.00    48.71  0.0     1.0  3.0\n",
      "          2019        105304      3.85    65.61  0.0     1.0  5.0\n",
      "          2020        121737      2.78     4.68  0.0     1.0  5.0\n",
      "          2021        137672      3.09     4.68  0.0     1.0  5.0\n",
      "          2022        148698      3.35     5.15  0.0     1.0  5.0\n",
      "          2023        167610      3.67     4.96  0.0     2.0  5.0\n",
      "          2024        161490      4.03     5.57  1.0     2.0  5.0\n",
      "\n",
      "========== [APPLICATION STATS - ITI] (Excl. 0-applicants) ==========\n",
      " academic_year  num_students  avg_apps  std_dev  p25  median  p75\n",
      "          2017         26362      5.43    77.88  2.0     4.0  6.0\n",
      "          2018         29115      5.85     5.68  1.0     4.0  8.0\n",
      "          2019         32977      6.98     3.93  5.0     5.0  8.0\n",
      "          2020         25378      6.56     3.69  5.0     5.0  7.0\n",
      "          2021         40666      6.36     3.26  5.0     5.0  6.0\n",
      "          2022         37694      7.07     4.20  5.0     5.0  8.0\n",
      "          2023         47590      7.23     4.56  5.0     5.0  8.0\n",
      "          2024         46670      7.69     5.23  5.0     5.0 10.0\n",
      "\n",
      "========== [APPLICATION STATS - DIPLOMA] ==========\n",
      " academic_year  num_students  avg_apps  std_dev  p25  median  p75\n",
      "          2018         52530      3.60    73.30  1.0     1.0  4.0\n",
      "          2019         44080      3.97   101.25  1.0     1.0  4.0\n",
      "          2020         56533      3.02     5.17  1.0     1.0  3.0\n",
      "          2021         59278      2.80     5.10  1.0     1.0  3.0\n",
      "          2022         78196      2.94     5.18  1.0     1.0  3.0\n",
      "          2023         79700      3.35     4.43  1.0     2.0  4.0\n",
      "          2024         81789      3.51     4.79  1.0     2.0  5.0\n",
      "\n",
      "========== [APPLICATION STATS - HSS] ==========\n",
      " academic_year  num_students  avg_apps  std_dev  p25  median  p75\n",
      "          2018        365014      6.06   408.81  5.0     5.0  5.0\n",
      "          2019        352732      5.71   250.89  5.0     5.0  5.0\n",
      "          2020        339415      6.56   471.97  5.0     5.0  5.0\n",
      "          2021        372655      6.88   727.05  5.0     5.0  5.0\n",
      "          2022        414021      7.12   637.90  5.0     5.0  6.0\n",
      "          2023        416077      7.41   661.38  5.0     5.0  6.0\n",
      "          2024        469592      6.41   115.12  5.0     5.0  6.0\n"
     ]
    },
    {
     "data": {
      "application/vnd.microsoft.datawrangler.viewer.v0+json": {
       "columns": [
        {
         "name": "index",
         "rawType": "int64",
         "type": "integer"
        },
        {
         "name": "academic_year",
         "rawType": "Int16",
         "type": "integer"
        },
        {
         "name": "num_students",
         "rawType": "int64",
         "type": "integer"
        },
        {
         "name": "avg_apps",
         "rawType": "float64",
         "type": "float"
        },
        {
         "name": "std_dev",
         "rawType": "float64",
         "type": "float"
        },
        {
         "name": "p25",
         "rawType": "float64",
         "type": "float"
        },
        {
         "name": "median",
         "rawType": "float64",
         "type": "float"
        },
        {
         "name": "p75",
         "rawType": "float64",
         "type": "float"
        }
       ],
       "ref": "7821e6fa-8882-40ce-aa68-4c978b0c7093",
       "rows": [
        [
         "0",
         "2018",
         "365014",
         "6.06",
         "408.81",
         "5.0",
         "5.0",
         "5.0"
        ],
        [
         "1",
         "2019",
         "352732",
         "5.71",
         "250.89",
         "5.0",
         "5.0",
         "5.0"
        ],
        [
         "2",
         "2020",
         "339415",
         "6.56",
         "471.97",
         "5.0",
         "5.0",
         "5.0"
        ],
        [
         "3",
         "2021",
         "372655",
         "6.88",
         "727.05",
         "5.0",
         "5.0",
         "5.0"
        ],
        [
         "4",
         "2022",
         "414021",
         "7.12",
         "637.9",
         "5.0",
         "5.0",
         "6.0"
        ],
        [
         "5",
         "2023",
         "416077",
         "7.41",
         "661.38",
         "5.0",
         "5.0",
         "6.0"
        ],
        [
         "6",
         "2024",
         "469592",
         "6.41",
         "115.12",
         "5.0",
         "5.0",
         "6.0"
        ]
       ],
       "shape": {
        "columns": 7,
        "rows": 7
       }
      },
      "text/html": [
       "<div>\n",
       "<style scoped>\n",
       "    .dataframe tbody tr th:only-of-type {\n",
       "        vertical-align: middle;\n",
       "    }\n",
       "\n",
       "    .dataframe tbody tr th {\n",
       "        vertical-align: top;\n",
       "    }\n",
       "\n",
       "    .dataframe thead th {\n",
       "        text-align: right;\n",
       "    }\n",
       "</style>\n",
       "<table border=\"1\" class=\"dataframe\">\n",
       "  <thead>\n",
       "    <tr style=\"text-align: right;\">\n",
       "      <th></th>\n",
       "      <th>academic_year</th>\n",
       "      <th>num_students</th>\n",
       "      <th>avg_apps</th>\n",
       "      <th>std_dev</th>\n",
       "      <th>p25</th>\n",
       "      <th>median</th>\n",
       "      <th>p75</th>\n",
       "    </tr>\n",
       "  </thead>\n",
       "  <tbody>\n",
       "    <tr>\n",
       "      <th>0</th>\n",
       "      <td>2018</td>\n",
       "      <td>365014</td>\n",
       "      <td>6.06</td>\n",
       "      <td>408.81</td>\n",
       "      <td>5.0</td>\n",
       "      <td>5.0</td>\n",
       "      <td>5.0</td>\n",
       "    </tr>\n",
       "    <tr>\n",
       "      <th>1</th>\n",
       "      <td>2019</td>\n",
       "      <td>352732</td>\n",
       "      <td>5.71</td>\n",
       "      <td>250.89</td>\n",
       "      <td>5.0</td>\n",
       "      <td>5.0</td>\n",
       "      <td>5.0</td>\n",
       "    </tr>\n",
       "    <tr>\n",
       "      <th>2</th>\n",
       "      <td>2020</td>\n",
       "      <td>339415</td>\n",
       "      <td>6.56</td>\n",
       "      <td>471.97</td>\n",
       "      <td>5.0</td>\n",
       "      <td>5.0</td>\n",
       "      <td>5.0</td>\n",
       "    </tr>\n",
       "    <tr>\n",
       "      <th>3</th>\n",
       "      <td>2021</td>\n",
       "      <td>372655</td>\n",
       "      <td>6.88</td>\n",
       "      <td>727.05</td>\n",
       "      <td>5.0</td>\n",
       "      <td>5.0</td>\n",
       "      <td>5.0</td>\n",
       "    </tr>\n",
       "    <tr>\n",
       "      <th>4</th>\n",
       "      <td>2022</td>\n",
       "      <td>414021</td>\n",
       "      <td>7.12</td>\n",
       "      <td>637.90</td>\n",
       "      <td>5.0</td>\n",
       "      <td>5.0</td>\n",
       "      <td>6.0</td>\n",
       "    </tr>\n",
       "    <tr>\n",
       "      <th>5</th>\n",
       "      <td>2023</td>\n",
       "      <td>416077</td>\n",
       "      <td>7.41</td>\n",
       "      <td>661.38</td>\n",
       "      <td>5.0</td>\n",
       "      <td>5.0</td>\n",
       "      <td>6.0</td>\n",
       "    </tr>\n",
       "    <tr>\n",
       "      <th>6</th>\n",
       "      <td>2024</td>\n",
       "      <td>469592</td>\n",
       "      <td>6.41</td>\n",
       "      <td>115.12</td>\n",
       "      <td>5.0</td>\n",
       "      <td>5.0</td>\n",
       "      <td>6.0</td>\n",
       "    </tr>\n",
       "  </tbody>\n",
       "</table>\n",
       "</div>"
      ],
      "text/plain": [
       "   academic_year  num_students  avg_apps  std_dev  p25  median  p75\n",
       "0           2018        365014      6.06   408.81  5.0     5.0  5.0\n",
       "1           2019        352732      5.71   250.89  5.0     5.0  5.0\n",
       "2           2020        339415      6.56   471.97  5.0     5.0  5.0\n",
       "3           2021        372655      6.88   727.05  5.0     5.0  5.0\n",
       "4           2022        414021      7.12   637.90  5.0     5.0  6.0\n",
       "5           2023        416077      7.41   661.38  5.0     5.0  6.0\n",
       "6           2024        469592      6.41   115.12  5.0     5.0  6.0"
      ]
     },
     "execution_count": 15,
     "metadata": {},
     "output_type": "execute_result"
    }
   ],
   "source": [
    "import pandas as pd\n",
    "\n",
    "# ========== [APPLICATIONS PER STUDENT SUMMARY (BASED ON Option No)] ==========\n",
    "\n",
    "\n",
    "import pandas as pd\n",
    "\n",
    "# ========== [APPLICATIONS PER STUDENT SUMMARY (BASED ON Option No)] ==========\n",
    "\n",
    "def summarize_applications(df, option_col='Option_No', module=None, exclude_zero=False):\n",
    "    data = df.copy()\n",
    "\n",
    "    # Create unified student identifier\n",
    "    data['student_id'] = data.apply(\n",
    "        lambda row: row['barcode'] if row['module'] == 'PDIS' else row['aadhar_no'], axis=1\n",
    "    )\n",
    "    data = data.dropna(subset=['student_id'])\n",
    "\n",
    "    # Count options per student per year\n",
    "    app_counts = data.groupby(['academic_year', 'student_id'])[option_col].count()\n",
    "\n",
    "    # Optionally exclude students with zero applications\n",
    "    if exclude_zero:\n",
    "        app_counts = app_counts[app_counts > 0]\n",
    "\n",
    "    # Aggregate statistics by academic year\n",
    "    summary = app_counts.groupby(level=0).agg([\n",
    "        ('num_students', 'count'),\n",
    "        ('avg_apps', 'mean'),\n",
    "        ('std_dev', 'std'),\n",
    "        ('p25', lambda x: x.quantile(0.25)),\n",
    "        ('median', 'median'),\n",
    "        ('p75', lambda x: x.quantile(0.75))\n",
    "    ]).round(2).reset_index()\n",
    "\n",
    "    title = f\"[APPLICATION STATS - {module.upper()}]\" if module else \"[APPLICATION STATS - ALL MODULES + PDIS]\"\n",
    "    if exclude_zero:\n",
    "        title += \" (Excl. 0-applicants)\"\n",
    "\n",
    "    print(f\"\\n========== {title} ==========\")\n",
    "    print(summary.to_string(index=False))\n",
    "    return summary\n",
    "\n",
    "\n",
    "# 2.1 All Students Combined (Includes ITI, Diploma, HSS, PDIS)\n",
    "# All Students Combined (Includes ITI, Diploma, HSS, PDIS)\n",
    "summarize_applications(json_df)\n",
    "\n",
    "# ITI Students Only (excluding zero-applicants)\n",
    "summarize_applications(json_df[json_df['module'] == 'ITI'], module='ITI', exclude_zero=True)\n",
    "\n",
    "# Diploma Students Only\n",
    "summarize_applications(json_df[json_df['module'] == 'Diploma'], module='Diploma')\n",
    "\n",
    "# HSS Students Only\n",
    "hss_merged['module'] = 'HSS'\n",
    "summarize_applications(hss_merged, module='HSS')"
   ]
  },
  {
   "cell_type": "code",
   "execution_count": null,
   "id": "04da741d",
   "metadata": {},
   "outputs": [],
   "source": []
  },
  {
   "cell_type": "code",
   "execution_count": null,
   "id": "86c47ad6",
   "metadata": {},
   "outputs": [],
   "source": []
  },
  {
   "cell_type": "code",
   "execution_count": null,
   "id": "e4523f97",
   "metadata": {},
   "outputs": [],
   "source": []
  }
 ],
 "metadata": {
  "kernelspec": {
   "display_name": "skills",
   "language": "python",
   "name": "python3"
  },
  "language_info": {
   "codemirror_mode": {
    "name": "ipython",
    "version": 3
   },
   "file_extension": ".py",
   "mimetype": "text/x-python",
   "name": "python",
   "nbconvert_exporter": "python",
   "pygments_lexer": "ipython3",
   "version": "3.10.17"
  }
 },
 "nbformat": 4,
 "nbformat_minor": 5
}
