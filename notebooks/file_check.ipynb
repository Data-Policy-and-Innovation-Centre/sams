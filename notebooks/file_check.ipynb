{
 "cells": [
  {
   "cell_type": "code",
   "execution_count": 1,
   "id": "6b97b547",
   "metadata": {},
   "outputs": [
    {
     "name": "stderr",
     "output_type": "stream",
     "text": [
      "\u001b[32m2025-09-25 10:30:53.749\u001b[0m | \u001b[1mINFO    \u001b[0m | \u001b[36msams.config\u001b[0m:\u001b[36m<module>\u001b[0m:\u001b[36m15\u001b[0m - \u001b[1mPROJ_ROOT path is: C:\\Users\\Admin\\Documents\\GitHub\\sams\u001b[0m\n",
      "\u001b[32m2025-09-25 10:30:53.803\u001b[0m | \u001b[33m\u001b[1mWARNING \u001b[0m | \u001b[36msams.config\u001b[0m:\u001b[36m<module>\u001b[0m:\u001b[36m83\u001b[0m - \u001b[33m\u001b[1mGoogle MAPS API key not found, using Nominatim geocoder\u001b[0m\n",
      "\u001b[32m2025-09-25 10:30:53.805\u001b[0m | \u001b[1mINFO    \u001b[0m | \u001b[36msams.config\u001b[0m:\u001b[36m<module>\u001b[0m:\u001b[36m92\u001b[0m - \u001b[1mLoaded 0 geocodes from cache\u001b[0m\n"
     ]
    }
   ],
   "source": [
    "import sqlite3\n",
    "import pandas as pd\n",
    "import seaborn as sns\n",
    "import json\n",
    "import numpy as np\n",
    "import os\n",
    "import matplotlib.pyplot as plt\n",
    "import plotly.graph_objects as go\n",
    "from sams.config import datasets\n",
    "from sams.utils import load_data"
   ]
  },
  {
   "cell_type": "code",
   "execution_count": 7,
   "id": "539b3671",
   "metadata": {},
   "outputs": [
    {
     "name": "stdout",
     "output_type": "stream",
     "text": [
      "\u001b[32m2025-09-24 17:31:59.403\u001b[0m | \u001b[1mINFO    \u001b[0m | \u001b[36msams.utils\u001b[0m:\u001b[36mload_data\u001b[0m:\u001b[36m75\u001b[0m - \u001b[1mLoading data from C:\\Users\\Admin\\Documents\\GitHub\\sams\\data\\interim\\iti_enrollments.pq\u001b[0m\n"
     ]
    },
    {
     "data": {
      "application/vnd.microsoft.datawrangler.viewer.v0+json": {
       "columns": [
        {
         "name": "index",
         "rawType": "int64",
         "type": "integer"
        },
        {
         "name": "id",
         "rawType": "int64",
         "type": "integer"
        },
        {
         "name": "barcode",
         "rawType": "object",
         "type": "string"
        },
        {
         "name": "gender",
         "rawType": "object",
         "type": "string"
        },
        {
         "name": "religion_name",
         "rawType": "object",
         "type": "string"
        },
        {
         "name": "dob",
         "rawType": "datetime64[ns]",
         "type": "datetime"
        },
        {
         "name": "annual_income",
         "rawType": "object",
         "type": "string"
        },
        {
         "name": "address",
         "rawType": "object",
         "type": "string"
        },
        {
         "name": "state",
         "rawType": "object",
         "type": "string"
        },
        {
         "name": "district",
         "rawType": "object",
         "type": "string"
        },
        {
         "name": "block",
         "rawType": "object",
         "type": "string"
        },
        {
         "name": "pin_code",
         "rawType": "object",
         "type": "string"
        },
        {
         "name": "social_category",
         "rawType": "object",
         "type": "string"
        },
        {
         "name": "residence_barcode_number",
         "rawType": "object",
         "type": "string"
        },
        {
         "name": "highest_qualification",
         "rawType": "object",
         "type": "unknown"
        },
        {
         "name": "gc",
         "rawType": "bool",
         "type": "boolean"
        },
        {
         "name": "ph",
         "rawType": "object",
         "type": "string"
        },
        {
         "name": "es",
         "rawType": "bool",
         "type": "boolean"
        },
        {
         "name": "sports",
         "rawType": "bool",
         "type": "boolean"
        },
        {
         "name": "orphan",
         "rawType": "bool",
         "type": "boolean"
        },
        {
         "name": "income_barcode",
         "rawType": "object",
         "type": "string"
        },
        {
         "name": "ews",
         "rawType": "object",
         "type": "unknown"
        },
        {
         "name": "boc",
         "rawType": "object",
         "type": "string"
        },
        {
         "name": "boc_regd_no",
         "rawType": "object",
         "type": "string"
        },
        {
         "name": "course_name",
         "rawType": "object",
         "type": "string"
        },
        {
         "name": "course_period",
         "rawType": "object",
         "type": "string"
        },
        {
         "name": "beauty_culture_type",
         "rawType": "float64",
         "type": "float"
        },
        {
         "name": "sams_code",
         "rawType": "object",
         "type": "string"
        },
        {
         "name": "reported_institute",
         "rawType": "object",
         "type": "string"
        },
        {
         "name": "reported_branch_or_trade",
         "rawType": "object",
         "type": "string"
        },
        {
         "name": "institute_district",
         "rawType": "object",
         "type": "string"
        },
        {
         "name": "type_of_institute",
         "rawType": "object",
         "type": "string"
        },
        {
         "name": "phase",
         "rawType": "object",
         "type": "string"
        },
        {
         "name": "year",
         "rawType": "int64",
         "type": "integer"
        },
        {
         "name": "admission_status",
         "rawType": "object",
         "type": "string"
        },
        {
         "name": "enrollment_status",
         "rawType": "object",
         "type": "string"
        },
        {
         "name": "applied_status",
         "rawType": "object",
         "type": "string"
        },
        {
         "name": "date_of_application",
         "rawType": "datetime64[ns]",
         "type": "datetime"
        },
        {
         "name": "application_status",
         "rawType": "object",
         "type": "string"
        },
        {
         "name": "aadhar_no",
         "rawType": "object",
         "type": "string"
        },
        {
         "name": "registration_number",
         "rawType": "object",
         "type": "string"
        },
        {
         "name": "mark_data",
         "rawType": "object",
         "type": "string"
        },
        {
         "name": "module",
         "rawType": "object",
         "type": "string"
        },
        {
         "name": "academic_year",
         "rawType": "int64",
         "type": "integer"
        },
        {
         "name": "contact_no",
         "rawType": "object",
         "type": "string"
        },
        {
         "name": "option_data",
         "rawType": "object",
         "type": "string"
        },
        {
         "name": "local",
         "rawType": "bool",
         "type": "boolean"
        }
       ],
       "ref": "5edbebd9-9926-46a8-b6f3-c708adab1b55",
       "rows": [
        [
         "0",
         "378092",
         "22T0645746",
         "Male",
         "HINDU",
         "2005-03-07 00:00:00",
         "0-1,00,000",
         "NIABAG KHIRACHORA REMUNA BALASORE, Remuna, Balasore, Odisha 756018",
         "Odisha",
         "Balasore",
         "Remuna",
         "756018",
         "Schedule Caste (SC)",
         "xRl39o42YmECmdYgMOLbUg==",
         "10th",
         "False",
         "No",
         "False",
         "False",
         "False",
         "Pea4RIe7uFM+KH+RciKUJ0FTSQ/H2k5uDWlblkI+DYU=",
         "False",
         "No",
         "xRl39o42YmECmdYgMOLbUg==",
         "ITI",
         "2 Years",
         null,
         "020251113",
         "Jyoti ITC",
         "Electrician (NSQF)",
         "Balasore",
         "Pvt.",
         "3",
         "2022",
         "Yes",
         "Yes",
         "Yes",
         "2022-09-27 00:00:00",
         "Accepted",
         "+++X57uXWtBl2CXShdXspBkEN04SwlfjLg3pxhlrMzk=",
         "HLbxStDn5fW4xFVBLZg3sg==",
         "[{\"ExamName\": \"10th Pass\", \"YearofPassing\": \"2020\", \"RollNo\": \"QQr1XYOq2CGN2WTQN2tevQ==\", \"ExaminationType\": \"Annual\", \"TotalMarks\": \"600\", \"SecuredMarks\": \"198.00\", \"Percentage\": \"NA\", \"CompartmentalStatus\": \"No\", \"CompartmentalFailMark\": \"NA\", \"SubjectWiseMarks\": \"Mark SL :33,MAX Mark SL :100,Mark Math :33,Max Mark Math :100,Mark Science :33,Max Mark Science :100,Mark Social Studies :33,Max Mark Social Studies :100\", \"HighestQualificationBoardExamName\": \"NA\", \"HighestQualificationExamBoard\": \"Board of Secondary Education, Odisha, Cuttack-753001\"}]",
         "ITI",
         "2022",
         "Q3ZLNBqzYy5TAlYGOmLWLGC+qDvwN48L4/ReifWYxbE=",
         "[]",
         "True"
        ],
        [
         "1",
         "531878",
         "24T0208477",
         "Female",
         "HINDU",
         "2004-01-10 00:00:00",
         "0-1,00,000",
         "BADASAHI, Rangeilunda, Ganjam, Odisha 760003",
         "Odisha",
         "Ganjam",
         "Rangeilunda",
         "760003",
         "OBC/SEBC",
         "xRl39o42YmECmdYgMOLbUg==",
         "Graduate and above",
         "False",
         "Physical Disability Between 40 and 60%/ Locomotor Disability(LD)",
         "False",
         "False",
         "False",
         "O2HpAALjpqPY7qbfdf5DLA==",
         "False",
         "No",
         "xRl39o42YmECmdYgMOLbUg==",
         "ITI",
         "1 Year",
         null,
         "190611101",
         "Special ITI for PWD, Jatni, Khurda",
         "Computer Operator and Programming Assistant (NSQF)",
         "Khurda",
         "Govt.",
         "3",
         "2024",
         "Yes",
         "Yes",
         "Yes",
         "2024-06-07 00:00:00",
         "Accepted",
         "+++lu61811/AXG2JlovcI65FNVLDVzsT8PCv6ZTCOmI=",
         "lwCnQAOESgTVKj3UITlj4Q==",
         "[{\"ExamName\": \"10th Pass\", \"YearofPassing\": \"2019\", \"RollNo\": \"S358QW3wMY1KOlemT8Fr8g==\", \"ExaminationType\": \"Annual\", \"TotalMarks\": \"600\", \"SecuredMarks\": \"230.00\", \"Percentage\": \"NA\", \"CompartmentalStatus\": \"No\", \"CompartmentalFailMark\": \"NA\", \"SubjectWiseMarks\": \"Mark SL :33,MAX Mark SL :100,Mark Math :30,Max Mark Math :100,Mark Science :30,Max Mark Science :100,Mark Social Studies :30,Max Mark Social Studies :100\", \"HighestQualificationBoardExamName\": \"NA\", \"HighestQualificationExamBoard\": \"Board of Secondary Education, Odisha, Cuttack-753001\"}]",
         "ITI",
         "2024",
         "SauAOGOk6Knv1t0yT4qyCC/WGLjhWemyxzpzL6BfaTs=",
         "[{\"Phase\": \"1\", \"Option_No\": \"1\", \"Institute_Name\": \"ITI Bhubaneswar, Khurda\", \"Trade\": \"Computer Operator and Programming Assistant (NSQF)\", \"Status\": \"Opted\"}, {\"Phase\": \"2\", \"Option_No\": \"1\", \"Institute_Name\": \"ITI Bhubaneswar, Khurda\", \"Trade\": \"Computer Operator and Programming Assistant (NSQF)\", \"Status\": \"Opted\"}]",
         "False"
        ],
        [
         "2",
         "316992",
         "21T0703856",
         "Female",
         "HINDU",
         "2001-01-21 00:00:00",
         "0-1,00,000",
         "AT-BADATOTA ,PO-CHHAPALI, Mahakalpara, Kendrapara, Odisha 754224",
         "Odisha",
         "Kendrapara",
         "Mahakalpara",
         "754224",
         "General",
         "xRl39o42YmECmdYgMOLbUg==",
         null,
         "False",
         "No",
         "False",
         "False",
         "False",
         "O2HpAALjpqPY7qbfdf5DLA==",
         "False",
         "No",
         "xRl39o42YmECmdYgMOLbUg==",
         "ITI",
         "2 Years",
         null,
         "170551101",
         "Prachi Private ITI",
         "Electrician (NSQF)",
         "Kendrapara",
         "Pvt.",
         "3",
         "2021",
         "Yes",
         "Yes",
         "Yes",
         "2021-10-28 00:00:00",
         "Accepted",
         "++/dqPiVrOKh1OufyQE3iBiWA6RGB8uHHooRAV1vLfE=",
         "3QvQqg7cE+MG9pzZz0GLFQ==",
         "[{\"ExamName\": \"10th Pass\", \"YearofPassing\": \"2016\", \"RollNo\": \"mTLBH6mYqZB9FgCbiOG4eA==\", \"ExaminationType\": \"Annual\", \"TotalMarks\": \"600\", \"SecuredMarks\": \"338.00\", \"Percentage\": \"NA\", \"CompartmentalStatus\": \"No\", \"CompartmentalFailMark\": \"NA\", \"SubjectWiseMarks\": \"Mark SL :66,MAX Mark SL :100,Mark Math :47,Max Mark Math :100,Mark Science :34,Max Mark Science :100,Mark Social Studies :63,Max Mark Social Studies :100\", \"HighestQualificationBoardExamName\": \"NA\", \"HighestQualificationExamBoard\": \"Board of Secondary Education, Odisha, Cuttack-753001\"}]",
         "ITI",
         "2021",
         "YQLb/Kome43ubMUKkWsblz8+sFMdWP6rUTM0DjbOgoE=",
         "[]",
         "True"
        ],
        [
         "3",
         "398495",
         "22T0564602",
         "Male",
         "MUSLIM",
         "2006-05-10 00:00:00",
         "0-1,00,000",
         "AT- TARANA, Jamda, Mayurbhanj, Odisha 757045",
         "Odisha",
         "Mayurbhanj",
         "Jamda",
         "757045",
         "General",
         "xRl39o42YmECmdYgMOLbUg==",
         "10th",
         "False",
         "No",
         "False",
         "False",
         "False",
         "O2HpAALjpqPY7qbfdf5DLA==",
         "False",
         "No",
         "xRl39o42YmECmdYgMOLbUg==",
         "ITI",
         "2 Years",
         null,
         "220651101",
         "Gorumahisani ITC",
         "Electrician (NSQF)",
         "Mayurbhanj",
         "Pvt.",
         "3",
         "2022",
         "Yes",
         "Yes",
         "Yes",
         "2022-09-19 00:00:00",
         "Accepted",
         "++/fqZMCdp/DbmNKtvU0cktDYZG2DMUAkEUyA4rP/u8=",
         "2OBVo+4vy0wCAPRL37gEJQ==",
         "[{\"ExamName\": \"10th Pass\", \"YearofPassing\": \"2022\", \"RollNo\": \"UF2tQtHgBsrdUkzqjJaEnw==\", \"ExaminationType\": \"Annual\", \"TotalMarks\": \"600\", \"SecuredMarks\": \"305.00\", \"Percentage\": \"NA\", \"CompartmentalStatus\": \"No\", \"CompartmentalFailMark\": \"NA\", \"SubjectWiseMarks\": \"Mark SL :42,MAX Mark SL :100,Mark Math :43,Max Mark Math :100,Mark Science :50,Max Mark Science :100,Mark Social Studies :46,Max Mark Social Studies :100\", \"HighestQualificationBoardExamName\": \"NA\", \"HighestQualificationExamBoard\": \"Board of Secondary Education, Odisha, Cuttack-753001\"}]",
         "ITI",
         "2022",
         "f7X/DE2y10UdIYbj3+seSF15D186EfxMcEQYXmPq2z4=",
         "[]",
         "True"
        ],
        [
         "4",
         "397644",
         "22T06352511",
         "Male",
         "HINDU",
         "2005-08-12 00:00:00",
         "0-1,00,000",
         "AT-MUSAGADIA PO-PRUTHUNATHPUR PS-BADASAHI, Barasahi, Mayurbhanj, Odisha 757017",
         "Odisha",
         "Mayurbhanj",
         "Barasahi",
         "757017",
         "Schedule Caste (SC)",
         "xRl39o42YmECmdYgMOLbUg==",
         "10th",
         "False",
         "No",
         "False",
         "False",
         "False",
         "O2HpAALjpqPY7qbfdf5DLA==",
         "False",
         "No",
         "xRl39o42YmECmdYgMOLbUg==",
         "ITI",
         "2 Years",
         null,
         "221251102",
         "Betnoti ITC",
         "Fitter (NSQF)",
         "Mayurbhanj",
         "Pvt.",
         "3",
         "2022",
         "Yes",
         "Yes",
         "Yes",
         "2022-09-26 00:00:00",
         "Accepted",
         "++075n6QEOWcU2f0jR6YCxMyvxlBRKR+26gJWkrcsiM=",
         "AGwPGQW4zHfAyZpeNkIw1w==",
         "[{\"ExamName\": \"10th Pass\", \"YearofPassing\": \"2022\", \"RollNo\": \"6cItlTF1K9F8RkQgKcNTuQ==\", \"ExaminationType\": \"Annual\", \"TotalMarks\": \"600\", \"SecuredMarks\": \"234.00\", \"Percentage\": \"NA\", \"CompartmentalStatus\": \"No\", \"CompartmentalFailMark\": \"NA\", \"SubjectWiseMarks\": \"Mark SL :46,MAX Mark SL :100,Mark Math :35,Max Mark Math :100,Mark Science :39,Max Mark Science :100,Mark Social Studies :42,Max Mark Social Studies :100\", \"HighestQualificationBoardExamName\": \"NA\", \"HighestQualificationExamBoard\": \"Board of Secondary Education, Odisha, Cuttack-753001\"}]",
         "ITI",
         "2022",
         "XvR9zjgbKtZbPH/qBfBDv+hiQ9QtWnpcbVCA0ZbqCPQ=",
         "[]",
         "True"
        ]
       ],
       "shape": {
        "columns": 46,
        "rows": 5
       }
      },
      "text/html": [
       "<div>\n",
       "<style scoped>\n",
       "    .dataframe tbody tr th:only-of-type {\n",
       "        vertical-align: middle;\n",
       "    }\n",
       "\n",
       "    .dataframe tbody tr th {\n",
       "        vertical-align: top;\n",
       "    }\n",
       "\n",
       "    .dataframe thead th {\n",
       "        text-align: right;\n",
       "    }\n",
       "</style>\n",
       "<table border=\"1\" class=\"dataframe\">\n",
       "  <thead>\n",
       "    <tr style=\"text-align: right;\">\n",
       "      <th></th>\n",
       "      <th>id</th>\n",
       "      <th>barcode</th>\n",
       "      <th>gender</th>\n",
       "      <th>religion_name</th>\n",
       "      <th>dob</th>\n",
       "      <th>annual_income</th>\n",
       "      <th>address</th>\n",
       "      <th>state</th>\n",
       "      <th>district</th>\n",
       "      <th>block</th>\n",
       "      <th>...</th>\n",
       "      <th>date_of_application</th>\n",
       "      <th>application_status</th>\n",
       "      <th>aadhar_no</th>\n",
       "      <th>registration_number</th>\n",
       "      <th>mark_data</th>\n",
       "      <th>module</th>\n",
       "      <th>academic_year</th>\n",
       "      <th>contact_no</th>\n",
       "      <th>option_data</th>\n",
       "      <th>local</th>\n",
       "    </tr>\n",
       "  </thead>\n",
       "  <tbody>\n",
       "    <tr>\n",
       "      <th>0</th>\n",
       "      <td>378092</td>\n",
       "      <td>22T0645746</td>\n",
       "      <td>Male</td>\n",
       "      <td>HINDU</td>\n",
       "      <td>2005-03-07</td>\n",
       "      <td>0-1,00,000</td>\n",
       "      <td>NIABAG KHIRACHORA REMUNA BALASORE, Remuna, Bal...</td>\n",
       "      <td>Odisha</td>\n",
       "      <td>Balasore</td>\n",
       "      <td>Remuna</td>\n",
       "      <td>...</td>\n",
       "      <td>2022-09-27</td>\n",
       "      <td>Accepted</td>\n",
       "      <td>+++X57uXWtBl2CXShdXspBkEN04SwlfjLg3pxhlrMzk=</td>\n",
       "      <td>HLbxStDn5fW4xFVBLZg3sg==</td>\n",
       "      <td>[{\"ExamName\": \"10th Pass\", \"YearofPassing\": \"2...</td>\n",
       "      <td>ITI</td>\n",
       "      <td>2022</td>\n",
       "      <td>Q3ZLNBqzYy5TAlYGOmLWLGC+qDvwN48L4/ReifWYxbE=</td>\n",
       "      <td>[]</td>\n",
       "      <td>True</td>\n",
       "    </tr>\n",
       "    <tr>\n",
       "      <th>1</th>\n",
       "      <td>531878</td>\n",
       "      <td>24T0208477</td>\n",
       "      <td>Female</td>\n",
       "      <td>HINDU</td>\n",
       "      <td>2004-01-10</td>\n",
       "      <td>0-1,00,000</td>\n",
       "      <td>BADASAHI, Rangeilunda, Ganjam, Odisha 760003</td>\n",
       "      <td>Odisha</td>\n",
       "      <td>Ganjam</td>\n",
       "      <td>Rangeilunda</td>\n",
       "      <td>...</td>\n",
       "      <td>2024-06-07</td>\n",
       "      <td>Accepted</td>\n",
       "      <td>+++lu61811/AXG2JlovcI65FNVLDVzsT8PCv6ZTCOmI=</td>\n",
       "      <td>lwCnQAOESgTVKj3UITlj4Q==</td>\n",
       "      <td>[{\"ExamName\": \"10th Pass\", \"YearofPassing\": \"2...</td>\n",
       "      <td>ITI</td>\n",
       "      <td>2024</td>\n",
       "      <td>SauAOGOk6Knv1t0yT4qyCC/WGLjhWemyxzpzL6BfaTs=</td>\n",
       "      <td>[{\"Phase\": \"1\", \"Option_No\": \"1\", \"Institute_N...</td>\n",
       "      <td>False</td>\n",
       "    </tr>\n",
       "    <tr>\n",
       "      <th>2</th>\n",
       "      <td>316992</td>\n",
       "      <td>21T0703856</td>\n",
       "      <td>Female</td>\n",
       "      <td>HINDU</td>\n",
       "      <td>2001-01-21</td>\n",
       "      <td>0-1,00,000</td>\n",
       "      <td>AT-BADATOTA ,PO-CHHAPALI, Mahakalpara, Kendrap...</td>\n",
       "      <td>Odisha</td>\n",
       "      <td>Kendrapara</td>\n",
       "      <td>Mahakalpara</td>\n",
       "      <td>...</td>\n",
       "      <td>2021-10-28</td>\n",
       "      <td>Accepted</td>\n",
       "      <td>++/dqPiVrOKh1OufyQE3iBiWA6RGB8uHHooRAV1vLfE=</td>\n",
       "      <td>3QvQqg7cE+MG9pzZz0GLFQ==</td>\n",
       "      <td>[{\"ExamName\": \"10th Pass\", \"YearofPassing\": \"2...</td>\n",
       "      <td>ITI</td>\n",
       "      <td>2021</td>\n",
       "      <td>YQLb/Kome43ubMUKkWsblz8+sFMdWP6rUTM0DjbOgoE=</td>\n",
       "      <td>[]</td>\n",
       "      <td>True</td>\n",
       "    </tr>\n",
       "    <tr>\n",
       "      <th>3</th>\n",
       "      <td>398495</td>\n",
       "      <td>22T0564602</td>\n",
       "      <td>Male</td>\n",
       "      <td>MUSLIM</td>\n",
       "      <td>2006-05-10</td>\n",
       "      <td>0-1,00,000</td>\n",
       "      <td>AT- TARANA, Jamda, Mayurbhanj, Odisha 757045</td>\n",
       "      <td>Odisha</td>\n",
       "      <td>Mayurbhanj</td>\n",
       "      <td>Jamda</td>\n",
       "      <td>...</td>\n",
       "      <td>2022-09-19</td>\n",
       "      <td>Accepted</td>\n",
       "      <td>++/fqZMCdp/DbmNKtvU0cktDYZG2DMUAkEUyA4rP/u8=</td>\n",
       "      <td>2OBVo+4vy0wCAPRL37gEJQ==</td>\n",
       "      <td>[{\"ExamName\": \"10th Pass\", \"YearofPassing\": \"2...</td>\n",
       "      <td>ITI</td>\n",
       "      <td>2022</td>\n",
       "      <td>f7X/DE2y10UdIYbj3+seSF15D186EfxMcEQYXmPq2z4=</td>\n",
       "      <td>[]</td>\n",
       "      <td>True</td>\n",
       "    </tr>\n",
       "    <tr>\n",
       "      <th>4</th>\n",
       "      <td>397644</td>\n",
       "      <td>22T06352511</td>\n",
       "      <td>Male</td>\n",
       "      <td>HINDU</td>\n",
       "      <td>2005-08-12</td>\n",
       "      <td>0-1,00,000</td>\n",
       "      <td>AT-MUSAGADIA PO-PRUTHUNATHPUR PS-BADASAHI, Bar...</td>\n",
       "      <td>Odisha</td>\n",
       "      <td>Mayurbhanj</td>\n",
       "      <td>Barasahi</td>\n",
       "      <td>...</td>\n",
       "      <td>2022-09-26</td>\n",
       "      <td>Accepted</td>\n",
       "      <td>++075n6QEOWcU2f0jR6YCxMyvxlBRKR+26gJWkrcsiM=</td>\n",
       "      <td>AGwPGQW4zHfAyZpeNkIw1w==</td>\n",
       "      <td>[{\"ExamName\": \"10th Pass\", \"YearofPassing\": \"2...</td>\n",
       "      <td>ITI</td>\n",
       "      <td>2022</td>\n",
       "      <td>XvR9zjgbKtZbPH/qBfBDv+hiQ9QtWnpcbVCA0ZbqCPQ=</td>\n",
       "      <td>[]</td>\n",
       "      <td>True</td>\n",
       "    </tr>\n",
       "  </tbody>\n",
       "</table>\n",
       "<p>5 rows × 46 columns</p>\n",
       "</div>"
      ],
      "text/plain": [
       "       id      barcode  gender religion_name        dob annual_income  \\\n",
       "0  378092   22T0645746    Male         HINDU 2005-03-07    0-1,00,000   \n",
       "1  531878   24T0208477  Female         HINDU 2004-01-10    0-1,00,000   \n",
       "2  316992   21T0703856  Female         HINDU 2001-01-21    0-1,00,000   \n",
       "3  398495   22T0564602    Male        MUSLIM 2006-05-10    0-1,00,000   \n",
       "4  397644  22T06352511    Male         HINDU 2005-08-12    0-1,00,000   \n",
       "\n",
       "                                             address   state    district  \\\n",
       "0  NIABAG KHIRACHORA REMUNA BALASORE, Remuna, Bal...  Odisha    Balasore   \n",
       "1       BADASAHI, Rangeilunda, Ganjam, Odisha 760003  Odisha      Ganjam   \n",
       "2  AT-BADATOTA ,PO-CHHAPALI, Mahakalpara, Kendrap...  Odisha  Kendrapara   \n",
       "3       AT- TARANA, Jamda, Mayurbhanj, Odisha 757045  Odisha  Mayurbhanj   \n",
       "4  AT-MUSAGADIA PO-PRUTHUNATHPUR PS-BADASAHI, Bar...  Odisha  Mayurbhanj   \n",
       "\n",
       "         block  ... date_of_application application_status  \\\n",
       "0       Remuna  ...          2022-09-27           Accepted   \n",
       "1  Rangeilunda  ...          2024-06-07           Accepted   \n",
       "2  Mahakalpara  ...          2021-10-28           Accepted   \n",
       "3        Jamda  ...          2022-09-19           Accepted   \n",
       "4     Barasahi  ...          2022-09-26           Accepted   \n",
       "\n",
       "                                      aadhar_no       registration_number  \\\n",
       "0  +++X57uXWtBl2CXShdXspBkEN04SwlfjLg3pxhlrMzk=  HLbxStDn5fW4xFVBLZg3sg==   \n",
       "1  +++lu61811/AXG2JlovcI65FNVLDVzsT8PCv6ZTCOmI=  lwCnQAOESgTVKj3UITlj4Q==   \n",
       "2  ++/dqPiVrOKh1OufyQE3iBiWA6RGB8uHHooRAV1vLfE=  3QvQqg7cE+MG9pzZz0GLFQ==   \n",
       "3  ++/fqZMCdp/DbmNKtvU0cktDYZG2DMUAkEUyA4rP/u8=  2OBVo+4vy0wCAPRL37gEJQ==   \n",
       "4  ++075n6QEOWcU2f0jR6YCxMyvxlBRKR+26gJWkrcsiM=  AGwPGQW4zHfAyZpeNkIw1w==   \n",
       "\n",
       "                                           mark_data module  academic_year  \\\n",
       "0  [{\"ExamName\": \"10th Pass\", \"YearofPassing\": \"2...    ITI           2022   \n",
       "1  [{\"ExamName\": \"10th Pass\", \"YearofPassing\": \"2...    ITI           2024   \n",
       "2  [{\"ExamName\": \"10th Pass\", \"YearofPassing\": \"2...    ITI           2021   \n",
       "3  [{\"ExamName\": \"10th Pass\", \"YearofPassing\": \"2...    ITI           2022   \n",
       "4  [{\"ExamName\": \"10th Pass\", \"YearofPassing\": \"2...    ITI           2022   \n",
       "\n",
       "                                     contact_no  \\\n",
       "0  Q3ZLNBqzYy5TAlYGOmLWLGC+qDvwN48L4/ReifWYxbE=   \n",
       "1  SauAOGOk6Knv1t0yT4qyCC/WGLjhWemyxzpzL6BfaTs=   \n",
       "2  YQLb/Kome43ubMUKkWsblz8+sFMdWP6rUTM0DjbOgoE=   \n",
       "3  f7X/DE2y10UdIYbj3+seSF15D186EfxMcEQYXmPq2z4=   \n",
       "4  XvR9zjgbKtZbPH/qBfBDv+hiQ9QtWnpcbVCA0ZbqCPQ=   \n",
       "\n",
       "                                         option_data  local  \n",
       "0                                                 []   True  \n",
       "1  [{\"Phase\": \"1\", \"Option_No\": \"1\", \"Institute_N...  False  \n",
       "2                                                 []   True  \n",
       "3                                                 []   True  \n",
       "4                                                 []   True  \n",
       "\n",
       "[5 rows x 46 columns]"
      ]
     },
     "execution_count": 7,
     "metadata": {},
     "output_type": "execute_result"
    }
   ],
   "source": [
    "iti_enrollments = load_data(datasets[\"iti_enrollments\"])\n",
    "iti_enrollments.head()"
   ]
  },
  {
   "cell_type": "code",
   "execution_count": null,
   "id": "3940d794",
   "metadata": {},
   "outputs": [],
   "source": [
    "iti_enrollments = load_data(datasets[\"iti_enrollments\"])\n",
    "iti_marks = load_data(datasets[\"iti_marks\"])\n",
    "iti_institutes_cutoffs = load_data(datasets[\"iti_institutes_cutoffs\"])\n",
    "iti_institutes_enrollments = load_data(datasets[\"iti_institutes_enrollments\"])\n",
    "iti_institutes_strength = load_data(datasets[\"iti_institutes_strength\"])\n",
    "diploma_enrollments = load_data(datasets[\"diploma_enrollments\"])\n",
    "diploma_marks = load_data(datasets[\"diploma_marks\"])\n",
    "diploma_institutes_enrollments = load_data(datasets[\"diploma_institutes_enrollments\"])\n",
    "diploma_institutes_strength = load_data(datasets[\"diploma_institutes_strength\"])"
   ]
  },
  {
   "cell_type": "code",
   "execution_count": 6,
   "id": "83d64156",
   "metadata": {},
   "outputs": [
    {
     "name": "stdout",
     "output_type": "stream",
     "text": [
      "\u001b[32m2025-09-25 11:42:18.055\u001b[0m | \u001b[1mINFO    \u001b[0m | \u001b[36msams.utils\u001b[0m:\u001b[36mload_data\u001b[0m:\u001b[36m75\u001b[0m - \u001b[1mLoading data from C:\\Users\\Admin\\Documents\\GitHub\\sams\\data\\interim\\deg_enrollments.pq\u001b[0m\n"
     ]
    }
   ],
   "source": [
    "# hss_enrollments = load_data(datasets[\"hss_enrollments\"])\n",
    "# hss_applications = load_data(datasets[\"hss_applications\"])\n",
    "# hss_marks = load_data(datasets[\"hss_marks\"])\n",
    "deg_enrollments = load_data(datasets[\"deg_enrollments\"])\n",
    "deg_applications = load_data(datasets[\"deg_applications\"])\n",
    "# deg_marks = load_data(datasets[\"deg_marks\"])"
   ]
  },
  {
   "cell_type": "code",
   "execution_count": 7,
   "id": "32b59856",
   "metadata": {},
   "outputs": [
    {
     "data": {
      "application/vnd.microsoft.datawrangler.viewer.v0+json": {
       "columns": [
        {
         "name": "index",
         "rawType": "int64",
         "type": "integer"
        },
        {
         "name": "id",
         "rawType": "int64",
         "type": "integer"
        },
        {
         "name": "barcode",
         "rawType": "object",
         "type": "string"
        },
        {
         "name": "student_name",
         "rawType": "object",
         "type": "string"
        },
        {
         "name": "gender",
         "rawType": "object",
         "type": "string"
        },
        {
         "name": "religion_name",
         "rawType": "object",
         "type": "string"
        },
        {
         "name": "dob",
         "rawType": "object",
         "type": "unknown"
        },
        {
         "name": "annual_income",
         "rawType": "object",
         "type": "string"
        },
        {
         "name": "address",
         "rawType": "object",
         "type": "string"
        },
        {
         "name": "state",
         "rawType": "object",
         "type": "string"
        },
        {
         "name": "district",
         "rawType": "object",
         "type": "string"
        },
        {
         "name": "block",
         "rawType": "object",
         "type": "string"
        },
        {
         "name": "pin_code",
         "rawType": "object",
         "type": "string"
        },
        {
         "name": "social_category",
         "rawType": "object",
         "type": "string"
        },
        {
         "name": "board_exam_name_for_highest_qualification",
         "rawType": "object",
         "type": "string"
        },
        {
         "name": "highest_qualification",
         "rawType": "object",
         "type": "string"
        },
        {
         "name": "ph",
         "rawType": "bool",
         "type": "boolean"
        },
        {
         "name": "es",
         "rawType": "bool",
         "type": "boolean"
        },
        {
         "name": "sports",
         "rawType": "bool",
         "type": "boolean"
        },
        {
         "name": "orphan",
         "rawType": "bool",
         "type": "boolean"
        },
        {
         "name": "aadhar_no",
         "rawType": "object",
         "type": "unknown"
        },
        {
         "name": "module",
         "rawType": "object",
         "type": "string"
        },
        {
         "name": "academic_year",
         "rawType": "int64",
         "type": "integer"
        },
        {
         "name": "examination_board_of_the_highest_qualification",
         "rawType": "object",
         "type": "string"
        },
        {
         "name": "examination_type",
         "rawType": "object",
         "type": "string"
        },
        {
         "name": "year_of_passing",
         "rawType": "int32",
         "type": "integer"
        },
        {
         "name": "roll_no",
         "rawType": "object",
         "type": "string"
        },
        {
         "name": "total_marks",
         "rawType": "int32",
         "type": "integer"
        },
        {
         "name": "secured_marks",
         "rawType": "float64",
         "type": "float"
        },
        {
         "name": "percentage",
         "rawType": "float64",
         "type": "float"
        },
        {
         "name": "compartmental_status",
         "rawType": "bool",
         "type": "boolean"
        },
        {
         "name": "deg_option_details",
         "rawType": "object",
         "type": "string"
        },
        {
         "name": "deg_compartments",
         "rawType": "object",
         "type": "string"
        }
       ],
       "ref": "49a3e955-3dc9-4a42-a9b4-88e1bbdbe21b",
       "rows": [
        [
         "0",
         "198656",
         "18D246977",
         "QxzW5Jo+X/Zf2maafPCZ0e+2hUJcw65P2Wh+RCvZIFw=",
         "Male",
         "HINDUISM",
         "1994-02-27",
         "0 - 1,50,000",
         "AT/PO-BUDRUKIA ,PS-BALLIGUDA",
         "Odisha",
         "Kandhamal",
         "Balliguda",
         "762103",
         "ST",
         "Sri Jagannath Sanskrit Vishvavidyalaya, Puri, Odisha",
         "+2 UPASASTRI",
         "False",
         "False",
         "False",
         "False",
         "öyêä.5\bà¼-sv î½æâ¬)5¬\u001dù:r\tez8?xa",
         "DEG",
         "2018",
         "SJSV, Puri",
         "Annual",
         "2016",
         "M8VZxeRXyIyPuI4LtWKn/A==",
         "700",
         "323.0",
         "46.14",
         "False",
         "[{\"ReportedInstitute\": \"Netaji Subash Boss (Degree) College, Tumudibandha\", \"SAMSCode\": \"16099301\", \"Stream\": \"Arts\", \"Subject\": \"Education\", \"InstituteDistrict\": \"Kandhamal\", \"InstituteBlock\": \"Tumudibandha\", \"TypeofInstitute\": \"Non-Govt Aided (662 Categories)\", \"Phase\": \"1\", \"Year\": \"2018\", \"AdmissionStatus\": \"TC TAKEN\", \"OptionNo\": \"1\"}, {\"ReportedInstitute\": \"Netaji Subash Boss (Degree) College, Tumudibandha\", \"SAMSCode\": \"16099301\", \"Stream\": \"Arts\", \"Subject\": \"Political Science\", \"InstituteDistrict\": \"Kandhamal\", \"InstituteBlock\": \"Tumudibandha\", \"TypeofInstitute\": \"Non-Govt Aided (662 Categories)\", \"Phase\": \"1\", \"Year\": \"2018\", \"AdmissionStatus\": \"NOT SELECTED\", \"OptionNo\": \"2\"}, {\"ReportedInstitute\": \"Netaji Subash Boss (Degree) College, Tumudibandha\", \"SAMSCode\": \"16099301\", \"Stream\": \"Arts\", \"Subject\": \"Odia\", \"InstituteDistrict\": \"Kandhamal\", \"InstituteBlock\": \"Tumudibandha\", \"TypeofInstitute\": \"Non-Govt Aided (662 Categories)\", \"Phase\": \"1\", \"Year\": \"2018\", \"AdmissionStatus\": \"NOT SELECTED\", \"OptionNo\": \"3\"}, {\"ReportedInstitute\": \"Adivasi Degree College, Balliguda\", \"SAMSCode\": \"16012302\", \"Stream\": \"Arts\", \"Subject\": \"Odia\", \"InstituteDistrict\": \"Kandhamal\", \"InstituteBlock\": \"Balliguda\", \"TypeofInstitute\": \"Non-Govt Aided (488 Categories)\", \"Phase\": \"1\", \"Year\": \"2018\", \"AdmissionStatus\": \"NOT SELECTED\", \"OptionNo\": \"4\"}, {\"ReportedInstitute\": \"Adivasi Degree College, Balliguda\", \"SAMSCode\": \"16012302\", \"Stream\": \"Arts\", \"Subject\": \"Political Science\", \"InstituteDistrict\": \"Kandhamal\", \"InstituteBlock\": \"Balliguda\", \"TypeofInstitute\": \"Non-Govt Aided (488 Categories)\", \"Phase\": \"1\", \"Year\": \"2018\", \"AdmissionStatus\": \"NOT SELECTED\", \"OptionNo\": \"5\"}, {\"ReportedInstitute\": \"Adivasi Degree College, Balliguda\", \"SAMSCode\": \"16012302\", \"Stream\": \"Arts\", \"Subject\": \"History\", \"InstituteDistrict\": \"Kandhamal\", \"InstituteBlock\": \"Balliguda\", \"TypeofInstitute\": \"Non-Govt Aided (488 Categories)\", \"Phase\": \"1\", \"Year\": \"2018\", \"AdmissionStatus\": \"NOT SELECTED\", \"OptionNo\": \"6\"}, {\"ReportedInstitute\": \"Santh Asharamji Bapu Degree College, Kotagarh\", \"SAMSCode\": \"16063301\", \"Stream\": \"Arts\", \"Subject\": \"Education\", \"InstituteDistrict\": \"Kandhamal\", \"InstituteBlock\": \"Kotaghar\", \"TypeofInstitute\": \"Unaided\", \"Phase\": \"1\", \"Year\": \"2018\", \"AdmissionStatus\": \"NOT SELECTED\", \"OptionNo\": \"7\"}, {\"ReportedInstitute\": \"Santh Asharamji Bapu Degree College, Kotagarh\", \"SAMSCode\": \"16063301\", \"Stream\": \"Arts\", \"Subject\": \"Political Science\", \"InstituteDistrict\": \"Kandhamal\", \"InstituteBlock\": \"Kotaghar\", \"TypeofInstitute\": \"Unaided\", \"Phase\": \"1\", \"Year\": \"2018\", \"AdmissionStatus\": \"NOT SELECTED\", \"OptionNo\": \"8\"}, {\"ReportedInstitute\": \"Santh Asharamji Bapu Degree College, Kotagarh\", \"SAMSCode\": \"16063301\", \"Stream\": \"Arts\", \"Subject\": \"Odia\", \"InstituteDistrict\": \"Kandhamal\", \"InstituteBlock\": \"Kotaghar\", \"TypeofInstitute\": \"Unaided\", \"Phase\": \"1\", \"Year\": \"2018\", \"AdmissionStatus\": \"NOT SELECTED\", \"OptionNo\": \"9\"}, {\"ReportedInstitute\": \"Kandhamal (Degree) Mahavidyalaya, Sarangagada\", \"SAMSCode\": \"16059301\", \"Stream\": \"Arts\", \"Subject\": \"Political Science\", \"InstituteDistrict\": \"Kandhamal\", \"InstituteBlock\": \"K.Nuagam\", \"TypeofInstitute\": \"Non-Govt Aided (662 Categories)\", \"Phase\": \"1\", \"Year\": \"2018\", \"AdmissionStatus\": \"NOT SELECTED\", \"OptionNo\": \"10\"}, {\"ReportedInstitute\": \"Kandhamal (Degree) Mahavidyalaya, Sarangagada\", \"SAMSCode\": \"16059301\", \"Stream\": \"Arts\", \"Subject\": \"Odia\", \"InstituteDistrict\": \"Kandhamal\", \"InstituteBlock\": \"K.Nuagam\", \"TypeofInstitute\": \"Non-Govt Aided (662 Categories)\", \"Phase\": \"1\", \"Year\": \"2018\", \"AdmissionStatus\": \"NOT SELECTED\", \"OptionNo\": \"11\"}, {\"ReportedInstitute\": \"Kandhamal (Degree) Mahavidyalaya, Sarangagada\", \"SAMSCode\": \"16059301\", \"Stream\": \"Arts\", \"Subject\": \"History\", \"InstituteDistrict\": \"Kandhamal\", \"InstituteBlock\": \"K.Nuagam\", \"TypeofInstitute\": \"Non-Govt Aided (662 Categories)\", \"Phase\": \"1\", \"Year\": \"2018\", \"AdmissionStatus\": \"NOT SELECTED\", \"OptionNo\": \"12\"}, {\"ReportedInstitute\": \"Panchyat (Degree) College, Phiringa\", \"SAMSCode\": \"16129301\", \"Stream\": \"Arts\", \"Subject\": \"Odia\", \"InstituteDistrict\": \"Kandhamal\", \"InstituteBlock\": \"Phiringia\", \"TypeofInstitute\": \"Non-Govt Aided (662 Categories)\", \"Phase\": \"1\", \"Year\": \"2018\", \"AdmissionStatus\": \"NOT SELECTED\", \"OptionNo\": \"13\"}, {\"ReportedInstitute\": \"Panchyat (Degree) College, Phiringa\", \"SAMSCode\": \"16129301\", \"Stream\": \"Arts\", \"Subject\": \"Political Science\", \"InstituteDistrict\": \"Kandhamal\", \"InstituteBlock\": \"Phiringia\", \"TypeofInstitute\": \"Non-Govt Aided (662 Categories)\", \"Phase\": \"1\", \"Year\": \"2018\", \"AdmissionStatus\": \"NOT SELECTED\", \"OptionNo\": \"14\"}, {\"ReportedInstitute\": \"Panchyat (Degree) College, Phiringa\", \"SAMSCode\": \"16129301\", \"Stream\": \"Arts\", \"Subject\": \"History\", \"InstituteDistrict\": \"Kandhamal\", \"InstituteBlock\": \"Phiringia\", \"TypeofInstitute\": \"Non-Govt Aided (662 Categories)\", \"Phase\": \"1\", \"Year\": \"2018\", \"AdmissionStatus\": \"NOT SELECTED\", \"OptionNo\": \"15\"}]",
         "[]"
        ],
        [
         "1",
         "198657",
         "18D246978",
         "Q30f0+9L/yUP0Ta2z7lyYl2IIrU10xthZ0mdmSoRf7o=",
         "Female",
         "HINDUISM",
         "2001-03-10",
         "0 - 1,50,000",
         "AT-BADASINGHA PO-UDRANG PS-BINJHARPUR VIA-RAMBAG",
         "Odisha",
         "Jajpur",
         "Binjharpur",
         "755014",
         "GEN",
         "Council of Higher Secondary Education, Odisha",
         "+2 SCIENCE",
         "False",
         "False",
         "False",
         "False",
         null,
         "DEG",
         "2018",
         "CHSE, Odisha",
         "Annual",
         "2018",
         "TfjyLxhLZH0Ko9SAmjJ6WQ==",
         "600",
         "322.0",
         "53.67",
         "False",
         "[{\"ReportedInstitute\": \"Chitalo (Degree) Mahavidyalaya, Chitalo\", \"SAMSCode\": \"13059302\", \"Stream\": \"Biological Science\", \"Subject\": \"Botany\", \"InstituteDistrict\": \"Jajpur\", \"InstituteBlock\": \"Dasarathpur\", \"TypeofInstitute\": \"Non-Govt Aided (662 Categories)\", \"Phase\": \"1\", \"Year\": \"2018\", \"AdmissionStatus\": \"TC TAKEN\", \"OptionNo\": \"1\"}, {\"ReportedInstitute\": \"Junabhadra (Degree) College, Bitana\", \"SAMSCode\": \"13032305\", \"Stream\": \"Biological Science\", \"Subject\": \"Botany\", \"InstituteDistrict\": \"Jajpur\", \"InstituteBlock\": \"Binjharpur\", \"TypeofInstitute\": \"Non-Govt Aided (488 Categories)\", \"Phase\": \"1\", \"Year\": \"2018\", \"AdmissionStatus\": \"NOT SELECTED\", \"OptionNo\": \"2\"}, {\"ReportedInstitute\": \"Baruneswar (Degree) Mahavidyalaya, Arei\", \"SAMSCode\": \"13032306\", \"Stream\": \"Biological Science\", \"Subject\": \"Botany\", \"InstituteDistrict\": \"Jajpur\", \"InstituteBlock\": \"Binjharpur\", \"TypeofInstitute\": \"Non-Govt Aided (488 Categories)\", \"Phase\": \"1\", \"Year\": \"2018\", \"AdmissionStatus\": \"NOT SELECTED\", \"OptionNo\": \"3\"}, {\"ReportedInstitute\": \"Regional (Degree) College, Rambag\", \"SAMSCode\": \"13059301\", \"Stream\": \"Biological Science\", \"Subject\": \"Botany\", \"InstituteDistrict\": \"Jajpur\", \"InstituteBlock\": \"Dasarathpur\", \"TypeofInstitute\": \"Non-Govt Aided (662 Categories)\", \"Phase\": \"1\", \"Year\": \"2018\", \"AdmissionStatus\": \"NOT SELECTED\", \"OptionNo\": \"4\"}, {\"ReportedInstitute\": \"Sadhu Goureswar (Degree) College, Kanikapada\", \"SAMSCode\": \"13052304\", \"Stream\": \"Biological Science\", \"Subject\": \"Botany\", \"InstituteDistrict\": \"Jajpur\", \"InstituteBlock\": \"Dasarathpur\", \"TypeofInstitute\": \"Non-Govt Aided (488 Categories)\", \"Phase\": \"1\", \"Year\": \"2018\", \"AdmissionStatus\": \"NOT SELECTED\", \"OptionNo\": \"5\"}]",
         "[]"
        ],
        [
         "2",
         "198658",
         "18D246979",
         "X6jApt4TpAkjgCK0CjRnLAR4fB7lMWSqb2sFepEVfyI=",
         "Female",
         "HINDUISM",
         "2001-02-28",
         "0 - 1,50,000",
         "AT/PO-SIALIA, KABISURYANAGAR",
         "Odisha",
         "Ganjam",
         "Kabisuryanagar",
         "761104",
         "OBC",
         "Council of Higher Secondary Education, Odisha",
         "+2 ARTS",
         "False",
         "False",
         "False",
         "False",
         "?b\u0006´äá”¿o_/õ6v¥‚g¬^2\u0012fpxè—b§õº}",
         "DEG",
         "2018",
         "CHSE, Odisha",
         "Annual",
         "2018",
         "x3AbAM4mn7b3N9eQdvESoQ==",
         "600",
         "354.0",
         "59.0",
         "False",
         "[{\"ReportedInstitute\": \"Kabisurya Baladev Vigyan (Degree) Mahavidyalaya, Kabisuryanagar\", \"SAMSCode\": \"11352301\", \"Stream\": \"Arts\", \"Subject\": \"History\", \"InstituteDistrict\": \"Ganjam\", \"InstituteBlock\": \"Kabisuryanagar (NAC)\", \"TypeofInstitute\": \"Non-Govt Aided (488 Categories)\", \"Phase\": \"1\", \"Year\": \"2018\", \"AdmissionStatus\": \"ADMITTED\", \"OptionNo\": \"1\"}, {\"ReportedInstitute\": \"Kabisurya Baladev Vigyan (Degree) Mahavidyalaya, Kabisuryanagar\", \"SAMSCode\": \"11352301\", \"Stream\": \"Arts\", \"Subject\": \"Political Science\", \"InstituteDistrict\": \"Ganjam\", \"InstituteBlock\": \"Kabisuryanagar (NAC)\", \"TypeofInstitute\": \"Non-Govt Aided (488 Categories)\", \"Phase\": \"1\", \"Year\": \"2018\", \"AdmissionStatus\": \"NOT SELECTED\", \"OptionNo\": \"2\"}, {\"ReportedInstitute\": \"Kabisurya Baladev Vigyan (Degree) Mahavidyalaya, Kabisuryanagar\", \"SAMSCode\": \"11352301\", \"Stream\": \"Arts\", \"Subject\": \"Odia\", \"InstituteDistrict\": \"Ganjam\", \"InstituteBlock\": \"Kabisuryanagar (NAC)\", \"TypeofInstitute\": \"Non-Govt Aided (488 Categories)\", \"Phase\": \"1\", \"Year\": \"2018\", \"AdmissionStatus\": \"NOT SELECTED\", \"OptionNo\": \"3\"}, {\"ReportedInstitute\": \"Kabisurya Baladev Vigyan (Degree) Mahavidyalaya, Kabisuryanagar\", \"SAMSCode\": \"11352301\", \"Stream\": \"Arts\", \"Subject\": \"Education\", \"InstituteDistrict\": \"Ganjam\", \"InstituteBlock\": \"Kabisuryanagar (NAC)\", \"TypeofInstitute\": \"Non-Govt Aided (488 Categories)\", \"Phase\": \"1\", \"Year\": \"2018\", \"AdmissionStatus\": \"NOT SELECTED\", \"OptionNo\": \"4\"}, {\"ReportedInstitute\": \"Aska Science (Degree) College, Aska\", \"SAMSCode\": \"11112303\", \"Stream\": \"Arts\", \"Subject\": \"History\", \"InstituteDistrict\": \"Ganjam\", \"InstituteBlock\": \"Aska\", \"TypeofInstitute\": \"Non-Govt Aided (488 Categories)\", \"Phase\": \"1\", \"Year\": \"2018\", \"AdmissionStatus\": \"NOT SELECTED\", \"OptionNo\": \"5\"}, {\"ReportedInstitute\": \"Aska Science (Degree) College, Aska\", \"SAMSCode\": \"11112303\", \"Stream\": \"Arts\", \"Subject\": \"Political Science\", \"InstituteDistrict\": \"Ganjam\", \"InstituteBlock\": \"Aska\", \"TypeofInstitute\": \"Non-Govt Aided (488 Categories)\", \"Phase\": \"1\", \"Year\": \"2018\", \"AdmissionStatus\": \"NOT SELECTED\", \"OptionNo\": \"6\"}, {\"ReportedInstitute\": \"Aska Science (Degree) College, Aska\", \"SAMSCode\": \"11112303\", \"Stream\": \"Arts\", \"Subject\": \"Odia\", \"InstituteDistrict\": \"Ganjam\", \"InstituteBlock\": \"Aska\", \"TypeofInstitute\": \"Non-Govt Aided (488 Categories)\", \"Phase\": \"1\", \"Year\": \"2018\", \"AdmissionStatus\": \"NOT SELECTED\", \"OptionNo\": \"7\"}, {\"ReportedInstitute\": \"Gangadhar Sahu Science Degree College, Hatiota\", \"SAMSCode\": \"11303301\", \"Stream\": \"Arts\", \"Subject\": \"Education\", \"InstituteDistrict\": \"Ganjam\", \"InstituteBlock\": \"Polasara\", \"TypeofInstitute\": \"Unaided\", \"Phase\": \"1\", \"Year\": \"2018\", \"AdmissionStatus\": \"NOT SELECTED\", \"OptionNo\": \"8\"}, {\"ReportedInstitute\": \"Gangadhar Sahu Science Degree College, Hatiota\", \"SAMSCode\": \"11303301\", \"Stream\": \"Arts\", \"Subject\": \"History\", \"InstituteDistrict\": \"Ganjam\", \"InstituteBlock\": \"Polasara\", \"TypeofInstitute\": \"Unaided\", \"Phase\": \"1\", \"Year\": \"2018\", \"AdmissionStatus\": \"NOT SELECTED\", \"OptionNo\": \"9\"}, {\"ReportedInstitute\": \"Gangadhar Sahu Science Degree College, Hatiota\", \"SAMSCode\": \"11303301\", \"Stream\": \"Arts\", \"Subject\": \"Political Science\", \"InstituteDistrict\": \"Ganjam\", \"InstituteBlock\": \"Polasara\", \"TypeofInstitute\": \"Unaided\", \"Phase\": \"1\", \"Year\": \"2018\", \"AdmissionStatus\": \"NOT SELECTED\", \"OptionNo\": \"10\"}, {\"ReportedInstitute\": \"Polasara Science Degree College, Polasara\", \"SAMSCode\": \"11382301\", \"Stream\": \"Arts\", \"Subject\": \"Education\", \"InstituteDistrict\": \"Ganjam\", \"InstituteBlock\": \"Polasara (NAC)\", \"TypeofInstitute\": \"Non-Govt Aided (488 Categories)\", \"Phase\": \"1\", \"Year\": \"2018\", \"AdmissionStatus\": \"NOT SELECTED\", \"OptionNo\": \"11\"}, {\"ReportedInstitute\": \"Polasara Science Degree College, Polasara\", \"SAMSCode\": \"11382301\", \"Stream\": \"Arts\", \"Subject\": \"History\", \"InstituteDistrict\": \"Ganjam\", \"InstituteBlock\": \"Polasara (NAC)\", \"TypeofInstitute\": \"Non-Govt Aided (488 Categories)\", \"Phase\": \"1\", \"Year\": \"2018\", \"AdmissionStatus\": \"NOT SELECTED\", \"OptionNo\": \"12\"}, {\"ReportedInstitute\": \"Polasara Science Degree College, Polasara\", \"SAMSCode\": \"11382301\", \"Stream\": \"Arts\", \"Subject\": \"Political Science\", \"InstituteDistrict\": \"Ganjam\", \"InstituteBlock\": \"Polasara (NAC)\", \"TypeofInstitute\": \"Non-Govt Aided (488 Categories)\", \"Phase\": \"1\", \"Year\": \"2018\", \"AdmissionStatus\": \"NOT SELECTED\", \"OptionNo\": \"13\"}, {\"ReportedInstitute\": \"Polasara Science Degree College, Polasara\", \"SAMSCode\": \"11382301\", \"Stream\": \"Arts\", \"Subject\": \"Odia\", \"InstituteDistrict\": \"Ganjam\", \"InstituteBlock\": \"Polasara (NAC)\", \"TypeofInstitute\": \"Non-Govt Aided (488 Categories)\", \"Phase\": \"1\", \"Year\": \"2018\", \"AdmissionStatus\": \"NOT SELECTED\", \"OptionNo\": \"14\"}]",
         "[]"
        ],
        [
         "3",
         "198659",
         "18D246980",
         "gvDK6u8MFeccwePZWkV7aSf1D0lp68D7lbre2LLg8pk=",
         "Female",
         "HINDUISM",
         "2000-10-04",
         "0 - 1,50,000",
         "AT- KULAPOHAL\r\nPO- UTTARAN\r\nPS- GOVINDPUR",
         "Odisha",
         "Cuttack",
         "Kantapara",
         "754105",
         "SC",
         "Council of Higher Secondary Education, Odisha",
         "+2 ARTS",
         "False",
         "False",
         "False",
         "False",
         "’¸\u001cï[â\u0010û\u0002\u001f\u001aìø;hýçî…ìÿ{ü€üsyj4\u0007¡",
         "DEG",
         "2018",
         "CHSE, Odisha",
         "Annual",
         "2018",
         "vlgnD7V9eONUKevYt2ElzQ==",
         "600",
         "220.0",
         "36.67",
         "False",
         "[{\"ReportedInstitute\": \"Udayanath (Autonomous) College of Science & Technology, Adaspur\", \"SAMSCode\": \"07119901\", \"Stream\": \"Arts\", \"Subject\": \"Philosophy\", \"InstituteDistrict\": \"Cuttack\", \"InstituteBlock\": \"Kantapara\", \"TypeofInstitute\": \"Non-Govt Aided (662 Categories)\", \"Phase\": \"1\", \"Year\": \"2018\", \"AdmissionStatus\": \"SELECTED BUT NOT ADMITTED\", \"OptionNo\": \"1\"}, {\"ReportedInstitute\": \"Udayanath (Autonomous) College of Science & Technology, Adaspur\", \"SAMSCode\": \"07119901\", \"Stream\": \"Arts\", \"Subject\": \"Odia\", \"InstituteDistrict\": \"Cuttack\", \"InstituteBlock\": \"Kantapara\", \"TypeofInstitute\": \"Non-Govt Aided (662 Categories)\", \"Phase\": \"1\", \"Year\": \"2018\", \"AdmissionStatus\": \"NOT SELECTED\", \"OptionNo\": \"2\"}, {\"ReportedInstitute\": \"Udayanath (Autonomous) College of Science & Technology, Adaspur\", \"SAMSCode\": \"07119901\", \"Stream\": \"Arts\", \"Subject\": \"History\", \"InstituteDistrict\": \"Cuttack\", \"InstituteBlock\": \"Kantapara\", \"TypeofInstitute\": \"Non-Govt Aided (662 Categories)\", \"Phase\": \"1\", \"Year\": \"2018\", \"AdmissionStatus\": \"NOT SELECTED\", \"OptionNo\": \"3\"}, {\"ReportedInstitute\": \"Devi Kandal Nityananda (Degree) College, Eranch\", \"SAMSCode\": \"07132305\", \"Stream\": \"Arts\", \"Subject\": \"Odia\", \"InstituteDistrict\": \"Cuttack\", \"InstituteBlock\": \"Niali\", \"TypeofInstitute\": \"Non-Govt Aided (488 Categories)\", \"Phase\": \"1\", \"Year\": \"2018\", \"AdmissionStatus\": \"NOT SELECTED\", \"OptionNo\": \"4\"}, {\"ReportedInstitute\": \"Devi Kandal Nityananda (Degree) College, Eranch\", \"SAMSCode\": \"07132305\", \"Stream\": \"Arts\", \"Subject\": \"History\", \"InstituteDistrict\": \"Cuttack\", \"InstituteBlock\": \"Niali\", \"TypeofInstitute\": \"Non-Govt Aided (488 Categories)\", \"Phase\": \"1\", \"Year\": \"2018\", \"AdmissionStatus\": \"NOT SELECTED\", \"OptionNo\": \"5\"}, {\"ReportedInstitute\": \"Dola Govinda Braja Kishore (Degree) College, Kasarda\", \"SAMSCode\": \"07132306\", \"Stream\": \"Arts\", \"Subject\": \"Odia\", \"InstituteDistrict\": \"Cuttack\", \"InstituteBlock\": \"Niali\", \"TypeofInstitute\": \"Non-Govt Aided (488 Categories)\", \"Phase\": \"1\", \"Year\": \"2018\", \"AdmissionStatus\": \"NOT SELECTED\", \"OptionNo\": \"6\"}]",
         "[]"
        ],
        [
         "4",
         "198660",
         "18D246981",
         "MElaUB29yp2c79yNoETau+1w2Hc70wjtK6N4iP8lCkE=",
         "Male",
         "HINDUISM",
         "2000-01-17",
         "0 - 1,50,000",
         "AT/PO- BADARAMPALLI",
         "Odisha",
         "Ganjam",
         "Khallikote",
         "761019",
         "SC",
         "Council of Higher Secondary Education, Odisha",
         "+2 SCIENCE",
         "False",
         "False",
         "False",
         "False",
         " \u0007û¥\u001c\u000fª;7¶mwê‚•è¸\u0010%\na\tÿfp(pç\u0011lï",
         "DEG",
         "2018",
         "CHSE, Odisha",
         "Annual",
         "2017",
         "81DUuFzARvAydbE8I1/9Ww==",
         "600",
         "411.0",
         "68.5",
         "False",
         "[{\"ReportedInstitute\": \"Khallikote Unitary University, Berhampur\", \"SAMSCode\": \"11071905\", \"Stream\": \"Physical Science\", \"Subject\": \"Chemistry\", \"InstituteDistrict\": \"Ganjam\", \"InstituteBlock\": \"Berhampur (MC)\", \"TypeofInstitute\": \"Govt. (SME)\", \"Phase\": \"1\", \"Year\": \"2018\", \"AdmissionStatus\": \"NOT SELECTED\", \"OptionNo\": \"1\"}, {\"ReportedInstitute\": \"Khallikote Unitary University, Berhampur\", \"SAMSCode\": \"11071905\", \"Stream\": \"Biological Science\", \"Subject\": \"Zoology\", \"InstituteDistrict\": \"Ganjam\", \"InstituteBlock\": \"Berhampur (MC)\", \"TypeofInstitute\": \"Govt. (SME)\", \"Phase\": \"1\", \"Year\": \"2018\", \"AdmissionStatus\": \"TC TAKEN\", \"OptionNo\": \"2\"}, {\"ReportedInstitute\": \"Binayak Acharya  (Degree) College, Aska Road\", \"SAMSCode\": \"11071304\", \"Stream\": \"Physical Science\", \"Subject\": \"Chemistry\", \"InstituteDistrict\": \"Ganjam\", \"InstituteBlock\": \"Berhampur (MC)\", \"TypeofInstitute\": \"Govt. (SME)\", \"Phase\": \"1\", \"Year\": \"2018\", \"AdmissionStatus\": \"NOT SELECTED\", \"OptionNo\": \"3\"}, {\"ReportedInstitute\": \"Binayak Acharya  (Degree) College, Aska Road\", \"SAMSCode\": \"11071304\", \"Stream\": \"Biological Science\", \"Subject\": \"Botany\", \"InstituteDistrict\": \"Ganjam\", \"InstituteBlock\": \"Berhampur (MC)\", \"TypeofInstitute\": \"Govt. (SME)\", \"Phase\": \"1\", \"Year\": \"2018\", \"AdmissionStatus\": \"NOT SELECTED\", \"OptionNo\": \"4\"}, {\"ReportedInstitute\": \"City (Degree) College, Berhampur\", \"SAMSCode\": \"11072301\", \"Stream\": \"Physical Science\", \"Subject\": \"Chemistry\", \"InstituteDistrict\": \"Ganjam\", \"InstituteBlock\": \"Berhampur (MC)\", \"TypeofInstitute\": \"Non-Govt Aided (488 Categories)\", \"Phase\": \"1\", \"Year\": \"2018\", \"AdmissionStatus\": \"NOT SELECTED\", \"OptionNo\": \"5\"}, {\"ReportedInstitute\": \"Tara Tarini (Degree) College, Purusottampur\", \"SAMSCode\": \"11392302\", \"Stream\": \"Physical Science\", \"Subject\": \"Chemistry\", \"InstituteDistrict\": \"Ganjam\", \"InstituteBlock\": \"Purusotampur (NAC)\", \"TypeofInstitute\": \"Non-Govt Aided (488 Categories)\", \"Phase\": \"1\", \"Year\": \"2018\", \"AdmissionStatus\": \"NOT SELECTED\", \"OptionNo\": \"6\"}, {\"ReportedInstitute\": \"Khallikote Unitary University, Berhampur\", \"SAMSCode\": \"11071905\", \"Stream\": \"Biological Science\", \"Subject\": \"Botany\", \"InstituteDistrict\": \"Ganjam\", \"InstituteBlock\": \"Berhampur (MC)\", \"TypeofInstitute\": \"Govt. (SME)\", \"Phase\": \"1\", \"Year\": \"2018\", \"AdmissionStatus\": \"NOT SELECTED\", \"OptionNo\": \"7\"}]",
         "[]"
        ]
       ],
       "shape": {
        "columns": 32,
        "rows": 5
       }
      },
      "text/html": [
       "<div>\n",
       "<style scoped>\n",
       "    .dataframe tbody tr th:only-of-type {\n",
       "        vertical-align: middle;\n",
       "    }\n",
       "\n",
       "    .dataframe tbody tr th {\n",
       "        vertical-align: top;\n",
       "    }\n",
       "\n",
       "    .dataframe thead th {\n",
       "        text-align: right;\n",
       "    }\n",
       "</style>\n",
       "<table border=\"1\" class=\"dataframe\">\n",
       "  <thead>\n",
       "    <tr style=\"text-align: right;\">\n",
       "      <th></th>\n",
       "      <th>id</th>\n",
       "      <th>barcode</th>\n",
       "      <th>student_name</th>\n",
       "      <th>gender</th>\n",
       "      <th>religion_name</th>\n",
       "      <th>dob</th>\n",
       "      <th>annual_income</th>\n",
       "      <th>address</th>\n",
       "      <th>state</th>\n",
       "      <th>district</th>\n",
       "      <th>...</th>\n",
       "      <th>examination_board_of_the_highest_qualification</th>\n",
       "      <th>examination_type</th>\n",
       "      <th>year_of_passing</th>\n",
       "      <th>roll_no</th>\n",
       "      <th>total_marks</th>\n",
       "      <th>secured_marks</th>\n",
       "      <th>percentage</th>\n",
       "      <th>compartmental_status</th>\n",
       "      <th>deg_option_details</th>\n",
       "      <th>deg_compartments</th>\n",
       "    </tr>\n",
       "  </thead>\n",
       "  <tbody>\n",
       "    <tr>\n",
       "      <th>0</th>\n",
       "      <td>198656</td>\n",
       "      <td>18D246977</td>\n",
       "      <td>QxzW5Jo+X/Zf2maafPCZ0e+2hUJcw65P2Wh+RCvZIFw=</td>\n",
       "      <td>Male</td>\n",
       "      <td>HINDUISM</td>\n",
       "      <td>1994-02-27</td>\n",
       "      <td>0 - 1,50,000</td>\n",
       "      <td>AT/PO-BUDRUKIA ,PS-BALLIGUDA</td>\n",
       "      <td>Odisha</td>\n",
       "      <td>Kandhamal</td>\n",
       "      <td>...</td>\n",
       "      <td>SJSV, Puri</td>\n",
       "      <td>Annual</td>\n",
       "      <td>2016</td>\n",
       "      <td>M8VZxeRXyIyPuI4LtWKn/A==</td>\n",
       "      <td>700</td>\n",
       "      <td>323.0</td>\n",
       "      <td>46.14</td>\n",
       "      <td>False</td>\n",
       "      <td>[{\"ReportedInstitute\": \"Netaji Subash Boss (De...</td>\n",
       "      <td>[]</td>\n",
       "    </tr>\n",
       "    <tr>\n",
       "      <th>1</th>\n",
       "      <td>198657</td>\n",
       "      <td>18D246978</td>\n",
       "      <td>Q30f0+9L/yUP0Ta2z7lyYl2IIrU10xthZ0mdmSoRf7o=</td>\n",
       "      <td>Female</td>\n",
       "      <td>HINDUISM</td>\n",
       "      <td>2001-03-10</td>\n",
       "      <td>0 - 1,50,000</td>\n",
       "      <td>AT-BADASINGHA PO-UDRANG PS-BINJHARPUR VIA-RAMBAG</td>\n",
       "      <td>Odisha</td>\n",
       "      <td>Jajpur</td>\n",
       "      <td>...</td>\n",
       "      <td>CHSE, Odisha</td>\n",
       "      <td>Annual</td>\n",
       "      <td>2018</td>\n",
       "      <td>TfjyLxhLZH0Ko9SAmjJ6WQ==</td>\n",
       "      <td>600</td>\n",
       "      <td>322.0</td>\n",
       "      <td>53.67</td>\n",
       "      <td>False</td>\n",
       "      <td>[{\"ReportedInstitute\": \"Chitalo (Degree) Mahav...</td>\n",
       "      <td>[]</td>\n",
       "    </tr>\n",
       "    <tr>\n",
       "      <th>2</th>\n",
       "      <td>198658</td>\n",
       "      <td>18D246979</td>\n",
       "      <td>X6jApt4TpAkjgCK0CjRnLAR4fB7lMWSqb2sFepEVfyI=</td>\n",
       "      <td>Female</td>\n",
       "      <td>HINDUISM</td>\n",
       "      <td>2001-02-28</td>\n",
       "      <td>0 - 1,50,000</td>\n",
       "      <td>AT/PO-SIALIA, KABISURYANAGAR</td>\n",
       "      <td>Odisha</td>\n",
       "      <td>Ganjam</td>\n",
       "      <td>...</td>\n",
       "      <td>CHSE, Odisha</td>\n",
       "      <td>Annual</td>\n",
       "      <td>2018</td>\n",
       "      <td>x3AbAM4mn7b3N9eQdvESoQ==</td>\n",
       "      <td>600</td>\n",
       "      <td>354.0</td>\n",
       "      <td>59.00</td>\n",
       "      <td>False</td>\n",
       "      <td>[{\"ReportedInstitute\": \"Kabisurya Baladev Vigy...</td>\n",
       "      <td>[]</td>\n",
       "    </tr>\n",
       "    <tr>\n",
       "      <th>3</th>\n",
       "      <td>198659</td>\n",
       "      <td>18D246980</td>\n",
       "      <td>gvDK6u8MFeccwePZWkV7aSf1D0lp68D7lbre2LLg8pk=</td>\n",
       "      <td>Female</td>\n",
       "      <td>HINDUISM</td>\n",
       "      <td>2000-10-04</td>\n",
       "      <td>0 - 1,50,000</td>\n",
       "      <td>AT- KULAPOHAL\\r\\nPO- UTTARAN\\r\\nPS- GOVINDPUR</td>\n",
       "      <td>Odisha</td>\n",
       "      <td>Cuttack</td>\n",
       "      <td>...</td>\n",
       "      <td>CHSE, Odisha</td>\n",
       "      <td>Annual</td>\n",
       "      <td>2018</td>\n",
       "      <td>vlgnD7V9eONUKevYt2ElzQ==</td>\n",
       "      <td>600</td>\n",
       "      <td>220.0</td>\n",
       "      <td>36.67</td>\n",
       "      <td>False</td>\n",
       "      <td>[{\"ReportedInstitute\": \"Udayanath (Autonomous)...</td>\n",
       "      <td>[]</td>\n",
       "    </tr>\n",
       "    <tr>\n",
       "      <th>4</th>\n",
       "      <td>198660</td>\n",
       "      <td>18D246981</td>\n",
       "      <td>MElaUB29yp2c79yNoETau+1w2Hc70wjtK6N4iP8lCkE=</td>\n",
       "      <td>Male</td>\n",
       "      <td>HINDUISM</td>\n",
       "      <td>2000-01-17</td>\n",
       "      <td>0 - 1,50,000</td>\n",
       "      <td>AT/PO- BADARAMPALLI</td>\n",
       "      <td>Odisha</td>\n",
       "      <td>Ganjam</td>\n",
       "      <td>...</td>\n",
       "      <td>CHSE, Odisha</td>\n",
       "      <td>Annual</td>\n",
       "      <td>2017</td>\n",
       "      <td>81DUuFzARvAydbE8I1/9Ww==</td>\n",
       "      <td>600</td>\n",
       "      <td>411.0</td>\n",
       "      <td>68.50</td>\n",
       "      <td>False</td>\n",
       "      <td>[{\"ReportedInstitute\": \"Khallikote Unitary Uni...</td>\n",
       "      <td>[]</td>\n",
       "    </tr>\n",
       "  </tbody>\n",
       "</table>\n",
       "<p>5 rows × 32 columns</p>\n",
       "</div>"
      ],
      "text/plain": [
       "       id    barcode                                  student_name  gender  \\\n",
       "0  198656  18D246977  QxzW5Jo+X/Zf2maafPCZ0e+2hUJcw65P2Wh+RCvZIFw=    Male   \n",
       "1  198657  18D246978  Q30f0+9L/yUP0Ta2z7lyYl2IIrU10xthZ0mdmSoRf7o=  Female   \n",
       "2  198658  18D246979  X6jApt4TpAkjgCK0CjRnLAR4fB7lMWSqb2sFepEVfyI=  Female   \n",
       "3  198659  18D246980  gvDK6u8MFeccwePZWkV7aSf1D0lp68D7lbre2LLg8pk=  Female   \n",
       "4  198660  18D246981  MElaUB29yp2c79yNoETau+1w2Hc70wjtK6N4iP8lCkE=    Male   \n",
       "\n",
       "  religion_name         dob annual_income  \\\n",
       "0      HINDUISM  1994-02-27  0 - 1,50,000   \n",
       "1      HINDUISM  2001-03-10  0 - 1,50,000   \n",
       "2      HINDUISM  2001-02-28  0 - 1,50,000   \n",
       "3      HINDUISM  2000-10-04  0 - 1,50,000   \n",
       "4      HINDUISM  2000-01-17  0 - 1,50,000   \n",
       "\n",
       "                                            address   state   district  ...  \\\n",
       "0                      AT/PO-BUDRUKIA ,PS-BALLIGUDA  Odisha  Kandhamal  ...   \n",
       "1  AT-BADASINGHA PO-UDRANG PS-BINJHARPUR VIA-RAMBAG  Odisha     Jajpur  ...   \n",
       "2                      AT/PO-SIALIA, KABISURYANAGAR  Odisha     Ganjam  ...   \n",
       "3     AT- KULAPOHAL\\r\\nPO- UTTARAN\\r\\nPS- GOVINDPUR  Odisha    Cuttack  ...   \n",
       "4                               AT/PO- BADARAMPALLI  Odisha     Ganjam  ...   \n",
       "\n",
       "  examination_board_of_the_highest_qualification examination_type  \\\n",
       "0                                     SJSV, Puri           Annual   \n",
       "1                                   CHSE, Odisha           Annual   \n",
       "2                                   CHSE, Odisha           Annual   \n",
       "3                                   CHSE, Odisha           Annual   \n",
       "4                                   CHSE, Odisha           Annual   \n",
       "\n",
       "  year_of_passing                   roll_no total_marks  secured_marks  \\\n",
       "0            2016  M8VZxeRXyIyPuI4LtWKn/A==         700          323.0   \n",
       "1            2018  TfjyLxhLZH0Ko9SAmjJ6WQ==         600          322.0   \n",
       "2            2018  x3AbAM4mn7b3N9eQdvESoQ==         600          354.0   \n",
       "3            2018  vlgnD7V9eONUKevYt2ElzQ==         600          220.0   \n",
       "4            2017  81DUuFzARvAydbE8I1/9Ww==         600          411.0   \n",
       "\n",
       "   percentage  compartmental_status  \\\n",
       "0       46.14                 False   \n",
       "1       53.67                 False   \n",
       "2       59.00                 False   \n",
       "3       36.67                 False   \n",
       "4       68.50                 False   \n",
       "\n",
       "                                  deg_option_details deg_compartments  \n",
       "0  [{\"ReportedInstitute\": \"Netaji Subash Boss (De...               []  \n",
       "1  [{\"ReportedInstitute\": \"Chitalo (Degree) Mahav...               []  \n",
       "2  [{\"ReportedInstitute\": \"Kabisurya Baladev Vigy...               []  \n",
       "3  [{\"ReportedInstitute\": \"Udayanath (Autonomous)...               []  \n",
       "4  [{\"ReportedInstitute\": \"Khallikote Unitary Uni...               []  \n",
       "\n",
       "[5 rows x 32 columns]"
      ]
     },
     "execution_count": 7,
     "metadata": {},
     "output_type": "execute_result"
    }
   ],
   "source": [
    "deg_enrollments.head()"
   ]
  },
  {
   "cell_type": "code",
   "execution_count": 3,
   "id": "96263b9d",
   "metadata": {},
   "outputs": [
    {
     "data": {
      "application/vnd.microsoft.datawrangler.viewer.v0+json": {
       "columns": [
        {
         "name": "index",
         "rawType": "int64",
         "type": "integer"
        },
        {
         "name": "aadhar_no",
         "rawType": "object",
         "type": "unknown"
        },
        {
         "name": "academic_year",
         "rawType": "int64",
         "type": "integer"
        },
        {
         "name": "barcode",
         "rawType": "object",
         "type": "string"
        },
        {
         "name": "option_no",
         "rawType": "float64",
         "type": "float"
        },
        {
         "name": "stream",
         "rawType": "object",
         "type": "string"
        },
        {
         "name": "subject",
         "rawType": "object",
         "type": "string"
        },
        {
         "name": "admission_status",
         "rawType": "object",
         "type": "string"
        },
        {
         "name": "reported_institute",
         "rawType": "object",
         "type": "string"
        },
        {
         "name": "sams_code",
         "rawType": "object",
         "type": "string"
        },
        {
         "name": "institute_district",
         "rawType": "object",
         "type": "string"
        },
        {
         "name": "institute_block",
         "rawType": "object",
         "type": "string"
        },
        {
         "name": "type_of_institute",
         "rawType": "object",
         "type": "string"
        },
        {
         "name": "year",
         "rawType": "object",
         "type": "string"
        },
        {
         "name": "phase",
         "rawType": "object",
         "type": "string"
        },
        {
         "name": "num_applications",
         "rawType": "int64",
         "type": "integer"
        }
       ],
       "ref": "730c625b-117b-403e-a49d-9db5074ad8b8",
       "rows": [
        [
         "0",
         null,
         "2018",
         "18D000109",
         "2.0",
         "Physical Science",
         "Computer Science",
         "TC TAKEN",
         "Chitalo (Degree) Mahavidyalaya, Chitalo",
         "13059302",
         "Jajpur",
         "Dasarathpur",
         "Non-Govt Aided (662 Categories)",
         "2018",
         "1",
         "5"
        ],
        [
         "1",
         null,
         "2018",
         "18D000109",
         "3.0",
         "Physical Science",
         "Mathematics",
         "NOT SELECTED",
         "Baruneswar (Degree) Mahavidyalaya, Arei",
         "13032306",
         "Jajpur",
         "Binjharpur",
         "Non-Govt Aided (488 Categories)",
         "2018",
         "1",
         "5"
        ],
        [
         "2",
         null,
         "2018",
         "18D000109",
         "4.0",
         "Physical Science",
         "Physics",
         "NOT SELECTED",
         "Upendranath Sarada (Degree) Mahavidyalaya, Mugapal",
         "13092305",
         "Jajpur",
         "Rasulpur",
         "Non-Govt Aided (488 Categories)",
         "2018",
         "1",
         "5"
        ],
        [
         "3",
         null,
         "2018",
         "18D000109",
         "5.0",
         "Physical Science",
         "Mathematics",
         "TC TAKEN",
         "Kharasrota (Degree) Mahavidyalaya, Singhipur",
         "13032307",
         "Jajpur",
         "Binjharpur",
         "Non-Govt Aided (488 Categories)",
         "2018",
         "1",
         "5"
        ],
        [
         "4",
         null,
         "2018",
         "18D000109",
         "1.0",
         "Physical Science",
         "Physics",
         "NOT SELECTED",
         "Regional (Degree) College, Rambag",
         "13059301",
         "Jajpur",
         "Dasarathpur",
         "Non-Govt Aided (662 Categories)",
         "2018",
         "1",
         "5"
        ]
       ],
       "shape": {
        "columns": 15,
        "rows": 5
       }
      },
      "text/html": [
       "<div>\n",
       "<style scoped>\n",
       "    .dataframe tbody tr th:only-of-type {\n",
       "        vertical-align: middle;\n",
       "    }\n",
       "\n",
       "    .dataframe tbody tr th {\n",
       "        vertical-align: top;\n",
       "    }\n",
       "\n",
       "    .dataframe thead th {\n",
       "        text-align: right;\n",
       "    }\n",
       "</style>\n",
       "<table border=\"1\" class=\"dataframe\">\n",
       "  <thead>\n",
       "    <tr style=\"text-align: right;\">\n",
       "      <th></th>\n",
       "      <th>aadhar_no</th>\n",
       "      <th>academic_year</th>\n",
       "      <th>barcode</th>\n",
       "      <th>option_no</th>\n",
       "      <th>stream</th>\n",
       "      <th>subject</th>\n",
       "      <th>admission_status</th>\n",
       "      <th>reported_institute</th>\n",
       "      <th>sams_code</th>\n",
       "      <th>institute_district</th>\n",
       "      <th>institute_block</th>\n",
       "      <th>type_of_institute</th>\n",
       "      <th>year</th>\n",
       "      <th>phase</th>\n",
       "      <th>num_applications</th>\n",
       "    </tr>\n",
       "  </thead>\n",
       "  <tbody>\n",
       "    <tr>\n",
       "      <th>0</th>\n",
       "      <td>None</td>\n",
       "      <td>2018</td>\n",
       "      <td>18D000109</td>\n",
       "      <td>2.0</td>\n",
       "      <td>Physical Science</td>\n",
       "      <td>Computer Science</td>\n",
       "      <td>TC TAKEN</td>\n",
       "      <td>Chitalo (Degree) Mahavidyalaya, Chitalo</td>\n",
       "      <td>13059302</td>\n",
       "      <td>Jajpur</td>\n",
       "      <td>Dasarathpur</td>\n",
       "      <td>Non-Govt Aided (662 Categories)</td>\n",
       "      <td>2018</td>\n",
       "      <td>1</td>\n",
       "      <td>5</td>\n",
       "    </tr>\n",
       "    <tr>\n",
       "      <th>1</th>\n",
       "      <td>None</td>\n",
       "      <td>2018</td>\n",
       "      <td>18D000109</td>\n",
       "      <td>3.0</td>\n",
       "      <td>Physical Science</td>\n",
       "      <td>Mathematics</td>\n",
       "      <td>NOT SELECTED</td>\n",
       "      <td>Baruneswar (Degree) Mahavidyalaya, Arei</td>\n",
       "      <td>13032306</td>\n",
       "      <td>Jajpur</td>\n",
       "      <td>Binjharpur</td>\n",
       "      <td>Non-Govt Aided (488 Categories)</td>\n",
       "      <td>2018</td>\n",
       "      <td>1</td>\n",
       "      <td>5</td>\n",
       "    </tr>\n",
       "    <tr>\n",
       "      <th>2</th>\n",
       "      <td>None</td>\n",
       "      <td>2018</td>\n",
       "      <td>18D000109</td>\n",
       "      <td>4.0</td>\n",
       "      <td>Physical Science</td>\n",
       "      <td>Physics</td>\n",
       "      <td>NOT SELECTED</td>\n",
       "      <td>Upendranath Sarada (Degree) Mahavidyalaya, Mug...</td>\n",
       "      <td>13092305</td>\n",
       "      <td>Jajpur</td>\n",
       "      <td>Rasulpur</td>\n",
       "      <td>Non-Govt Aided (488 Categories)</td>\n",
       "      <td>2018</td>\n",
       "      <td>1</td>\n",
       "      <td>5</td>\n",
       "    </tr>\n",
       "    <tr>\n",
       "      <th>3</th>\n",
       "      <td>None</td>\n",
       "      <td>2018</td>\n",
       "      <td>18D000109</td>\n",
       "      <td>5.0</td>\n",
       "      <td>Physical Science</td>\n",
       "      <td>Mathematics</td>\n",
       "      <td>TC TAKEN</td>\n",
       "      <td>Kharasrota (Degree) Mahavidyalaya, Singhipur</td>\n",
       "      <td>13032307</td>\n",
       "      <td>Jajpur</td>\n",
       "      <td>Binjharpur</td>\n",
       "      <td>Non-Govt Aided (488 Categories)</td>\n",
       "      <td>2018</td>\n",
       "      <td>1</td>\n",
       "      <td>5</td>\n",
       "    </tr>\n",
       "    <tr>\n",
       "      <th>4</th>\n",
       "      <td>None</td>\n",
       "      <td>2018</td>\n",
       "      <td>18D000109</td>\n",
       "      <td>1.0</td>\n",
       "      <td>Physical Science</td>\n",
       "      <td>Physics</td>\n",
       "      <td>NOT SELECTED</td>\n",
       "      <td>Regional (Degree) College, Rambag</td>\n",
       "      <td>13059301</td>\n",
       "      <td>Jajpur</td>\n",
       "      <td>Dasarathpur</td>\n",
       "      <td>Non-Govt Aided (662 Categories)</td>\n",
       "      <td>2018</td>\n",
       "      <td>1</td>\n",
       "      <td>5</td>\n",
       "    </tr>\n",
       "  </tbody>\n",
       "</table>\n",
       "</div>"
      ],
      "text/plain": [
       "  aadhar_no  academic_year    barcode  option_no            stream  \\\n",
       "0      None           2018  18D000109        2.0  Physical Science   \n",
       "1      None           2018  18D000109        3.0  Physical Science   \n",
       "2      None           2018  18D000109        4.0  Physical Science   \n",
       "3      None           2018  18D000109        5.0  Physical Science   \n",
       "4      None           2018  18D000109        1.0  Physical Science   \n",
       "\n",
       "            subject admission_status  \\\n",
       "0  Computer Science         TC TAKEN   \n",
       "1       Mathematics     NOT SELECTED   \n",
       "2           Physics     NOT SELECTED   \n",
       "3       Mathematics         TC TAKEN   \n",
       "4           Physics     NOT SELECTED   \n",
       "\n",
       "                                  reported_institute sams_code  \\\n",
       "0            Chitalo (Degree) Mahavidyalaya, Chitalo  13059302   \n",
       "1            Baruneswar (Degree) Mahavidyalaya, Arei  13032306   \n",
       "2  Upendranath Sarada (Degree) Mahavidyalaya, Mug...  13092305   \n",
       "3       Kharasrota (Degree) Mahavidyalaya, Singhipur  13032307   \n",
       "4                  Regional (Degree) College, Rambag  13059301   \n",
       "\n",
       "  institute_district institute_block                type_of_institute  year  \\\n",
       "0             Jajpur     Dasarathpur  Non-Govt Aided (662 Categories)  2018   \n",
       "1             Jajpur      Binjharpur  Non-Govt Aided (488 Categories)  2018   \n",
       "2             Jajpur        Rasulpur  Non-Govt Aided (488 Categories)  2018   \n",
       "3             Jajpur      Binjharpur  Non-Govt Aided (488 Categories)  2018   \n",
       "4             Jajpur     Dasarathpur  Non-Govt Aided (662 Categories)  2018   \n",
       "\n",
       "  phase  num_applications  \n",
       "0     1                 5  \n",
       "1     1                 5  \n",
       "2     1                 5  \n",
       "3     1                 5  \n",
       "4     1                 5  "
      ]
     },
     "execution_count": 3,
     "metadata": {},
     "output_type": "execute_result"
    }
   ],
   "source": [
    "deg_applications.head()"
   ]
  },
  {
   "cell_type": "code",
   "execution_count": null,
   "id": "23fc0de6",
   "metadata": {},
   "outputs": [],
   "source": []
  },
  {
   "cell_type": "code",
   "execution_count": 3,
   "id": "d51de982",
   "metadata": {},
   "outputs": [
    {
     "data": {
      "text/plain": [
       "(2064490, 16)"
      ]
     },
     "execution_count": 3,
     "metadata": {},
     "output_type": "execute_result"
    }
   ],
   "source": [
    "deg_marks.shape"
   ]
  },
  {
   "cell_type": "code",
   "execution_count": 22,
   "id": "fd3587f0",
   "metadata": {},
   "outputs": [
    {
     "data": {
      "text/plain": [
       "(2054491, 32)"
      ]
     },
     "execution_count": 22,
     "metadata": {},
     "output_type": "execute_result"
    }
   ],
   "source": [
    "deg_enrollments.shape"
   ]
  },
  {
   "cell_type": "code",
   "execution_count": 5,
   "id": "36ef3b4f",
   "metadata": {},
   "outputs": [
    {
     "data": {
      "text/plain": [
       "(14640073, 15)"
      ]
     },
     "execution_count": 5,
     "metadata": {},
     "output_type": "execute_result"
    }
   ],
   "source": [
    "deg_applications.shape"
   ]
  },
  {
   "cell_type": "code",
   "execution_count": 24,
   "id": "6044a2f3",
   "metadata": {},
   "outputs": [
    {
     "data": {
      "application/vnd.microsoft.datawrangler.viewer.v0+json": {
       "columns": [
        {
         "name": "index",
         "rawType": "int64",
         "type": "integer"
        },
        {
         "name": "id",
         "rawType": "int64",
         "type": "integer"
        },
        {
         "name": "barcode",
         "rawType": "object",
         "type": "string"
        },
        {
         "name": "student_name",
         "rawType": "object",
         "type": "string"
        },
        {
         "name": "gender",
         "rawType": "object",
         "type": "string"
        },
        {
         "name": "religion_name",
         "rawType": "object",
         "type": "string"
        },
        {
         "name": "dob",
         "rawType": "object",
         "type": "unknown"
        },
        {
         "name": "annual_income",
         "rawType": "object",
         "type": "string"
        },
        {
         "name": "address",
         "rawType": "object",
         "type": "string"
        },
        {
         "name": "state",
         "rawType": "object",
         "type": "string"
        },
        {
         "name": "district",
         "rawType": "object",
         "type": "string"
        },
        {
         "name": "block",
         "rawType": "object",
         "type": "string"
        },
        {
         "name": "pin_code",
         "rawType": "object",
         "type": "string"
        },
        {
         "name": "social_category",
         "rawType": "object",
         "type": "string"
        },
        {
         "name": "board_exam_name_for_highest_qualification",
         "rawType": "object",
         "type": "string"
        },
        {
         "name": "highest_qualification",
         "rawType": "object",
         "type": "string"
        },
        {
         "name": "ph",
         "rawType": "bool",
         "type": "boolean"
        },
        {
         "name": "es",
         "rawType": "bool",
         "type": "boolean"
        },
        {
         "name": "sports",
         "rawType": "bool",
         "type": "boolean"
        },
        {
         "name": "orphan",
         "rawType": "bool",
         "type": "boolean"
        },
        {
         "name": "aadhar_no",
         "rawType": "object",
         "type": "unknown"
        },
        {
         "name": "module",
         "rawType": "object",
         "type": "string"
        },
        {
         "name": "academic_year",
         "rawType": "int64",
         "type": "integer"
        },
        {
         "name": "examination_board_of_the_highest_qualification",
         "rawType": "object",
         "type": "string"
        },
        {
         "name": "examination_type",
         "rawType": "object",
         "type": "string"
        },
        {
         "name": "year_of_passing",
         "rawType": "int32",
         "type": "integer"
        },
        {
         "name": "roll_no",
         "rawType": "object",
         "type": "string"
        },
        {
         "name": "total_marks",
         "rawType": "int32",
         "type": "integer"
        },
        {
         "name": "secured_marks",
         "rawType": "float64",
         "type": "float"
        },
        {
         "name": "percentage",
         "rawType": "float64",
         "type": "float"
        },
        {
         "name": "compartmental_status",
         "rawType": "bool",
         "type": "boolean"
        },
        {
         "name": "deg_option_details",
         "rawType": "object",
         "type": "string"
        },
        {
         "name": "deg_compartments",
         "rawType": "object",
         "type": "string"
        }
       ],
       "ref": "b78127ca-3084-4898-ada4-f4ba13b6064f",
       "rows": [
        [
         "0",
         "1",
         "18D000005",
         "NHqQtL6JHS7ARG8lWmmkMwYwif+rxScfdlndd1YewK0=",
         "Male",
         "HINDUISM",
         "2000-12-28",
         "0 - 1,50,000",
         "L-94-B,PHASE-V,DUMUDUMA,BBSR",
         "Odisha",
         "Khurda",
         "Bhubaneswar (MC)",
         "751019",
         "GEN",
         "Council of Higher Secondary Education, Odisha",
         "+2 SCIENCE",
         "False",
         "False",
         "False",
         "False",
         null,
         "DEG",
         "2018",
         "CHSE, Odisha",
         "Annual",
         "2018",
         "rFXFPmSkII4WoQCD2iWmGA==",
         "600",
         "419.0",
         "69.83",
         "False",
         "[{\"ReportedInstitute\": \"Basic Science & Humanities (Degree) College, Bhubaneswar\", \"SAMSCode\": \"19056302\", \"Stream\": \"Self Financing\", \"Subject\": \"Computer Science\", \"InstituteDistrict\": \"Khurda\", \"InstituteBlock\": \"Bhubaneswar (MC)\", \"TypeofInstitute\": \"Govt. (Other Depts.)\", \"Phase\": \"1\", \"Year\": \"2018\", \"AdmissionStatus\": \"NOT SELECTED\", \"OptionNo\": \"1\"}, {\"ReportedInstitute\": \"Prananath (Autonomous) College, Khurda\", \"SAMSCode\": \"19152904\", \"Stream\": \"Self Financing\", \"Subject\": \"Computer Science\", \"InstituteDistrict\": \"Khurda\", \"InstituteBlock\": \"Khordha (MPL)\", \"TypeofInstitute\": \"Non-Govt Aided (488 Categories)\", \"Phase\": \"1\", \"Year\": \"2018\", \"AdmissionStatus\": \"TC TAKEN\", \"OptionNo\": \"2\"}, {\"ReportedInstitute\": \"Buxi Jagabandhu Bidyadhar (Autonomous) College, Bhubaneswar\", \"SAMSCode\": \"19051908\", \"Stream\": \"Self Financing\", \"Subject\": \"Computer Science\", \"InstituteDistrict\": \"Khurda\", \"InstituteBlock\": \"Bhubaneswar (MC)\", \"TypeofInstitute\": \"Govt. (SME)\", \"Phase\": \"1\", \"Year\": \"2018\", \"AdmissionStatus\": \"NOT SELECTED\", \"OptionNo\": \"3\"}, {\"ReportedInstitute\": \"Buxi Jagabandhu Bidyadhar (Autonomous) College, Bhubaneswar\", \"SAMSCode\": \"19051908\", \"Stream\": \"Self Financing\", \"Subject\": \"Biotechnology\", \"InstituteDistrict\": \"Khurda\", \"InstituteBlock\": \"Bhubaneswar (MC)\", \"TypeofInstitute\": \"Govt. (SME)\", \"Phase\": \"1\", \"Year\": \"2018\", \"AdmissionStatus\": \"NOT SELECTED\", \"OptionNo\": \"4\"}, {\"ReportedInstitute\": \"Basic Science & Humanities (Degree) College, Bhubaneswar\", \"SAMSCode\": \"19056302\", \"Stream\": \"Self Financing\", \"Subject\": \"Biotechnology\", \"InstituteDistrict\": \"Khurda\", \"InstituteBlock\": \"Bhubaneswar (MC)\", \"TypeofInstitute\": \"Govt. (Other Depts.)\", \"Phase\": \"1\", \"Year\": \"2018\", \"AdmissionStatus\": \"NOT SELECTED\", \"OptionNo\": \"5\"}, {\"ReportedInstitute\": \"Basic Science & Humanities (Degree) College, Bhubaneswar\", \"SAMSCode\": \"19056302\", \"Stream\": \"Self Financing\", \"Subject\": \"Microbiology\", \"InstituteDistrict\": \"Khurda\", \"InstituteBlock\": \"Bhubaneswar (MC)\", \"TypeofInstitute\": \"Govt. (Other Depts.)\", \"Phase\": \"1\", \"Year\": \"2018\", \"AdmissionStatus\": \"NOT SELECTED\", \"OptionNo\": \"6\"}, {\"ReportedInstitute\": \"Rajdhani  (Degree) College, Bhubaneswar\", \"SAMSCode\": \"19051304\", \"Stream\": \"Biological Science\", \"Subject\": \"Zoology\", \"InstituteDistrict\": \"Khurda\", \"InstituteBlock\": \"Bhubaneswar (MC)\", \"TypeofInstitute\": \"Govt. (SME)\", \"Phase\": \"1\", \"Year\": \"2018\", \"AdmissionStatus\": \"NOT SELECTED\", \"OptionNo\": \"7\"}, {\"ReportedInstitute\": \"Prananath (Autonomous) College, Khurda\", \"SAMSCode\": \"19152904\", \"Stream\": \"Biological Science\", \"Subject\": \"Zoology\", \"InstituteDistrict\": \"Khurda\", \"InstituteBlock\": \"Khordha (MPL)\", \"TypeofInstitute\": \"Non-Govt Aided (488 Categories)\", \"Phase\": \"1\", \"Year\": \"2018\", \"AdmissionStatus\": \"NOT SELECTED\", \"OptionNo\": \"8\"}, {\"ReportedInstitute\": \"Khallikote Unitary University, Berhampur\", \"SAMSCode\": \"11071905\", \"Stream\": \"Self Financing\", \"Subject\": \"Computer Science\", \"InstituteDistrict\": \"Ganjam\", \"InstituteBlock\": \"Berhampur (MC)\", \"TypeofInstitute\": \"Govt. (SME)\", \"Phase\": \"1\", \"Year\": \"2018\", \"AdmissionStatus\": \"NOT SELECTED\", \"OptionNo\": \"9\"}, {\"ReportedInstitute\": \"Samanta Chandra Sekhar (Autonomous) College, Puri\", \"SAMSCode\": \"26151905\", \"Stream\": \"Self Financing\", \"Subject\": \"Computer Science\", \"InstituteDistrict\": \"Puri\", \"InstituteBlock\": \"Puri (MPL)\", \"TypeofInstitute\": \"Govt. (SME)\", \"Phase\": \"1\", \"Year\": \"2018\", \"AdmissionStatus\": \"NOT SELECTED\", \"OptionNo\": \"10\"}]",
         "[]"
        ],
        [
         "1",
         "2",
         "18D000009",
         "lWnj0IKMRMq3Kmp7BxdjD+xbFH0/HAcPKwT5KGctG84=",
         "Female",
         "HINDUISM",
         "2001-01-15",
         "0 - 1,50,000",
         "AT-BHURUNGASOLE, PO-NUHAJHALIA, VIA-KOSTHA, PS-MORADA",
         "Odisha",
         "Mayurbhanj",
         "Morada",
         "757084",
         "GEN",
         "Council of Higher Secondary Education, Odisha",
         "+2 ARTS",
         "False",
         "False",
         "False",
         "False",
         null,
         "DEG",
         "2018",
         "CHSE, Odisha",
         "Annual",
         "2018",
         "Uyol5uArJToaCcdfyul0zw==",
         "600",
         "478.0",
         "79.67",
         "False",
         "[{\"ReportedInstitute\": \"Panchayat Samiti  (Degree) College, Suliapada\", \"SAMSCode\": \"22189301\", \"Stream\": \"Arts\", \"Subject\": \"Economics\", \"InstituteDistrict\": \"Mayurbhanj\", \"InstituteBlock\": \"Suliapada\", \"TypeofInstitute\": \"Non-Govt Aided (662 Categories)\", \"Phase\": \"1\", \"Year\": \"2018\", \"AdmissionStatus\": \"TC TAKEN\", \"OptionNo\": \"1\"}, {\"ReportedInstitute\": \"Baripada (Degree) College, Baripada\", \"SAMSCode\": \"22119301\", \"Stream\": \"Arts\", \"Subject\": \"Education\", \"InstituteDistrict\": \"Mayurbhanj\", \"InstituteBlock\": \"Baripada\", \"TypeofInstitute\": \"Non-Govt Aided (662 Categories)\", \"Phase\": \"1\", \"Year\": \"2018\", \"AdmissionStatus\": \"NOT SELECTED\", \"OptionNo\": \"2\"}, {\"ReportedInstitute\": \"Anchalika (Degree) Mahavidyalaya, Gadia\", \"SAMSCode\": \"22142302\", \"Stream\": \"Arts\", \"Subject\": \"Education\", \"InstituteDistrict\": \"Mayurbhanj\", \"InstituteBlock\": \"Morada\", \"TypeofInstitute\": \"Non-Govt Aided (488 Categories)\", \"Phase\": \"1\", \"Year\": \"2018\", \"AdmissionStatus\": \"NOT SELECTED\", \"OptionNo\": \"3\"}, {\"ReportedInstitute\": \"Utkal Banani Snatak (Degree) Mahavidyalaya, Jamsala\", \"SAMSCode\": \"22182301\", \"Stream\": \"Arts\", \"Subject\": \"GENERAL\", \"InstituteDistrict\": \"Mayurbhanj\", \"InstituteBlock\": \"Suliapada\", \"TypeofInstitute\": \"Non-Govt Aided (488 Categories)\", \"Phase\": \"1\", \"Year\": \"2018\", \"AdmissionStatus\": \"NOT SELECTED\", \"OptionNo\": \"4\"}, {\"ReportedInstitute\": \"Chitrada (Degree) College, Chitrada\", \"SAMSCode\": \"22142301\", \"Stream\": \"Arts\", \"Subject\": \"Odia\", \"InstituteDistrict\": \"Mayurbhanj\", \"InstituteBlock\": \"Morada\", \"TypeofInstitute\": \"Non-Govt Aided (488 Categories)\", \"Phase\": \"1\", \"Year\": \"2018\", \"AdmissionStatus\": \"NOT SELECTED\", \"OptionNo\": \"5\"}]",
         "[]"
        ],
        [
         "2",
         "3",
         "18D000014",
         "rdikqPCn/ufEdn4kV626pMLQr9zLQ2qZGRcjbjEDouY=",
         "Female",
         "HINDUISM",
         "2001-11-03",
         "0 - 1,50,000",
         "AT/PO- KAMARDA, VIA- KAMARDA",
         "Odisha",
         "Balasore",
         "Bhograi",
         "756035",
         "GEN",
         "Council of Higher Secondary Education, Odisha",
         "+2 ARTS",
         "False",
         "False",
         "False",
         "False",
         null,
         "DEG",
         "2018",
         "CHSE, Odisha",
         "Annual",
         "2018",
         "mj1D3ndx5risDBRaSvL/qw==",
         "600",
         "230.0",
         "38.33",
         "False",
         "[{\"ReportedInstitute\": \"Kamarda (Degree) Mahavidyalaya, Kamarda\", \"SAMSCode\": \"02059301\", \"Stream\": \"Arts\", \"Subject\": \"Political Science\", \"InstituteDistrict\": \"Balasore\", \"InstituteBlock\": \"Bhograi\", \"TypeofInstitute\": \"Non-Govt Aided (662 Categories)\", \"Phase\": \"1\", \"Year\": \"2018\", \"AdmissionStatus\": \"NOT SELECTED\", \"OptionNo\": \"1\"}, {\"ReportedInstitute\": \"Kamarda (Degree) Mahavidyalaya, Kamarda\", \"SAMSCode\": \"02059301\", \"Stream\": \"Arts\", \"Subject\": \"Economics\", \"InstituteDistrict\": \"Balasore\", \"InstituteBlock\": \"Bhograi\", \"TypeofInstitute\": \"Non-Govt Aided (662 Categories)\", \"Phase\": \"1\", \"Year\": \"2018\", \"AdmissionStatus\": \"NOT SELECTED\", \"OptionNo\": \"2\"}, {\"ReportedInstitute\": \"Kamarda (Degree) Mahavidyalaya, Kamarda\", \"SAMSCode\": \"02059301\", \"Stream\": \"Arts\", \"Subject\": \"History\", \"InstituteDistrict\": \"Balasore\", \"InstituteBlock\": \"Bhograi\", \"TypeofInstitute\": \"Non-Govt Aided (662 Categories)\", \"Phase\": \"1\", \"Year\": \"2018\", \"AdmissionStatus\": \"NOT SELECTED\", \"OptionNo\": \"3\"}, {\"ReportedInstitute\": \"Kamarda (Degree) Mahavidyalaya, Kamarda\", \"SAMSCode\": \"02059301\", \"Stream\": \"Arts\", \"Subject\": \"Odia\", \"InstituteDistrict\": \"Balasore\", \"InstituteBlock\": \"Bhograi\", \"TypeofInstitute\": \"Non-Govt Aided (662 Categories)\", \"Phase\": \"1\", \"Year\": \"2018\", \"AdmissionStatus\": \"NOT SELECTED\", \"OptionNo\": \"4\"}, {\"ReportedInstitute\": \"Kamarda (Degree) Mahavidyalaya, Kamarda\", \"SAMSCode\": \"02059301\", \"Stream\": \"Arts\", \"Subject\": \"Education\", \"InstituteDistrict\": \"Balasore\", \"InstituteBlock\": \"Bhograi\", \"TypeofInstitute\": \"Non-Govt Aided (662 Categories)\", \"Phase\": \"1\", \"Year\": \"2018\", \"AdmissionStatus\": \"NOT SELECTED\", \"OptionNo\": \"5\"}]",
         "[]"
        ],
        [
         "3",
         "4",
         "18D000017",
         "PYmUqx9rFEV4r/fFXzWXfpdgVGs8VP2KH3UzEYauLqw=",
         "Male",
         "HINDUISM",
         "2001-03-10",
         "0 - 1,50,000",
         "PO/PS-SAHEED NAGAR ,PATHARABANDHA",
         "Odisha",
         "Khurda",
         "Bhubaneswar",
         "751007",
         "ST",
         "Council of Higher Secondary Education, Odisha",
         "+2 SCIENCE",
         "False",
         "False",
         "False",
         "False",
         null,
         "DEG",
         "2018",
         "CHSE, Odisha",
         "Annual",
         "2018",
         "/tRyA4YR6BB6wzic8MHatg==",
         "600",
         "333.0",
         "55.5",
         "False",
         "[{\"ReportedInstitute\": \"Maharishi (Degree) College of Natural Law, Bhubaneswar\", \"SAMSCode\": \"19052311\", \"Stream\": \"Physical Science\", \"Subject\": \"Physics\", \"InstituteDistrict\": \"Khurda\", \"InstituteBlock\": \"Bhubaneswar (MC)\", \"TypeofInstitute\": \"Non-Govt Aided (488 Categories)\", \"Phase\": \"1\", \"Year\": \"2018\", \"AdmissionStatus\": \"TC TAKEN\", \"OptionNo\": \"1\"}, {\"ReportedInstitute\": \"Rajdhani  (Degree) College, Bhubaneswar\", \"SAMSCode\": \"19051304\", \"Stream\": \"Physical Science\", \"Subject\": \"Physics\", \"InstituteDistrict\": \"Khurda\", \"InstituteBlock\": \"Bhubaneswar (MC)\", \"TypeofInstitute\": \"Govt. (SME)\", \"Phase\": \"1\", \"Year\": \"2018\", \"AdmissionStatus\": \"NOT SELECTED\", \"OptionNo\": \"2\"}, {\"ReportedInstitute\": \"Buxi Jagabandhu Bidyadhar (Autonomous) College, Bhubaneswar\", \"SAMSCode\": \"19051908\", \"Stream\": \"Physical Science\", \"Subject\": \"Physics\", \"InstituteDistrict\": \"Khurda\", \"InstituteBlock\": \"Bhubaneswar (MC)\", \"TypeofInstitute\": \"Govt. (SME)\", \"Phase\": \"1\", \"Year\": \"2018\", \"AdmissionStatus\": \"NOT SELECTED\", \"OptionNo\": \"3\"}, {\"ReportedInstitute\": \"Biju Pattnaik (Degree) College of Science & Education, Jayadev Vihar\", \"SAMSCode\": \"19059302\", \"Stream\": \"Physical Science\", \"Subject\": \"Physics\", \"InstituteDistrict\": \"Khurda\", \"InstituteBlock\": \"Bhubaneswar (MC)\", \"TypeofInstitute\": \"Non-Govt Aided (662 Categories)\", \"Phase\": \"1\", \"Year\": \"2018\", \"AdmissionStatus\": \"NOT SELECTED\", \"OptionNo\": \"4\"}, {\"ReportedInstitute\": \"Sri Jayadev (Degree) College of Education & Technology, Naharkanta\", \"SAMSCode\": \"19052312\", \"Stream\": \"Physical Science\", \"Subject\": \"Physics\", \"InstituteDistrict\": \"Khurda\", \"InstituteBlock\": \"Bhubaneswar (MC)\", \"TypeofInstitute\": \"Non-Govt Aided (488 Categories)\", \"Phase\": \"1\", \"Year\": \"2018\", \"AdmissionStatus\": \"TC TAKEN\", \"OptionNo\": \"5\"}]",
         "[]"
        ],
        [
         "4",
         "5",
         "18D000019",
         "tWTPV1Bh+0LwcMk6cQUO6cjhgm9dExJnW6oPLmcusVA=",
         "Female",
         "HINDUISM",
         "2000-05-21",
         "0 - 1,50,000",
         "AT KUMBHIPADA PO DESIL PS TITILAGARH",
         "Odisha",
         "Bolangir",
         "Titilagarh",
         "767033",
         "SC",
         "Council of Higher Secondary Education, Odisha",
         "+2 ARTS",
         "False",
         "False",
         "False",
         "False",
         null,
         "DEG",
         "2018",
         "CHSE, Odisha",
         "Annual",
         "2018",
         "fDOjAv3DM8hJ/6F6kZ674g==",
         "600",
         "236.0",
         "39.33",
         "False",
         "[{\"ReportedInstitute\": \"D.A.V. (Autonomous) College, Titilagarh\", \"SAMSCode\": \"05152902\", \"Stream\": \"Arts\", \"Subject\": \"Odia\", \"InstituteDistrict\": \"Bolangir\", \"InstituteBlock\": \"Titilagarh\", \"TypeofInstitute\": \"Non-Govt Aided (488 Categories)\", \"Phase\": \"1\", \"Year\": \"2018\", \"AdmissionStatus\": \"NOT SELECTED\", \"OptionNo\": \"1\"}, {\"ReportedInstitute\": \"Government Women's Degree College, Titilagarh\", \"SAMSCode\": \"05181402\", \"Stream\": \"Arts\", \"Subject\": \"Political Science\", \"InstituteDistrict\": \"Bolangir\", \"InstituteBlock\": \"Titilagarh (MPL)\", \"TypeofInstitute\": \"Govt. (SME)\", \"Phase\": \"1\", \"Year\": \"2018\", \"AdmissionStatus\": \"NOT SELECTED\", \"OptionNo\": \"2\"}, {\"ReportedInstitute\": \"Panchayat Samiti (Degree) College, Saintala\", \"SAMSCode\": \"05142302\", \"Stream\": \"Arts\", \"Subject\": \"Odia\", \"InstituteDistrict\": \"Bolangir\", \"InstituteBlock\": \"Saintala\", \"TypeofInstitute\": \"Non-Govt Aided (488 Categories)\", \"Phase\": \"1\", \"Year\": \"2018\", \"AdmissionStatus\": \"NOT SELECTED\", \"OptionNo\": \"3\"}, {\"ReportedInstitute\": \"Panchayat Samiti (Degree) College, Muribahal\", \"SAMSCode\": \"05139301\", \"Stream\": \"Arts\", \"Subject\": \"Odia\", \"InstituteDistrict\": \"Bolangir\", \"InstituteBlock\": \"Muribahal\", \"TypeofInstitute\": \"Non-Govt Aided (662 Categories)\", \"Phase\": \"1\", \"Year\": \"2018\", \"AdmissionStatus\": \"NOT SELECTED\", \"OptionNo\": \"4\"}, {\"ReportedInstitute\": \"Tusra (Degree) College, Tusra\", \"SAMSCode\": \"05199301\", \"Stream\": \"Arts\", \"Subject\": \"Odia\", \"InstituteDistrict\": \"Bolangir\", \"InstituteBlock\": \"Tusara (NAC)\", \"TypeofInstitute\": \"Non-Govt Aided (662 Categories)\", \"Phase\": \"1\", \"Year\": \"2018\", \"AdmissionStatus\": \"NOT SELECTED\", \"OptionNo\": \"5\"}]",
         "[]"
        ]
       ],
       "shape": {
        "columns": 32,
        "rows": 5
       }
      },
      "text/html": [
       "<div>\n",
       "<style scoped>\n",
       "    .dataframe tbody tr th:only-of-type {\n",
       "        vertical-align: middle;\n",
       "    }\n",
       "\n",
       "    .dataframe tbody tr th {\n",
       "        vertical-align: top;\n",
       "    }\n",
       "\n",
       "    .dataframe thead th {\n",
       "        text-align: right;\n",
       "    }\n",
       "</style>\n",
       "<table border=\"1\" class=\"dataframe\">\n",
       "  <thead>\n",
       "    <tr style=\"text-align: right;\">\n",
       "      <th></th>\n",
       "      <th>id</th>\n",
       "      <th>barcode</th>\n",
       "      <th>student_name</th>\n",
       "      <th>gender</th>\n",
       "      <th>religion_name</th>\n",
       "      <th>dob</th>\n",
       "      <th>annual_income</th>\n",
       "      <th>address</th>\n",
       "      <th>state</th>\n",
       "      <th>district</th>\n",
       "      <th>...</th>\n",
       "      <th>examination_board_of_the_highest_qualification</th>\n",
       "      <th>examination_type</th>\n",
       "      <th>year_of_passing</th>\n",
       "      <th>roll_no</th>\n",
       "      <th>total_marks</th>\n",
       "      <th>secured_marks</th>\n",
       "      <th>percentage</th>\n",
       "      <th>compartmental_status</th>\n",
       "      <th>deg_option_details</th>\n",
       "      <th>deg_compartments</th>\n",
       "    </tr>\n",
       "  </thead>\n",
       "  <tbody>\n",
       "    <tr>\n",
       "      <th>0</th>\n",
       "      <td>1</td>\n",
       "      <td>18D000005</td>\n",
       "      <td>NHqQtL6JHS7ARG8lWmmkMwYwif+rxScfdlndd1YewK0=</td>\n",
       "      <td>Male</td>\n",
       "      <td>HINDUISM</td>\n",
       "      <td>2000-12-28</td>\n",
       "      <td>0 - 1,50,000</td>\n",
       "      <td>L-94-B,PHASE-V,DUMUDUMA,BBSR</td>\n",
       "      <td>Odisha</td>\n",
       "      <td>Khurda</td>\n",
       "      <td>...</td>\n",
       "      <td>CHSE, Odisha</td>\n",
       "      <td>Annual</td>\n",
       "      <td>2018</td>\n",
       "      <td>rFXFPmSkII4WoQCD2iWmGA==</td>\n",
       "      <td>600</td>\n",
       "      <td>419.0</td>\n",
       "      <td>69.83</td>\n",
       "      <td>False</td>\n",
       "      <td>[{\"ReportedInstitute\": \"Basic Science &amp; Humani...</td>\n",
       "      <td>[]</td>\n",
       "    </tr>\n",
       "    <tr>\n",
       "      <th>1</th>\n",
       "      <td>2</td>\n",
       "      <td>18D000009</td>\n",
       "      <td>lWnj0IKMRMq3Kmp7BxdjD+xbFH0/HAcPKwT5KGctG84=</td>\n",
       "      <td>Female</td>\n",
       "      <td>HINDUISM</td>\n",
       "      <td>2001-01-15</td>\n",
       "      <td>0 - 1,50,000</td>\n",
       "      <td>AT-BHURUNGASOLE, PO-NUHAJHALIA, VIA-KOSTHA, PS...</td>\n",
       "      <td>Odisha</td>\n",
       "      <td>Mayurbhanj</td>\n",
       "      <td>...</td>\n",
       "      <td>CHSE, Odisha</td>\n",
       "      <td>Annual</td>\n",
       "      <td>2018</td>\n",
       "      <td>Uyol5uArJToaCcdfyul0zw==</td>\n",
       "      <td>600</td>\n",
       "      <td>478.0</td>\n",
       "      <td>79.67</td>\n",
       "      <td>False</td>\n",
       "      <td>[{\"ReportedInstitute\": \"Panchayat Samiti  (Deg...</td>\n",
       "      <td>[]</td>\n",
       "    </tr>\n",
       "    <tr>\n",
       "      <th>2</th>\n",
       "      <td>3</td>\n",
       "      <td>18D000014</td>\n",
       "      <td>rdikqPCn/ufEdn4kV626pMLQr9zLQ2qZGRcjbjEDouY=</td>\n",
       "      <td>Female</td>\n",
       "      <td>HINDUISM</td>\n",
       "      <td>2001-11-03</td>\n",
       "      <td>0 - 1,50,000</td>\n",
       "      <td>AT/PO- KAMARDA, VIA- KAMARDA</td>\n",
       "      <td>Odisha</td>\n",
       "      <td>Balasore</td>\n",
       "      <td>...</td>\n",
       "      <td>CHSE, Odisha</td>\n",
       "      <td>Annual</td>\n",
       "      <td>2018</td>\n",
       "      <td>mj1D3ndx5risDBRaSvL/qw==</td>\n",
       "      <td>600</td>\n",
       "      <td>230.0</td>\n",
       "      <td>38.33</td>\n",
       "      <td>False</td>\n",
       "      <td>[{\"ReportedInstitute\": \"Kamarda (Degree) Mahav...</td>\n",
       "      <td>[]</td>\n",
       "    </tr>\n",
       "    <tr>\n",
       "      <th>3</th>\n",
       "      <td>4</td>\n",
       "      <td>18D000017</td>\n",
       "      <td>PYmUqx9rFEV4r/fFXzWXfpdgVGs8VP2KH3UzEYauLqw=</td>\n",
       "      <td>Male</td>\n",
       "      <td>HINDUISM</td>\n",
       "      <td>2001-03-10</td>\n",
       "      <td>0 - 1,50,000</td>\n",
       "      <td>PO/PS-SAHEED NAGAR ,PATHARABANDHA</td>\n",
       "      <td>Odisha</td>\n",
       "      <td>Khurda</td>\n",
       "      <td>...</td>\n",
       "      <td>CHSE, Odisha</td>\n",
       "      <td>Annual</td>\n",
       "      <td>2018</td>\n",
       "      <td>/tRyA4YR6BB6wzic8MHatg==</td>\n",
       "      <td>600</td>\n",
       "      <td>333.0</td>\n",
       "      <td>55.50</td>\n",
       "      <td>False</td>\n",
       "      <td>[{\"ReportedInstitute\": \"Maharishi (Degree) Col...</td>\n",
       "      <td>[]</td>\n",
       "    </tr>\n",
       "    <tr>\n",
       "      <th>4</th>\n",
       "      <td>5</td>\n",
       "      <td>18D000019</td>\n",
       "      <td>tWTPV1Bh+0LwcMk6cQUO6cjhgm9dExJnW6oPLmcusVA=</td>\n",
       "      <td>Female</td>\n",
       "      <td>HINDUISM</td>\n",
       "      <td>2000-05-21</td>\n",
       "      <td>0 - 1,50,000</td>\n",
       "      <td>AT KUMBHIPADA PO DESIL PS TITILAGARH</td>\n",
       "      <td>Odisha</td>\n",
       "      <td>Bolangir</td>\n",
       "      <td>...</td>\n",
       "      <td>CHSE, Odisha</td>\n",
       "      <td>Annual</td>\n",
       "      <td>2018</td>\n",
       "      <td>fDOjAv3DM8hJ/6F6kZ674g==</td>\n",
       "      <td>600</td>\n",
       "      <td>236.0</td>\n",
       "      <td>39.33</td>\n",
       "      <td>False</td>\n",
       "      <td>[{\"ReportedInstitute\": \"D.A.V. (Autonomous) Co...</td>\n",
       "      <td>[]</td>\n",
       "    </tr>\n",
       "  </tbody>\n",
       "</table>\n",
       "<p>5 rows × 32 columns</p>\n",
       "</div>"
      ],
      "text/plain": [
       "   id    barcode                                  student_name  gender  \\\n",
       "0   1  18D000005  NHqQtL6JHS7ARG8lWmmkMwYwif+rxScfdlndd1YewK0=    Male   \n",
       "1   2  18D000009  lWnj0IKMRMq3Kmp7BxdjD+xbFH0/HAcPKwT5KGctG84=  Female   \n",
       "2   3  18D000014  rdikqPCn/ufEdn4kV626pMLQr9zLQ2qZGRcjbjEDouY=  Female   \n",
       "3   4  18D000017  PYmUqx9rFEV4r/fFXzWXfpdgVGs8VP2KH3UzEYauLqw=    Male   \n",
       "4   5  18D000019  tWTPV1Bh+0LwcMk6cQUO6cjhgm9dExJnW6oPLmcusVA=  Female   \n",
       "\n",
       "  religion_name         dob annual_income  \\\n",
       "0      HINDUISM  2000-12-28  0 - 1,50,000   \n",
       "1      HINDUISM  2001-01-15  0 - 1,50,000   \n",
       "2      HINDUISM  2001-11-03  0 - 1,50,000   \n",
       "3      HINDUISM  2001-03-10  0 - 1,50,000   \n",
       "4      HINDUISM  2000-05-21  0 - 1,50,000   \n",
       "\n",
       "                                             address   state    district  ...  \\\n",
       "0                       L-94-B,PHASE-V,DUMUDUMA,BBSR  Odisha      Khurda  ...   \n",
       "1  AT-BHURUNGASOLE, PO-NUHAJHALIA, VIA-KOSTHA, PS...  Odisha  Mayurbhanj  ...   \n",
       "2                       AT/PO- KAMARDA, VIA- KAMARDA  Odisha    Balasore  ...   \n",
       "3                  PO/PS-SAHEED NAGAR ,PATHARABANDHA  Odisha      Khurda  ...   \n",
       "4               AT KUMBHIPADA PO DESIL PS TITILAGARH  Odisha    Bolangir  ...   \n",
       "\n",
       "  examination_board_of_the_highest_qualification examination_type  \\\n",
       "0                                   CHSE, Odisha           Annual   \n",
       "1                                   CHSE, Odisha           Annual   \n",
       "2                                   CHSE, Odisha           Annual   \n",
       "3                                   CHSE, Odisha           Annual   \n",
       "4                                   CHSE, Odisha           Annual   \n",
       "\n",
       "  year_of_passing                   roll_no total_marks  secured_marks  \\\n",
       "0            2018  rFXFPmSkII4WoQCD2iWmGA==         600          419.0   \n",
       "1            2018  Uyol5uArJToaCcdfyul0zw==         600          478.0   \n",
       "2            2018  mj1D3ndx5risDBRaSvL/qw==         600          230.0   \n",
       "3            2018  /tRyA4YR6BB6wzic8MHatg==         600          333.0   \n",
       "4            2018  fDOjAv3DM8hJ/6F6kZ674g==         600          236.0   \n",
       "\n",
       "   percentage  compartmental_status  \\\n",
       "0       69.83                 False   \n",
       "1       79.67                 False   \n",
       "2       38.33                 False   \n",
       "3       55.50                 False   \n",
       "4       39.33                 False   \n",
       "\n",
       "                                  deg_option_details deg_compartments  \n",
       "0  [{\"ReportedInstitute\": \"Basic Science & Humani...               []  \n",
       "1  [{\"ReportedInstitute\": \"Panchayat Samiti  (Deg...               []  \n",
       "2  [{\"ReportedInstitute\": \"Kamarda (Degree) Mahav...               []  \n",
       "3  [{\"ReportedInstitute\": \"Maharishi (Degree) Col...               []  \n",
       "4  [{\"ReportedInstitute\": \"D.A.V. (Autonomous) Co...               []  \n",
       "\n",
       "[5 rows x 32 columns]"
      ]
     },
     "execution_count": 24,
     "metadata": {},
     "output_type": "execute_result"
    }
   ],
   "source": [
    "deg_enrollments.head()"
   ]
  },
  {
   "cell_type": "code",
   "execution_count": 22,
   "id": "402afa0a",
   "metadata": {},
   "outputs": [
    {
     "data": {
      "application/vnd.microsoft.datawrangler.viewer.v0+json": {
       "columns": [
        {
         "name": "index",
         "rawType": "int64",
         "type": "integer"
        },
        {
         "name": "id",
         "rawType": "int64",
         "type": "integer"
        },
        {
         "name": "barcode",
         "rawType": "object",
         "type": "string"
        },
        {
         "name": "student_name",
         "rawType": "object",
         "type": "string"
        },
        {
         "name": "gender",
         "rawType": "object",
         "type": "string"
        },
        {
         "name": "religion_name",
         "rawType": "object",
         "type": "string"
        },
        {
         "name": "dob",
         "rawType": "object",
         "type": "string"
        },
        {
         "name": "annual_income",
         "rawType": "object",
         "type": "string"
        },
        {
         "name": "address",
         "rawType": "object",
         "type": "string"
        },
        {
         "name": "state",
         "rawType": "object",
         "type": "string"
        },
        {
         "name": "district",
         "rawType": "object",
         "type": "string"
        },
        {
         "name": "block",
         "rawType": "object",
         "type": "string"
        },
        {
         "name": "pin_code",
         "rawType": "object",
         "type": "string"
        },
        {
         "name": "social_category",
         "rawType": "object",
         "type": "string"
        },
        {
         "name": "board_exam_name_for_highest_qualification",
         "rawType": "object",
         "type": "string"
        },
        {
         "name": "highest_qualification",
         "rawType": "object",
         "type": "string"
        },
        {
         "name": "ph",
         "rawType": "object",
         "type": "string"
        },
        {
         "name": "es",
         "rawType": "object",
         "type": "string"
        },
        {
         "name": "sports",
         "rawType": "object",
         "type": "string"
        },
        {
         "name": "orphan",
         "rawType": "object",
         "type": "string"
        },
        {
         "name": "aadhar_no",
         "rawType": "object",
         "type": "string"
        },
        {
         "name": "module",
         "rawType": "object",
         "type": "string"
        },
        {
         "name": "academic_year",
         "rawType": "int64",
         "type": "integer"
        },
        {
         "name": "examination_board_of_the_highest_qualification",
         "rawType": "object",
         "type": "string"
        },
        {
         "name": "examination_type",
         "rawType": "object",
         "type": "string"
        },
        {
         "name": "year_of_passing",
         "rawType": "object",
         "type": "string"
        },
        {
         "name": "roll_no",
         "rawType": "object",
         "type": "string"
        },
        {
         "name": "total_marks",
         "rawType": "object",
         "type": "string"
        },
        {
         "name": "secured_marks",
         "rawType": "object",
         "type": "string"
        },
        {
         "name": "percentage",
         "rawType": "object",
         "type": "string"
        },
        {
         "name": "compartmental_status",
         "rawType": "object",
         "type": "string"
        },
        {
         "name": "deg_option_details",
         "rawType": "object",
         "type": "string"
        },
        {
         "name": "deg_compartments",
         "rawType": "object",
         "type": "string"
        }
       ],
       "ref": "53f188c0-2c0e-41a0-a426-e1688d8ba9c9",
       "rows": [
        [
         "0",
         "16526",
         "18D023830",
         "A/3AsPJNu6SmqSblSln3GP0QEID/kiP8ndDCBaMcSb8=",
         "Male",
         "HINDUISM",
         "08-Oct-2000",
         "0 - 1,50,000",
         "AT-JALPOK,PO-PAKSHYOT,PS-PATKURA",
         "Odisha",
         "Kendrapara",
         "Garadapur",
         "",
         "GEN",
         "Council of Higher Secondary Education, Odisha",
         "+2 SCIENCE",
         "NO",
         "NO",
         "NO",
         "NO",
         "",
         "DEG",
         "2018",
         "CHSE, Odisha",
         "Annual",
         "2018",
         "98w13QmDgMW+UXCnBK8O9w==",
         "600",
         "333.0",
         "55.50",
         "NO",
         "[{\"ReportedInstitute\": \"Sabitri Devi +3 Science College, Sisua\", \"SAMSCode\": \"07153301\", \"Stream\": \"Physical Science\", \"Subject\": \"Physics\", \"InstituteDistrict\": \"Cuttack\", \"InstituteBlock\": \"Salipur\", \"TypeofInstitute\": \"Unaided\", \"Phase\": \"1\", \"Year\": \"2018\", \"AdmissionStatus\": \"TC TAKEN\", \"OptionNo\": \"1\"}, {\"ReportedInstitute\": \"Sabitri Devi +3 Science College, Sisua\", \"SAMSCode\": \"07153301\", \"Stream\": \"Physical Science\", \"Subject\": \"Chemistry\", \"InstituteDistrict\": \"Cuttack\", \"InstituteBlock\": \"Salipur\", \"TypeofInstitute\": \"Unaided\", \"Phase\": \"1\", \"Year\": \"2018\", \"AdmissionStatus\": \"NOT SELECTED\", \"OptionNo\": \"2\"}, {\"ReportedInstitute\": \"Sabitri Devi +3 Science College, Sisua\", \"SAMSCode\": \"07153301\", \"Stream\": \"Physical Science\", \"Subject\": \"Mathematics\", \"InstituteDistrict\": \"Cuttack\", \"InstituteBlock\": \"Salipur\", \"TypeofInstitute\": \"Unaided\", \"Phase\": \"1\", \"Year\": \"2018\", \"AdmissionStatus\": \"NOT SELECTED\", \"OptionNo\": \"3\"}, {\"ReportedInstitute\": \"Sabitri Devi +3 Science College, Sisua\", \"SAMSCode\": \"07153301\", \"Stream\": \"Physical Science\", \"Subject\": \"Computer Science\", \"InstituteDistrict\": \"Cuttack\", \"InstituteBlock\": \"Salipur\", \"TypeofInstitute\": \"Unaided\", \"Phase\": \"1\", \"Year\": \"2018\", \"AdmissionStatus\": \"NOT SELECTED\", \"OptionNo\": \"4\"}, {\"ReportedInstitute\": \"Sabitri Devi +3 Science College, Sisua\", \"SAMSCode\": \"07153301\", \"Stream\": \"Physical Science\", \"Subject\": \"Geology\", \"InstituteDistrict\": \"Cuttack\", \"InstituteBlock\": \"Salipur\", \"TypeofInstitute\": \"Unaided\", \"Phase\": \"1\", \"Year\": \"2018\", \"AdmissionStatus\": \"NOT SELECTED\", \"OptionNo\": \"5\"}]",
         "[]"
        ],
        [
         "1",
         "11848",
         "18D017396",
         "CKYprJaNFo9F8dxfVVyJAPmAn2qMwnQGhTyiytskj+8=",
         "Female",
         "HINDUISM",
         "30-Mar-2001",
         "0 - 1,50,000",
         "AT-BARPALIPARA BALANGIR,\r\nPO/PS-BALANGIR",
         "Odisha",
         "Bolangir",
         "Balangir (MPL)",
         "767001",
         "GEN",
         "Council of Higher Secondary Education, Odisha",
         "+2 ARTS",
         "NO",
         "NO",
         "NO",
         "NO",
         "",
         "DEG",
         "2018",
         "CHSE, Odisha",
         "Annual",
         "2018",
         "FtTtUoGfY1x7UcEEGdU0GA==",
         "600",
         "333.0",
         "55.50",
         "NO",
         "[{\"ReportedInstitute\": \"Government Women's  (Degree) College, Bolangir\", \"SAMSCode\": \"05071405\", \"Stream\": \"Arts\", \"Subject\": \"GENERAL\", \"InstituteDistrict\": \"Bolangir\", \"InstituteBlock\": \"Balangir (MPL)\", \"TypeofInstitute\": \"Govt. (SME)\", \"Phase\": \"1\", \"Year\": \"2018\", \"AdmissionStatus\": \"NOT SELECTED\", \"OptionNo\": \"1\"}, {\"ReportedInstitute\": \"Rajendra University, Bolangir\", \"SAMSCode\": \"05071908\", \"Stream\": \"Arts\", \"Subject\": \"Political Science\", \"InstituteDistrict\": \"Bolangir\", \"InstituteBlock\": \"Balangir (MPL)\", \"TypeofInstitute\": \"Govt. (SME)\", \"Phase\": \"1\", \"Year\": \"2018\", \"AdmissionStatus\": \"NOT SELECTED\", \"OptionNo\": \"2\"}, {\"ReportedInstitute\": \"Government  (Degree) College, Bolangir\", \"SAMSCode\": \"05071304\", \"Stream\": \"Arts\", \"Subject\": \"Political Science\", \"InstituteDistrict\": \"Bolangir\", \"InstituteBlock\": \"Balangir (MPL)\", \"TypeofInstitute\": \"Govt. (SME)\", \"Phase\": \"1\", \"Year\": \"2018\", \"AdmissionStatus\": \"NOT SELECTED\", \"OptionNo\": \"3\"}, {\"ReportedInstitute\": \"Government Women's  (Degree) College, Bolangir\", \"SAMSCode\": \"05071405\", \"Stream\": \"Arts\", \"Subject\": \"Political Science\", \"InstituteDistrict\": \"Bolangir\", \"InstituteBlock\": \"Balangir (MPL)\", \"TypeofInstitute\": \"Govt. (SME)\", \"Phase\": \"1\", \"Year\": \"2018\", \"AdmissionStatus\": \"NOT SELECTED\", \"OptionNo\": \"4\"}, {\"ReportedInstitute\": \"Panchayat Samiti (Degree) College, Deogaon\", \"SAMSCode\": \"05039301\", \"Stream\": \"Arts\", \"Subject\": \"Political Science\", \"InstituteDistrict\": \"Bolangir\", \"InstituteBlock\": \"Deogaon\", \"TypeofInstitute\": \"Non-Govt Aided (662 Categories)\", \"Phase\": \"1\", \"Year\": \"2018\", \"AdmissionStatus\": \"ADMITTED\", \"OptionNo\": \"5\"}]",
         "[]"
        ],
        [
         "2",
         "68864",
         "18D091129",
         "5k2Hfu6wtKVh6wgnEoy8eZ+NDaz6o/D/F7REbk5hBvM=",
         "Male",
         "HINDUISM",
         "22-Oct-2000",
         "0 - 1,50,000",
         "AT-NIJIRUPAS PO-GARHRUPAS",
         "Odisha",
         "Puri",
         "Gop",
         "752110",
         "GEN",
         "Council of Higher Secondary Education, Odisha",
         "+2 ARTS",
         "NO",
         "NO",
         "NO",
         "NO",
         "",
         "DEG",
         "2018",
         "CHSE, Odisha",
         "Annual",
         "2018",
         "9v3VVLng8hIsGWeYCz12oQ==",
         "600",
         "268.0",
         "44.67",
         "NO",
         "[{\"ReportedInstitute\": \"Konark Bhagabati (Degree) College, Konark\", \"SAMSCode\": \"26122301\", \"Stream\": \"Arts\", \"Subject\": \"Odia\", \"InstituteDistrict\": \"Puri\", \"InstituteBlock\": \"Konark (NAC)\", \"TypeofInstitute\": \"Non-Govt Aided (488 Categories)\", \"Phase\": \"1\", \"Year\": \"2018\", \"AdmissionStatus\": \"NOT SELECTED\", \"OptionNo\": \"1\"}, {\"ReportedInstitute\": \"Gop (Degree) College, Gop\", \"SAMSCode\": \"26042301\", \"Stream\": \"Arts\", \"Subject\": \"Odia\", \"InstituteDistrict\": \"Puri\", \"InstituteBlock\": \"Gop\", \"TypeofInstitute\": \"Non-Govt Aided (488 Categories)\", \"Phase\": \"1\", \"Year\": \"2018\", \"AdmissionStatus\": \"NOT SELECTED\", \"OptionNo\": \"2\"}, {\"ReportedInstitute\": \"Nimapada (Autonomous) College, Nimapada\", \"SAMSCode\": \"26132902\", \"Stream\": \"Arts\", \"Subject\": \"Odia\", \"InstituteDistrict\": \"Puri\", \"InstituteBlock\": \"Nimapara (NAC)\", \"TypeofInstitute\": \"Non-Govt Aided (488 Categories)\", \"Phase\": \"1\", \"Year\": \"2018\", \"AdmissionStatus\": \"NOT SELECTED\", \"OptionNo\": \"3\"}, {\"ReportedInstitute\": \"Astaranga (Degree) College, Astaranga\", \"SAMSCode\": \"26019301\", \"Stream\": \"Arts\", \"Subject\": \"Odia\", \"InstituteDistrict\": \"Puri\", \"InstituteBlock\": \"Astarang\", \"TypeofInstitute\": \"Non-Govt Aided (662 Categories)\", \"Phase\": \"1\", \"Year\": \"2018\", \"AdmissionStatus\": \"SELECTED BUT NOT ADMITTED\", \"OptionNo\": \"4\"}, {\"ReportedInstitute\": \"Mangala (Degree) Mahavidyalaya, Kakatpur\", \"SAMSCode\": \"26052301\", \"Stream\": \"Arts\", \"Subject\": \"Odia\", \"InstituteDistrict\": \"Puri\", \"InstituteBlock\": \"Kakatpur\", \"TypeofInstitute\": \"Non-Govt Aided (488 Categories)\", \"Phase\": \"1\", \"Year\": \"2018\", \"AdmissionStatus\": \"NOT SELECTED\", \"OptionNo\": \"5\"}]",
         "[]"
        ],
        [
         "3",
         "33506",
         "18D046216",
         "Fu0baNRZFXHRoQ2BptwXvn4ZQVkb6MQMrFyBwjdV2V0=",
         "Male",
         "HINDUISM",
         "05-Mar-2001",
         "0 - 1,50,000",
         "AT/PO-BODAL,PS-NAUGAON",
         "Odisha",
         "Jagatsinghpur",
         "Naugaon",
         "754113",
         "GEN",
         "Council of Higher Secondary Education, Odisha",
         "+2 ARTS",
         "NO",
         "NO",
         "NO",
         "NO",
         "",
         "DEG",
         "2018",
         "CHSE, Odisha",
         "Annual",
         "2018",
         "KYtMGaxdA+nNzUHtVQo5CQ==",
         "600",
         "247.0",
         "41.17",
         "NO",
         "[{\"ReportedInstitute\": \"Sri Jagannath (Degree) Mahavidyalaya, Naugaonhat\", \"SAMSCode\": \"12062301\", \"Stream\": \"Arts\", \"Subject\": \"Political Science\", \"InstituteDistrict\": \"Jagatsinghpur\", \"InstituteBlock\": \"Naugaon\", \"TypeofInstitute\": \"Non-Govt Aided (488 Categories)\", \"Phase\": \"1\", \"Year\": \"2018\", \"AdmissionStatus\": \"NOT SELECTED\", \"OptionNo\": \"1\"}, {\"ReportedInstitute\": \"Samanta Chandra Sekhar (Autonomous) College, Puri\", \"SAMSCode\": \"26151905\", \"Stream\": \"Arts\", \"Subject\": \"Political Science\", \"InstituteDistrict\": \"Puri\", \"InstituteBlock\": \"Puri (MPL)\", \"TypeofInstitute\": \"Govt. (SME)\", \"Phase\": \"1\", \"Year\": \"2018\", \"AdmissionStatus\": \"NOT SELECTED\", \"OptionNo\": \"2\"}, {\"ReportedInstitute\": \"Swami Vivekananda Memorial (Autonomous) College, Jagatsinghpur\", \"SAMSCode\": \"12092902\", \"Stream\": \"Arts\", \"Subject\": \"Political Science\", \"InstituteDistrict\": \"Jagatsinghpur\", \"InstituteBlock\": \"Jagatsinghpur (MPL)\", \"TypeofInstitute\": \"Non-Govt Aided (488 Categories)\", \"Phase\": \"1\", \"Year\": \"2018\", \"AdmissionStatus\": \"NOT SELECTED\", \"OptionNo\": \"3\"}, {\"ReportedInstitute\": \"Balikuda (Degree) College, Balikuda\", \"SAMSCode\": \"12012302\", \"Stream\": \"Arts\", \"Subject\": \"Political Science\", \"InstituteDistrict\": \"Jagatsinghpur\", \"InstituteBlock\": \"Balikuda\", \"TypeofInstitute\": \"Non-Govt Aided (488 Categories)\", \"Phase\": \"1\", \"Year\": \"2018\", \"AdmissionStatus\": \"NOT SELECTED\", \"OptionNo\": \"4\"}, {\"ReportedInstitute\": \"Mangala (Degree) Mahavidyalaya, Kakatpur\", \"SAMSCode\": \"26052301\", \"Stream\": \"Arts\", \"Subject\": \"Political Science\", \"InstituteDistrict\": \"Puri\", \"InstituteBlock\": \"Kakatpur\", \"TypeofInstitute\": \"Non-Govt Aided (488 Categories)\", \"Phase\": \"1\", \"Year\": \"2018\", \"AdmissionStatus\": \"NOT SELECTED\", \"OptionNo\": \"5\"}]",
         "[]"
        ],
        [
         "4",
         "24105",
         "18D033856",
         "owJV5Kn/Ah53r8SOFq3R2G2byQDEErJ4Dj9YeNQHkbk=",
         "Female",
         "HINDUISM",
         "01-Apr-2001",
         "0 - 1,50,000",
         "AT/PO-BELPAHAR,JUNADIHI",
         "Odisha",
         "Jharsuguda",
         "Belpahar (MPL)",
         "768217",
         "GEN",
         "Council of Higher Secondary Education, Odisha",
         "+2 COMMERCE",
         "NO",
         "NO",
         "NO",
         "NO",
         "",
         "DEG",
         "2018",
         "CHSE, Odisha",
         "Annual",
         "2018",
         "a83EHOlG+HEAdH6/3SeuTg==",
         "600",
         "332.0",
         "55.33",
         "NO",
         "[{\"ReportedInstitute\": \"Belpahar (Degree) College, Belpahar\", \"SAMSCode\": \"14069301\", \"Stream\": \"Commerce\", \"Subject\": \"Commerce\", \"InstituteDistrict\": \"Jharsuguda\", \"InstituteBlock\": \"Belpahar (MPL)\", \"TypeofInstitute\": \"Non-Govt Aided (662 Categories)\", \"Phase\": \"1\", \"Year\": \"2018\", \"AdmissionStatus\": \"TC TAKEN\", \"OptionNo\": \"1\"}, {\"ReportedInstitute\": \"Women's (Degree) College, Jharsuguda\", \"SAMSCode\": \"14082404\", \"Stream\": \"Commerce\", \"Subject\": \"Commerce\", \"InstituteDistrict\": \"Jharsuguda\", \"InstituteBlock\": \"Jharsuguda (MPL)\", \"TypeofInstitute\": \"Non-Govt Aided (488 Categories)\", \"Phase\": \"1\", \"Year\": \"2018\", \"AdmissionStatus\": \"NOT SELECTED\", \"OptionNo\": \"2\"}, {\"ReportedInstitute\": \"Brajarajnagar (Degree) College, Brajarajnagar\", \"SAMSCode\": \"14072302\", \"Stream\": \"Commerce\", \"Subject\": \"Commerce\", \"InstituteDistrict\": \"Jharsuguda\", \"InstituteBlock\": \"Brajrajnagar (MPL)\", \"TypeofInstitute\": \"Non-Govt Aided (488 Categories)\", \"Phase\": \"1\", \"Year\": \"2018\", \"AdmissionStatus\": \"NOT SELECTED\", \"OptionNo\": \"3\"}, {\"ReportedInstitute\": \"Laxmi Narayan (Degree) College, Jharsuguda\", \"SAMSCode\": \"14082303\", \"Stream\": \"Commerce\", \"Subject\": \"Commerce\", \"InstituteDistrict\": \"Jharsuguda\", \"InstituteBlock\": \"Jharsuguda (MPL)\", \"TypeofInstitute\": \"Non-Govt Aided (488 Categories)\", \"Phase\": \"1\", \"Year\": \"2018\", \"AdmissionStatus\": \"NOT SELECTED\", \"OptionNo\": \"4\"}, {\"ReportedInstitute\": \"Municipal (Degree) College, Uditnagar\", \"SAMSCode\": \"30102306\", \"Stream\": \"Commerce\", \"Subject\": \"Commerce\", \"InstituteDistrict\": \"Sundargarh\", \"InstituteBlock\": \"Rourkela (MC)\", \"TypeofInstitute\": \"Non-Govt Aided (488 Categories)\", \"Phase\": \"1\", \"Year\": \"2018\", \"AdmissionStatus\": \"NOT SELECTED\", \"OptionNo\": \"5\"}]",
         "[]"
        ]
       ],
       "shape": {
        "columns": 32,
        "rows": 5
       }
      },
      "text/html": [
       "<div>\n",
       "<style scoped>\n",
       "    .dataframe tbody tr th:only-of-type {\n",
       "        vertical-align: middle;\n",
       "    }\n",
       "\n",
       "    .dataframe tbody tr th {\n",
       "        vertical-align: top;\n",
       "    }\n",
       "\n",
       "    .dataframe thead th {\n",
       "        text-align: right;\n",
       "    }\n",
       "</style>\n",
       "<table border=\"1\" class=\"dataframe\">\n",
       "  <thead>\n",
       "    <tr style=\"text-align: right;\">\n",
       "      <th></th>\n",
       "      <th>id</th>\n",
       "      <th>barcode</th>\n",
       "      <th>student_name</th>\n",
       "      <th>gender</th>\n",
       "      <th>religion_name</th>\n",
       "      <th>dob</th>\n",
       "      <th>annual_income</th>\n",
       "      <th>address</th>\n",
       "      <th>state</th>\n",
       "      <th>district</th>\n",
       "      <th>...</th>\n",
       "      <th>examination_board_of_the_highest_qualification</th>\n",
       "      <th>examination_type</th>\n",
       "      <th>year_of_passing</th>\n",
       "      <th>roll_no</th>\n",
       "      <th>total_marks</th>\n",
       "      <th>secured_marks</th>\n",
       "      <th>percentage</th>\n",
       "      <th>compartmental_status</th>\n",
       "      <th>deg_option_details</th>\n",
       "      <th>deg_compartments</th>\n",
       "    </tr>\n",
       "  </thead>\n",
       "  <tbody>\n",
       "    <tr>\n",
       "      <th>0</th>\n",
       "      <td>16526</td>\n",
       "      <td>18D023830</td>\n",
       "      <td>A/3AsPJNu6SmqSblSln3GP0QEID/kiP8ndDCBaMcSb8=</td>\n",
       "      <td>Male</td>\n",
       "      <td>HINDUISM</td>\n",
       "      <td>08-Oct-2000</td>\n",
       "      <td>0 - 1,50,000</td>\n",
       "      <td>AT-JALPOK,PO-PAKSHYOT,PS-PATKURA</td>\n",
       "      <td>Odisha</td>\n",
       "      <td>Kendrapara</td>\n",
       "      <td>...</td>\n",
       "      <td>CHSE, Odisha</td>\n",
       "      <td>Annual</td>\n",
       "      <td>2018</td>\n",
       "      <td>98w13QmDgMW+UXCnBK8O9w==</td>\n",
       "      <td>600</td>\n",
       "      <td>333.0</td>\n",
       "      <td>55.50</td>\n",
       "      <td>NO</td>\n",
       "      <td>[{\"ReportedInstitute\": \"Sabitri Devi +3 Scienc...</td>\n",
       "      <td>[]</td>\n",
       "    </tr>\n",
       "    <tr>\n",
       "      <th>1</th>\n",
       "      <td>11848</td>\n",
       "      <td>18D017396</td>\n",
       "      <td>CKYprJaNFo9F8dxfVVyJAPmAn2qMwnQGhTyiytskj+8=</td>\n",
       "      <td>Female</td>\n",
       "      <td>HINDUISM</td>\n",
       "      <td>30-Mar-2001</td>\n",
       "      <td>0 - 1,50,000</td>\n",
       "      <td>AT-BARPALIPARA BALANGIR,\\r\\nPO/PS-BALANGIR</td>\n",
       "      <td>Odisha</td>\n",
       "      <td>Bolangir</td>\n",
       "      <td>...</td>\n",
       "      <td>CHSE, Odisha</td>\n",
       "      <td>Annual</td>\n",
       "      <td>2018</td>\n",
       "      <td>FtTtUoGfY1x7UcEEGdU0GA==</td>\n",
       "      <td>600</td>\n",
       "      <td>333.0</td>\n",
       "      <td>55.50</td>\n",
       "      <td>NO</td>\n",
       "      <td>[{\"ReportedInstitute\": \"Government Women's  (D...</td>\n",
       "      <td>[]</td>\n",
       "    </tr>\n",
       "    <tr>\n",
       "      <th>2</th>\n",
       "      <td>68864</td>\n",
       "      <td>18D091129</td>\n",
       "      <td>5k2Hfu6wtKVh6wgnEoy8eZ+NDaz6o/D/F7REbk5hBvM=</td>\n",
       "      <td>Male</td>\n",
       "      <td>HINDUISM</td>\n",
       "      <td>22-Oct-2000</td>\n",
       "      <td>0 - 1,50,000</td>\n",
       "      <td>AT-NIJIRUPAS PO-GARHRUPAS</td>\n",
       "      <td>Odisha</td>\n",
       "      <td>Puri</td>\n",
       "      <td>...</td>\n",
       "      <td>CHSE, Odisha</td>\n",
       "      <td>Annual</td>\n",
       "      <td>2018</td>\n",
       "      <td>9v3VVLng8hIsGWeYCz12oQ==</td>\n",
       "      <td>600</td>\n",
       "      <td>268.0</td>\n",
       "      <td>44.67</td>\n",
       "      <td>NO</td>\n",
       "      <td>[{\"ReportedInstitute\": \"Konark Bhagabati (Degr...</td>\n",
       "      <td>[]</td>\n",
       "    </tr>\n",
       "    <tr>\n",
       "      <th>3</th>\n",
       "      <td>33506</td>\n",
       "      <td>18D046216</td>\n",
       "      <td>Fu0baNRZFXHRoQ2BptwXvn4ZQVkb6MQMrFyBwjdV2V0=</td>\n",
       "      <td>Male</td>\n",
       "      <td>HINDUISM</td>\n",
       "      <td>05-Mar-2001</td>\n",
       "      <td>0 - 1,50,000</td>\n",
       "      <td>AT/PO-BODAL,PS-NAUGAON</td>\n",
       "      <td>Odisha</td>\n",
       "      <td>Jagatsinghpur</td>\n",
       "      <td>...</td>\n",
       "      <td>CHSE, Odisha</td>\n",
       "      <td>Annual</td>\n",
       "      <td>2018</td>\n",
       "      <td>KYtMGaxdA+nNzUHtVQo5CQ==</td>\n",
       "      <td>600</td>\n",
       "      <td>247.0</td>\n",
       "      <td>41.17</td>\n",
       "      <td>NO</td>\n",
       "      <td>[{\"ReportedInstitute\": \"Sri Jagannath (Degree)...</td>\n",
       "      <td>[]</td>\n",
       "    </tr>\n",
       "    <tr>\n",
       "      <th>4</th>\n",
       "      <td>24105</td>\n",
       "      <td>18D033856</td>\n",
       "      <td>owJV5Kn/Ah53r8SOFq3R2G2byQDEErJ4Dj9YeNQHkbk=</td>\n",
       "      <td>Female</td>\n",
       "      <td>HINDUISM</td>\n",
       "      <td>01-Apr-2001</td>\n",
       "      <td>0 - 1,50,000</td>\n",
       "      <td>AT/PO-BELPAHAR,JUNADIHI</td>\n",
       "      <td>Odisha</td>\n",
       "      <td>Jharsuguda</td>\n",
       "      <td>...</td>\n",
       "      <td>CHSE, Odisha</td>\n",
       "      <td>Annual</td>\n",
       "      <td>2018</td>\n",
       "      <td>a83EHOlG+HEAdH6/3SeuTg==</td>\n",
       "      <td>600</td>\n",
       "      <td>332.0</td>\n",
       "      <td>55.33</td>\n",
       "      <td>NO</td>\n",
       "      <td>[{\"ReportedInstitute\": \"Belpahar (Degree) Coll...</td>\n",
       "      <td>[]</td>\n",
       "    </tr>\n",
       "  </tbody>\n",
       "</table>\n",
       "<p>5 rows × 32 columns</p>\n",
       "</div>"
      ],
      "text/plain": [
       "      id    barcode                                  student_name  gender  \\\n",
       "0  16526  18D023830  A/3AsPJNu6SmqSblSln3GP0QEID/kiP8ndDCBaMcSb8=    Male   \n",
       "1  11848  18D017396  CKYprJaNFo9F8dxfVVyJAPmAn2qMwnQGhTyiytskj+8=  Female   \n",
       "2  68864  18D091129  5k2Hfu6wtKVh6wgnEoy8eZ+NDaz6o/D/F7REbk5hBvM=    Male   \n",
       "3  33506  18D046216  Fu0baNRZFXHRoQ2BptwXvn4ZQVkb6MQMrFyBwjdV2V0=    Male   \n",
       "4  24105  18D033856  owJV5Kn/Ah53r8SOFq3R2G2byQDEErJ4Dj9YeNQHkbk=  Female   \n",
       "\n",
       "  religion_name          dob annual_income  \\\n",
       "0      HINDUISM  08-Oct-2000  0 - 1,50,000   \n",
       "1      HINDUISM  30-Mar-2001  0 - 1,50,000   \n",
       "2      HINDUISM  22-Oct-2000  0 - 1,50,000   \n",
       "3      HINDUISM  05-Mar-2001  0 - 1,50,000   \n",
       "4      HINDUISM  01-Apr-2001  0 - 1,50,000   \n",
       "\n",
       "                                      address   state       district  ...  \\\n",
       "0            AT-JALPOK,PO-PAKSHYOT,PS-PATKURA  Odisha     Kendrapara  ...   \n",
       "1  AT-BARPALIPARA BALANGIR,\\r\\nPO/PS-BALANGIR  Odisha       Bolangir  ...   \n",
       "2                   AT-NIJIRUPAS PO-GARHRUPAS  Odisha           Puri  ...   \n",
       "3                      AT/PO-BODAL,PS-NAUGAON  Odisha  Jagatsinghpur  ...   \n",
       "4                     AT/PO-BELPAHAR,JUNADIHI  Odisha     Jharsuguda  ...   \n",
       "\n",
       "  examination_board_of_the_highest_qualification examination_type  \\\n",
       "0                                   CHSE, Odisha           Annual   \n",
       "1                                   CHSE, Odisha           Annual   \n",
       "2                                   CHSE, Odisha           Annual   \n",
       "3                                   CHSE, Odisha           Annual   \n",
       "4                                   CHSE, Odisha           Annual   \n",
       "\n",
       "  year_of_passing                   roll_no total_marks secured_marks  \\\n",
       "0            2018  98w13QmDgMW+UXCnBK8O9w==         600         333.0   \n",
       "1            2018  FtTtUoGfY1x7UcEEGdU0GA==         600         333.0   \n",
       "2            2018  9v3VVLng8hIsGWeYCz12oQ==         600         268.0   \n",
       "3            2018  KYtMGaxdA+nNzUHtVQo5CQ==         600         247.0   \n",
       "4            2018  a83EHOlG+HEAdH6/3SeuTg==         600         332.0   \n",
       "\n",
       "  percentage compartmental_status  \\\n",
       "0      55.50                   NO   \n",
       "1      55.50                   NO   \n",
       "2      44.67                   NO   \n",
       "3      41.17                   NO   \n",
       "4      55.33                   NO   \n",
       "\n",
       "                                  deg_option_details deg_compartments  \n",
       "0  [{\"ReportedInstitute\": \"Sabitri Devi +3 Scienc...               []  \n",
       "1  [{\"ReportedInstitute\": \"Government Women's  (D...               []  \n",
       "2  [{\"ReportedInstitute\": \"Konark Bhagabati (Degr...               []  \n",
       "3  [{\"ReportedInstitute\": \"Sri Jagannath (Degree)...               []  \n",
       "4  [{\"ReportedInstitute\": \"Belpahar (Degree) Coll...               []  \n",
       "\n",
       "[5 rows x 32 columns]"
      ]
     },
     "execution_count": 22,
     "metadata": {},
     "output_type": "execute_result"
    }
   ],
   "source": [
    "deg_enrollments.head()"
   ]
  },
  {
   "cell_type": "code",
   "execution_count": 24,
   "id": "7c6fcc2e",
   "metadata": {},
   "outputs": [
    {
     "data": {
      "text/plain": [
       "Index(['id', 'barcode', 'student_name', 'gender', 'religion_name', 'dob',\n",
       "       'annual_income', 'address', 'state', 'district', 'block', 'pin_code',\n",
       "       'social_category', 'board_exam_name_for_highest_qualification',\n",
       "       'highest_qualification', 'ph', 'es', 'sports', 'orphan', 'module',\n",
       "       'academic_year', 'examination_board_of_the_highest_qualification',\n",
       "       'examination_type', 'year_of_passing', 'roll_no', 'total_marks',\n",
       "       'secured_marks', 'percentage', 'compartmental_status',\n",
       "       'deg_option_details', 'deg_compartments'],\n",
       "      dtype='object')"
      ]
     },
     "execution_count": 24,
     "metadata": {},
     "output_type": "execute_result"
    }
   ],
   "source": [
    "deg_enrollments.columns"
   ]
  },
  {
   "cell_type": "code",
   "execution_count": 14,
   "id": "35309cf8",
   "metadata": {},
   "outputs": [
    {
     "data": {
      "text/plain": [
       "Index(['id', 'barcode', 'student_name', 'gender', 'religion_name', 'dob',\n",
       "       'annual_income', 'address', 'state', 'district', 'block', 'pin_code',\n",
       "       'social_category', 'board_exam_name_for_highest_qualification',\n",
       "       'highest_qualification', 'ph', 'es', 'sports', 'orphan', 'aadhar_no',\n",
       "       'module', 'academic_year',\n",
       "       'examination_board_of_the_highest_qualification', 'examination_type',\n",
       "       'year_of_passing', 'roll_no', 'total_marks', 'secured_marks',\n",
       "       'percentage', 'compartmental_status', 'deg_option_details',\n",
       "       'deg_compartments'],\n",
       "      dtype='object')"
      ]
     },
     "execution_count": 14,
     "metadata": {},
     "output_type": "execute_result"
    }
   ],
   "source": [
    "deg_enrollments.columns"
   ]
  },
  {
   "cell_type": "code",
   "execution_count": 13,
   "id": "13a2b8f7",
   "metadata": {},
   "outputs": [
    {
     "data": {
      "application/vnd.microsoft.datawrangler.viewer.v0+json": {
       "columns": [
        {
         "name": "highest_qualification",
         "rawType": "object",
         "type": "string"
        },
        {
         "name": "count",
         "rawType": "int64",
         "type": "integer"
        }
       ],
       "ref": "e2faf26c-b387-4288-bc27-8d0bf2716aea",
       "rows": [
        [
         "+2 ARTS",
         "1153670"
        ],
        [
         "+2 SCIENCE",
         "662733"
        ],
        [
         "+2 COMMERCE",
         "172320"
        ],
        [
         "+2 UPASASTRI",
         "31394"
        ],
        [
         "+2 VOCATIONAL",
         "26648"
        ],
        [
         "DIPLOMA",
         "7651"
        ]
       ],
       "shape": {
        "columns": 1,
        "rows": 6
       }
      },
      "text/plain": [
       "highest_qualification\n",
       "+2 ARTS          1153670\n",
       "+2 SCIENCE        662733\n",
       "+2 COMMERCE       172320\n",
       "+2 UPASASTRI       31394\n",
       "+2 VOCATIONAL      26648\n",
       "DIPLOMA             7651\n",
       "Name: count, dtype: int64"
      ]
     },
     "execution_count": 13,
     "metadata": {},
     "output_type": "execute_result"
    }
   ],
   "source": [
    "deg_enrollments[\"highest_qualification\"].value_counts()"
   ]
  },
  {
   "cell_type": "code",
   "execution_count": 39,
   "id": "30f970a8",
   "metadata": {},
   "outputs": [
    {
     "name": "stdout",
     "output_type": "stream",
     "text": [
      "\u001b[32m2025-09-25 09:03:56.583\u001b[0m | \u001b[1mINFO    \u001b[0m | \u001b[36msams.utils\u001b[0m:\u001b[36mload_data\u001b[0m:\u001b[36m75\u001b[0m - \u001b[1mLoading data from C:\\Users\\Admin\\Documents\\GitHub\\sams\\data\\interim\\hss_enrollments.pq\u001b[0m\n"
     ]
    }
   ],
   "source": [
    "hss_enrollments = load_data(datasets[\"hss_enrollments\"])"
   ]
  },
  {
   "cell_type": "code",
   "execution_count": 40,
   "id": "8a496893",
   "metadata": {},
   "outputs": [
    {
     "data": {
      "text/plain": [
       "(3453401, 31)"
      ]
     },
     "execution_count": 40,
     "metadata": {},
     "output_type": "execute_result"
    }
   ],
   "source": [
    "hss_enrollments.shape"
   ]
  },
  {
   "cell_type": "code",
   "execution_count": 41,
   "id": "62cbe160",
   "metadata": {},
   "outputs": [
    {
     "data": {
      "application/vnd.microsoft.datawrangler.viewer.v0+json": {
       "columns": [
        {
         "name": "index",
         "rawType": "int64",
         "type": "integer"
        },
        {
         "name": "id",
         "rawType": "int64",
         "type": "integer"
        },
        {
         "name": "barcode",
         "rawType": "object",
         "type": "string"
        },
        {
         "name": "aadhar_no",
         "rawType": "object",
         "type": "unknown"
        },
        {
         "name": "academic_year",
         "rawType": "int64",
         "type": "integer"
        },
        {
         "name": "module",
         "rawType": "object",
         "type": "string"
        },
        {
         "name": "student_name",
         "rawType": "object",
         "type": "string"
        },
        {
         "name": "gender",
         "rawType": "object",
         "type": "string"
        },
        {
         "name": "dob",
         "rawType": "object",
         "type": "unknown"
        },
        {
         "name": "social_category",
         "rawType": "object",
         "type": "string"
        },
        {
         "name": "orphan",
         "rawType": "bool",
         "type": "boolean"
        },
        {
         "name": "es",
         "rawType": "bool",
         "type": "boolean"
        },
        {
         "name": "ph",
         "rawType": "bool",
         "type": "boolean"
        },
        {
         "name": "address",
         "rawType": "object",
         "type": "string"
        },
        {
         "name": "state",
         "rawType": "object",
         "type": "string"
        },
        {
         "name": "district",
         "rawType": "object",
         "type": "string"
        },
        {
         "name": "block",
         "rawType": "object",
         "type": "string"
        },
        {
         "name": "pin_code",
         "rawType": "object",
         "type": "string"
        },
        {
         "name": "annual_income",
         "rawType": "object",
         "type": "string"
        },
        {
         "name": "roll_no",
         "rawType": "object",
         "type": "string"
        },
        {
         "name": "highest_qualification",
         "rawType": "object",
         "type": "string"
        },
        {
         "name": "board_exam_name_for_highest_qualification",
         "rawType": "object",
         "type": "string"
        },
        {
         "name": "examination_board_of_the_highest_qualification",
         "rawType": "object",
         "type": "string"
        },
        {
         "name": "examination_type",
         "rawType": "object",
         "type": "string"
        },
        {
         "name": "year_of_passing",
         "rawType": "float64",
         "type": "float"
        },
        {
         "name": "total_marks",
         "rawType": "float32",
         "type": "float"
        },
        {
         "name": "secured_marks",
         "rawType": "float32",
         "type": "float"
        },
        {
         "name": "percentage",
         "rawType": "float32",
         "type": "float"
        },
        {
         "name": "compartmental_status",
         "rawType": "bool",
         "type": "boolean"
        },
        {
         "name": "hss_option_details",
         "rawType": "object",
         "type": "string"
        },
        {
         "name": "hss_compartments",
         "rawType": "object",
         "type": "string"
        },
        {
         "name": "full_address",
         "rawType": "object",
         "type": "string"
        }
       ],
       "ref": "cdbd216f-34a5-4a99-b34e-bf1f0827556d",
       "rows": [
        [
         "0",
         "2703360",
         "18J1152889",
         "\u0000qkm;ú]h¸\u0019n ðÿyvâ[ïôw\rxû)tñöšgþ",
         "2018",
         "HSS",
         "HR81C4EOg2/hE8JRTrn1S6w33F6HtoV5YRG56S79UEc=",
         "Male",
         "2003-03-16",
         "SC",
         "False",
         "False",
         "False",
         "AT- CHAURAMAHUL,\r\nPO- CHHATENPALI,\r\nPS- LEPHRIPARA",
         "Odisha",
         "Sundargarh",
         "Lephripara",
         "770012",
         "2,50,000 - 8,00,000",
         "pYe8rJ5KxJ67Y8yXJe6eWw==",
         "10TH",
         "Board of Secondary Education, Orissa, Cuttack-1, Year 2001 and onwards",
         "BSE, Odisha",
         "Annual",
         "2018.0",
         "600.0",
         "428.0",
         "71.33",
         "False",
         "[{\"ReportedInstitute\": \"AIMS Higher Secondary School of Science, Pardhiapali\", \"SAMSCode\": \"28085102\", \"Stream\": \"Science\", \"InstituteDistrict\": \"Sambalpur\", \"InstituteBlock\": \"Dhankauda\", \"TypeofInstitute\": \"Self-Financing\", \"Phase\": \"1\", \"Year\": \"2018\", \"AdmissionStatus\": \"TC TAKEN\", \"OptionNo\": \"1\"}, {\"ReportedInstitute\": \"Government Higher Secondary School, Sundargarh\", \"SAMSCode\": \"30211101\", \"Stream\": \"Science\", \"InstituteDistrict\": \"Sundargarh\", \"InstituteBlock\": \"Sundargarh (MPL)\", \"TypeofInstitute\": \"Govt. (SME)\", \"Phase\": \"1\", \"Year\": \"2018\", \"AdmissionStatus\": \"NOT SELECTED\", \"OptionNo\": \"2\"}, {\"ReportedInstitute\": \"Prayas Higher Secondary School, Bhedabahal\", \"SAMSCode\": \"30185102\", \"Stream\": \"Science\", \"InstituteDistrict\": \"Sundargarh\", \"InstituteBlock\": \"Sundargarh\", \"TypeofInstitute\": \"Self-Financing\", \"Phase\": \"1\", \"Year\": \"2018\", \"AdmissionStatus\": \"NOT SELECTED\", \"OptionNo\": \"3\"}, {\"ReportedInstitute\": \"Maharshi Dayanand Higher Secondary School, Garh-Mahulpali\", \"SAMSCode\": \"30199102\", \"Stream\": \"Science\", \"InstituteDistrict\": \"Sundargarh\", \"InstituteBlock\": \"Tangarpali\", \"TypeofInstitute\": \"Non-Govt Aided (662 Categories)\", \"Phase\": \"1\", \"Year\": \"2018\", \"AdmissionStatus\": \"NOT SELECTED\", \"OptionNo\": \"4\"}, {\"ReportedInstitute\": \"Manikeswari Higher Secondary School, Garh-Tumulia\", \"SAMSCode\": \"30132101\", \"Stream\": \"Science\", \"InstituteDistrict\": \"Sundargarh\", \"InstituteBlock\": \"Hemgiri\", \"TypeofInstitute\": \"Non-Govt Aided (488 Categories)\", \"Phase\": \"1\", \"Year\": \"2018\", \"AdmissionStatus\": \"NOT SELECTED\", \"OptionNo\": \"5\"}]",
         "[]",
         "AT- CHAURAMAHUL, Lephripara, Sundargarh, Odisha 770012"
        ],
        [
         "1",
         "2703361",
         "18J1152893",
         "ga£!oˆ©ª’ïëˆÿvëfëu’jój5›‘f‹ðjôâ",
         "2018",
         "HSS",
         "RroqbpgtJBXrjGAqGwJEPnBOoDGW7l6AXUWeOI1+mlY=",
         "Female",
         "2001-09-06",
         "ST",
         "False",
         "False",
         "False",
         "AT/PO-PADADAR,PS-RAISUAN",
         "Odisha",
         "Keonjhar",
         "Anandapur",
         "758018",
         "0 - 1,50,000",
         "+O4ItUgVCxGgjUEKty4yKw==",
         "10TH",
         "Board of Secondary Education, Orissa, Cuttack-1, Year 2001 and onwards",
         "BSE, Odisha",
         "Annual",
         "2018.0",
         "600.0",
         "233.0",
         "38.83",
         "False",
         "[{\"ReportedInstitute\": \"Pateswar Higher Secondary School, Suakati\", \"SAMSCode\": \"18109101\", \"Stream\": \"Arts\", \"InstituteDistrict\": \"Keonjhar\", \"InstituteBlock\": \"Banspal\", \"TypeofInstitute\": \"Non-Govt Aided (662 Categories)\", \"Phase\": \"1\", \"Year\": \"2018\", \"AdmissionStatus\": \"NOT SELECTED\", \"OptionNo\": \"1\"}, {\"ReportedInstitute\": \"Raisuan Higher Secondary School, Raisuan\", \"SAMSCode\": \"18139105\", \"Stream\": \"Arts\", \"InstituteDistrict\": \"Keonjhar\", \"InstituteBlock\": \"Keonjhar\", \"TypeofInstitute\": \"Non-Govt Aided (662 Categories)\", \"Phase\": \"1\", \"Year\": \"2018\", \"AdmissionStatus\": \"NOT SELECTED\", \"OptionNo\": \"2\"}, {\"ReportedInstitute\": \"Keonjhar Higher Secondary School, Keonjhar\", \"SAMSCode\": \"18172101\", \"Stream\": \"Arts\", \"InstituteDistrict\": \"Keonjhar\", \"InstituteBlock\": \"Keonjhar (MPL)\", \"TypeofInstitute\": \"Non-Govt Aided (488 Categories)\", \"Phase\": \"1\", \"Year\": \"2018\", \"AdmissionStatus\": \"NOT SELECTED\", \"OptionNo\": \"3\"}, {\"ReportedInstitute\": \"Laxmi Narayan Higher Secondary School, Pipilia\", \"SAMSCode\": \"18119101\", \"Stream\": \"Arts\", \"InstituteDistrict\": \"Keonjhar\", \"InstituteBlock\": \"Ghatagaon\", \"TypeofInstitute\": \"Non-Govt Aided (662 Categories)\", \"Phase\": \"1\", \"Year\": \"2018\", \"AdmissionStatus\": \"NOT SELECTED\", \"OptionNo\": \"4\"}, {\"ReportedInstitute\": \"Padmapur Anchalika Higher Secondary School, Padmapur\", \"SAMSCode\": \"18132101\", \"Stream\": \"Arts\", \"InstituteDistrict\": \"Keonjhar\", \"InstituteBlock\": \"Keonjhar\", \"TypeofInstitute\": \"Non-Govt Aided (488 Categories)\", \"Phase\": \"1\", \"Year\": \"2018\", \"AdmissionStatus\": \"NOT SELECTED\", \"OptionNo\": \"5\"}]",
         "[]",
         "AT/PO-PADADAR, Anandapur, Keonjhar, Odisha 758018"
        ],
        [
         "2",
         "2703362",
         "18J1152906",
         "óà®\u000exðjmìøk@ú=ªð tàä±1ž³w\fá­œü0",
         "2018",
         "HSS",
         "UaqS4u+DJL0F9xeHIAqVp/b7sijboaNytvQ6rEzCq/Y=",
         "Male",
         "2002-11-05",
         "GEN",
         "False",
         "False",
         "False",
         "AT-BHIMPUR,PO-PAHAL,PS-BALIANTA",
         "Odisha",
         "Khurda",
         "Balianta",
         "752101",
         "8,00,000 and above",
         "BAPZomJcVbNhw7VGy0Ks+w==",
         "10TH",
         "Board of Secondary Education, Orissa, Cuttack-1, Year 2001 and onwards",
         "BSE, Odisha",
         "Annual",
         "2018.0",
         "600.0",
         "235.0",
         "39.17",
         "False",
         "[{\"ReportedInstitute\": \"Brahmanajharilo Higher Secondary School, Brahmanajharilo\", \"SAMSCode\": \"07092101\", \"Stream\": \"Arts\", \"InstituteDistrict\": \"Cuttack\", \"InstituteBlock\": \"Baranga\", \"TypeofInstitute\": \"Non-Govt Aided (488 Categories)\", \"Phase\": \"1\", \"Year\": \"2018\", \"AdmissionStatus\": \"ADMITTED\", \"OptionNo\": \"1\"}, {\"ReportedInstitute\": \"Ananta Balia Higher Secondary School, Nuagarh\", \"SAMSCode\": \"07109103\", \"Stream\": \"Arts\", \"InstituteDistrict\": \"Cuttack\", \"InstituteBlock\": \"Cuttack Sadar\", \"TypeofInstitute\": \"Non-Govt Aided (662 Categories)\", \"Phase\": \"1\", \"Year\": \"2018\", \"AdmissionStatus\": \"TC TAKEN\", \"OptionNo\": \"2\"}, {\"ReportedInstitute\": \"Jawaharlal Nehru Higher Secondary School, Balianta\", \"SAMSCode\": \"19019101\", \"Stream\": \"Arts\", \"InstituteDistrict\": \"Khurda\", \"InstituteBlock\": \"Balianta\", \"TypeofInstitute\": \"Non-Govt Aided (662 Categories)\", \"Phase\": \"1\", \"Year\": \"2018\", \"AdmissionStatus\": \"NOT SELECTED\", \"OptionNo\": \"3\"}, {\"ReportedInstitute\": \"Sri Jayadev Higher Secondary School of Education & Technology, Naharkanta\", \"SAMSCode\": \"19052105\", \"Stream\": \"Arts\", \"InstituteDistrict\": \"Khurda\", \"InstituteBlock\": \"Bhubaneswar (MC)\", \"TypeofInstitute\": \"Non-Govt Aided (488 Categories)\", \"Phase\": \"1\", \"Year\": \"2018\", \"AdmissionStatus\": \"NOT SELECTED\", \"OptionNo\": \"4\"}, {\"ReportedInstitute\": \"Udayanath Higher Secondary School of Science & Technology, Adaspur\", \"SAMSCode\": \"07112101\", \"Stream\": \"Arts\", \"InstituteDistrict\": \"Cuttack\", \"InstituteBlock\": \"Kantapara\", \"TypeofInstitute\": \"Non-Govt Aided (488 Categories)\", \"Phase\": \"1\", \"Year\": \"2018\", \"AdmissionStatus\": \"NOT SELECTED\", \"OptionNo\": \"5\"}]",
         "[]",
         "AT-BHIMPUR, Balianta, Khurda, Odisha 752101"
        ],
        [
         "3",
         "2703363",
         "18J1152926",
         "\u001cdf^»+\t\u0013`u\u0016ö4\u0019™”4t¥mágàz¡\b˜t\b\u0013s",
         "2018",
         "HSS",
         "IDsi45Z1rGc46/6z5Me/lgf+tc9AaoV7u4zpG+XpOMY=",
         "Female",
         "2002-05-12",
         "OBC",
         "False",
         "False",
         "False",
         "AT-CHARAMPA, PO-BARALPOKHARI, PS- BHADRAK R",
         "Odisha",
         "Bhadrak",
         "Bhadrak",
         "756101",
         "0 - 1,50,000",
         "KvA4Ys6wwLNAoTFiizpByw==",
         "10TH",
         "Board of Secondary Education, Orissa, Cuttack-1, Year 2001 and onwards",
         "BSE, Odisha",
         "Annual",
         "2018.0",
         "600.0",
         "282.0",
         "47.0",
         "False",
         "[{\"ReportedInstitute\": \"Bhadrak Higher Secondary School, Bhadrak\", \"SAMSCode\": \"04091101\", \"Stream\": \"Arts\", \"InstituteDistrict\": \"Bhadrak\", \"InstituteBlock\": \"Bhadrak (MPL)\", \"TypeofInstitute\": \"Govt. (SME)\", \"Phase\": \"1\", \"Year\": \"2018\", \"AdmissionStatus\": \"NOT SELECTED\", \"OptionNo\": \"1\"}, {\"ReportedInstitute\": \"Bhadrak Women's Higher Secondary School, Bhadrak\", \"SAMSCode\": \"04092201\", \"Stream\": \"Arts\", \"InstituteDistrict\": \"Bhadrak\", \"InstituteBlock\": \"Bhadrak (MPL)\", \"TypeofInstitute\": \"Non-Govt Aided (488 Categories)\", \"Phase\": \"1\", \"Year\": \"2018\", \"AdmissionStatus\": \"NOT SELECTED\", \"OptionNo\": \"2\"}, {\"ReportedInstitute\": \"Simulia Higher Secondary School, Markona\", \"SAMSCode\": \"02092102\", \"Stream\": \"Arts\", \"InstituteDistrict\": \"Balasore\", \"InstituteBlock\": \"Simulia\", \"TypeofInstitute\": \"Non-Govt Aided (488 Categories)\", \"Phase\": \"1\", \"Year\": \"2018\", \"AdmissionStatus\": \"NOT SELECTED\", \"OptionNo\": \"3\"}, {\"ReportedInstitute\": \"Agani Narendra Higher Secondary School, Antara\", \"SAMSCode\": \"02079101\", \"Stream\": \"Arts\", \"InstituteDistrict\": \"Balasore\", \"InstituteBlock\": \"Khaira\", \"TypeofInstitute\": \"Non-Govt Aided (662 Categories)\", \"Phase\": \"1\", \"Year\": \"2018\", \"AdmissionStatus\": \"NOT SELECTED\", \"OptionNo\": \"4\"}, {\"ReportedInstitute\": \"Jambeswar Higher Secondary School, Garsang\", \"SAMSCode\": \"02079102\", \"Stream\": \"Arts\", \"InstituteDistrict\": \"Balasore\", \"InstituteBlock\": \"Khaira\", \"TypeofInstitute\": \"Non-Govt Aided (662 Categories)\", \"Phase\": \"1\", \"Year\": \"2018\", \"AdmissionStatus\": \"NOT SELECTED\", \"OptionNo\": \"5\"}, {\"ReportedInstitute\": \"Balikhanda Higher Secondary School, Balikhanda\", \"SAMSCode\": \"02092101\", \"Stream\": \"Arts\", \"InstituteDistrict\": \"Balasore\", \"InstituteBlock\": \"Simulia\", \"TypeofInstitute\": \"Non-Govt Aided (488 Categories)\", \"Phase\": \"1\", \"Year\": \"2018\", \"AdmissionStatus\": \"SELECTED BUT NOT ADMITTED\", \"OptionNo\": \"6\"}, {\"ReportedInstitute\": \"Biranchi Narayan Madhab Arjun Higher Secondary School, Paliabindha\", \"SAMSCode\": \"04072102\", \"Stream\": \"Arts\", \"InstituteDistrict\": \"Bhadrak\", \"InstituteBlock\": \"Tihidi\", \"TypeofInstitute\": \"Non-Govt Aided (488 Categories)\", \"Phase\": \"1\", \"Year\": \"2018\", \"AdmissionStatus\": \"NOT SELECTED\", \"OptionNo\": \"7\"}]",
         "[]",
         "AT-CHARAMPA, Bhadrak, Bhadrak, Odisha 756101"
        ],
        [
         "4",
         "2703364",
         "18J1152933",
         null,
         "2018",
         "HSS",
         "IDrYpLGzUi0AbxBk/9KcIwOJSNAG8GZt73d/ew9Nw2Q=",
         "Female",
         "2002-06-25",
         "GEN",
         "False",
         "False",
         "False",
         "AT/PO- PODAGADA VIA- LAXMIPUR",
         "Odisha",
         "Koraput",
         "Dasmantpur",
         "765013",
         "8,00,000 and above",
         "XJ5bhexVA3g/ZAb1Ktv0zA==",
         "10TH",
         "Board of Secondary Education, Orissa, Cuttack-1, Year 2001 and onwards",
         "BSE, Odisha",
         "Annual",
         "2018.0",
         "600.0",
         "232.0",
         "38.67",
         "False",
         "[{\"ReportedInstitute\": \"Dr. B.R.A. Higher Secondary School, Koraput\", \"SAMSCode\": \"20109103\", \"Stream\": \"Arts\", \"InstituteDistrict\": \"Koraput\", \"InstituteBlock\": \"Koraput\", \"TypeofInstitute\": \"Non-Govt Aided (662 Categories)\", \"Phase\": \"1\", \"Year\": \"2018\", \"AdmissionStatus\": \"NOT SELECTED\", \"OptionNo\": \"1\"}, {\"ReportedInstitute\": \"Radha Krishna Adivasi Higher Secondary School, Dasmanthpur\", \"SAMSCode\": \"20099101\", \"Stream\": \"Arts\", \"InstituteDistrict\": \"Koraput\", \"InstituteBlock\": \"Dasmantpur\", \"TypeofInstitute\": \"Non-Govt Aided (662 Categories)\", \"Phase\": \"1\", \"Year\": \"2018\", \"AdmissionStatus\": \"NOT SELECTED\", \"OptionNo\": \"2\"}, {\"ReportedInstitute\": \"Bhairaba Higher Secondary School, Borigumma\", \"SAMSCode\": \"20029101\", \"Stream\": \"Commerce\", \"InstituteDistrict\": \"Koraput\", \"InstituteBlock\": \"Borigumma\", \"TypeofInstitute\": \"Non-Govt Aided (662 Categories)\", \"Phase\": \"1\", \"Year\": \"2018\", \"AdmissionStatus\": \"SELECTED BUT NOT ADMITTED\", \"OptionNo\": \"3\"}, {\"ReportedInstitute\": \"Sunabedha Women's Higher Secondary School, Sunabeda\", \"SAMSCode\": \"20189201\", \"Stream\": \"Science\", \"InstituteDistrict\": \"Koraput\", \"InstituteBlock\": \"Sunabeda (MPL)\", \"TypeofInstitute\": \"Non-Govt Aided (662 Categories)\", \"Phase\": \"1\", \"Year\": \"2018\", \"AdmissionStatus\": \"NOT SELECTED\", \"OptionNo\": \"4\"}, {\"ReportedInstitute\": \"Semiliguda Higher Secondary School, Seimiliguda\", \"SAMSCode\": \"20162101\", \"Stream\": \"Commerce\", \"InstituteDistrict\": \"Koraput\", \"InstituteBlock\": \"Semiliguda\", \"TypeofInstitute\": \"Non-Govt Aided (488 Categories)\", \"Phase\": \"1\", \"Year\": \"2018\", \"AdmissionStatus\": \"NOT SELECTED\", \"OptionNo\": \"5\"}]",
         "[]",
         "AT/PO- PODAGADA VIA- LAXMIPUR, Dasmantpur, Koraput, Odisha 765013"
        ]
       ],
       "shape": {
        "columns": 31,
        "rows": 5
       }
      },
      "text/html": [
       "<div>\n",
       "<style scoped>\n",
       "    .dataframe tbody tr th:only-of-type {\n",
       "        vertical-align: middle;\n",
       "    }\n",
       "\n",
       "    .dataframe tbody tr th {\n",
       "        vertical-align: top;\n",
       "    }\n",
       "\n",
       "    .dataframe thead th {\n",
       "        text-align: right;\n",
       "    }\n",
       "</style>\n",
       "<table border=\"1\" class=\"dataframe\">\n",
       "  <thead>\n",
       "    <tr style=\"text-align: right;\">\n",
       "      <th></th>\n",
       "      <th>id</th>\n",
       "      <th>barcode</th>\n",
       "      <th>aadhar_no</th>\n",
       "      <th>academic_year</th>\n",
       "      <th>module</th>\n",
       "      <th>student_name</th>\n",
       "      <th>gender</th>\n",
       "      <th>dob</th>\n",
       "      <th>social_category</th>\n",
       "      <th>orphan</th>\n",
       "      <th>...</th>\n",
       "      <th>examination_board_of_the_highest_qualification</th>\n",
       "      <th>examination_type</th>\n",
       "      <th>year_of_passing</th>\n",
       "      <th>total_marks</th>\n",
       "      <th>secured_marks</th>\n",
       "      <th>percentage</th>\n",
       "      <th>compartmental_status</th>\n",
       "      <th>hss_option_details</th>\n",
       "      <th>hss_compartments</th>\n",
       "      <th>full_address</th>\n",
       "    </tr>\n",
       "  </thead>\n",
       "  <tbody>\n",
       "    <tr>\n",
       "      <th>0</th>\n",
       "      <td>2703360</td>\n",
       "      <td>18J1152889</td>\n",
       "      <td>\u0000qkm;ú]h¸\u0019n ðÿyvâ[ïôw\\rxû)tñöšgþ</td>\n",
       "      <td>2018</td>\n",
       "      <td>HSS</td>\n",
       "      <td>HR81C4EOg2/hE8JRTrn1S6w33F6HtoV5YRG56S79UEc=</td>\n",
       "      <td>Male</td>\n",
       "      <td>2003-03-16</td>\n",
       "      <td>SC</td>\n",
       "      <td>False</td>\n",
       "      <td>...</td>\n",
       "      <td>BSE, Odisha</td>\n",
       "      <td>Annual</td>\n",
       "      <td>2018.0</td>\n",
       "      <td>600.0</td>\n",
       "      <td>428.0</td>\n",
       "      <td>71.330002</td>\n",
       "      <td>False</td>\n",
       "      <td>[{\"ReportedInstitute\": \"AIMS Higher Secondary ...</td>\n",
       "      <td>[]</td>\n",
       "      <td>AT- CHAURAMAHUL, Lephripara, Sundargarh, Odish...</td>\n",
       "    </tr>\n",
       "    <tr>\n",
       "      <th>1</th>\n",
       "      <td>2703361</td>\n",
       "      <td>18J1152893</td>\n",
       "      <td>ga£!oˆ©ª’ïëˆÿvëfëu’jój5›‘f‹ðjôâ</td>\n",
       "      <td>2018</td>\n",
       "      <td>HSS</td>\n",
       "      <td>RroqbpgtJBXrjGAqGwJEPnBOoDGW7l6AXUWeOI1+mlY=</td>\n",
       "      <td>Female</td>\n",
       "      <td>2001-09-06</td>\n",
       "      <td>ST</td>\n",
       "      <td>False</td>\n",
       "      <td>...</td>\n",
       "      <td>BSE, Odisha</td>\n",
       "      <td>Annual</td>\n",
       "      <td>2018.0</td>\n",
       "      <td>600.0</td>\n",
       "      <td>233.0</td>\n",
       "      <td>38.830002</td>\n",
       "      <td>False</td>\n",
       "      <td>[{\"ReportedInstitute\": \"Pateswar Higher Second...</td>\n",
       "      <td>[]</td>\n",
       "      <td>AT/PO-PADADAR, Anandapur, Keonjhar, Odisha 758018</td>\n",
       "    </tr>\n",
       "    <tr>\n",
       "      <th>2</th>\n",
       "      <td>2703362</td>\n",
       "      <td>18J1152906</td>\n",
       "      <td>óà®\u000exðjmìøk@ú=ªð tàä±1ž³w\fá­œü0</td>\n",
       "      <td>2018</td>\n",
       "      <td>HSS</td>\n",
       "      <td>UaqS4u+DJL0F9xeHIAqVp/b7sijboaNytvQ6rEzCq/Y=</td>\n",
       "      <td>Male</td>\n",
       "      <td>2002-11-05</td>\n",
       "      <td>GEN</td>\n",
       "      <td>False</td>\n",
       "      <td>...</td>\n",
       "      <td>BSE, Odisha</td>\n",
       "      <td>Annual</td>\n",
       "      <td>2018.0</td>\n",
       "      <td>600.0</td>\n",
       "      <td>235.0</td>\n",
       "      <td>39.169998</td>\n",
       "      <td>False</td>\n",
       "      <td>[{\"ReportedInstitute\": \"Brahmanajharilo Higher...</td>\n",
       "      <td>[]</td>\n",
       "      <td>AT-BHIMPUR, Balianta, Khurda, Odisha 752101</td>\n",
       "    </tr>\n",
       "    <tr>\n",
       "      <th>3</th>\n",
       "      <td>2703363</td>\n",
       "      <td>18J1152926</td>\n",
       "      <td>df^»+\\t\u0013`u\u0016ö4\u0019™”4t¥mágàz¡\b˜t\b\u0013s</td>\n",
       "      <td>2018</td>\n",
       "      <td>HSS</td>\n",
       "      <td>IDsi45Z1rGc46/6z5Me/lgf+tc9AaoV7u4zpG+XpOMY=</td>\n",
       "      <td>Female</td>\n",
       "      <td>2002-05-12</td>\n",
       "      <td>OBC</td>\n",
       "      <td>False</td>\n",
       "      <td>...</td>\n",
       "      <td>BSE, Odisha</td>\n",
       "      <td>Annual</td>\n",
       "      <td>2018.0</td>\n",
       "      <td>600.0</td>\n",
       "      <td>282.0</td>\n",
       "      <td>47.000000</td>\n",
       "      <td>False</td>\n",
       "      <td>[{\"ReportedInstitute\": \"Bhadrak Higher Seconda...</td>\n",
       "      <td>[]</td>\n",
       "      <td>AT-CHARAMPA, Bhadrak, Bhadrak, Odisha 756101</td>\n",
       "    </tr>\n",
       "    <tr>\n",
       "      <th>4</th>\n",
       "      <td>2703364</td>\n",
       "      <td>18J1152933</td>\n",
       "      <td>None</td>\n",
       "      <td>2018</td>\n",
       "      <td>HSS</td>\n",
       "      <td>IDrYpLGzUi0AbxBk/9KcIwOJSNAG8GZt73d/ew9Nw2Q=</td>\n",
       "      <td>Female</td>\n",
       "      <td>2002-06-25</td>\n",
       "      <td>GEN</td>\n",
       "      <td>False</td>\n",
       "      <td>...</td>\n",
       "      <td>BSE, Odisha</td>\n",
       "      <td>Annual</td>\n",
       "      <td>2018.0</td>\n",
       "      <td>600.0</td>\n",
       "      <td>232.0</td>\n",
       "      <td>38.669998</td>\n",
       "      <td>False</td>\n",
       "      <td>[{\"ReportedInstitute\": \"Dr. B.R.A. Higher Seco...</td>\n",
       "      <td>[]</td>\n",
       "      <td>AT/PO- PODAGADA VIA- LAXMIPUR, Dasmantpur, Kor...</td>\n",
       "    </tr>\n",
       "  </tbody>\n",
       "</table>\n",
       "<p>5 rows × 31 columns</p>\n",
       "</div>"
      ],
      "text/plain": [
       "        id     barcode                          aadhar_no  academic_year  \\\n",
       "0  2703360  18J1152889  \u0000qkm;ú]h¸\u0019n ðÿyvâ[ïôw\\rxû)tñöšgþ           2018   \n",
       "1  2703361  18J1152893   ga£!oˆ©ª’ïëˆÿvëfëu’jój5›‘f‹ðjôâ           2018   \n",
       "2  2703362  18J1152906   óà®\u000exðjmìøk@ú=ªð tàä±1ž³w\n",
       "á­œü0           2018   \n",
       "3  2703363  18J1152926  \n",
       "df^»+\\t\u0013`u\u0016ö4\u0019™”4t¥mágàz¡\b˜t\b\u0013s           2018   \n",
       "4  2703364  18J1152933                               None           2018   \n",
       "\n",
       "  module                                  student_name  gender         dob  \\\n",
       "0    HSS  HR81C4EOg2/hE8JRTrn1S6w33F6HtoV5YRG56S79UEc=    Male  2003-03-16   \n",
       "1    HSS  RroqbpgtJBXrjGAqGwJEPnBOoDGW7l6AXUWeOI1+mlY=  Female  2001-09-06   \n",
       "2    HSS  UaqS4u+DJL0F9xeHIAqVp/b7sijboaNytvQ6rEzCq/Y=    Male  2002-11-05   \n",
       "3    HSS  IDsi45Z1rGc46/6z5Me/lgf+tc9AaoV7u4zpG+XpOMY=  Female  2002-05-12   \n",
       "4    HSS  IDrYpLGzUi0AbxBk/9KcIwOJSNAG8GZt73d/ew9Nw2Q=  Female  2002-06-25   \n",
       "\n",
       "  social_category  orphan  ...  \\\n",
       "0              SC   False  ...   \n",
       "1              ST   False  ...   \n",
       "2             GEN   False  ...   \n",
       "3             OBC   False  ...   \n",
       "4             GEN   False  ...   \n",
       "\n",
       "   examination_board_of_the_highest_qualification  examination_type  \\\n",
       "0                                     BSE, Odisha            Annual   \n",
       "1                                     BSE, Odisha            Annual   \n",
       "2                                     BSE, Odisha            Annual   \n",
       "3                                     BSE, Odisha            Annual   \n",
       "4                                     BSE, Odisha            Annual   \n",
       "\n",
       "  year_of_passing total_marks secured_marks percentage compartmental_status  \\\n",
       "0          2018.0       600.0         428.0  71.330002                False   \n",
       "1          2018.0       600.0         233.0  38.830002                False   \n",
       "2          2018.0       600.0         235.0  39.169998                False   \n",
       "3          2018.0       600.0         282.0  47.000000                False   \n",
       "4          2018.0       600.0         232.0  38.669998                False   \n",
       "\n",
       "                                  hss_option_details hss_compartments  \\\n",
       "0  [{\"ReportedInstitute\": \"AIMS Higher Secondary ...               []   \n",
       "1  [{\"ReportedInstitute\": \"Pateswar Higher Second...               []   \n",
       "2  [{\"ReportedInstitute\": \"Brahmanajharilo Higher...               []   \n",
       "3  [{\"ReportedInstitute\": \"Bhadrak Higher Seconda...               []   \n",
       "4  [{\"ReportedInstitute\": \"Dr. B.R.A. Higher Seco...               []   \n",
       "\n",
       "                                        full_address  \n",
       "0  AT- CHAURAMAHUL, Lephripara, Sundargarh, Odish...  \n",
       "1  AT/PO-PADADAR, Anandapur, Keonjhar, Odisha 758018  \n",
       "2        AT-BHIMPUR, Balianta, Khurda, Odisha 752101  \n",
       "3       AT-CHARAMPA, Bhadrak, Bhadrak, Odisha 756101  \n",
       "4  AT/PO- PODAGADA VIA- LAXMIPUR, Dasmantpur, Kor...  \n",
       "\n",
       "[5 rows x 31 columns]"
      ]
     },
     "execution_count": 41,
     "metadata": {},
     "output_type": "execute_result"
    }
   ],
   "source": [
    "hss_enrollments.head()"
   ]
  },
  {
   "cell_type": "code",
   "execution_count": 11,
   "id": "7a73a5a4",
   "metadata": {},
   "outputs": [
    {
     "data": {
      "application/vnd.microsoft.datawrangler.viewer.v0+json": {
       "columns": [
        {
         "name": "index",
         "rawType": "int64",
         "type": "integer"
        },
        {
         "name": "barcode",
         "rawType": "object",
         "type": "string"
        },
        {
         "name": "aadhar_no",
         "rawType": "object",
         "type": "string"
        },
        {
         "name": "academic_year",
         "rawType": "int64",
         "type": "integer"
        },
        {
         "name": "module",
         "rawType": "object",
         "type": "string"
        },
        {
         "name": "student_name",
         "rawType": "object",
         "type": "string"
        },
        {
         "name": "gender",
         "rawType": "object",
         "type": "string"
        },
        {
         "name": "dob",
         "rawType": "object",
         "type": "string"
        },
        {
         "name": "social_category",
         "rawType": "object",
         "type": "string"
        },
        {
         "name": "orphan",
         "rawType": "object",
         "type": "string"
        },
        {
         "name": "es",
         "rawType": "object",
         "type": "string"
        },
        {
         "name": "ph",
         "rawType": "object",
         "type": "string"
        },
        {
         "name": "state",
         "rawType": "object",
         "type": "string"
        },
        {
         "name": "district",
         "rawType": "object",
         "type": "string"
        },
        {
         "name": "address",
         "rawType": "object",
         "type": "string"
        },
        {
         "name": "block",
         "rawType": "object",
         "type": "string"
        },
        {
         "name": "pin_code",
         "rawType": "object",
         "type": "string"
        },
        {
         "name": "annual_income",
         "rawType": "object",
         "type": "string"
        },
        {
         "name": "roll_no",
         "rawType": "object",
         "type": "string"
        },
        {
         "name": "highest_qualification",
         "rawType": "object",
         "type": "string"
        },
        {
         "name": "board_exam_name_for_highest_qualification",
         "rawType": "object",
         "type": "string"
        },
        {
         "name": "examination_board_of_the_highest_qualification",
         "rawType": "object",
         "type": "string"
        },
        {
         "name": "examination_type",
         "rawType": "object",
         "type": "string"
        },
        {
         "name": "year_of_passing",
         "rawType": "object",
         "type": "string"
        },
        {
         "name": "total_marks",
         "rawType": "object",
         "type": "string"
        },
        {
         "name": "secured_marks",
         "rawType": "object",
         "type": "string"
        },
        {
         "name": "percentage",
         "rawType": "object",
         "type": "string"
        },
        {
         "name": "compartmental_status",
         "rawType": "object",
         "type": "string"
        },
        {
         "name": "hss_option_details",
         "rawType": "object",
         "type": "string"
        },
        {
         "name": "hss_compartments",
         "rawType": "object",
         "type": "string"
        }
       ],
       "ref": "6ad72eeb-b029-4cce-bcea-3a8de991b38a",
       "rows": [
        [
         "0",
         "24H3823066",
         "",
         "2024",
         "HSS",
         "IEROcl5xkG9YvlMLnWT5oVsTp52SeECEvWOxcpiUrt0=",
         "Male",
         "27-Feb-2001",
         "GEN",
         "NO",
         "NO",
         "NO",
         "Odisha",
         "Gajapati",
         "AT/PO- BADAPADA NUAGADA GAJAPATI",
         "Nuagada",
         "761214",
         "8,00,000 and above",
         "zaLHs/DMl7jQCOoySB37kQ==",
         "10TH",
         "Board of Secondary Education, Orissa, Cuttack-1, Year 2001 and onwards",
         "BSE, Odisha",
         "Annual",
         "2018",
         "600",
         "208.00",
         "34.67",
         "NO",
         "[{\"ReportedInstitute\": \"Baba Saheb Ambedkar Higher Secondary School, Khajuriapada\", \"SAMSCode\": \"10059101\", \"Stream\": \"Arts\", \"InstituteDistrict\": \"Gajapati\", \"InstituteBlock\": \"Nuagada\", \"TypeofInstitute\": \"Non-Govt Aided (662 Categories)\", \"Phase\": \"1\", \"Year\": \"2024\", \"AdmissionStatus\": \"NOT SELECTED\", \"OptionNo\": \"1\"}, {\"ReportedInstitute\": \"BADAPADA HIGHER SECONDARY SCHOOL, NUAGADA\", \"SAMSCode\": \"10051101\", \"Stream\": \"Science\", \"InstituteDistrict\": \"Gajapati\", \"InstituteBlock\": \"Nuagada\", \"TypeofInstitute\": \"Govt. (SME)\", \"Phase\": \"1\", \"Year\": \"2024\", \"AdmissionStatus\": \"SELECTED BUT NOT ADMITTED\", \"OptionNo\": \"2\"}, {\"ReportedInstitute\": \"Binodini Science Higher Secondary School, Padmapur\", \"SAMSCode\": \"10029101\", \"Stream\": \"Arts\", \"InstituteDistrict\": \"Gajapati\", \"InstituteBlock\": \"Gumma\", \"TypeofInstitute\": \"Non-Govt Aided (662 Categories)\", \"Phase\": \"1\", \"Year\": \"2024\", \"AdmissionStatus\": \"NOT SELECTED\", \"OptionNo\": \"3\"}, {\"ReportedInstitute\": \"Indira Memorial Higher Secondary School, Chandiput\", \"SAMSCode\": \"10042101\", \"Stream\": \"Arts\", \"InstituteDistrict\": \"Gajapati\", \"InstituteBlock\": \"Mohana\", \"TypeofInstitute\": \"Non-Govt Aided (488 Categories)\", \"Phase\": \"1\", \"Year\": \"2024\", \"AdmissionStatus\": \"NOT SELECTED\", \"OptionNo\": \"4\"}, {\"ReportedInstitute\": \"Mahendra Tanaya Higher Secondary School, R. Udayagiri\", \"SAMSCode\": \"10069101\", \"Stream\": \"Arts\", \"InstituteDistrict\": \"Gajapati\", \"InstituteBlock\": \"R.Udayagiri\", \"TypeofInstitute\": \"Non-Govt Aided (662 Categories)\", \"Phase\": \"1\", \"Year\": \"2024\", \"AdmissionStatus\": \"NOT SELECTED\", \"OptionNo\": \"5\"}]",
         "[]"
        ],
        [
         "1",
         "24H3150659",
         "",
         "2024",
         "HSS",
         "svTLW1jgNbq2Ja+nq7q96cNZ9R1VUNIdLJXQSF3nHls=",
         "Female",
         "30-May-2008",
         "ST",
         "NO",
         "NO",
         "NO",
         "Odisha",
         "Mayurbhanj",
         "AT TAVAGADI PO BAGFENI PS KHUNTA",
         "Khunta",
         "757074",
         "0 - 1,50,000",
         "cb8/jSL8K0ATd9dZtgr7vQ==",
         "10TH",
         "Central Board of Secondary Education, Sikhya Kendra, 2, Community Centre, Preet Vihar, Delhi, 110092",
         "CBSE, New Delhi",
         "Annual",
         "2024",
         "500",
         "426.00",
         "85.20",
         "NO",
         "[{\"ReportedInstitute\": \"Maharaja Purna Chandra Higher Secondary School, Baripada\", \"SAMSCode\": \"22191101\", \"Stream\": \"Science\", \"InstituteDistrict\": \"Mayurbhanj\", \"InstituteBlock\": \"Baripada (MPL)\", \"TypeofInstitute\": \"Govt. (SME)\", \"Phase\": \"1\", \"Year\": \"2024\", \"AdmissionStatus\": \"ADMITTED\", \"OptionNo\": \"1\"}, {\"ReportedInstitute\": \"Baripada Higher Secondary School, Baripada\", \"SAMSCode\": \"22112101\", \"Stream\": \"Science\", \"InstituteDistrict\": \"Mayurbhanj\", \"InstituteBlock\": \"Baripada\", \"TypeofInstitute\": \"Non-Govt Aided (488 Categories)\", \"Phase\": \"1\", \"Year\": \"2024\", \"AdmissionStatus\": \"NOT SELECTED\", \"OptionNo\": \"2\"}, {\"ReportedInstitute\": \"Sri Maa Mahila Higher Secondary School, Baripada\", \"SAMSCode\": \"22112202\", \"Stream\": \"Science\", \"InstituteDistrict\": \"Mayurbhanj\", \"InstituteBlock\": \"Baripada\", \"TypeofInstitute\": \"Non-Govt Aided (488 Categories)\", \"Phase\": \"1\", \"Year\": \"2024\", \"AdmissionStatus\": \"NOT SELECTED\", \"OptionNo\": \"3\"}, {\"ReportedInstitute\": \"Indira Gandhi Mahila Higher Secondary School, Udala\", \"SAMSCode\": \"22242201\", \"Stream\": \"Science\", \"InstituteDistrict\": \"Mayurbhanj\", \"InstituteBlock\": \"Udala (NAC)\", \"TypeofInstitute\": \"Non-Govt Aided (488 Categories)\", \"Phase\": \"1\", \"Year\": \"2024\", \"AdmissionStatus\": \"NOT SELECTED\", \"OptionNo\": \"4\"}, {\"ReportedInstitute\": \"Udala Higher Secondary School, Udala\", \"SAMSCode\": \"22242101\", \"Stream\": \"Science\", \"InstituteDistrict\": \"Mayurbhanj\", \"InstituteBlock\": \"Udala (NAC)\", \"TypeofInstitute\": \"Non-Govt Aided (488 Categories)\", \"Phase\": \"1\", \"Year\": \"2024\", \"AdmissionStatus\": \"NOT SELECTED\", \"OptionNo\": \"5\"}]",
         "[]"
        ],
        [
         "2",
         "24H3174122",
         "",
         "2024",
         "HSS",
         "1iaV0eaVHRnL9bOc7OmUBYAqoTCkjB9E9f0fW70XMOE=",
         "Male",
         "18-Nov-2008",
         "GEN",
         "NO",
         "NO",
         "NO",
         "Odisha",
         "Angul",
         "BALHARA ,TALCHER ,BAHALAR",
         "Talcher",
         "759120",
         "0 - 1,50,000",
         "osYhOTewmnCV0OLaJob1hA==",
         "10TH",
         "Board of Secondary Education, Orissa, Cuttack-1, Year 2001 and onwards",
         "BSE, Odisha",
         "Annual",
         "2024",
         "600",
         "385.00",
         "64.17",
         "NO",
         "[{\"ReportedInstitute\": \"T.T.P.S. Higher Secondary School, Talcher Thermal\", \"SAMSCode\": \"01103102\", \"Stream\": \"Science\", \"InstituteDistrict\": \"Angul\", \"InstituteBlock\": \"Talcher\", \"TypeofInstitute\": \"Unaided\", \"Phase\": \"1\", \"Year\": \"2024\", \"AdmissionStatus\": \"ADMITTED\", \"OptionNo\": \"1\"}, {\"ReportedInstitute\": \"Gadtal Regional Higher Secondary School, Gadtal\", \"SAMSCode\": \"01109101\", \"Stream\": \"Science\", \"InstituteDistrict\": \"Angul\", \"InstituteBlock\": \"Talcher\", \"TypeofInstitute\": \"Non-Govt Aided (662 Categories)\", \"Phase\": \"1\", \"Year\": \"2024\", \"AdmissionStatus\": \"NOT SELECTED\", \"OptionNo\": \"2\"}, {\"ReportedInstitute\": \"Talcher Higher Secondary School, Talcher\", \"SAMSCode\": \"01112101\", \"Stream\": \"Science\", \"InstituteDistrict\": \"Angul\", \"InstituteBlock\": \"Talcher (MPL)\", \"TypeofInstitute\": \"Non-Govt Aided (488 Categories)\", \"Phase\": \"1\", \"Year\": \"2024\", \"AdmissionStatus\": \"NOT SELECTED\", \"OptionNo\": \"3\"}, {\"ReportedInstitute\": \"Government Higher Secondary School, Angul\", \"SAMSCode\": \"01041101\", \"Stream\": \"Science\", \"InstituteDistrict\": \"Angul\", \"InstituteBlock\": \"Angul (MPL)\", \"TypeofInstitute\": \"Govt. (SME)\", \"Phase\": \"1\", \"Year\": \"2024\", \"AdmissionStatus\": \"NOT SELECTED\", \"OptionNo\": \"4\"}, {\"ReportedInstitute\": \"Parjang Higher Secondary School, Parjang\", \"SAMSCode\": \"09092101\", \"Stream\": \"Science\", \"InstituteDistrict\": \"Dhenkanal\", \"InstituteBlock\": \"Parjang\", \"TypeofInstitute\": \"Non-Govt Aided (488 Categories)\", \"Phase\": \"1\", \"Year\": \"2024\", \"AdmissionStatus\": \"NOT SELECTED\", \"OptionNo\": \"5\"}]",
         "[]"
        ],
        [
         "3",
         "24H3492610",
         "",
         "2024",
         "HSS",
         "+E140e5WqD35V0XNY9HKK0QkceVw0UPVLaG6g9BVLdA=",
         "Female",
         "28-Nov-2008",
         "ST",
         "NO",
         "NO",
         "NO",
         "Odisha",
         "Sundargarh",
         "AT- JALDA B BLOCK  PO- JALDA C BLOCK  PS-RAGHUNATHPALI",
         "Lathikata",
         "769043",
         "0 - 1,50,000",
         "djfl2kQyQzlOfovl8fhiyQ==",
         "10TH",
         "Board of Secondary Education, Orissa, Cuttack-1, Year 2001 and onwards",
         "BSE, Odisha",
         "Annual",
         "2024",
         "600",
         "323.00",
         "53.83",
         "NO",
         "[{\"ReportedInstitute\": \"Government Higher Secondary School, Rourkela\", \"SAMSCode\": \"30101101\", \"Stream\": \"Arts\", \"InstituteDistrict\": \"Sundargarh\", \"InstituteBlock\": \"Rourkela (MC)\", \"TypeofInstitute\": \"Govt. (SME)\", \"Phase\": \"1\", \"Year\": \"2024\", \"AdmissionStatus\": \"NOT SELECTED\", \"OptionNo\": \"1\"}, {\"ReportedInstitute\": \"Municipal Higher Secondary School, Rourkela\", \"SAMSCode\": \"30102104\", \"Stream\": \"Arts\", \"InstituteDistrict\": \"Sundargarh\", \"InstituteBlock\": \"Rourkela (MC)\", \"TypeofInstitute\": \"Non-Govt Aided (488 Categories)\", \"Phase\": \"1\", \"Year\": \"2024\", \"AdmissionStatus\": \"NOT SELECTED\", \"OptionNo\": \"2\"}, {\"ReportedInstitute\": \"Rourkela Higher Secondary School, Rourkela\", \"SAMSCode\": \"30101102\", \"Stream\": \"Arts\", \"InstituteDistrict\": \"Sundargarh\", \"InstituteBlock\": \"Rourkela (MC)\", \"TypeofInstitute\": \"Govt. (SME)\", \"Phase\": \"1\", \"Year\": \"2024\", \"AdmissionStatus\": \"NOT SELECTED\", \"OptionNo\": \"3\"}, {\"ReportedInstitute\": \"Sushilabati Government Women's Higher Secondary School, Rourkela\", \"SAMSCode\": \"30101203\", \"Stream\": \"Arts\", \"InstituteDistrict\": \"Sundargarh\", \"InstituteBlock\": \"Rourkela (MC)\", \"TypeofInstitute\": \"Govt. (SME)\", \"Phase\": \"1\", \"Year\": \"2024\", \"AdmissionStatus\": \"NOT SELECTED\", \"OptionNo\": \"4\"}, {\"ReportedInstitute\": \"Gandhi Higher Secondary School, Deogaon\", \"SAMSCode\": \"30102103\", \"Stream\": \"Arts\", \"InstituteDistrict\": \"Sundargarh\", \"InstituteBlock\": \"Rourkela (MC)\", \"TypeofInstitute\": \"Non-Govt Aided (488 Categories)\", \"Phase\": \"1\", \"Year\": \"2024\", \"AdmissionStatus\": \"ADMITTED\", \"OptionNo\": \"5\"}]",
         "[]"
        ],
        [
         "4",
         "24H3181216",
         "",
         "2024",
         "HSS",
         "6DBgzgWAKQFPOxm8sTeDYs8m1FLqAVzL4HcUBRH0QmI=",
         "Male",
         "01-Apr-2008",
         "ST",
         "NO",
         "NO",
         "NO",
         "Odisha",
         "Baragarh",
         "AT-/PO-LAUDIDARHA, PS-JAGDALPUR",
         "Jharbandh",
         "768042",
         "0 - 1,50,000",
         "Y1epjnKdbHeBpr9xMTPIQA==",
         "10TH",
         "Board of Secondary Education, Orissa, Cuttack-1, Year 2001 and onwards",
         "BSE, Odisha",
         "Annual",
         "2023",
         "600",
         "333.00",
         "55.50",
         "NO",
         "[{\"ReportedInstitute\": \"JANAMANGAL  GOVT HIGHER SECONDARY  SCHOOL,  KULIABANDHA\", \"SAMSCode\": \"25041103\", \"Stream\": \"Arts\", \"InstituteDistrict\": \"Nuapada\", \"InstituteBlock\": \"Nuapada\", \"TypeofInstitute\": \"Govt. (SME)\", \"Phase\": \"1\", \"Year\": \"2024\", \"AdmissionStatus\": \"ADMITTED\", \"OptionNo\": \"1\"}, {\"ReportedInstitute\": \"Panchayat Samiti Higher Secondary School, Jharbandh\", \"SAMSCode\": \"03112101\", \"Stream\": \"Arts\", \"InstituteDistrict\": \"Baragarh\", \"InstituteBlock\": \"Jharbandh\", \"TypeofInstitute\": \"Non-Govt Aided (488 Categories)\", \"Phase\": \"1\", \"Year\": \"2024\", \"AdmissionStatus\": \"NOT SELECTED\", \"OptionNo\": \"2\"}, {\"ReportedInstitute\": \"CHANDRA SEKHAR   GOVT HIGHER SECONDARY SCHOOL, JAGDALPUR\", \"SAMSCode\": \"03111101\", \"Stream\": \"Arts\", \"InstituteDistrict\": \"Baragarh\", \"InstituteBlock\": \"Jharbandh\", \"TypeofInstitute\": \"Govt. (SME)\", \"Phase\": \"1\", \"Year\": \"2024\", \"AdmissionStatus\": \"NOT SELECTED\", \"OptionNo\": \"3\"}, {\"ReportedInstitute\": \"Dava Higher Secondary School, Dava\", \"SAMSCode\": \"03119101\", \"Stream\": \"Arts\", \"InstituteDistrict\": \"Baragarh\", \"InstituteBlock\": \"Jharbandh\", \"TypeofInstitute\": \"Non-Govt Aided (662 Categories)\", \"Phase\": \"1\", \"Year\": \"2024\", \"AdmissionStatus\": \"NOT SELECTED\", \"OptionNo\": \"4\"}, {\"ReportedInstitute\": \"Mandosil Higher Secondary School, Mandosil\", \"SAMSCode\": \"03122101\", \"Stream\": \"Arts\", \"InstituteDistrict\": \"Baragarh\", \"InstituteBlock\": \"Paikmal\", \"TypeofInstitute\": \"Non-Govt Aided (488 Categories)\", \"Phase\": \"1\", \"Year\": \"2024\", \"AdmissionStatus\": \"NOT SELECTED\", \"OptionNo\": \"5\"}]",
         "[]"
        ]
       ],
       "shape": {
        "columns": 29,
        "rows": 5
       }
      },
      "text/html": [
       "<div>\n",
       "<style scoped>\n",
       "    .dataframe tbody tr th:only-of-type {\n",
       "        vertical-align: middle;\n",
       "    }\n",
       "\n",
       "    .dataframe tbody tr th {\n",
       "        vertical-align: top;\n",
       "    }\n",
       "\n",
       "    .dataframe thead th {\n",
       "        text-align: right;\n",
       "    }\n",
       "</style>\n",
       "<table border=\"1\" class=\"dataframe\">\n",
       "  <thead>\n",
       "    <tr style=\"text-align: right;\">\n",
       "      <th></th>\n",
       "      <th>barcode</th>\n",
       "      <th>aadhar_no</th>\n",
       "      <th>academic_year</th>\n",
       "      <th>module</th>\n",
       "      <th>student_name</th>\n",
       "      <th>gender</th>\n",
       "      <th>dob</th>\n",
       "      <th>social_category</th>\n",
       "      <th>orphan</th>\n",
       "      <th>es</th>\n",
       "      <th>...</th>\n",
       "      <th>board_exam_name_for_highest_qualification</th>\n",
       "      <th>examination_board_of_the_highest_qualification</th>\n",
       "      <th>examination_type</th>\n",
       "      <th>year_of_passing</th>\n",
       "      <th>total_marks</th>\n",
       "      <th>secured_marks</th>\n",
       "      <th>percentage</th>\n",
       "      <th>compartmental_status</th>\n",
       "      <th>hss_option_details</th>\n",
       "      <th>hss_compartments</th>\n",
       "    </tr>\n",
       "  </thead>\n",
       "  <tbody>\n",
       "    <tr>\n",
       "      <th>0</th>\n",
       "      <td>24H3823066</td>\n",
       "      <td></td>\n",
       "      <td>2024</td>\n",
       "      <td>HSS</td>\n",
       "      <td>IEROcl5xkG9YvlMLnWT5oVsTp52SeECEvWOxcpiUrt0=</td>\n",
       "      <td>Male</td>\n",
       "      <td>27-Feb-2001</td>\n",
       "      <td>GEN</td>\n",
       "      <td>NO</td>\n",
       "      <td>NO</td>\n",
       "      <td>...</td>\n",
       "      <td>Board of Secondary Education, Orissa, Cuttack-...</td>\n",
       "      <td>BSE, Odisha</td>\n",
       "      <td>Annual</td>\n",
       "      <td>2018</td>\n",
       "      <td>600</td>\n",
       "      <td>208.00</td>\n",
       "      <td>34.67</td>\n",
       "      <td>NO</td>\n",
       "      <td>[{\"ReportedInstitute\": \"Baba Saheb Ambedkar Hi...</td>\n",
       "      <td>[]</td>\n",
       "    </tr>\n",
       "    <tr>\n",
       "      <th>1</th>\n",
       "      <td>24H3150659</td>\n",
       "      <td></td>\n",
       "      <td>2024</td>\n",
       "      <td>HSS</td>\n",
       "      <td>svTLW1jgNbq2Ja+nq7q96cNZ9R1VUNIdLJXQSF3nHls=</td>\n",
       "      <td>Female</td>\n",
       "      <td>30-May-2008</td>\n",
       "      <td>ST</td>\n",
       "      <td>NO</td>\n",
       "      <td>NO</td>\n",
       "      <td>...</td>\n",
       "      <td>Central Board of Secondary Education, Sikhya K...</td>\n",
       "      <td>CBSE, New Delhi</td>\n",
       "      <td>Annual</td>\n",
       "      <td>2024</td>\n",
       "      <td>500</td>\n",
       "      <td>426.00</td>\n",
       "      <td>85.20</td>\n",
       "      <td>NO</td>\n",
       "      <td>[{\"ReportedInstitute\": \"Maharaja Purna Chandra...</td>\n",
       "      <td>[]</td>\n",
       "    </tr>\n",
       "    <tr>\n",
       "      <th>2</th>\n",
       "      <td>24H3174122</td>\n",
       "      <td></td>\n",
       "      <td>2024</td>\n",
       "      <td>HSS</td>\n",
       "      <td>1iaV0eaVHRnL9bOc7OmUBYAqoTCkjB9E9f0fW70XMOE=</td>\n",
       "      <td>Male</td>\n",
       "      <td>18-Nov-2008</td>\n",
       "      <td>GEN</td>\n",
       "      <td>NO</td>\n",
       "      <td>NO</td>\n",
       "      <td>...</td>\n",
       "      <td>Board of Secondary Education, Orissa, Cuttack-...</td>\n",
       "      <td>BSE, Odisha</td>\n",
       "      <td>Annual</td>\n",
       "      <td>2024</td>\n",
       "      <td>600</td>\n",
       "      <td>385.00</td>\n",
       "      <td>64.17</td>\n",
       "      <td>NO</td>\n",
       "      <td>[{\"ReportedInstitute\": \"T.T.P.S. Higher Second...</td>\n",
       "      <td>[]</td>\n",
       "    </tr>\n",
       "    <tr>\n",
       "      <th>3</th>\n",
       "      <td>24H3492610</td>\n",
       "      <td></td>\n",
       "      <td>2024</td>\n",
       "      <td>HSS</td>\n",
       "      <td>+E140e5WqD35V0XNY9HKK0QkceVw0UPVLaG6g9BVLdA=</td>\n",
       "      <td>Female</td>\n",
       "      <td>28-Nov-2008</td>\n",
       "      <td>ST</td>\n",
       "      <td>NO</td>\n",
       "      <td>NO</td>\n",
       "      <td>...</td>\n",
       "      <td>Board of Secondary Education, Orissa, Cuttack-...</td>\n",
       "      <td>BSE, Odisha</td>\n",
       "      <td>Annual</td>\n",
       "      <td>2024</td>\n",
       "      <td>600</td>\n",
       "      <td>323.00</td>\n",
       "      <td>53.83</td>\n",
       "      <td>NO</td>\n",
       "      <td>[{\"ReportedInstitute\": \"Government Higher Seco...</td>\n",
       "      <td>[]</td>\n",
       "    </tr>\n",
       "    <tr>\n",
       "      <th>4</th>\n",
       "      <td>24H3181216</td>\n",
       "      <td></td>\n",
       "      <td>2024</td>\n",
       "      <td>HSS</td>\n",
       "      <td>6DBgzgWAKQFPOxm8sTeDYs8m1FLqAVzL4HcUBRH0QmI=</td>\n",
       "      <td>Male</td>\n",
       "      <td>01-Apr-2008</td>\n",
       "      <td>ST</td>\n",
       "      <td>NO</td>\n",
       "      <td>NO</td>\n",
       "      <td>...</td>\n",
       "      <td>Board of Secondary Education, Orissa, Cuttack-...</td>\n",
       "      <td>BSE, Odisha</td>\n",
       "      <td>Annual</td>\n",
       "      <td>2023</td>\n",
       "      <td>600</td>\n",
       "      <td>333.00</td>\n",
       "      <td>55.50</td>\n",
       "      <td>NO</td>\n",
       "      <td>[{\"ReportedInstitute\": \"JANAMANGAL  GOVT HIGHE...</td>\n",
       "      <td>[]</td>\n",
       "    </tr>\n",
       "  </tbody>\n",
       "</table>\n",
       "<p>5 rows × 29 columns</p>\n",
       "</div>"
      ],
      "text/plain": [
       "      barcode aadhar_no  academic_year module  \\\n",
       "0  24H3823066                     2024    HSS   \n",
       "1  24H3150659                     2024    HSS   \n",
       "2  24H3174122                     2024    HSS   \n",
       "3  24H3492610                     2024    HSS   \n",
       "4  24H3181216                     2024    HSS   \n",
       "\n",
       "                                   student_name  gender          dob  \\\n",
       "0  IEROcl5xkG9YvlMLnWT5oVsTp52SeECEvWOxcpiUrt0=    Male  27-Feb-2001   \n",
       "1  svTLW1jgNbq2Ja+nq7q96cNZ9R1VUNIdLJXQSF3nHls=  Female  30-May-2008   \n",
       "2  1iaV0eaVHRnL9bOc7OmUBYAqoTCkjB9E9f0fW70XMOE=    Male  18-Nov-2008   \n",
       "3  +E140e5WqD35V0XNY9HKK0QkceVw0UPVLaG6g9BVLdA=  Female  28-Nov-2008   \n",
       "4  6DBgzgWAKQFPOxm8sTeDYs8m1FLqAVzL4HcUBRH0QmI=    Male  01-Apr-2008   \n",
       "\n",
       "  social_category orphan  es  ...  \\\n",
       "0             GEN     NO  NO  ...   \n",
       "1              ST     NO  NO  ...   \n",
       "2             GEN     NO  NO  ...   \n",
       "3              ST     NO  NO  ...   \n",
       "4              ST     NO  NO  ...   \n",
       "\n",
       "           board_exam_name_for_highest_qualification  \\\n",
       "0  Board of Secondary Education, Orissa, Cuttack-...   \n",
       "1  Central Board of Secondary Education, Sikhya K...   \n",
       "2  Board of Secondary Education, Orissa, Cuttack-...   \n",
       "3  Board of Secondary Education, Orissa, Cuttack-...   \n",
       "4  Board of Secondary Education, Orissa, Cuttack-...   \n",
       "\n",
       "  examination_board_of_the_highest_qualification examination_type  \\\n",
       "0                                    BSE, Odisha           Annual   \n",
       "1                                CBSE, New Delhi           Annual   \n",
       "2                                    BSE, Odisha           Annual   \n",
       "3                                    BSE, Odisha           Annual   \n",
       "4                                    BSE, Odisha           Annual   \n",
       "\n",
       "  year_of_passing total_marks secured_marks percentage compartmental_status  \\\n",
       "0            2018         600        208.00      34.67                   NO   \n",
       "1            2024         500        426.00      85.20                   NO   \n",
       "2            2024         600        385.00      64.17                   NO   \n",
       "3            2024         600        323.00      53.83                   NO   \n",
       "4            2023         600        333.00      55.50                   NO   \n",
       "\n",
       "                                  hss_option_details hss_compartments  \n",
       "0  [{\"ReportedInstitute\": \"Baba Saheb Ambedkar Hi...               []  \n",
       "1  [{\"ReportedInstitute\": \"Maharaja Purna Chandra...               []  \n",
       "2  [{\"ReportedInstitute\": \"T.T.P.S. Higher Second...               []  \n",
       "3  [{\"ReportedInstitute\": \"Government Higher Seco...               []  \n",
       "4  [{\"ReportedInstitute\": \"JANAMANGAL  GOVT HIGHE...               []  \n",
       "\n",
       "[5 rows x 29 columns]"
      ]
     },
     "execution_count": 11,
     "metadata": {},
     "output_type": "execute_result"
    }
   ],
   "source": [
    "hss_enrollments.head()"
   ]
  },
  {
   "cell_type": "code",
   "execution_count": 19,
   "id": "8e86c0cc",
   "metadata": {},
   "outputs": [
    {
     "data": {
      "application/vnd.microsoft.datawrangler.viewer.v0+json": {
       "columns": [
        {
         "name": "index",
         "rawType": "int64",
         "type": "integer"
        },
        {
         "name": "aadhar_no",
         "rawType": "object",
         "type": "unknown"
        },
        {
         "name": "academic_year",
         "rawType": "int64",
         "type": "integer"
        },
        {
         "name": "barcode",
         "rawType": "object",
         "type": "string"
        },
        {
         "name": "option_no",
         "rawType": "float64",
         "type": "float"
        },
        {
         "name": "stream",
         "rawType": "object",
         "type": "string"
        },
        {
         "name": "subject",
         "rawType": "object",
         "type": "string"
        },
        {
         "name": "admission_status",
         "rawType": "object",
         "type": "string"
        },
        {
         "name": "reported_institute",
         "rawType": "object",
         "type": "string"
        },
        {
         "name": "sams_code",
         "rawType": "object",
         "type": "string"
        },
        {
         "name": "institute_district",
         "rawType": "object",
         "type": "string"
        },
        {
         "name": "institute_block",
         "rawType": "object",
         "type": "string"
        },
        {
         "name": "type_of_institute",
         "rawType": "object",
         "type": "string"
        },
        {
         "name": "year",
         "rawType": "object",
         "type": "string"
        },
        {
         "name": "phase",
         "rawType": "object",
         "type": "string"
        },
        {
         "name": "num_applications",
         "rawType": "int64",
         "type": "integer"
        }
       ],
       "ref": "e0c06833-5373-488b-b06f-e4cd02a95058",
       "rows": [
        [
         "0",
         null,
         "2018",
         "18D000661",
         "1.0",
         "Arts",
         "Odia",
         "NOT SELECTED",
         "Laxmi Narayan (Degree) College, Jharsuguda",
         "14082303",
         "Jharsuguda",
         "Jharsuguda (MPL)",
         "Non-Govt Aided (488 Categories)",
         "2018",
         "1",
         "5"
        ],
        [
         "1",
         null,
         "2018",
         "18D000661",
         "2.0",
         "Arts",
         "Odia",
         "TC TAKEN",
         "Belpahar (Degree) College, Belpahar",
         "14069301",
         "Jharsuguda",
         "Belpahar (MPL)",
         "Non-Govt Aided (662 Categories)",
         "2018",
         "1",
         "5"
        ],
        [
         "2",
         null,
         "2018",
         "18D000661",
         "3.0",
         "Arts",
         "Odia",
         "NOT SELECTED",
         "Brajarajnagar (Degree) College, Brajarajnagar",
         "14072302",
         "Jharsuguda",
         "Brajrajnagar (MPL)",
         "Non-Govt Aided (488 Categories)",
         "2018",
         "1",
         "5"
        ],
        [
         "3",
         null,
         "2018",
         "18D000661",
         "4.0",
         "Arts",
         "Odia",
         "NOT SELECTED",
         "Pradosh Kumar Smruti Smaraki (Degree) College, H. Katapali",
         "14019301",
         "Jharsuguda",
         "Jharsuguda",
         "Non-Govt Aided (662 Categories)",
         "2018",
         "1",
         "5"
        ],
        [
         "4",
         null,
         "2018",
         "18D000661",
         "5.0",
         "Arts",
         "Odia",
         "NOT SELECTED",
         "Women's (Degree) College, Jharsuguda",
         "14082404",
         "Jharsuguda",
         "Jharsuguda (MPL)",
         "Non-Govt Aided (488 Categories)",
         "2018",
         "1",
         "5"
        ]
       ],
       "shape": {
        "columns": 15,
        "rows": 5
       }
      },
      "text/html": [
       "<div>\n",
       "<style scoped>\n",
       "    .dataframe tbody tr th:only-of-type {\n",
       "        vertical-align: middle;\n",
       "    }\n",
       "\n",
       "    .dataframe tbody tr th {\n",
       "        vertical-align: top;\n",
       "    }\n",
       "\n",
       "    .dataframe thead th {\n",
       "        text-align: right;\n",
       "    }\n",
       "</style>\n",
       "<table border=\"1\" class=\"dataframe\">\n",
       "  <thead>\n",
       "    <tr style=\"text-align: right;\">\n",
       "      <th></th>\n",
       "      <th>aadhar_no</th>\n",
       "      <th>academic_year</th>\n",
       "      <th>barcode</th>\n",
       "      <th>option_no</th>\n",
       "      <th>stream</th>\n",
       "      <th>subject</th>\n",
       "      <th>admission_status</th>\n",
       "      <th>reported_institute</th>\n",
       "      <th>sams_code</th>\n",
       "      <th>institute_district</th>\n",
       "      <th>institute_block</th>\n",
       "      <th>type_of_institute</th>\n",
       "      <th>year</th>\n",
       "      <th>phase</th>\n",
       "      <th>num_applications</th>\n",
       "    </tr>\n",
       "  </thead>\n",
       "  <tbody>\n",
       "    <tr>\n",
       "      <th>0</th>\n",
       "      <td>None</td>\n",
       "      <td>2018</td>\n",
       "      <td>18D000661</td>\n",
       "      <td>1.0</td>\n",
       "      <td>Arts</td>\n",
       "      <td>Odia</td>\n",
       "      <td>NOT SELECTED</td>\n",
       "      <td>Laxmi Narayan (Degree) College, Jharsuguda</td>\n",
       "      <td>14082303</td>\n",
       "      <td>Jharsuguda</td>\n",
       "      <td>Jharsuguda (MPL)</td>\n",
       "      <td>Non-Govt Aided (488 Categories)</td>\n",
       "      <td>2018</td>\n",
       "      <td>1</td>\n",
       "      <td>5</td>\n",
       "    </tr>\n",
       "    <tr>\n",
       "      <th>1</th>\n",
       "      <td>None</td>\n",
       "      <td>2018</td>\n",
       "      <td>18D000661</td>\n",
       "      <td>2.0</td>\n",
       "      <td>Arts</td>\n",
       "      <td>Odia</td>\n",
       "      <td>TC TAKEN</td>\n",
       "      <td>Belpahar (Degree) College, Belpahar</td>\n",
       "      <td>14069301</td>\n",
       "      <td>Jharsuguda</td>\n",
       "      <td>Belpahar (MPL)</td>\n",
       "      <td>Non-Govt Aided (662 Categories)</td>\n",
       "      <td>2018</td>\n",
       "      <td>1</td>\n",
       "      <td>5</td>\n",
       "    </tr>\n",
       "    <tr>\n",
       "      <th>2</th>\n",
       "      <td>None</td>\n",
       "      <td>2018</td>\n",
       "      <td>18D000661</td>\n",
       "      <td>3.0</td>\n",
       "      <td>Arts</td>\n",
       "      <td>Odia</td>\n",
       "      <td>NOT SELECTED</td>\n",
       "      <td>Brajarajnagar (Degree) College, Brajarajnagar</td>\n",
       "      <td>14072302</td>\n",
       "      <td>Jharsuguda</td>\n",
       "      <td>Brajrajnagar (MPL)</td>\n",
       "      <td>Non-Govt Aided (488 Categories)</td>\n",
       "      <td>2018</td>\n",
       "      <td>1</td>\n",
       "      <td>5</td>\n",
       "    </tr>\n",
       "    <tr>\n",
       "      <th>3</th>\n",
       "      <td>None</td>\n",
       "      <td>2018</td>\n",
       "      <td>18D000661</td>\n",
       "      <td>4.0</td>\n",
       "      <td>Arts</td>\n",
       "      <td>Odia</td>\n",
       "      <td>NOT SELECTED</td>\n",
       "      <td>Pradosh Kumar Smruti Smaraki (Degree) College,...</td>\n",
       "      <td>14019301</td>\n",
       "      <td>Jharsuguda</td>\n",
       "      <td>Jharsuguda</td>\n",
       "      <td>Non-Govt Aided (662 Categories)</td>\n",
       "      <td>2018</td>\n",
       "      <td>1</td>\n",
       "      <td>5</td>\n",
       "    </tr>\n",
       "    <tr>\n",
       "      <th>4</th>\n",
       "      <td>None</td>\n",
       "      <td>2018</td>\n",
       "      <td>18D000661</td>\n",
       "      <td>5.0</td>\n",
       "      <td>Arts</td>\n",
       "      <td>Odia</td>\n",
       "      <td>NOT SELECTED</td>\n",
       "      <td>Women's (Degree) College, Jharsuguda</td>\n",
       "      <td>14082404</td>\n",
       "      <td>Jharsuguda</td>\n",
       "      <td>Jharsuguda (MPL)</td>\n",
       "      <td>Non-Govt Aided (488 Categories)</td>\n",
       "      <td>2018</td>\n",
       "      <td>1</td>\n",
       "      <td>5</td>\n",
       "    </tr>\n",
       "  </tbody>\n",
       "</table>\n",
       "</div>"
      ],
      "text/plain": [
       "  aadhar_no  academic_year    barcode  option_no stream subject  \\\n",
       "0      None           2018  18D000661        1.0   Arts    Odia   \n",
       "1      None           2018  18D000661        2.0   Arts    Odia   \n",
       "2      None           2018  18D000661        3.0   Arts    Odia   \n",
       "3      None           2018  18D000661        4.0   Arts    Odia   \n",
       "4      None           2018  18D000661        5.0   Arts    Odia   \n",
       "\n",
       "  admission_status                                 reported_institute  \\\n",
       "0     NOT SELECTED         Laxmi Narayan (Degree) College, Jharsuguda   \n",
       "1         TC TAKEN                Belpahar (Degree) College, Belpahar   \n",
       "2     NOT SELECTED      Brajarajnagar (Degree) College, Brajarajnagar   \n",
       "3     NOT SELECTED  Pradosh Kumar Smruti Smaraki (Degree) College,...   \n",
       "4     NOT SELECTED               Women's (Degree) College, Jharsuguda   \n",
       "\n",
       "  sams_code institute_district     institute_block  \\\n",
       "0  14082303         Jharsuguda    Jharsuguda (MPL)   \n",
       "1  14069301         Jharsuguda      Belpahar (MPL)   \n",
       "2  14072302         Jharsuguda  Brajrajnagar (MPL)   \n",
       "3  14019301         Jharsuguda          Jharsuguda   \n",
       "4  14082404         Jharsuguda    Jharsuguda (MPL)   \n",
       "\n",
       "                 type_of_institute  year phase  num_applications  \n",
       "0  Non-Govt Aided (488 Categories)  2018     1                 5  \n",
       "1  Non-Govt Aided (662 Categories)  2018     1                 5  \n",
       "2  Non-Govt Aided (488 Categories)  2018     1                 5  \n",
       "3  Non-Govt Aided (662 Categories)  2018     1                 5  \n",
       "4  Non-Govt Aided (488 Categories)  2018     1                 5  "
      ]
     },
     "execution_count": 19,
     "metadata": {},
     "output_type": "execute_result"
    }
   ],
   "source": [
    "deg_applications.head()"
   ]
  },
  {
   "cell_type": "code",
   "execution_count": 7,
   "id": "cd3394fd",
   "metadata": {},
   "outputs": [
    {
     "data": {
      "application/vnd.microsoft.datawrangler.viewer.v0+json": {
       "columns": [
        {
         "name": "index",
         "rawType": "int64",
         "type": "integer"
        },
        {
         "name": "aadhar_no",
         "rawType": "object",
         "type": "string"
        },
        {
         "name": "barcode",
         "rawType": "object",
         "type": "string"
        },
        {
         "name": "academic_year",
         "rawType": "int64",
         "type": "integer"
        },
        {
         "name": "reported_institute",
         "rawType": "object",
         "type": "string"
        },
        {
         "name": "sams_code",
         "rawType": "object",
         "type": "string"
        },
        {
         "name": "stream",
         "rawType": "object",
         "type": "string"
        },
        {
         "name": "institute_district",
         "rawType": "object",
         "type": "string"
        },
        {
         "name": "institute_block",
         "rawType": "object",
         "type": "string"
        },
        {
         "name": "type_of_institute",
         "rawType": "object",
         "type": "string"
        },
        {
         "name": "phase",
         "rawType": "object",
         "type": "string"
        },
        {
         "name": "year",
         "rawType": "object",
         "type": "string"
        },
        {
         "name": "admission_status",
         "rawType": "object",
         "type": "string"
        },
        {
         "name": "option_no",
         "rawType": "object",
         "type": "string"
        },
        {
         "name": "num_applications",
         "rawType": "int64",
         "type": "integer"
        }
       ],
       "ref": "aa9e3656-6efb-4cd9-a46a-b8cd8cbe1278",
       "rows": [
        [
         "0",
         "LûEÜý\u0007{Ý¤±+£LÙ<äH½ùßŽ’Ka†]“ìg\u001e’Ÿ",
         "24H2617504",
         "2024",
         "Patitapaban Higher Secondary School, Arebeda",
         "15129101",
         "Arts",
         "Kalahandi",
         "Jaipatna",
         "Non-Govt Aided (662 Categories)",
         "1",
         "2024",
         "NOT SELECTED",
         "4",
         "5"
        ],
        [
         "1",
         "LûEÜý\u0007{Ý¤±+£LÙ<äH½ùßŽ’Ka†]“ìg\u001e’Ÿ",
         "24H2617504",
         "2024",
         "Ladugaon Higher Secondary School, Ladugaon",
         "15152102",
         "Arts",
         "Kalahandi",
         "Koksara",
         "Non-Govt Aided (488 Categories)",
         "1",
         "2024",
         "NOT SELECTED",
         "1",
         "5"
        ],
        [
         "2",
         "LûEÜý\u0007{Ý¤±+£LÙ<äH½ùßŽ’Ka†]“ìg\u001e’Ÿ",
         "24H2617504",
         "2024",
         "BUDHARAJA GOVT HIGHER SECONDARY SCHOOL, AMPANI",
         "15151103",
         "Arts",
         "Kalahandi",
         "Koksara",
         "Govt. (SME)",
         "1",
         "2024",
         "ADMITTED",
         "2",
         "5"
        ],
        [
         "3",
         "LûEÜý\u0007{Ý¤±+£LÙ<äH½ùßŽ’Ka†]“ìg\u001e’Ÿ",
         "24H2617504",
         "2024",
         "Panchayat Samiti Higher Secondary School, Koksara",
         "15152101",
         "Arts",
         "Kalahandi",
         "Koksara",
         "Non-Govt Aided (488 Categories)",
         "1",
         "2024",
         "NOT SELECTED",
         "3",
         "5"
        ],
        [
         "4",
         "LûEÜý\u0007{Ý¤±+£LÙ<äH½ùßŽ’Ka†]“ìg\u001e’Ÿ",
         "24H2617504",
         "2024",
         "Indrabati Higher Secondary School, Jaipatna",
         "15122101",
         "Arts",
         "Kalahandi",
         "Jaipatna",
         "Non-Govt Aided (488 Categories)",
         "1",
         "2024",
         "NOT SELECTED",
         "5",
         "5"
        ]
       ],
       "shape": {
        "columns": 14,
        "rows": 5
       }
      },
      "text/html": [
       "<div>\n",
       "<style scoped>\n",
       "    .dataframe tbody tr th:only-of-type {\n",
       "        vertical-align: middle;\n",
       "    }\n",
       "\n",
       "    .dataframe tbody tr th {\n",
       "        vertical-align: top;\n",
       "    }\n",
       "\n",
       "    .dataframe thead th {\n",
       "        text-align: right;\n",
       "    }\n",
       "</style>\n",
       "<table border=\"1\" class=\"dataframe\">\n",
       "  <thead>\n",
       "    <tr style=\"text-align: right;\">\n",
       "      <th></th>\n",
       "      <th>aadhar_no</th>\n",
       "      <th>barcode</th>\n",
       "      <th>academic_year</th>\n",
       "      <th>reported_institute</th>\n",
       "      <th>sams_code</th>\n",
       "      <th>stream</th>\n",
       "      <th>institute_district</th>\n",
       "      <th>institute_block</th>\n",
       "      <th>type_of_institute</th>\n",
       "      <th>phase</th>\n",
       "      <th>year</th>\n",
       "      <th>admission_status</th>\n",
       "      <th>option_no</th>\n",
       "      <th>num_applications</th>\n",
       "    </tr>\n",
       "  </thead>\n",
       "  <tbody>\n",
       "    <tr>\n",
       "      <th>0</th>\n",
       "      <td>LûEÜý\u0007{Ý¤±+£LÙ&lt;äH½ùßŽ’Ka†]“ìg\u001e’Ÿ</td>\n",
       "      <td>24H2617504</td>\n",
       "      <td>2024</td>\n",
       "      <td>Patitapaban Higher Secondary School, Arebeda</td>\n",
       "      <td>15129101</td>\n",
       "      <td>Arts</td>\n",
       "      <td>Kalahandi</td>\n",
       "      <td>Jaipatna</td>\n",
       "      <td>Non-Govt Aided (662 Categories)</td>\n",
       "      <td>1</td>\n",
       "      <td>2024</td>\n",
       "      <td>NOT SELECTED</td>\n",
       "      <td>4</td>\n",
       "      <td>5</td>\n",
       "    </tr>\n",
       "    <tr>\n",
       "      <th>1</th>\n",
       "      <td>LûEÜý\u0007{Ý¤±+£LÙ&lt;äH½ùßŽ’Ka†]“ìg\u001e’Ÿ</td>\n",
       "      <td>24H2617504</td>\n",
       "      <td>2024</td>\n",
       "      <td>Ladugaon Higher Secondary School, Ladugaon</td>\n",
       "      <td>15152102</td>\n",
       "      <td>Arts</td>\n",
       "      <td>Kalahandi</td>\n",
       "      <td>Koksara</td>\n",
       "      <td>Non-Govt Aided (488 Categories)</td>\n",
       "      <td>1</td>\n",
       "      <td>2024</td>\n",
       "      <td>NOT SELECTED</td>\n",
       "      <td>1</td>\n",
       "      <td>5</td>\n",
       "    </tr>\n",
       "    <tr>\n",
       "      <th>2</th>\n",
       "      <td>LûEÜý\u0007{Ý¤±+£LÙ&lt;äH½ùßŽ’Ka†]“ìg\u001e’Ÿ</td>\n",
       "      <td>24H2617504</td>\n",
       "      <td>2024</td>\n",
       "      <td>BUDHARAJA GOVT HIGHER SECONDARY SCHOOL, AMPANI</td>\n",
       "      <td>15151103</td>\n",
       "      <td>Arts</td>\n",
       "      <td>Kalahandi</td>\n",
       "      <td>Koksara</td>\n",
       "      <td>Govt. (SME)</td>\n",
       "      <td>1</td>\n",
       "      <td>2024</td>\n",
       "      <td>ADMITTED</td>\n",
       "      <td>2</td>\n",
       "      <td>5</td>\n",
       "    </tr>\n",
       "    <tr>\n",
       "      <th>3</th>\n",
       "      <td>LûEÜý\u0007{Ý¤±+£LÙ&lt;äH½ùßŽ’Ka†]“ìg\u001e’Ÿ</td>\n",
       "      <td>24H2617504</td>\n",
       "      <td>2024</td>\n",
       "      <td>Panchayat Samiti Higher Secondary School, Koksara</td>\n",
       "      <td>15152101</td>\n",
       "      <td>Arts</td>\n",
       "      <td>Kalahandi</td>\n",
       "      <td>Koksara</td>\n",
       "      <td>Non-Govt Aided (488 Categories)</td>\n",
       "      <td>1</td>\n",
       "      <td>2024</td>\n",
       "      <td>NOT SELECTED</td>\n",
       "      <td>3</td>\n",
       "      <td>5</td>\n",
       "    </tr>\n",
       "    <tr>\n",
       "      <th>4</th>\n",
       "      <td>LûEÜý\u0007{Ý¤±+£LÙ&lt;äH½ùßŽ’Ka†]“ìg\u001e’Ÿ</td>\n",
       "      <td>24H2617504</td>\n",
       "      <td>2024</td>\n",
       "      <td>Indrabati Higher Secondary School, Jaipatna</td>\n",
       "      <td>15122101</td>\n",
       "      <td>Arts</td>\n",
       "      <td>Kalahandi</td>\n",
       "      <td>Jaipatna</td>\n",
       "      <td>Non-Govt Aided (488 Categories)</td>\n",
       "      <td>1</td>\n",
       "      <td>2024</td>\n",
       "      <td>NOT SELECTED</td>\n",
       "      <td>5</td>\n",
       "      <td>5</td>\n",
       "    </tr>\n",
       "  </tbody>\n",
       "</table>\n",
       "</div>"
      ],
      "text/plain": [
       "                          aadhar_no     barcode  academic_year  \\\n",
       "0  LûEÜý\u0007{Ý¤±+£LÙ<äH½ùßŽ’Ka†]“ìg\n",
       "’Ÿ  24H2617504           2024   \n",
       "1  LûEÜý\u0007{Ý¤±+£LÙ<äH½ùßŽ’Ka†]“ìg\n",
       "’Ÿ  24H2617504           2024   \n",
       "2  LûEÜý\u0007{Ý¤±+£LÙ<äH½ùßŽ’Ka†]“ìg\n",
       "’Ÿ  24H2617504           2024   \n",
       "3  LûEÜý\u0007{Ý¤±+£LÙ<äH½ùßŽ’Ka†]“ìg\n",
       "’Ÿ  24H2617504           2024   \n",
       "4  LûEÜý\u0007{Ý¤±+£LÙ<äH½ùßŽ’Ka†]“ìg\n",
       "’Ÿ  24H2617504           2024   \n",
       "\n",
       "                                  reported_institute sams_code stream  \\\n",
       "0       Patitapaban Higher Secondary School, Arebeda  15129101   Arts   \n",
       "1         Ladugaon Higher Secondary School, Ladugaon  15152102   Arts   \n",
       "2     BUDHARAJA GOVT HIGHER SECONDARY SCHOOL, AMPANI  15151103   Arts   \n",
       "3  Panchayat Samiti Higher Secondary School, Koksara  15152101   Arts   \n",
       "4        Indrabati Higher Secondary School, Jaipatna  15122101   Arts   \n",
       "\n",
       "  institute_district institute_block                type_of_institute phase  \\\n",
       "0          Kalahandi        Jaipatna  Non-Govt Aided (662 Categories)     1   \n",
       "1          Kalahandi         Koksara  Non-Govt Aided (488 Categories)     1   \n",
       "2          Kalahandi         Koksara                      Govt. (SME)     1   \n",
       "3          Kalahandi         Koksara  Non-Govt Aided (488 Categories)     1   \n",
       "4          Kalahandi        Jaipatna  Non-Govt Aided (488 Categories)     1   \n",
       "\n",
       "   year admission_status option_no  num_applications  \n",
       "0  2024     NOT SELECTED         4                 5  \n",
       "1  2024     NOT SELECTED         1                 5  \n",
       "2  2024         ADMITTED         2                 5  \n",
       "3  2024     NOT SELECTED         3                 5  \n",
       "4  2024     NOT SELECTED         5                 5  "
      ]
     },
     "execution_count": 7,
     "metadata": {},
     "output_type": "execute_result"
    }
   ],
   "source": [
    "hss_applications.head()"
   ]
  },
  {
   "cell_type": "code",
   "execution_count": null,
   "id": "06f3a93e",
   "metadata": {},
   "outputs": [],
   "source": []
  },
  {
   "cell_type": "code",
   "execution_count": null,
   "id": "2d7ca95e",
   "metadata": {},
   "outputs": [],
   "source": [
    "# Function to inspect column names for each loaded dataset\n",
    "def inspect_columns(datasets_dict):\n",
    "    for name, df in datasets_dict.items():\n",
    "        print(f\"\\n=== Columns in {name} ===\")\n",
    "        print(list(df.columns))\n",
    "\n",
    "# Define dataset mappings by group\n",
    "datasets_dict = {\n",
    "    # ITI\n",
    "    \"iti_enrollments\": iti_enrollments,\n",
    "    \"iti_marks\": iti_marks,\n",
    "    \"iti_institutes_cutoffs\": iti_institutes_cutoffs,\n",
    "    \"iti_institutes_enrollments\": iti_institutes_enrollments,\n",
    "    \"iti_institutes_strength\": iti_institutes_strength,\n",
    "    \n",
    "    \"diploma_enrollments\": diploma_enrollments,\n",
    "    \"diploma_marks\": diploma_marks,\n",
    "    \"diploma_institutes_enrollments\": diploma_institutes_enrollments,\n",
    "    \"diploma_institutes_strength\": diploma_institutes_strength,\n",
    "\n",
    "    \n",
    "}\n",
    "\n",
    "# Run the inspection\n",
    "inspect_columns(datasets_dict)\n"
   ]
  },
  {
   "cell_type": "code",
   "execution_count": null,
   "id": "0dea6d63",
   "metadata": {},
   "outputs": [],
   "source": [
    "iti_enrollments"
   ]
  },
  {
   "cell_type": "code",
   "execution_count": null,
   "id": "e8b2acb7",
   "metadata": {},
   "outputs": [
    {
     "data": {
      "application/vnd.microsoft.datawrangler.viewer.v0+json": {
       "columns": [
        {
         "name": "index",
         "rawType": "int64",
         "type": "integer"
        },
        {
         "name": "sams_code",
         "rawType": "object",
         "type": "string"
        },
        {
         "name": "module",
         "rawType": "object",
         "type": "string"
        },
        {
         "name": "academic_year",
         "rawType": "int64",
         "type": "integer"
        },
        {
         "name": "institute_name",
         "rawType": "object",
         "type": "string"
        },
        {
         "name": "category",
         "rawType": "object",
         "type": "string"
        },
        {
         "name": "enrollments",
         "rawType": "int64",
         "type": "integer"
        }
       ],
       "ref": "41df28be-d9a3-4965-b20c-fe48b278ed28",
       "rows": [
        [
         "0",
         "050211102",
         "ITI",
         "2017",
         "Gandhamardana ITI, Bolangir",
         "Male",
         "119"
        ],
        [
         "1",
         "201011101",
         "ITI",
         "2017",
         "Gopabandhu ITI Ambaguda Koraput",
         "Male",
         "404"
        ],
        [
         "2",
         "180111101",
         "ITI",
         "2017",
         "ITI Anandapur, Keonjhar",
         "Male",
         "160"
        ],
        [
         "3",
         "020211101",
         "ITI",
         "2017",
         "ITI Balasore",
         "Male",
         "665"
        ],
        [
         "4",
         "180811101",
         "ITI",
         "2017",
         "ITI Barbil, Keonjhar",
         "Male",
         "566"
        ]
       ],
       "shape": {
        "columns": 6,
        "rows": 5
       }
      },
      "text/html": [
       "<div>\n",
       "<style scoped>\n",
       "    .dataframe tbody tr th:only-of-type {\n",
       "        vertical-align: middle;\n",
       "    }\n",
       "\n",
       "    .dataframe tbody tr th {\n",
       "        vertical-align: top;\n",
       "    }\n",
       "\n",
       "    .dataframe thead th {\n",
       "        text-align: right;\n",
       "    }\n",
       "</style>\n",
       "<table border=\"1\" class=\"dataframe\">\n",
       "  <thead>\n",
       "    <tr style=\"text-align: right;\">\n",
       "      <th></th>\n",
       "      <th>sams_code</th>\n",
       "      <th>module</th>\n",
       "      <th>academic_year</th>\n",
       "      <th>institute_name</th>\n",
       "      <th>category</th>\n",
       "      <th>enrollments</th>\n",
       "    </tr>\n",
       "  </thead>\n",
       "  <tbody>\n",
       "    <tr>\n",
       "      <th>0</th>\n",
       "      <td>050211102</td>\n",
       "      <td>ITI</td>\n",
       "      <td>2017</td>\n",
       "      <td>Gandhamardana ITI, Bolangir</td>\n",
       "      <td>Male</td>\n",
       "      <td>119</td>\n",
       "    </tr>\n",
       "    <tr>\n",
       "      <th>1</th>\n",
       "      <td>201011101</td>\n",
       "      <td>ITI</td>\n",
       "      <td>2017</td>\n",
       "      <td>Gopabandhu ITI Ambaguda Koraput</td>\n",
       "      <td>Male</td>\n",
       "      <td>404</td>\n",
       "    </tr>\n",
       "    <tr>\n",
       "      <th>2</th>\n",
       "      <td>180111101</td>\n",
       "      <td>ITI</td>\n",
       "      <td>2017</td>\n",
       "      <td>ITI Anandapur, Keonjhar</td>\n",
       "      <td>Male</td>\n",
       "      <td>160</td>\n",
       "    </tr>\n",
       "    <tr>\n",
       "      <th>3</th>\n",
       "      <td>020211101</td>\n",
       "      <td>ITI</td>\n",
       "      <td>2017</td>\n",
       "      <td>ITI Balasore</td>\n",
       "      <td>Male</td>\n",
       "      <td>665</td>\n",
       "    </tr>\n",
       "    <tr>\n",
       "      <th>4</th>\n",
       "      <td>180811101</td>\n",
       "      <td>ITI</td>\n",
       "      <td>2017</td>\n",
       "      <td>ITI Barbil, Keonjhar</td>\n",
       "      <td>Male</td>\n",
       "      <td>566</td>\n",
       "    </tr>\n",
       "  </tbody>\n",
       "</table>\n",
       "</div>"
      ],
      "text/plain": [
       "   sams_code module  academic_year                   institute_name category  \\\n",
       "0  050211102    ITI           2017      Gandhamardana ITI, Bolangir     Male   \n",
       "1  201011101    ITI           2017  Gopabandhu ITI Ambaguda Koraput     Male   \n",
       "2  180111101    ITI           2017          ITI Anandapur, Keonjhar     Male   \n",
       "3  020211101    ITI           2017                     ITI Balasore     Male   \n",
       "4  180811101    ITI           2017             ITI Barbil, Keonjhar     Male   \n",
       "\n",
       "   enrollments  \n",
       "0          119  \n",
       "1          404  \n",
       "2          160  \n",
       "3          665  \n",
       "4          566  "
      ]
     },
     "metadata": {},
     "output_type": "display_data"
    }
   ],
   "source": [
    "iti_institutes_enrollments.head()"
   ]
  },
  {
   "cell_type": "code",
   "execution_count": null,
   "id": "5b5cb2d8",
   "metadata": {},
   "outputs": [
    {
     "data": {
      "application/vnd.microsoft.datawrangler.viewer.v0+json": {
       "columns": [
        {
         "name": "category",
         "rawType": "object",
         "type": "string"
        },
        {
         "name": "count",
         "rawType": "int64",
         "type": "integer"
        }
       ],
       "ref": "99bb8834-59b3-40a3-a9b1-f38541590ad2",
       "rows": [
        [
         "Male",
         "2969"
        ],
        [
         "Female",
         "2969"
        ],
        [
         "Transgender",
         "2969"
        ],
        [
         "UR",
         "2969"
        ],
        [
         "SC",
         "2969"
        ],
        [
         "ST",
         "2969"
        ],
        [
         "SEBCOBC",
         "2969"
        ],
        [
         "PC",
         "2969"
        ],
        [
         "ES",
         "2969"
        ],
        [
         "Sports",
         "2969"
        ],
        [
         "GC",
         "2969"
        ],
        [
         "EWS",
         "2969"
        ],
        [
         "PVTG",
         "2969"
        ],
        [
         "Orphan",
         "2969"
        ]
       ],
       "shape": {
        "columns": 1,
        "rows": 14
       }
      },
      "text/plain": [
       "category\n",
       "Male           2969\n",
       "Female         2969\n",
       "Transgender    2969\n",
       "UR             2969\n",
       "SC             2969\n",
       "ST             2969\n",
       "SEBCOBC        2969\n",
       "PC             2969\n",
       "ES             2969\n",
       "Sports         2969\n",
       "GC             2969\n",
       "EWS            2969\n",
       "PVTG           2969\n",
       "Orphan         2969\n",
       "Name: count, dtype: int64"
      ]
     },
     "metadata": {},
     "output_type": "display_data"
    }
   ],
   "source": [
    "iti_institutes_enrollments['category'].value_counts()"
   ]
  },
  {
   "cell_type": "code",
   "execution_count": null,
   "id": "ec898495",
   "metadata": {},
   "outputs": [
    {
     "data": {
      "application/vnd.microsoft.datawrangler.viewer.v0+json": {
       "columns": [
        {
         "name": "category",
         "rawType": "object",
         "type": "string"
        },
        {
         "name": "count",
         "rawType": "int64",
         "type": "integer"
        }
       ],
       "ref": "933c1480-113e-40c9-895c-c4f8ee4165c2",
       "rows": [
        [
         "Male",
         "1141"
        ],
        [
         "Female",
         "1141"
        ],
        [
         "Transgender",
         "1141"
        ],
        [
         "UR",
         "1141"
        ],
        [
         "SC",
         "1141"
        ],
        [
         "ST",
         "1141"
        ],
        [
         "PC",
         "1141"
        ],
        [
         "ES",
         "1141"
        ],
        [
         "Sports",
         "1141"
        ],
        [
         "GC",
         "1141"
        ],
        [
         "EWS",
         "1141"
        ],
        [
         "PVTG",
         "1141"
        ],
        [
         "Orphan",
         "1141"
        ]
       ],
       "shape": {
        "columns": 1,
        "rows": 13
       }
      },
      "text/plain": [
       "category\n",
       "Male           1141\n",
       "Female         1141\n",
       "Transgender    1141\n",
       "UR             1141\n",
       "SC             1141\n",
       "ST             1141\n",
       "PC             1141\n",
       "ES             1141\n",
       "Sports         1141\n",
       "GC             1141\n",
       "EWS            1141\n",
       "PVTG           1141\n",
       "Orphan         1141\n",
       "Name: count, dtype: int64"
      ]
     },
     "metadata": {},
     "output_type": "display_data"
    }
   ],
   "source": [
    "diploma_institutes_enrollments['category'].value_counts()"
   ]
  },
  {
   "cell_type": "code",
   "execution_count": null,
   "id": "97d50b03",
   "metadata": {},
   "outputs": [
    {
     "data": {
      "text/plain": [
       "Index(['exam_name', 'year_of_passing', 'roll_no', 'examination_type',\n",
       "       'total_marks', 'secured_marks', 'percentage', 'compartmental_status',\n",
       "       'compartmental_fail_mark', 'subject_wise_marks',\n",
       "       'highest_qualification_board_exam_name',\n",
       "       'highest_qualification_exam_board', 'aadhar_no', 'academic_year'],\n",
       "      dtype='object')"
      ]
     },
     "metadata": {},
     "output_type": "display_data"
    }
   ],
   "source": [
    "diploma_marks.columns"
   ]
  },
  {
   "cell_type": "code",
   "execution_count": null,
   "id": "379ee39f",
   "metadata": {},
   "outputs": [],
   "source": []
  },
  {
   "cell_type": "code",
   "execution_count": null,
   "id": "f94a01ed",
   "metadata": {},
   "outputs": [],
   "source": []
  },
  {
   "cell_type": "code",
   "execution_count": null,
   "id": "f0491013",
   "metadata": {},
   "outputs": [],
   "source": []
  },
  {
   "cell_type": "code",
   "execution_count": null,
   "id": "a78310f6",
   "metadata": {},
   "outputs": [],
   "source": []
  },
  {
   "cell_type": "code",
   "execution_count": 3,
   "id": "7e585565",
   "metadata": {},
   "outputs": [
    {
     "name": "stdout",
     "output_type": "stream",
     "text": [
      "\u001b[32m2025-08-25 15:21:17.510\u001b[0m | \u001b[1mINFO    \u001b[0m | \u001b[36msams.utils\u001b[0m:\u001b[36mload_data\u001b[0m:\u001b[36m70\u001b[0m - \u001b[1mLoading data from C:\\Users\\Admin\\Documents\\GitHub\\sams\\data\\interim\\hss_first_choice_admissions.pq\u001b[0m\n"
     ]
    }
   ],
   "source": [
    "# Load interim datasets for HSS\n",
    "from sams.config import datasets\n",
    "# hss_enrollments = load_data(datasets[\"hss_enrollments\"])\n",
    "# hss_applications = load_data(datasets[\"hss_applications\"])\n",
    "# hss_marks = load_data(datasets[\"hss_marks\"])\n",
    "hss_first_choice_admissions = load_data(datasets[\"hss_first_choice_admissions\"])"
   ]
  },
  {
   "cell_type": "code",
   "execution_count": null,
   "id": "e966102e",
   "metadata": {},
   "outputs": [
    {
     "name": "stdout",
     "output_type": "stream",
     "text": [
      "\n",
      "=== Columns in hss_enrollments ===\n",
      "['barcode', 'aadhar_no', 'academic_year', 'module', 'gender', 'dob', 'social_category', 'orphan', 'es', 'ph', 'state', 'district', 'address', 'block', 'pin_code', 'annual_income', 'highest_qualification', 'board_exam_name_for_highest_qualification', 'examination_board_of_the_highest_qualification', 'examination_type', 'year_of_passing', 'total_marks', 'secured_marks', 'percentage', 'compartmental_status', 'hss_option_details', 'hss_compartments']\n",
      "\n",
      "=== Columns in hss_applications ===\n",
      "['reported_institute', 'sams_code', 'stream', 'institute_district', 'institute_block', 'type_of_institute', 'phase', 'year', 'admission_status', 'option_no', 'barcode', 'academic_year', 'aadhar_no', 'num_applications']\n",
      "\n",
      "=== Columns in hss_marks ===\n",
      "['aadhar_no', 'barcode', 'academic_year', 'compartmental_status', 'subject', 'failed_mark', 'pass_mark']\n",
      "\n",
      "=== Columns in hss_first_choice_admissions ===\n",
      "['reported_institute', 'sams_code', 'stream', 'type_of_institute', 'phase', 'year', 'admission_status', 'option_no', 'barcode', 'academic_year', 'aadhar_no']\n"
     ]
    }
   ],
   "source": [
    "# Inspect column names of all HSS datasets\n",
    "def inspect_columns(datasets_dict):\n",
    "    for name, df in datasets_dict.items():\n",
    "        print(f\"\\n=== Columns in {name} ===\")\n",
    "        print(list(df.columns))\n",
    "\n",
    "# Your loaded datasets\n",
    "datasets_dict = {\n",
    "    \"hss_enrollments\": hss_enrollments,\n",
    "    \"hss_applications\": hss_applications,\n",
    "    \"hss_marks\": hss_marks,\n",
    "    \"hss_first_choice_admissions\": hss_first_choice_admissions,\n",
    "}\n",
    "\n",
    "# Run the inspection\n",
    "inspect_columns(datasets_dict)\n"
   ]
  },
  {
   "cell_type": "code",
   "execution_count": 4,
   "id": "706bcdfe",
   "metadata": {},
   "outputs": [
    {
     "data": {
      "application/vnd.microsoft.datawrangler.viewer.v0+json": {
       "columns": [
        {
         "name": "index",
         "rawType": "int64",
         "type": "integer"
        },
        {
         "name": "barcode",
         "rawType": "object",
         "type": "string"
        },
        {
         "name": "academic_year",
         "rawType": "int64",
         "type": "integer"
        },
        {
         "name": "SAMSCode",
         "rawType": "object",
         "type": "string"
        },
        {
         "name": "Stream",
         "rawType": "object",
         "type": "string"
        },
        {
         "name": "InstituteDistrict",
         "rawType": "object",
         "type": "string"
        },
        {
         "name": "Phase",
         "rawType": "object",
         "type": "string"
        },
        {
         "name": "AdmissionStatus",
         "rawType": "object",
         "type": "string"
        },
        {
         "name": "OptionNo",
         "rawType": "object",
         "type": "string"
        }
       ],
       "ref": "dd1a99a3-f20d-49e0-a652-0a75f33815cf",
       "rows": [
        [
         "0",
         "18J0055115",
         "2018",
         "23022101",
         "Commerce",
         "Nabarangpur",
         "1",
         "ADMITTED",
         "1"
        ],
        [
         "1",
         "18J0055290",
         "2018",
         "05105102",
         "Science",
         "Bolangir",
         "1",
         "ADMITTED",
         "1"
        ],
        [
         "2",
         "18J0056011",
         "2018",
         "26089102",
         "Arts",
         "Puri",
         "1",
         "ADMITTED",
         "1"
        ],
        [
         "3",
         "18J0056534",
         "2018",
         "09029101",
         "Arts",
         "Dhenkanal",
         "1",
         "ADMITTED",
         "1"
        ],
        [
         "4",
         "18J0058450",
         "2018",
         "23022101",
         "Commerce",
         "Nabarangpur",
         "1",
         "ADMITTED",
         "1"
        ]
       ],
       "shape": {
        "columns": 8,
        "rows": 5
       }
      },
      "text/html": [
       "<div>\n",
       "<style scoped>\n",
       "    .dataframe tbody tr th:only-of-type {\n",
       "        vertical-align: middle;\n",
       "    }\n",
       "\n",
       "    .dataframe tbody tr th {\n",
       "        vertical-align: top;\n",
       "    }\n",
       "\n",
       "    .dataframe thead th {\n",
       "        text-align: right;\n",
       "    }\n",
       "</style>\n",
       "<table border=\"1\" class=\"dataframe\">\n",
       "  <thead>\n",
       "    <tr style=\"text-align: right;\">\n",
       "      <th></th>\n",
       "      <th>barcode</th>\n",
       "      <th>academic_year</th>\n",
       "      <th>SAMSCode</th>\n",
       "      <th>Stream</th>\n",
       "      <th>InstituteDistrict</th>\n",
       "      <th>Phase</th>\n",
       "      <th>AdmissionStatus</th>\n",
       "      <th>OptionNo</th>\n",
       "    </tr>\n",
       "  </thead>\n",
       "  <tbody>\n",
       "    <tr>\n",
       "      <th>0</th>\n",
       "      <td>18J0055115</td>\n",
       "      <td>2018</td>\n",
       "      <td>23022101</td>\n",
       "      <td>Commerce</td>\n",
       "      <td>Nabarangpur</td>\n",
       "      <td>1</td>\n",
       "      <td>ADMITTED</td>\n",
       "      <td>1</td>\n",
       "    </tr>\n",
       "    <tr>\n",
       "      <th>1</th>\n",
       "      <td>18J0055290</td>\n",
       "      <td>2018</td>\n",
       "      <td>05105102</td>\n",
       "      <td>Science</td>\n",
       "      <td>Bolangir</td>\n",
       "      <td>1</td>\n",
       "      <td>ADMITTED</td>\n",
       "      <td>1</td>\n",
       "    </tr>\n",
       "    <tr>\n",
       "      <th>2</th>\n",
       "      <td>18J0056011</td>\n",
       "      <td>2018</td>\n",
       "      <td>26089102</td>\n",
       "      <td>Arts</td>\n",
       "      <td>Puri</td>\n",
       "      <td>1</td>\n",
       "      <td>ADMITTED</td>\n",
       "      <td>1</td>\n",
       "    </tr>\n",
       "    <tr>\n",
       "      <th>3</th>\n",
       "      <td>18J0056534</td>\n",
       "      <td>2018</td>\n",
       "      <td>09029101</td>\n",
       "      <td>Arts</td>\n",
       "      <td>Dhenkanal</td>\n",
       "      <td>1</td>\n",
       "      <td>ADMITTED</td>\n",
       "      <td>1</td>\n",
       "    </tr>\n",
       "    <tr>\n",
       "      <th>4</th>\n",
       "      <td>18J0058450</td>\n",
       "      <td>2018</td>\n",
       "      <td>23022101</td>\n",
       "      <td>Commerce</td>\n",
       "      <td>Nabarangpur</td>\n",
       "      <td>1</td>\n",
       "      <td>ADMITTED</td>\n",
       "      <td>1</td>\n",
       "    </tr>\n",
       "  </tbody>\n",
       "</table>\n",
       "</div>"
      ],
      "text/plain": [
       "      barcode  academic_year  SAMSCode    Stream InstituteDistrict Phase  \\\n",
       "0  18J0055115           2018  23022101  Commerce       Nabarangpur     1   \n",
       "1  18J0055290           2018  05105102   Science          Bolangir     1   \n",
       "2  18J0056011           2018  26089102      Arts              Puri     1   \n",
       "3  18J0056534           2018  09029101      Arts         Dhenkanal     1   \n",
       "4  18J0058450           2018  23022101  Commerce       Nabarangpur     1   \n",
       "\n",
       "  AdmissionStatus OptionNo  \n",
       "0        ADMITTED        1  \n",
       "1        ADMITTED        1  \n",
       "2        ADMITTED        1  \n",
       "3        ADMITTED        1  \n",
       "4        ADMITTED        1  "
      ]
     },
     "execution_count": 4,
     "metadata": {},
     "output_type": "execute_result"
    }
   ],
   "source": [
    "hss_first_choice_admissions.head()"
   ]
  },
  {
   "cell_type": "code",
   "execution_count": null,
   "id": "1ab1d79a",
   "metadata": {},
   "outputs": [
    {
     "data": {
      "application/vnd.microsoft.datawrangler.viewer.v0+json": {
       "columns": [
        {
         "name": "index",
         "rawType": "int64",
         "type": "integer"
        },
        {
         "name": "reported_institute",
         "rawType": "object",
         "type": "string"
        },
        {
         "name": "sams_code",
         "rawType": "object",
         "type": "string"
        },
        {
         "name": "stream",
         "rawType": "object",
         "type": "string"
        },
        {
         "name": "institute_district",
         "rawType": "object",
         "type": "string"
        },
        {
         "name": "institute_block",
         "rawType": "object",
         "type": "string"
        },
        {
         "name": "type_of_institute",
         "rawType": "object",
         "type": "string"
        },
        {
         "name": "phase",
         "rawType": "object",
         "type": "string"
        },
        {
         "name": "year",
         "rawType": "object",
         "type": "string"
        },
        {
         "name": "admission_status",
         "rawType": "object",
         "type": "string"
        },
        {
         "name": "option_no",
         "rawType": "object",
         "type": "string"
        },
        {
         "name": "barcode",
         "rawType": "object",
         "type": "string"
        },
        {
         "name": "academic_year",
         "rawType": "int64",
         "type": "integer"
        },
        {
         "name": "aadhar_no",
         "rawType": "object",
         "type": "unknown"
        },
        {
         "name": "num_applications",
         "rawType": "int64",
         "type": "integer"
        }
       ],
       "ref": "d8f39285-819b-4666-b5c8-40d82514de42",
       "rows": [
        [
         "0",
         "Gangadhar Meher Higher Secondary School, Sambalpur",
         "28141101",
         "Commerce",
         "Sambalpur",
         "Sambalpur (MC)",
         "Govt. (SME)",
         "1",
         "2018",
         "TC TAKEN",
         "1",
         "18J0000045",
         "2018",
         null,
         "5"
        ],
        [
         "1",
         "Netaji Subash Chandra Bose Higher Secondary School, Sambalpur",
         "28111101",
         "Commerce",
         "Sambalpur",
         "Rengali",
         "Govt. (SME)",
         "1",
         "2018",
         "NOT SELECTED",
         "2",
         "18J0000045",
         "2018",
         null,
         "5"
        ],
        [
         "2",
         "Hirakud Higher Secondary School, Hirakud",
         "28132101",
         "Commerce",
         "Sambalpur",
         "Hirakud (NAC)",
         "Non-Govt Aided (488 Categories)",
         "1",
         "2018",
         "NOT SELECTED",
         "3",
         "18J0000045",
         "2018",
         null,
         "5"
        ],
        [
         "3",
         "Surajmal Higher Secondary School, Rampella",
         "28112102",
         "Commerce",
         "Sambalpur",
         "Rengali",
         "Non-Govt Aided (488 Categories)",
         "1",
         "2018",
         "NOT SELECTED",
         "4",
         "18J0000045",
         "2018",
         null,
         "5"
        ],
        [
         "4",
         "Burla N.A.C. Higher Secondary School, Burla",
         "28122101",
         "Commerce",
         "Sambalpur",
         "Burla (NAC)",
         "Non-Govt Aided (488 Categories)",
         "1",
         "2018",
         "NOT SELECTED",
         "5",
         "18J0000045",
         "2018",
         null,
         "5"
        ]
       ],
       "shape": {
        "columns": 14,
        "rows": 5
       }
      },
      "text/html": [
       "<div>\n",
       "<style scoped>\n",
       "    .dataframe tbody tr th:only-of-type {\n",
       "        vertical-align: middle;\n",
       "    }\n",
       "\n",
       "    .dataframe tbody tr th {\n",
       "        vertical-align: top;\n",
       "    }\n",
       "\n",
       "    .dataframe thead th {\n",
       "        text-align: right;\n",
       "    }\n",
       "</style>\n",
       "<table border=\"1\" class=\"dataframe\">\n",
       "  <thead>\n",
       "    <tr style=\"text-align: right;\">\n",
       "      <th></th>\n",
       "      <th>reported_institute</th>\n",
       "      <th>sams_code</th>\n",
       "      <th>stream</th>\n",
       "      <th>institute_district</th>\n",
       "      <th>institute_block</th>\n",
       "      <th>type_of_institute</th>\n",
       "      <th>phase</th>\n",
       "      <th>year</th>\n",
       "      <th>admission_status</th>\n",
       "      <th>option_no</th>\n",
       "      <th>barcode</th>\n",
       "      <th>academic_year</th>\n",
       "      <th>aadhar_no</th>\n",
       "      <th>num_applications</th>\n",
       "    </tr>\n",
       "  </thead>\n",
       "  <tbody>\n",
       "    <tr>\n",
       "      <th>0</th>\n",
       "      <td>Gangadhar Meher Higher Secondary School, Samba...</td>\n",
       "      <td>28141101</td>\n",
       "      <td>Commerce</td>\n",
       "      <td>Sambalpur</td>\n",
       "      <td>Sambalpur (MC)</td>\n",
       "      <td>Govt. (SME)</td>\n",
       "      <td>1</td>\n",
       "      <td>2018</td>\n",
       "      <td>TC TAKEN</td>\n",
       "      <td>1</td>\n",
       "      <td>18J0000045</td>\n",
       "      <td>2018</td>\n",
       "      <td>None</td>\n",
       "      <td>5</td>\n",
       "    </tr>\n",
       "    <tr>\n",
       "      <th>1</th>\n",
       "      <td>Netaji Subash Chandra Bose Higher Secondary Sc...</td>\n",
       "      <td>28111101</td>\n",
       "      <td>Commerce</td>\n",
       "      <td>Sambalpur</td>\n",
       "      <td>Rengali</td>\n",
       "      <td>Govt. (SME)</td>\n",
       "      <td>1</td>\n",
       "      <td>2018</td>\n",
       "      <td>NOT SELECTED</td>\n",
       "      <td>2</td>\n",
       "      <td>18J0000045</td>\n",
       "      <td>2018</td>\n",
       "      <td>None</td>\n",
       "      <td>5</td>\n",
       "    </tr>\n",
       "    <tr>\n",
       "      <th>2</th>\n",
       "      <td>Hirakud Higher Secondary School, Hirakud</td>\n",
       "      <td>28132101</td>\n",
       "      <td>Commerce</td>\n",
       "      <td>Sambalpur</td>\n",
       "      <td>Hirakud (NAC)</td>\n",
       "      <td>Non-Govt Aided (488 Categories)</td>\n",
       "      <td>1</td>\n",
       "      <td>2018</td>\n",
       "      <td>NOT SELECTED</td>\n",
       "      <td>3</td>\n",
       "      <td>18J0000045</td>\n",
       "      <td>2018</td>\n",
       "      <td>None</td>\n",
       "      <td>5</td>\n",
       "    </tr>\n",
       "    <tr>\n",
       "      <th>3</th>\n",
       "      <td>Surajmal Higher Secondary School, Rampella</td>\n",
       "      <td>28112102</td>\n",
       "      <td>Commerce</td>\n",
       "      <td>Sambalpur</td>\n",
       "      <td>Rengali</td>\n",
       "      <td>Non-Govt Aided (488 Categories)</td>\n",
       "      <td>1</td>\n",
       "      <td>2018</td>\n",
       "      <td>NOT SELECTED</td>\n",
       "      <td>4</td>\n",
       "      <td>18J0000045</td>\n",
       "      <td>2018</td>\n",
       "      <td>None</td>\n",
       "      <td>5</td>\n",
       "    </tr>\n",
       "    <tr>\n",
       "      <th>4</th>\n",
       "      <td>Burla N.A.C. Higher Secondary School, Burla</td>\n",
       "      <td>28122101</td>\n",
       "      <td>Commerce</td>\n",
       "      <td>Sambalpur</td>\n",
       "      <td>Burla (NAC)</td>\n",
       "      <td>Non-Govt Aided (488 Categories)</td>\n",
       "      <td>1</td>\n",
       "      <td>2018</td>\n",
       "      <td>NOT SELECTED</td>\n",
       "      <td>5</td>\n",
       "      <td>18J0000045</td>\n",
       "      <td>2018</td>\n",
       "      <td>None</td>\n",
       "      <td>5</td>\n",
       "    </tr>\n",
       "  </tbody>\n",
       "</table>\n",
       "</div>"
      ],
      "text/plain": [
       "                                  reported_institute sams_code    stream  \\\n",
       "0  Gangadhar Meher Higher Secondary School, Samba...  28141101  Commerce   \n",
       "1  Netaji Subash Chandra Bose Higher Secondary Sc...  28111101  Commerce   \n",
       "2           Hirakud Higher Secondary School, Hirakud  28132101  Commerce   \n",
       "3         Surajmal Higher Secondary School, Rampella  28112102  Commerce   \n",
       "4        Burla N.A.C. Higher Secondary School, Burla  28122101  Commerce   \n",
       "\n",
       "  institute_district institute_block                type_of_institute phase  \\\n",
       "0          Sambalpur  Sambalpur (MC)                      Govt. (SME)     1   \n",
       "1          Sambalpur         Rengali                      Govt. (SME)     1   \n",
       "2          Sambalpur   Hirakud (NAC)  Non-Govt Aided (488 Categories)     1   \n",
       "3          Sambalpur         Rengali  Non-Govt Aided (488 Categories)     1   \n",
       "4          Sambalpur     Burla (NAC)  Non-Govt Aided (488 Categories)     1   \n",
       "\n",
       "   year admission_status option_no     barcode  academic_year aadhar_no  \\\n",
       "0  2018         TC TAKEN         1  18J0000045           2018      None   \n",
       "1  2018     NOT SELECTED         2  18J0000045           2018      None   \n",
       "2  2018     NOT SELECTED         3  18J0000045           2018      None   \n",
       "3  2018     NOT SELECTED         4  18J0000045           2018      None   \n",
       "4  2018     NOT SELECTED         5  18J0000045           2018      None   \n",
       "\n",
       "   num_applications  \n",
       "0                 5  \n",
       "1                 5  \n",
       "2                 5  \n",
       "3                 5  \n",
       "4                 5  "
      ]
     },
     "metadata": {},
     "output_type": "display_data"
    }
   ],
   "source": [
    "hss_applications.head()"
   ]
  },
  {
   "cell_type": "code",
   "execution_count": null,
   "id": "bebefad9",
   "metadata": {},
   "outputs": [
    {
     "data": {
      "application/vnd.microsoft.datawrangler.viewer.v0+json": {
       "columns": [
        {
         "name": "index",
         "rawType": "int64",
         "type": "integer"
        },
        {
         "name": "aadhar_no",
         "rawType": "object",
         "type": "unknown"
        },
        {
         "name": "barcode",
         "rawType": "object",
         "type": "string"
        },
        {
         "name": "academic_year",
         "rawType": "int64",
         "type": "integer"
        },
        {
         "name": "compartmental_status",
         "rawType": "object",
         "type": "string"
        },
        {
         "name": "subject",
         "rawType": "object",
         "type": "unknown"
        },
        {
         "name": "failed_mark",
         "rawType": "object",
         "type": "unknown"
        },
        {
         "name": "pass_mark",
         "rawType": "object",
         "type": "unknown"
        }
       ],
       "ref": "a4e37e0b-e2f8-493e-bde5-a077cfb46213",
       "rows": [
        [
         "0",
         null,
         "18J0000045",
         "2018",
         "NO",
         null,
         null,
         null
        ],
        [
         "1",
         null,
         "18J0000057",
         "2018",
         "NO",
         null,
         null,
         null
        ],
        [
         "2",
         null,
         "18J0000067",
         "2018",
         "NO",
         null,
         null,
         null
        ],
        [
         "3",
         null,
         "18J0000075",
         "2018",
         "NO",
         null,
         null,
         null
        ],
        [
         "4",
         null,
         "18J0000081",
         "2018",
         "NO",
         null,
         null,
         null
        ]
       ],
       "shape": {
        "columns": 7,
        "rows": 5
       }
      },
      "text/html": [
       "<div>\n",
       "<style scoped>\n",
       "    .dataframe tbody tr th:only-of-type {\n",
       "        vertical-align: middle;\n",
       "    }\n",
       "\n",
       "    .dataframe tbody tr th {\n",
       "        vertical-align: top;\n",
       "    }\n",
       "\n",
       "    .dataframe thead th {\n",
       "        text-align: right;\n",
       "    }\n",
       "</style>\n",
       "<table border=\"1\" class=\"dataframe\">\n",
       "  <thead>\n",
       "    <tr style=\"text-align: right;\">\n",
       "      <th></th>\n",
       "      <th>aadhar_no</th>\n",
       "      <th>barcode</th>\n",
       "      <th>academic_year</th>\n",
       "      <th>compartmental_status</th>\n",
       "      <th>subject</th>\n",
       "      <th>failed_mark</th>\n",
       "      <th>pass_mark</th>\n",
       "    </tr>\n",
       "  </thead>\n",
       "  <tbody>\n",
       "    <tr>\n",
       "      <th>0</th>\n",
       "      <td>None</td>\n",
       "      <td>18J0000045</td>\n",
       "      <td>2018</td>\n",
       "      <td>NO</td>\n",
       "      <td>None</td>\n",
       "      <td>None</td>\n",
       "      <td>None</td>\n",
       "    </tr>\n",
       "    <tr>\n",
       "      <th>1</th>\n",
       "      <td>None</td>\n",
       "      <td>18J0000057</td>\n",
       "      <td>2018</td>\n",
       "      <td>NO</td>\n",
       "      <td>None</td>\n",
       "      <td>None</td>\n",
       "      <td>None</td>\n",
       "    </tr>\n",
       "    <tr>\n",
       "      <th>2</th>\n",
       "      <td>None</td>\n",
       "      <td>18J0000067</td>\n",
       "      <td>2018</td>\n",
       "      <td>NO</td>\n",
       "      <td>None</td>\n",
       "      <td>None</td>\n",
       "      <td>None</td>\n",
       "    </tr>\n",
       "    <tr>\n",
       "      <th>3</th>\n",
       "      <td>None</td>\n",
       "      <td>18J0000075</td>\n",
       "      <td>2018</td>\n",
       "      <td>NO</td>\n",
       "      <td>None</td>\n",
       "      <td>None</td>\n",
       "      <td>None</td>\n",
       "    </tr>\n",
       "    <tr>\n",
       "      <th>4</th>\n",
       "      <td>None</td>\n",
       "      <td>18J0000081</td>\n",
       "      <td>2018</td>\n",
       "      <td>NO</td>\n",
       "      <td>None</td>\n",
       "      <td>None</td>\n",
       "      <td>None</td>\n",
       "    </tr>\n",
       "  </tbody>\n",
       "</table>\n",
       "</div>"
      ],
      "text/plain": [
       "  aadhar_no     barcode  academic_year compartmental_status subject  \\\n",
       "0      None  18J0000045           2018                   NO    None   \n",
       "1      None  18J0000057           2018                   NO    None   \n",
       "2      None  18J0000067           2018                   NO    None   \n",
       "3      None  18J0000075           2018                   NO    None   \n",
       "4      None  18J0000081           2018                   NO    None   \n",
       "\n",
       "  failed_mark pass_mark  \n",
       "0        None      None  \n",
       "1        None      None  \n",
       "2        None      None  \n",
       "3        None      None  \n",
       "4        None      None  "
      ]
     },
     "metadata": {},
     "output_type": "display_data"
    }
   ],
   "source": [
    "hss_marks.head()"
   ]
  },
  {
   "cell_type": "code",
   "execution_count": null,
   "id": "7c29c658",
   "metadata": {},
   "outputs": [
    {
     "data": {
      "application/vnd.microsoft.datawrangler.viewer.v0+json": {
       "columns": [
        {
         "name": "index",
         "rawType": "int64",
         "type": "integer"
        },
        {
         "name": "barcode",
         "rawType": "object",
         "type": "string"
        },
        {
         "name": "aadhar_no",
         "rawType": "object",
         "type": "string"
        },
        {
         "name": "academic_year",
         "rawType": "int64",
         "type": "integer"
        },
        {
         "name": "module",
         "rawType": "object",
         "type": "string"
        },
        {
         "name": "gender",
         "rawType": "object",
         "type": "string"
        },
        {
         "name": "dob",
         "rawType": "object",
         "type": "string"
        },
        {
         "name": "social_category",
         "rawType": "object",
         "type": "string"
        },
        {
         "name": "orphan",
         "rawType": "object",
         "type": "string"
        },
        {
         "name": "es",
         "rawType": "object",
         "type": "string"
        },
        {
         "name": "ph",
         "rawType": "object",
         "type": "string"
        },
        {
         "name": "state",
         "rawType": "object",
         "type": "string"
        },
        {
         "name": "district",
         "rawType": "object",
         "type": "string"
        },
        {
         "name": "address",
         "rawType": "object",
         "type": "string"
        },
        {
         "name": "block",
         "rawType": "object",
         "type": "string"
        },
        {
         "name": "pin_code",
         "rawType": "object",
         "type": "string"
        },
        {
         "name": "annual_income",
         "rawType": "object",
         "type": "string"
        },
        {
         "name": "highest_qualification",
         "rawType": "object",
         "type": "string"
        },
        {
         "name": "board_exam_name_for_highest_qualification",
         "rawType": "object",
         "type": "string"
        },
        {
         "name": "examination_board_of_the_highest_qualification",
         "rawType": "object",
         "type": "string"
        },
        {
         "name": "examination_type",
         "rawType": "object",
         "type": "string"
        },
        {
         "name": "year_of_passing",
         "rawType": "object",
         "type": "string"
        },
        {
         "name": "total_marks",
         "rawType": "object",
         "type": "string"
        },
        {
         "name": "secured_marks",
         "rawType": "object",
         "type": "string"
        },
        {
         "name": "percentage",
         "rawType": "object",
         "type": "string"
        },
        {
         "name": "compartmental_status",
         "rawType": "object",
         "type": "string"
        },
        {
         "name": "hss_option_details",
         "rawType": "object",
         "type": "string"
        },
        {
         "name": "hss_compartments",
         "rawType": "object",
         "type": "string"
        }
       ],
       "ref": "86e89e4f-54a1-4272-a033-2f4392851d51",
       "rows": [
        [
         "0",
         "18J0054157",
         "",
         "2018",
         "HSS",
         "Female",
         "07-Jul-2002",
         "SEBC",
         "NO",
         "NO",
         "NO",
         "Odisha",
         "Jajpur",
         "AT/PO-RUDRAPUR,PS-JAJPUR SADAR, DIST-JAJPUR",
         "Jajpur",
         "755005",
         "0 - 1,50,000",
         "10TH",
         "Board of Secondary Education, Orissa, Cuttack-1, Year 2001 and onwards",
         "BSE, Odisha",
         "Annual",
         "2018",
         "600",
         "218.00",
         "36.33",
         "NO",
         "[{\"ReportedInstitute\": \"Sujanpur Anchalika Panchayat Higher Secondary School, Sujanpur\", \"SAMSCode\": \"13072102\", \"Stream\": \"Arts\", \"InstituteDistrict\": \"Jajpur\", \"InstituteBlock\": \"Jajpur\", \"TypeofInstitute\": \"Non-Govt Aided (488 Categories)\", \"Phase\": \"1\", \"Year\": \"2018\", \"AdmissionStatus\": \"NOT SELECTED\", \"OptionNo\": \"1\"}, {\"ReportedInstitute\": \"Santhan Higher Secondary School, Bainsiria\", \"SAMSCode\": \"13029101\", \"Stream\": \"Arts\", \"InstituteDistrict\": \"Jajpur\", \"InstituteBlock\": \"Bari\", \"TypeofInstitute\": \"Non-Govt Aided (662 Categories)\", \"Phase\": \"1\", \"Year\": \"2018\", \"AdmissionStatus\": \"NOT SELECTED\", \"OptionNo\": \"2\"}, {\"ReportedInstitute\": \"Bajragiri Higher Secondary School, Kotpur\", \"SAMSCode\": \"13062101\", \"Stream\": \"Arts\", \"InstituteDistrict\": \"Jajpur\", \"InstituteBlock\": \"Dharmasala\", \"TypeofInstitute\": \"Non-Govt Aided (488 Categories)\", \"Phase\": \"1\", \"Year\": \"2018\", \"AdmissionStatus\": \"NOT SELECTED\", \"OptionNo\": \"3\"}, {\"ReportedInstitute\": \"Brahmabarada Higher Secondary School, Baradavihar\", \"SAMSCode\": \"13092101\", \"Stream\": \"Arts\", \"InstituteDistrict\": \"Jajpur\", \"InstituteBlock\": \"Rasulpur\", \"TypeofInstitute\": \"Non-Govt Aided (488 Categories)\", \"Phase\": \"1\", \"Year\": \"2018\", \"AdmissionStatus\": \"NOT SELECTED\", \"OptionNo\": \"4\"}, {\"ReportedInstitute\": \"Abhimanyu Samant Singhar Higher Secondary School, Balia\", \"SAMSCode\": \"13022104\", \"Stream\": \"Arts\", \"InstituteDistrict\": \"Jajpur\", \"InstituteBlock\": \"Bari\", \"TypeofInstitute\": \"Non-Govt Aided (488 Categories)\", \"Phase\": \"1\", \"Year\": \"2018\", \"AdmissionStatus\": \"NOT SELECTED\", \"OptionNo\": \"5\"}]",
         "[]"
        ],
        [
         "1",
         "18J0054211",
         "",
         "2018",
         "HSS",
         "Female",
         "05-Dec-2002",
         "SEBC",
         "NO",
         "NO",
         "NO",
         "Odisha",
         "Baragarh",
         "BHUBANESWARPUR, PAIKMAL",
         "Paikmal",
         "768039",
         "1,50,000 - 2,50,000",
         "10TH",
         "Board of Secondary Education, Orissa, Cuttack-1, Year 2001 and onwards",
         "BSE, Odisha",
         "Annual",
         "2018",
         "600",
         "434.00",
         "72.33",
         "NO",
         "[{\"ReportedInstitute\": \"Vikash Higher Secondary School, Barahaguda\", \"SAMSCode\": \"03035102\", \"Stream\": \"Science\", \"InstituteDistrict\": \"Baragarh\", \"InstituteBlock\": \"Bargarh\", \"TypeofInstitute\": \"Self-Financing\", \"Phase\": \"1\", \"Year\": \"2018\", \"AdmissionStatus\": \"TC TAKEN\", \"OptionNo\": \"1\"}, {\"ReportedInstitute\": \"AIMS Higher Secondary School of Science, Pardhiapali\", \"SAMSCode\": \"28085102\", \"Stream\": \"Science\", \"InstituteDistrict\": \"Sambalpur\", \"InstituteBlock\": \"Dhankauda\", \"TypeofInstitute\": \"Self-Financing\", \"Phase\": \"1\", \"Year\": \"2018\", \"AdmissionStatus\": \"NOT SELECTED\", \"OptionNo\": \"2\"}, {\"ReportedInstitute\": \"Gayatri Higher Secondary School of Science & Technology, Sambalpur\", \"SAMSCode\": \"28085104\", \"Stream\": \"Science\", \"InstituteDistrict\": \"Sambalpur\", \"InstituteBlock\": \"Dhankauda\", \"TypeofInstitute\": \"Self-Financing\", \"Phase\": \"1\", \"Year\": \"2018\", \"AdmissionStatus\": \"NOT SELECTED\", \"OptionNo\": \"3\"}, {\"ReportedInstitute\": \"Zenith Institute of Science & Technology Higher Secondary School, Padampur\", \"SAMSCode\": \"03135101\", \"Stream\": \"Science\", \"InstituteDistrict\": \"Baragarh\", \"InstituteBlock\": \"Rajborasambar\", \"TypeofInstitute\": \"Self-Financing\", \"Phase\": \"1\", \"Year\": \"2018\", \"AdmissionStatus\": \"NOT SELECTED\", \"OptionNo\": \"4\"}, {\"ReportedInstitute\": \"Government Women's Higher Secondary School, Sambalpur\", \"SAMSCode\": \"28141202\", \"Stream\": \"Science\", \"InstituteDistrict\": \"Sambalpur\", \"InstituteBlock\": \"Sambalpur (MC)\", \"TypeofInstitute\": \"Govt. (SME)\", \"Phase\": \"1\", \"Year\": \"2018\", \"AdmissionStatus\": \"NOT SELECTED\", \"OptionNo\": \"5\"}]",
         "[]"
        ],
        [
         "2",
         "18J0054354",
         "",
         "2018",
         "HSS",
         "Male",
         "25-Aug-2003",
         "OBC",
         "NO",
         "NO",
         "NO",
         "Odisha",
         "Kalahandi",
         "AT-SAMBHUNAGAR PADA\r\nPOST- BHAWANIPATNA\r\nPS-BHAWANIPATNA",
         "Bhawanipatna (MPL)",
         "766001",
         "0 - 1,50,000",
         "10TH",
         "Board of Secondary Education, Orissa, Cuttack-1, Year 2001 and onwards",
         "BSE, Odisha",
         "Annual",
         "2018",
         "600",
         "306.00",
         "51.00",
         "NO",
         "[{\"ReportedInstitute\": \"Government Higher Secondary School, Bhawanipatna\", \"SAMSCode\": \"15081101\", \"Stream\": \"Arts\", \"InstituteDistrict\": \"Kalahandi\", \"InstituteBlock\": \"Bhawanipatna (MPL)\", \"TypeofInstitute\": \"Govt. (SME)\", \"Phase\": \"1\", \"Year\": \"2018\", \"AdmissionStatus\": \"NOT SELECTED\", \"OptionNo\": \"1\"}, {\"ReportedInstitute\": \"Binayak Residential Higher Secondary School, Medinipur, Bhawanipatna\", \"SAMSCode\": \"15085103\", \"Stream\": \"Arts\", \"InstituteDistrict\": \"Kalahandi\", \"InstituteBlock\": \"Bhawanipatna (MPL)\", \"TypeofInstitute\": \"Self-Financing\", \"Phase\": \"1\", \"Year\": \"2018\", \"AdmissionStatus\": \"TC TAKEN\", \"OptionNo\": \"2\"}, {\"ReportedInstitute\": \"Kesinga Higher Secondary School, Kesinga\", \"SAMSCode\": \"15092101\", \"Stream\": \"Arts\", \"InstituteDistrict\": \"Kalahandi\", \"InstituteBlock\": \"Kesinga (NAC)\", \"TypeofInstitute\": \"Non-Govt Aided (488 Categories)\", \"Phase\": \"1\", \"Year\": \"2018\", \"AdmissionStatus\": \"NOT SELECTED\", \"OptionNo\": \"3\"}, {\"ReportedInstitute\": \"J.P. Sandhya Higher Secondary School, Bhawanipatna\", \"SAMSCode\": \"15082101\", \"Stream\": \"Arts\", \"InstituteDistrict\": \"Kalahandi\", \"InstituteBlock\": \"Bhawanipatna (MPL)\", \"TypeofInstitute\": \"Non-Govt Aided (488 Categories)\", \"Phase\": \"1\", \"Year\": \"2018\", \"AdmissionStatus\": \"NOT SELECTED\", \"OptionNo\": \"4\"}, {\"ReportedInstitute\": \"ABCS Higher Secondary School, Bhawanipatna\", \"SAMSCode\": \"15085102\", \"Stream\": \"Arts\", \"InstituteDistrict\": \"Kalahandi\", \"InstituteBlock\": \"Bhawanipatna (MPL)\", \"TypeofInstitute\": \"Self-Financing\", \"Phase\": \"1\", \"Year\": \"2018\", \"AdmissionStatus\": \"NOT SELECTED\", \"OptionNo\": \"5\"}]",
         "[]"
        ],
        [
         "3",
         "18J0054431",
         "",
         "2018",
         "HSS",
         "Female",
         "20-Apr-2003",
         "GEN",
         "NO",
         "NO",
         "NO",
         "Odisha",
         "Khurda",
         "QR NO - 13/5 TYPE-II UNIT-3 KHARAVELNAGAR\r\nBHUBANESWAR KHURDHA",
         "Bhubaneswar (MC)",
         "751001",
         "8,00,000 and above",
         "10TH",
         "Board of Secondary Education, Orissa, Cuttack-1, Year 2001 and onwards",
         "BSE, Odisha",
         "Annual",
         "2018",
         "600",
         "389.00",
         "64.83",
         "NO",
         "[{\"ReportedInstitute\": \"Rama Devi Women's Higher Secondary School, Bhubaneswar\", \"SAMSCode\": \"19051203\", \"Stream\": \"Arts\", \"InstituteDistrict\": \"Khurda\", \"InstituteBlock\": \"Bhubaneswar (MC)\", \"TypeofInstitute\": \"Govt. (SME)\", \"Phase\": \"1\", \"Year\": \"2018\", \"AdmissionStatus\": \"TC TAKEN\", \"OptionNo\": \"1\"}, {\"ReportedInstitute\": \"Kamala Nehru Women's Higher Secondary School, Bhubaneswar\", \"SAMSCode\": \"19052207\", \"Stream\": \"Arts\", \"InstituteDistrict\": \"Khurda\", \"InstituteBlock\": \"Bhubaneswar (MC)\", \"TypeofInstitute\": \"Non-Govt Aided (488 Categories)\", \"Phase\": \"1\", \"Year\": \"2018\", \"AdmissionStatus\": \"TC TAKEN\", \"OptionNo\": \"2\"}, {\"ReportedInstitute\": \"Maharishi Higher Secondary School of Natural Law, Bhubaneswar\", \"SAMSCode\": \"19052101\", \"Stream\": \"Arts\", \"InstituteDistrict\": \"Khurda\", \"InstituteBlock\": \"Bhubaneswar (MC)\", \"TypeofInstitute\": \"Non-Govt Aided (488 Categories)\", \"Phase\": \"1\", \"Year\": \"2018\", \"AdmissionStatus\": \"NOT SELECTED\", \"OptionNo\": \"3\"}, {\"ReportedInstitute\": \"Biju Pattnaik Higher Secondary School of Science & Education, Bhubaneswar\", \"SAMSCode\": \"19052106\", \"Stream\": \"Arts\", \"InstituteDistrict\": \"Khurda\", \"InstituteBlock\": \"Bhubaneswar (MC)\", \"TypeofInstitute\": \"Non-Govt Aided (488 Categories)\", \"Phase\": \"1\", \"Year\": \"2018\", \"AdmissionStatus\": \"NOT SELECTED\", \"OptionNo\": \"4\"}, {\"ReportedInstitute\": \"City Women's Higher Secondary School, Siripur\", \"SAMSCode\": \"19059201\", \"Stream\": \"Arts\", \"InstituteDistrict\": \"Khurda\", \"InstituteBlock\": \"Bhubaneswar (MC)\", \"TypeofInstitute\": \"Non-Govt Aided (662 Categories)\", \"Phase\": \"1\", \"Year\": \"2018\", \"AdmissionStatus\": \"NOT SELECTED\", \"OptionNo\": \"5\"}]",
         "[]"
        ],
        [
         "4",
         "18J0054684",
         "",
         "2018",
         "HSS",
         "Female",
         "20-Mar-2001",
         "ST",
         "NO",
         "NO",
         "NO",
         "Odisha",
         "Bolangir",
         "AT- TENTULIKHUNTI PO- MAHULBAHALI PS- TUREKELA",
         "Turekela",
         "767039",
         "0 - 1,50,000",
         "10TH",
         "Board of Secondary Education, Orissa, Cuttack-1, Year 2001 and onwards",
         "BSE, Odisha",
         "Annual",
         "2018",
         "600",
         "234.00",
         "39.00",
         "NO",
         "[{\"ReportedInstitute\": \"Rajiv Gandhi Panchayat Samiti Higher Secondary School, Turekela\", \"SAMSCode\": \"05169101\", \"Stream\": \"Arts\", \"InstituteDistrict\": \"Bolangir\", \"InstituteBlock\": \"Turekela\", \"TypeofInstitute\": \"Non-Govt Aided (662 Categories)\", \"Phase\": \"1\", \"Year\": \"2018\", \"AdmissionStatus\": \"SELECTED BUT NOT ADMITTED\", \"OptionNo\": \"1\"}, {\"ReportedInstitute\": \"MLA Womens' Higher Secondary School, Kantabanji\", \"SAMSCode\": \"05179201\", \"Stream\": \"Arts\", \"InstituteDistrict\": \"Bolangir\", \"InstituteBlock\": \"Kantabanji (NAC)\", \"TypeofInstitute\": \"Non-Govt Aided (662 Categories)\", \"Phase\": \"1\", \"Year\": \"2018\", \"AdmissionStatus\": \"NOT SELECTED\", \"OptionNo\": \"2\"}, {\"ReportedInstitute\": \"Kantabanji Vocational Higher Secondary School, Kantabanji\", \"SAMSCode\": \"05162101\", \"Stream\": \"Arts\", \"InstituteDistrict\": \"Bolangir\", \"InstituteBlock\": \"Turekela\", \"TypeofInstitute\": \"Non-Govt Aided (488 Categories)\", \"Phase\": \"1\", \"Year\": \"2018\", \"AdmissionStatus\": \"NOT SELECTED\", \"OptionNo\": \"3\"}, {\"ReportedInstitute\": \"Panchayat Samiti Higher Secondary School, Bangomunda\", \"SAMSCode\": \"05129102\", \"Stream\": \"Arts\", \"InstituteDistrict\": \"Bolangir\", \"InstituteBlock\": \"Bangomunda\", \"TypeofInstitute\": \"Non-Govt Aided (662 Categories)\", \"Phase\": \"1\", \"Year\": \"2018\", \"AdmissionStatus\": \"NOT SELECTED\", \"OptionNo\": \"4\"}, {\"ReportedInstitute\": \"Panchayat Samiti Higher Secondary School, Belpara\", \"SAMSCode\": \"05082101\", \"Stream\": \"Arts\", \"InstituteDistrict\": \"Bolangir\", \"InstituteBlock\": \"Belpada\", \"TypeofInstitute\": \"Non-Govt Aided (488 Categories)\", \"Phase\": \"1\", \"Year\": \"2018\", \"AdmissionStatus\": \"NOT SELECTED\", \"OptionNo\": \"5\"}]",
         "[]"
        ]
       ],
       "shape": {
        "columns": 27,
        "rows": 5
       }
      },
      "text/html": [
       "<div>\n",
       "<style scoped>\n",
       "    .dataframe tbody tr th:only-of-type {\n",
       "        vertical-align: middle;\n",
       "    }\n",
       "\n",
       "    .dataframe tbody tr th {\n",
       "        vertical-align: top;\n",
       "    }\n",
       "\n",
       "    .dataframe thead th {\n",
       "        text-align: right;\n",
       "    }\n",
       "</style>\n",
       "<table border=\"1\" class=\"dataframe\">\n",
       "  <thead>\n",
       "    <tr style=\"text-align: right;\">\n",
       "      <th></th>\n",
       "      <th>barcode</th>\n",
       "      <th>aadhar_no</th>\n",
       "      <th>academic_year</th>\n",
       "      <th>module</th>\n",
       "      <th>gender</th>\n",
       "      <th>dob</th>\n",
       "      <th>social_category</th>\n",
       "      <th>orphan</th>\n",
       "      <th>es</th>\n",
       "      <th>ph</th>\n",
       "      <th>...</th>\n",
       "      <th>board_exam_name_for_highest_qualification</th>\n",
       "      <th>examination_board_of_the_highest_qualification</th>\n",
       "      <th>examination_type</th>\n",
       "      <th>year_of_passing</th>\n",
       "      <th>total_marks</th>\n",
       "      <th>secured_marks</th>\n",
       "      <th>percentage</th>\n",
       "      <th>compartmental_status</th>\n",
       "      <th>hss_option_details</th>\n",
       "      <th>hss_compartments</th>\n",
       "    </tr>\n",
       "  </thead>\n",
       "  <tbody>\n",
       "    <tr>\n",
       "      <th>0</th>\n",
       "      <td>18J0054157</td>\n",
       "      <td></td>\n",
       "      <td>2018</td>\n",
       "      <td>HSS</td>\n",
       "      <td>Female</td>\n",
       "      <td>07-Jul-2002</td>\n",
       "      <td>SEBC</td>\n",
       "      <td>NO</td>\n",
       "      <td>NO</td>\n",
       "      <td>NO</td>\n",
       "      <td>...</td>\n",
       "      <td>Board of Secondary Education, Orissa, Cuttack-...</td>\n",
       "      <td>BSE, Odisha</td>\n",
       "      <td>Annual</td>\n",
       "      <td>2018</td>\n",
       "      <td>600</td>\n",
       "      <td>218.00</td>\n",
       "      <td>36.33</td>\n",
       "      <td>NO</td>\n",
       "      <td>[{\"ReportedInstitute\": \"Sujanpur Anchalika Pan...</td>\n",
       "      <td>[]</td>\n",
       "    </tr>\n",
       "    <tr>\n",
       "      <th>1</th>\n",
       "      <td>18J0054211</td>\n",
       "      <td></td>\n",
       "      <td>2018</td>\n",
       "      <td>HSS</td>\n",
       "      <td>Female</td>\n",
       "      <td>05-Dec-2002</td>\n",
       "      <td>SEBC</td>\n",
       "      <td>NO</td>\n",
       "      <td>NO</td>\n",
       "      <td>NO</td>\n",
       "      <td>...</td>\n",
       "      <td>Board of Secondary Education, Orissa, Cuttack-...</td>\n",
       "      <td>BSE, Odisha</td>\n",
       "      <td>Annual</td>\n",
       "      <td>2018</td>\n",
       "      <td>600</td>\n",
       "      <td>434.00</td>\n",
       "      <td>72.33</td>\n",
       "      <td>NO</td>\n",
       "      <td>[{\"ReportedInstitute\": \"Vikash Higher Secondar...</td>\n",
       "      <td>[]</td>\n",
       "    </tr>\n",
       "    <tr>\n",
       "      <th>2</th>\n",
       "      <td>18J0054354</td>\n",
       "      <td></td>\n",
       "      <td>2018</td>\n",
       "      <td>HSS</td>\n",
       "      <td>Male</td>\n",
       "      <td>25-Aug-2003</td>\n",
       "      <td>OBC</td>\n",
       "      <td>NO</td>\n",
       "      <td>NO</td>\n",
       "      <td>NO</td>\n",
       "      <td>...</td>\n",
       "      <td>Board of Secondary Education, Orissa, Cuttack-...</td>\n",
       "      <td>BSE, Odisha</td>\n",
       "      <td>Annual</td>\n",
       "      <td>2018</td>\n",
       "      <td>600</td>\n",
       "      <td>306.00</td>\n",
       "      <td>51.00</td>\n",
       "      <td>NO</td>\n",
       "      <td>[{\"ReportedInstitute\": \"Government Higher Seco...</td>\n",
       "      <td>[]</td>\n",
       "    </tr>\n",
       "    <tr>\n",
       "      <th>3</th>\n",
       "      <td>18J0054431</td>\n",
       "      <td></td>\n",
       "      <td>2018</td>\n",
       "      <td>HSS</td>\n",
       "      <td>Female</td>\n",
       "      <td>20-Apr-2003</td>\n",
       "      <td>GEN</td>\n",
       "      <td>NO</td>\n",
       "      <td>NO</td>\n",
       "      <td>NO</td>\n",
       "      <td>...</td>\n",
       "      <td>Board of Secondary Education, Orissa, Cuttack-...</td>\n",
       "      <td>BSE, Odisha</td>\n",
       "      <td>Annual</td>\n",
       "      <td>2018</td>\n",
       "      <td>600</td>\n",
       "      <td>389.00</td>\n",
       "      <td>64.83</td>\n",
       "      <td>NO</td>\n",
       "      <td>[{\"ReportedInstitute\": \"Rama Devi Women's High...</td>\n",
       "      <td>[]</td>\n",
       "    </tr>\n",
       "    <tr>\n",
       "      <th>4</th>\n",
       "      <td>18J0054684</td>\n",
       "      <td></td>\n",
       "      <td>2018</td>\n",
       "      <td>HSS</td>\n",
       "      <td>Female</td>\n",
       "      <td>20-Mar-2001</td>\n",
       "      <td>ST</td>\n",
       "      <td>NO</td>\n",
       "      <td>NO</td>\n",
       "      <td>NO</td>\n",
       "      <td>...</td>\n",
       "      <td>Board of Secondary Education, Orissa, Cuttack-...</td>\n",
       "      <td>BSE, Odisha</td>\n",
       "      <td>Annual</td>\n",
       "      <td>2018</td>\n",
       "      <td>600</td>\n",
       "      <td>234.00</td>\n",
       "      <td>39.00</td>\n",
       "      <td>NO</td>\n",
       "      <td>[{\"ReportedInstitute\": \"Rajiv Gandhi Panchayat...</td>\n",
       "      <td>[]</td>\n",
       "    </tr>\n",
       "  </tbody>\n",
       "</table>\n",
       "<p>5 rows × 27 columns</p>\n",
       "</div>"
      ],
      "text/plain": [
       "      barcode aadhar_no  academic_year module  gender          dob  \\\n",
       "0  18J0054157                     2018    HSS  Female  07-Jul-2002   \n",
       "1  18J0054211                     2018    HSS  Female  05-Dec-2002   \n",
       "2  18J0054354                     2018    HSS    Male  25-Aug-2003   \n",
       "3  18J0054431                     2018    HSS  Female  20-Apr-2003   \n",
       "4  18J0054684                     2018    HSS  Female  20-Mar-2001   \n",
       "\n",
       "  social_category orphan  es  ph  ...  \\\n",
       "0            SEBC     NO  NO  NO  ...   \n",
       "1            SEBC     NO  NO  NO  ...   \n",
       "2             OBC     NO  NO  NO  ...   \n",
       "3             GEN     NO  NO  NO  ...   \n",
       "4              ST     NO  NO  NO  ...   \n",
       "\n",
       "           board_exam_name_for_highest_qualification  \\\n",
       "0  Board of Secondary Education, Orissa, Cuttack-...   \n",
       "1  Board of Secondary Education, Orissa, Cuttack-...   \n",
       "2  Board of Secondary Education, Orissa, Cuttack-...   \n",
       "3  Board of Secondary Education, Orissa, Cuttack-...   \n",
       "4  Board of Secondary Education, Orissa, Cuttack-...   \n",
       "\n",
       "  examination_board_of_the_highest_qualification examination_type  \\\n",
       "0                                    BSE, Odisha           Annual   \n",
       "1                                    BSE, Odisha           Annual   \n",
       "2                                    BSE, Odisha           Annual   \n",
       "3                                    BSE, Odisha           Annual   \n",
       "4                                    BSE, Odisha           Annual   \n",
       "\n",
       "  year_of_passing total_marks secured_marks percentage compartmental_status  \\\n",
       "0            2018         600        218.00      36.33                   NO   \n",
       "1            2018         600        434.00      72.33                   NO   \n",
       "2            2018         600        306.00      51.00                   NO   \n",
       "3            2018         600        389.00      64.83                   NO   \n",
       "4            2018         600        234.00      39.00                   NO   \n",
       "\n",
       "                                  hss_option_details hss_compartments  \n",
       "0  [{\"ReportedInstitute\": \"Sujanpur Anchalika Pan...               []  \n",
       "1  [{\"ReportedInstitute\": \"Vikash Higher Secondar...               []  \n",
       "2  [{\"ReportedInstitute\": \"Government Higher Seco...               []  \n",
       "3  [{\"ReportedInstitute\": \"Rama Devi Women's High...               []  \n",
       "4  [{\"ReportedInstitute\": \"Rajiv Gandhi Panchayat...               []  \n",
       "\n",
       "[5 rows x 27 columns]"
      ]
     },
     "metadata": {},
     "output_type": "display_data"
    }
   ],
   "source": [
    "hss_enrollments.head()"
   ]
  },
  {
   "cell_type": "code",
   "execution_count": null,
   "id": "ab063f84",
   "metadata": {},
   "outputs": [],
   "source": []
  },
  {
   "cell_type": "code",
   "execution_count": null,
   "id": "d4050b58",
   "metadata": {},
   "outputs": [],
   "source": []
  },
  {
   "cell_type": "code",
   "execution_count": 8,
   "id": "194197b7",
   "metadata": {},
   "outputs": [
    {
     "data": {
      "application/vnd.microsoft.datawrangler.viewer.v0+json": {
       "columns": [
        {
         "name": "index",
         "rawType": "int64",
         "type": "integer"
        },
        {
         "name": "reported_institute",
         "rawType": "object",
         "type": "string"
        },
        {
         "name": "sams_code",
         "rawType": "object",
         "type": "string"
        },
        {
         "name": "stream",
         "rawType": "object",
         "type": "string"
        },
        {
         "name": "type_of_institute",
         "rawType": "object",
         "type": "string"
        },
        {
         "name": "phase",
         "rawType": "object",
         "type": "string"
        },
        {
         "name": "year",
         "rawType": "object",
         "type": "string"
        },
        {
         "name": "admission_status",
         "rawType": "object",
         "type": "string"
        },
        {
         "name": "option_no",
         "rawType": "object",
         "type": "string"
        },
        {
         "name": "barcode",
         "rawType": "object",
         "type": "string"
        },
        {
         "name": "academic_year",
         "rawType": "int64",
         "type": "integer"
        },
        {
         "name": "aadhar_no",
         "rawType": "object",
         "type": "unknown"
        }
       ],
       "ref": "88b50c49-8866-46d8-88e0-8a69047dafd5",
       "rows": [
        [
         "0",
         "Gangadhar Meher Higher Secondary School, Sambalpur",
         "28141101",
         "Commerce",
         "Govt. (SME)",
         "1",
         "2018",
         "TC TAKEN",
         "1",
         "18J0000045",
         "2018",
         null
        ],
        [
         "1",
         "Regional Women's Higher Secondary School, Polosara",
         "11389201",
         "Arts",
         "Non-Govt Aided (662 Categories)",
         "1",
         "2018",
         "NOT SELECTED",
         "1",
         "18J0000057",
         "2018",
         null
        ],
        [
         "2",
         "Government Higher Secondary School, Sundargarh",
         "30211101",
         "Arts",
         "Govt. (SME)",
         "1",
         "2018",
         "NOT SELECTED",
         "1",
         "18J0000067",
         "2018",
         null
        ],
        [
         "3",
         "Ballavi Devi Mahila Higher Secondary School, Natakai",
         "07149201",
         "Arts",
         "Non-Govt Aided (662 Categories)",
         "1",
         "2018",
         "TC TAKEN",
         "1",
         "18J0000075",
         "2018",
         null
        ],
        [
         "4",
         "Jiral Higher Secondary School, Jiral",
         "09062101",
         "Arts",
         "Non-Govt Aided (488 Categories)",
         "1",
         "2018",
         "TC TAKEN",
         "1",
         "18J0000081",
         "2018",
         null
        ]
       ],
       "shape": {
        "columns": 11,
        "rows": 5
       }
      },
      "text/html": [
       "<div>\n",
       "<style scoped>\n",
       "    .dataframe tbody tr th:only-of-type {\n",
       "        vertical-align: middle;\n",
       "    }\n",
       "\n",
       "    .dataframe tbody tr th {\n",
       "        vertical-align: top;\n",
       "    }\n",
       "\n",
       "    .dataframe thead th {\n",
       "        text-align: right;\n",
       "    }\n",
       "</style>\n",
       "<table border=\"1\" class=\"dataframe\">\n",
       "  <thead>\n",
       "    <tr style=\"text-align: right;\">\n",
       "      <th></th>\n",
       "      <th>reported_institute</th>\n",
       "      <th>sams_code</th>\n",
       "      <th>stream</th>\n",
       "      <th>type_of_institute</th>\n",
       "      <th>phase</th>\n",
       "      <th>year</th>\n",
       "      <th>admission_status</th>\n",
       "      <th>option_no</th>\n",
       "      <th>barcode</th>\n",
       "      <th>academic_year</th>\n",
       "      <th>aadhar_no</th>\n",
       "    </tr>\n",
       "  </thead>\n",
       "  <tbody>\n",
       "    <tr>\n",
       "      <th>0</th>\n",
       "      <td>Gangadhar Meher Higher Secondary School, Samba...</td>\n",
       "      <td>28141101</td>\n",
       "      <td>Commerce</td>\n",
       "      <td>Govt. (SME)</td>\n",
       "      <td>1</td>\n",
       "      <td>2018</td>\n",
       "      <td>TC TAKEN</td>\n",
       "      <td>1</td>\n",
       "      <td>18J0000045</td>\n",
       "      <td>2018</td>\n",
       "      <td>None</td>\n",
       "    </tr>\n",
       "    <tr>\n",
       "      <th>1</th>\n",
       "      <td>Regional Women's Higher Secondary School, Polo...</td>\n",
       "      <td>11389201</td>\n",
       "      <td>Arts</td>\n",
       "      <td>Non-Govt Aided (662 Categories)</td>\n",
       "      <td>1</td>\n",
       "      <td>2018</td>\n",
       "      <td>NOT SELECTED</td>\n",
       "      <td>1</td>\n",
       "      <td>18J0000057</td>\n",
       "      <td>2018</td>\n",
       "      <td>None</td>\n",
       "    </tr>\n",
       "    <tr>\n",
       "      <th>2</th>\n",
       "      <td>Government Higher Secondary School, Sundargarh</td>\n",
       "      <td>30211101</td>\n",
       "      <td>Arts</td>\n",
       "      <td>Govt. (SME)</td>\n",
       "      <td>1</td>\n",
       "      <td>2018</td>\n",
       "      <td>NOT SELECTED</td>\n",
       "      <td>1</td>\n",
       "      <td>18J0000067</td>\n",
       "      <td>2018</td>\n",
       "      <td>None</td>\n",
       "    </tr>\n",
       "    <tr>\n",
       "      <th>3</th>\n",
       "      <td>Ballavi Devi Mahila Higher Secondary School, N...</td>\n",
       "      <td>07149201</td>\n",
       "      <td>Arts</td>\n",
       "      <td>Non-Govt Aided (662 Categories)</td>\n",
       "      <td>1</td>\n",
       "      <td>2018</td>\n",
       "      <td>TC TAKEN</td>\n",
       "      <td>1</td>\n",
       "      <td>18J0000075</td>\n",
       "      <td>2018</td>\n",
       "      <td>None</td>\n",
       "    </tr>\n",
       "    <tr>\n",
       "      <th>4</th>\n",
       "      <td>Jiral Higher Secondary School, Jiral</td>\n",
       "      <td>09062101</td>\n",
       "      <td>Arts</td>\n",
       "      <td>Non-Govt Aided (488 Categories)</td>\n",
       "      <td>1</td>\n",
       "      <td>2018</td>\n",
       "      <td>TC TAKEN</td>\n",
       "      <td>1</td>\n",
       "      <td>18J0000081</td>\n",
       "      <td>2018</td>\n",
       "      <td>None</td>\n",
       "    </tr>\n",
       "  </tbody>\n",
       "</table>\n",
       "</div>"
      ],
      "text/plain": [
       "                                  reported_institute sams_code    stream  \\\n",
       "0  Gangadhar Meher Higher Secondary School, Samba...  28141101  Commerce   \n",
       "1  Regional Women's Higher Secondary School, Polo...  11389201      Arts   \n",
       "2     Government Higher Secondary School, Sundargarh  30211101      Arts   \n",
       "3  Ballavi Devi Mahila Higher Secondary School, N...  07149201      Arts   \n",
       "4               Jiral Higher Secondary School, Jiral  09062101      Arts   \n",
       "\n",
       "                 type_of_institute phase  year admission_status option_no  \\\n",
       "0                      Govt. (SME)     1  2018         TC TAKEN         1   \n",
       "1  Non-Govt Aided (662 Categories)     1  2018     NOT SELECTED         1   \n",
       "2                      Govt. (SME)     1  2018     NOT SELECTED         1   \n",
       "3  Non-Govt Aided (662 Categories)     1  2018         TC TAKEN         1   \n",
       "4  Non-Govt Aided (488 Categories)     1  2018         TC TAKEN         1   \n",
       "\n",
       "      barcode  academic_year aadhar_no  \n",
       "0  18J0000045           2018      None  \n",
       "1  18J0000057           2018      None  \n",
       "2  18J0000067           2018      None  \n",
       "3  18J0000075           2018      None  \n",
       "4  18J0000081           2018      None  "
      ]
     },
     "execution_count": 8,
     "metadata": {},
     "output_type": "execute_result"
    }
   ],
   "source": [
    "hss_first_choice_admissions.head()"
   ]
  },
  {
   "cell_type": "code",
   "execution_count": 8,
   "id": "cc28b068",
   "metadata": {},
   "outputs": [],
   "source": [
    "\n",
    "# Standard libraries\n",
    "import os\n",
    "import json\n",
    "import sqlite3\n",
    "from pathlib import Path\n",
    "\n",
    "# Data handling\n",
    "import pandas as pd\n",
    "import numpy as np\n",
    "\n",
    "# Visualization\n",
    "import matplotlib.pyplot as plt\n",
    "import seaborn as sns\n",
    "import plotly.graph_objects as go\n",
    "\n",
    "# Project-specific configuration\n",
    "DATA_DIR = Path(\"C:/Users/Admin/Documents/GitHub/sams/data\")\n",
    "RAW_DATA_DIR = DATA_DIR / \"dummy_data\"\n",
    "df = pd.read_parquet(RAW_DATA_DIR / \"iti_applications.pq\", engine='pyarrow')"
   ]
  },
  {
   "cell_type": "code",
   "execution_count": null,
   "id": "1fb31de1",
   "metadata": {},
   "outputs": [
    {
     "data": {
      "text/plain": [
       "Index(['barcode', 'aadhar_no', 'gender', 'dob', 'annual_income', 'state',\n",
       "       'district', 'social_category', 'domicile', 'date_of_application',\n",
       "       'academic_year', 'year', 'course_name', 'course_period',\n",
       "       'reported_institute', 'reported_branch_or_trade', 'institute_district',\n",
       "       'type_of_institute', 'highest_qualification', 'gc', 'ph', 'es',\n",
       "       'sports', 'national_cadet_corps', 'orphan', 'ews', 'admission_status',\n",
       "       'enrollment_status', 'phase', 'application_phase', 'option_no',\n",
       "       'institute_name', 'trade', 'status', 'num_applications'],\n",
       "      dtype='object')"
      ]
     },
     "execution_count": 9,
     "metadata": {},
     "output_type": "execute_result"
    }
   ],
   "source": [
    "df.columns\n",
    "df"
   ]
  },
  {
   "cell_type": "code",
   "execution_count": 15,
   "id": "32be8da8",
   "metadata": {},
   "outputs": [
    {
     "data": {
      "application/vnd.microsoft.datawrangler.viewer.v0+json": {
       "columns": [
        {
         "name": "index",
         "rawType": "int64",
         "type": "integer"
        },
        {
         "name": "reported_institute",
         "rawType": "object",
         "type": "string"
        },
        {
         "name": "sams_code",
         "rawType": "object",
         "type": "string"
        },
        {
         "name": "stream",
         "rawType": "object",
         "type": "string"
        },
        {
         "name": "type_of_institute",
         "rawType": "object",
         "type": "string"
        },
        {
         "name": "phase",
         "rawType": "object",
         "type": "string"
        },
        {
         "name": "admission_status",
         "rawType": "object",
         "type": "string"
        },
        {
         "name": "option_no",
         "rawType": "object",
         "type": "string"
        },
        {
         "name": "barcode",
         "rawType": "object",
         "type": "string"
        },
        {
         "name": "academic_year",
         "rawType": "Int16",
         "type": "integer"
        },
        {
         "name": "aadhar_no",
         "rawType": "string",
         "type": "string"
        }
       ],
       "ref": "8cf6b0ff-f753-43c6-9a3f-4143575c363e",
       "rows": [
        [
         "0",
         "Gangadhar Meher Higher Secondary School, Sambalpur",
         "28141101",
         "Commerce",
         "Govt. (SME)",
         "1",
         "TC TAKEN",
         "1",
         "18J0000045",
         "2018",
         null
        ],
        [
         "1",
         "Netaji Subash Chandra Bose Higher Secondary School, Sambalpur",
         "28111101",
         "Commerce",
         "Govt. (SME)",
         "1",
         "NOT SELECTED",
         "2",
         "18J0000045",
         "2018",
         null
        ],
        [
         "2",
         "Hirakud Higher Secondary School, Hirakud",
         "28132101",
         "Commerce",
         "Non-Govt Aided (488 Categories)",
         "1",
         "NOT SELECTED",
         "3",
         "18J0000045",
         "2018",
         null
        ],
        [
         "3",
         "Surajmal Higher Secondary School, Rampella",
         "28112102",
         "Commerce",
         "Non-Govt Aided (488 Categories)",
         "1",
         "NOT SELECTED",
         "4",
         "18J0000045",
         "2018",
         null
        ],
        [
         "4",
         "Burla N.A.C. Higher Secondary School, Burla",
         "28122101",
         "Commerce",
         "Non-Govt Aided (488 Categories)",
         "1",
         "NOT SELECTED",
         "5",
         "18J0000045",
         "2018",
         null
        ]
       ],
       "shape": {
        "columns": 10,
        "rows": 5
       }
      },
      "text/html": [
       "<div>\n",
       "<style scoped>\n",
       "    .dataframe tbody tr th:only-of-type {\n",
       "        vertical-align: middle;\n",
       "    }\n",
       "\n",
       "    .dataframe tbody tr th {\n",
       "        vertical-align: top;\n",
       "    }\n",
       "\n",
       "    .dataframe thead th {\n",
       "        text-align: right;\n",
       "    }\n",
       "</style>\n",
       "<table border=\"1\" class=\"dataframe\">\n",
       "  <thead>\n",
       "    <tr style=\"text-align: right;\">\n",
       "      <th></th>\n",
       "      <th>reported_institute</th>\n",
       "      <th>sams_code</th>\n",
       "      <th>stream</th>\n",
       "      <th>type_of_institute</th>\n",
       "      <th>phase</th>\n",
       "      <th>admission_status</th>\n",
       "      <th>option_no</th>\n",
       "      <th>barcode</th>\n",
       "      <th>academic_year</th>\n",
       "      <th>aadhar_no</th>\n",
       "    </tr>\n",
       "  </thead>\n",
       "  <tbody>\n",
       "    <tr>\n",
       "      <th>0</th>\n",
       "      <td>Gangadhar Meher Higher Secondary School, Samba...</td>\n",
       "      <td>28141101</td>\n",
       "      <td>Commerce</td>\n",
       "      <td>Govt. (SME)</td>\n",
       "      <td>1</td>\n",
       "      <td>TC TAKEN</td>\n",
       "      <td>1</td>\n",
       "      <td>18J0000045</td>\n",
       "      <td>2018</td>\n",
       "      <td>&lt;NA&gt;</td>\n",
       "    </tr>\n",
       "    <tr>\n",
       "      <th>1</th>\n",
       "      <td>Netaji Subash Chandra Bose Higher Secondary Sc...</td>\n",
       "      <td>28111101</td>\n",
       "      <td>Commerce</td>\n",
       "      <td>Govt. (SME)</td>\n",
       "      <td>1</td>\n",
       "      <td>NOT SELECTED</td>\n",
       "      <td>2</td>\n",
       "      <td>18J0000045</td>\n",
       "      <td>2018</td>\n",
       "      <td>&lt;NA&gt;</td>\n",
       "    </tr>\n",
       "    <tr>\n",
       "      <th>2</th>\n",
       "      <td>Hirakud Higher Secondary School, Hirakud</td>\n",
       "      <td>28132101</td>\n",
       "      <td>Commerce</td>\n",
       "      <td>Non-Govt Aided (488 Categories)</td>\n",
       "      <td>1</td>\n",
       "      <td>NOT SELECTED</td>\n",
       "      <td>3</td>\n",
       "      <td>18J0000045</td>\n",
       "      <td>2018</td>\n",
       "      <td>&lt;NA&gt;</td>\n",
       "    </tr>\n",
       "    <tr>\n",
       "      <th>3</th>\n",
       "      <td>Surajmal Higher Secondary School, Rampella</td>\n",
       "      <td>28112102</td>\n",
       "      <td>Commerce</td>\n",
       "      <td>Non-Govt Aided (488 Categories)</td>\n",
       "      <td>1</td>\n",
       "      <td>NOT SELECTED</td>\n",
       "      <td>4</td>\n",
       "      <td>18J0000045</td>\n",
       "      <td>2018</td>\n",
       "      <td>&lt;NA&gt;</td>\n",
       "    </tr>\n",
       "    <tr>\n",
       "      <th>4</th>\n",
       "      <td>Burla N.A.C. Higher Secondary School, Burla</td>\n",
       "      <td>28122101</td>\n",
       "      <td>Commerce</td>\n",
       "      <td>Non-Govt Aided (488 Categories)</td>\n",
       "      <td>1</td>\n",
       "      <td>NOT SELECTED</td>\n",
       "      <td>5</td>\n",
       "      <td>18J0000045</td>\n",
       "      <td>2018</td>\n",
       "      <td>&lt;NA&gt;</td>\n",
       "    </tr>\n",
       "  </tbody>\n",
       "</table>\n",
       "</div>"
      ],
      "text/plain": [
       "                                  reported_institute sams_code    stream  \\\n",
       "0  Gangadhar Meher Higher Secondary School, Samba...  28141101  Commerce   \n",
       "1  Netaji Subash Chandra Bose Higher Secondary Sc...  28111101  Commerce   \n",
       "2           Hirakud Higher Secondary School, Hirakud  28132101  Commerce   \n",
       "3         Surajmal Higher Secondary School, Rampella  28112102  Commerce   \n",
       "4        Burla N.A.C. Higher Secondary School, Burla  28122101  Commerce   \n",
       "\n",
       "                 type_of_institute phase admission_status option_no  \\\n",
       "0                      Govt. (SME)     1         TC TAKEN         1   \n",
       "1                      Govt. (SME)     1     NOT SELECTED         2   \n",
       "2  Non-Govt Aided (488 Categories)     1     NOT SELECTED         3   \n",
       "3  Non-Govt Aided (488 Categories)     1     NOT SELECTED         4   \n",
       "4  Non-Govt Aided (488 Categories)     1     NOT SELECTED         5   \n",
       "\n",
       "      barcode  academic_year aadhar_no  \n",
       "0  18J0000045           2018      <NA>  \n",
       "1  18J0000045           2018      <NA>  \n",
       "2  18J0000045           2018      <NA>  \n",
       "3  18J0000045           2018      <NA>  \n",
       "4  18J0000045           2018      <NA>  "
      ]
     },
     "execution_count": 15,
     "metadata": {},
     "output_type": "execute_result"
    }
   ],
   "source": [
    "hss_app = pd.read_parquet(RAW_DATA_DIR / \"hss_first_choice_admissions.pq\", engine='pyarrow')\n",
    "hss_app.head()"
   ]
  },
  {
   "cell_type": "code",
   "execution_count": null,
   "id": "211d3df9",
   "metadata": {},
   "outputs": [],
   "source": []
  },
  {
   "cell_type": "code",
   "execution_count": null,
   "id": "3d5dba0b",
   "metadata": {},
   "outputs": [],
   "source": [
    "iti_enrollments"
   ]
  }
 ],
 "metadata": {
  "kernelspec": {
   "display_name": "skills",
   "language": "python",
   "name": "python3"
  },
  "language_info": {
   "codemirror_mode": {
    "name": "ipython",
    "version": 3
   },
   "file_extension": ".py",
   "mimetype": "text/x-python",
   "name": "python",
   "nbconvert_exporter": "python",
   "pygments_lexer": "ipython3",
   "version": "3.10.17"
  }
 },
 "nbformat": 4,
 "nbformat_minor": 5
}
