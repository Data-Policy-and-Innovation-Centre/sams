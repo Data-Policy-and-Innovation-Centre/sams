{
 "cells": [
  {
   "cell_type": "code",
   "execution_count": 2,
   "id": "2821129d",
   "metadata": {},
   "outputs": [
    {
     "name": "stderr",
     "output_type": "stream",
     "text": [
      "\u001b[32m2025-06-21 12:45:36.732\u001b[0m | \u001b[1mINFO    \u001b[0m | \u001b[36msams.config\u001b[0m:\u001b[36m<module>\u001b[0m:\u001b[36m15\u001b[0m - \u001b[1mPROJ_ROOT path is: /Users/ymohanty/Documents/GitHub/sams\u001b[0m\n",
      "\u001b[32m2025-06-21 12:45:36.748\u001b[0m | \u001b[33m\u001b[1mWARNING \u001b[0m | \u001b[36msams.config\u001b[0m:\u001b[36m<module>\u001b[0m:\u001b[36m83\u001b[0m - \u001b[33m\u001b[1mGoogle MAPS API key not found, using Nominatim geocoder\u001b[0m\n",
      "\u001b[32m2025-06-21 12:45:36.759\u001b[0m | \u001b[1mINFO    \u001b[0m | \u001b[36msams.config\u001b[0m:\u001b[36m<module>\u001b[0m:\u001b[36m92\u001b[0m - \u001b[1mLoaded 61900 geocodes from cache\u001b[0m\n"
     ]
    }
   ],
   "source": [
    "%load_ext autoreload\n",
    "%autoreload 2\n",
    "from sams.utils import load_data\n",
    "from sams.config import datasets\n",
    "import pandas as pd\n",
    "import sqlite3 as sqlite"
   ]
  },
  {
   "cell_type": "code",
   "execution_count": 6,
   "id": "651a0d20",
   "metadata": {},
   "outputs": [
    {
     "name": "stdout",
     "output_type": "stream",
     "text": [
      "\u001b[32m2025-05-27 14:41:55.941\u001b[0m | \u001b[1mINFO    \u001b[0m | \u001b[36msams.utils\u001b[0m:\u001b[36mload_data\u001b[0m:\u001b[36m70\u001b[0m - \u001b[1mLoading data from /Users/ymohanty/Documents/GitHub/sams/data/interim/iti_enrollments.pq\u001b[0m\n"
     ]
    }
   ],
   "source": [
    "# Load iti enrollments\n",
    "iti_enrollments = load_data(datasets[\"iti_enrollments\"])"
   ]
  },
  {
   "cell_type": "code",
   "execution_count": 11,
   "id": "946913f3",
   "metadata": {},
   "outputs": [],
   "source": [
    "# Connect to DB\n",
    "conn = sqlite.connect(datasets[\"sams\"][\"path\"])\n",
    "\n",
    "# Query\n",
    "def count_unique_aadhar_iti(database_path: str, module: str) -> int:\n",
    "    conn = sqlite.connect(database_path)\n",
    "    query = f\"SELECT COUNT(DISTINCT aadhar_no) FROM students WHERE module = '{module}' AND sams_code is NOT NULL;\"\n",
    "    result = conn.execute(query).fetchone()\n",
    "    conn.close()\n",
    "    return result[0]\n",
    "\n",
    "iti_count = count_unique_aadhar_iti(datasets[\"sams\"][\"path\"], \"ITI\")\n",
    "diploma_count = count_unique_aadhar_iti(datasets[\"sams\"][\"path\"], \"Diploma\")"
   ]
  },
  {
   "cell_type": "code",
   "execution_count": 12,
   "id": "2c3ed8ca",
   "metadata": {},
   "outputs": [
    {
     "data": {
      "text/plain": [
       "364448"
      ]
     },
     "execution_count": 12,
     "metadata": {},
     "output_type": "execute_result"
    }
   ],
   "source": [
    "iti_count"
   ]
  },
  {
   "cell_type": "code",
   "execution_count": 13,
   "id": "abddfb1e",
   "metadata": {},
   "outputs": [
    {
     "data": {
      "text/plain": [
       "314400"
      ]
     },
     "execution_count": 13,
     "metadata": {},
     "output_type": "execute_result"
    }
   ],
   "source": [
    "diploma_count"
   ]
  },
  {
   "cell_type": "code",
   "execution_count": 6,
   "id": "2d833bb8",
   "metadata": {},
   "outputs": [
    {
     "data": {
      "text/plain": [
       "{'type': 'SQLite',\n",
       " 'path': PosixPath('/Users/ymohanty/Documents/GitHub/sams/data/raw/sams.db'),\n",
       " 'layer': 'raw'}"
      ]
     },
     "execution_count": 6,
     "metadata": {},
     "output_type": "execute_result"
    }
   ],
   "source": [
    "datasets[\"sams\"]"
   ]
  },
  {
   "cell_type": "code",
   "execution_count": null,
   "id": "aabf978c",
   "metadata": {},
   "outputs": [],
   "source": []
  }
 ],
 "metadata": {
  "kernelspec": {
   "display_name": "skills",
   "language": "python",
   "name": "python3"
  },
  "language_info": {
   "codemirror_mode": {
    "name": "ipython",
    "version": 3
   },
   "file_extension": ".py",
   "mimetype": "text/x-python",
   "name": "python",
   "nbconvert_exporter": "python",
   "pygments_lexer": "ipython3",
   "version": "3.10.18"
  }
 },
 "nbformat": 4,
 "nbformat_minor": 5
}
